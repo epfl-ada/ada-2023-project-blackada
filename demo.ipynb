{
 "cells": [
  {
   "cell_type": "markdown",
   "metadata": {},
   "source": [
    "# Unlocking the Palate - Evaluating Taste Consensus Among Beer Reviewers\n",
    "\n",
    "---\n",
    "\n",
    "Group [**BlackAda**](https://en.wikipedia.org/wiki/Blackadder)\n",
    "\n",
    "> - Ludek Cizinsky ([ludek@cizinsky@epfl.ch](ludek.cizinsky@epfl.ch))\n",
    "> - Peter Nutter ([peter@nutter@epfl.ch](peter@nutter@epfl.ch))\n",
    "> - Pierre Lardet ([pierre@lardet@epfl.ch](pierre@lardet@epfl.ch))\n",
    "> - Christian Bastin ([christian@bastin@epfl.ch](christian@bastin@epfl.ch))\n",
    "> - Mika Senghaas ([mika@senghaas@epfl.ch](mika@senghaas@epfl.ch))"
   ]
  },
  {
   "cell_type": "markdown",
   "metadata": {},
   "source": [
    "## Introduction\n",
    "\n",
    "---\n",
    "\n",
    "Navigating the world of beer reviews can be a daunting task for non-experts. Beer aficionados often describe brews as having nuanced flavors such as \"grassy notes\" and \"biscuity/ crackery malt,\" with hints of \"hay.\" But do these descriptions reflect the actual tasting experience? Following a \"wisdom-of-the-crowd\" approach, a descriptor can be considered meaningful if many, independent reviewers use similar descriptors for a beer's taste. To quantify consensus, we use natural language processing techniques to extract descriptors of a beer's taste and numerically represent these descriptors to compute similarity or consensus scores. The consensus scores between beer reviews will unveil whether there is a shared understanding of taste among beer geeks."
   ]
  },
  {
   "cell_type": "markdown",
   "metadata": {},
   "source": [
    "## Dependencies\n",
    "\n",
    "---\n",
    "\n",
    "We load the dependencies required for this project to run."
   ]
  },
  {
   "cell_type": "code",
   "execution_count": 2,
   "metadata": {},
   "outputs": [],
   "source": [
    "# Enable continuous module reloading\n",
    "%load_ext autoreload\n",
    "%autoreload 2 \n",
    "%aimport src\n",
    "\n",
    "# Standard library\n",
    "import os\n",
    "\n",
    "# Custom modules\n",
    "from src import utils"
   ]
  },
  {
   "cell_type": "markdown",
   "metadata": {},
   "source": [
    "And set some global variables."
   ]
  },
  {
   "cell_type": "code",
   "execution_count": 3,
   "metadata": {},
   "outputs": [],
   "source": [
    "# URL for the full dataset\n",
    "DATA_URL = \"https://drive.google.com/u/2/uc?id=1IqcAJtYrDB1j40rBY5M-PGp6KNX-E3xq&export=download\"\n",
    "\n",
    "# Number of samples to use for the subset\n",
    "NUM_SUBSET_SAMPLES = 100\n",
    "\n",
    "# Paths\n",
    "ROOT_DIR = os.getcwd()\n",
    "DATA_DIR = os.path.join(ROOT_DIR, \"data\")\n",
    "\n",
    "# Ensure data directory exists\n",
    "os.makedirs(DATA_DIR, exist_ok=True)"
   ]
  },
  {
   "cell_type": "markdown",
   "metadata": {},
   "source": [
    "## Data\n",
    "\n",
    "---\n",
    "\n",
    "We will be working with the beer review data from the [BeerAdvocate](https://www.beeradvocate.com/) platform. \n"
   ]
  },
  {
   "cell_type": "markdown",
   "metadata": {},
   "source": [
    "### Data Download\n",
    "\n",
    "Due to its size (uncompressed 1.6 GB), the dataset is not included in the repository but must be downloaded. The course staff has provided the data via Google Drive. On the first run of this notebook, we download the compressed data file from Google Drive and extract it to the `data` folder. The compressed file is ~1.5 GB in size. \n",
    "\n",
    "After extraction and removing of unnecessary files (archives, ratings file, ...), the data folder should contain the following files: `beers.csv`, `breweries.csv`, `users.csv`, `reviews.txt`. The total size of the data is ~2.9 GB.\n",
    "\n",
    "*NB: Data loading takes around **~8min** on the first run. Subsequent runs of this cell are instant.*"
   ]
  },
  {
   "cell_type": "code",
   "execution_count": 31,
   "metadata": {},
   "outputs": [
    {
     "name": "stdout",
     "output_type": "stream",
     "text": [
      "Beer reviews downloaded to /Users/peter/Developer/ada-2023-project-blackada/data ✅.\n"
     ]
    }
   ],
   "source": [
    "# Download the BeerAdvocate dataset if it doesn't exist\n",
    "if not os.path.exists(os.path.join(DATA_DIR, \"reviews.txt\")):\n",
    "    utils.download_data(DATA_URL, data_dir=DATA_DIR)\n",
    "print(f\"Beer reviews downloaded to {DATA_DIR} ✅.\")"
   ]
  },
  {
   "cell_type": "markdown",
   "metadata": {},
   "source": [
    "### Data Loading\n",
    "\n",
    "Next, we load the data into a Pandas DataFrame. On the first run, we load all the reviews from the `reviews.txt` file and populate it with some additional meta-data from the other files. We then save the DataFrame to a `.feather` file for faster loading in the future. On subsequent runs, we load the DataFrame from the `.feather` file if it exists.\n",
    "\n",
    "*NB: Running this cell for the first time reads in all `2.5M` reviews which takes **~7min**. Subsequent runs should be much faster, taking about **~1min**.*"
   ]
  },
  {
   "cell_type": "code",
   "execution_count": 4,
   "metadata": {},
   "outputs": [
    {
     "name": "stdout",
     "output_type": "stream",
     "text": [
      "Loaded 2589586 reviews ✅. (+100 reviews in subset)\n"
     ]
    }
   ],
   "source": [
    "# Load all reviews and a subset of reviews (10,000)\n",
    "reviews = utils.load_data(DATA_DIR)\n",
    "sub_reviews = utils.load_data(DATA_DIR, num_samples=NUM_SUBSET_SAMPLES)\n",
    "\n",
    "print(f\"Loaded {len(reviews)} reviews ✅. (+{len(sub_reviews)} reviews in subset)\")"
   ]
  },
  {
   "cell_type": "markdown",
   "metadata": {},
   "source": [
    "### EDA\n",
    "\n",
    "Let's explore the data a bit. We will analyse:\n",
    "\n",
    "- ..."
   ]
  },
  {
   "cell_type": "code",
   "execution_count": 33,
   "metadata": {},
   "outputs": [],
   "source": [
    "# TODO"
   ]
  },
  {
   "cell_type": "code",
   "execution_count": 10,
   "metadata": {},
   "outputs": [],
   "source": [
    "from src.consensus import CosineSimilarity\n",
    "from src.extractors import *\n",
    "from src.pipeline import TextAnalysis\n",
    "from src.embedders import *\n",
    "import pandas as pd\n",
    "import spacy\n",
    "\n",
    "nlp = spacy.load(\"en_core_web_sm\")\n",
    "SEED = 42\n",
    "np.random.seed(SEED)\n",
    "torch.manual_seed(SEED)\n",
    "lemma_extractor = LemmaExtractor()\n",
    "adjective_extractor = AdjectiveExtractor()\n",
    "dummy_extractor = DummyExtractor()\n",
    "\n",
    "count_embedder = CountEmbedder()\n",
    "tfidf_embedder = TfidfEmbedder()\n",
    "bert_embedder = BertEmbedder()\n",
    "sentence_transformer = SentenceTransformerEmbedder()\n",
    "cosine_metric = CosineSimilarity()\n",
    "\n",
    "lemma_and_count = TextAnalysis(lemma_extractor, count_embedder, cosine_metric)\n",
    "lemma_and_tfidf = TextAnalysis(lemma_extractor, tfidf_embedder, cosine_metric)\n",
    "adj_and_count = TextAnalysis(adjective_extractor, count_embedder, cosine_metric)\n",
    "adj_and_tfidf = TextAnalysis(adjective_extractor, tfidf_embedder, cosine_metric)\n",
    "dummy_and_bert = TextAnalysis(dummy_extractor, bert_embedder, cosine_metric)\n",
    "dummy_and_sentence = TextAnalysis(dummy_extractor, sentence_transformer, cosine_metric)\n",
    "\n",
    "\n",
    "def run_pipelines(docs, pipelines):\n",
    "    results = {}\n",
    "    for name, pipeline in pipelines.items():\n",
    "        results[name] = pipeline.transform(docs)\n",
    "    return results\n",
    "\n",
    "\n",
    "pipelines = {\n",
    "    \"Lemma & Count\": lemma_and_count,\n",
    "    \"Lemma & TFIDF\": lemma_and_tfidf,\n",
    "    \"Adjective & Count\": adj_and_count,\n",
    "    \"Adjective & TFIDF\": adj_and_tfidf,\n",
    "    \"Dummy & BERT\": dummy_and_bert,\n",
    "    \"Dummy & Senence Transformer\": dummy_and_sentence,\n",
    "}"
   ]
  },
  {
   "cell_type": "code",
   "execution_count": 6,
   "metadata": {},
   "outputs": [],
   "source": [
    "most_popular_styles = reviews[\"beer\"][\"style\"].value_counts()\n",
    "most_popular_beers = reviews[\"beer\"][\"name\"].value_counts()"
   ]
  },
  {
   "cell_type": "code",
   "execution_count": 12,
   "metadata": {},
   "outputs": [
    {
     "data": {
      "text/html": [
       "<div>\n",
       "<style scoped>\n",
       "    .dataframe tbody tr th:only-of-type {\n",
       "        vertical-align: middle;\n",
       "    }\n",
       "\n",
       "    .dataframe tbody tr th {\n",
       "        vertical-align: top;\n",
       "    }\n",
       "\n",
       "    .dataframe thead th {\n",
       "        text-align: right;\n",
       "    }\n",
       "</style>\n",
       "<table border=\"1\" class=\"dataframe\">\n",
       "  <thead>\n",
       "    <tr style=\"text-align: right;\">\n",
       "      <th></th>\n",
       "      <th>Lemma &amp; Count</th>\n",
       "      <th>Lemma &amp; TFIDF</th>\n",
       "      <th>Adjective &amp; Count</th>\n",
       "      <th>Adjective &amp; TFIDF</th>\n",
       "      <th>Dummy &amp; BERT</th>\n",
       "      <th>Dummy &amp; Senence Transformer</th>\n",
       "    </tr>\n",
       "  </thead>\n",
       "  <tbody>\n",
       "    <tr>\n",
       "      <th>0</th>\n",
       "      <td>0.387268</td>\n",
       "      <td>0.151790</td>\n",
       "      <td>0.119081</td>\n",
       "      <td>0.067537</td>\n",
       "      <td>0.958266</td>\n",
       "      <td>0.596320</td>\n",
       "    </tr>\n",
       "    <tr>\n",
       "      <th>1</th>\n",
       "      <td>0.439708</td>\n",
       "      <td>0.169459</td>\n",
       "      <td>0.127178</td>\n",
       "      <td>0.068523</td>\n",
       "      <td>0.958078</td>\n",
       "      <td>0.577297</td>\n",
       "    </tr>\n",
       "    <tr>\n",
       "      <th>2</th>\n",
       "      <td>0.418018</td>\n",
       "      <td>0.161084</td>\n",
       "      <td>0.157012</td>\n",
       "      <td>0.079044</td>\n",
       "      <td>0.957206</td>\n",
       "      <td>0.564650</td>\n",
       "    </tr>\n",
       "    <tr>\n",
       "      <th>3</th>\n",
       "      <td>0.402188</td>\n",
       "      <td>0.155264</td>\n",
       "      <td>0.127014</td>\n",
       "      <td>0.074352</td>\n",
       "      <td>0.953592</td>\n",
       "      <td>0.564476</td>\n",
       "    </tr>\n",
       "    <tr>\n",
       "      <th>4</th>\n",
       "      <td>0.432146</td>\n",
       "      <td>0.170018</td>\n",
       "      <td>0.166042</td>\n",
       "      <td>0.084089</td>\n",
       "      <td>0.953939</td>\n",
       "      <td>0.591735</td>\n",
       "    </tr>\n",
       "    <tr>\n",
       "      <th>5</th>\n",
       "      <td>0.424493</td>\n",
       "      <td>0.170841</td>\n",
       "      <td>0.151555</td>\n",
       "      <td>0.079022</td>\n",
       "      <td>0.942794</td>\n",
       "      <td>0.547803</td>\n",
       "    </tr>\n",
       "    <tr>\n",
       "      <th>6</th>\n",
       "      <td>0.420441</td>\n",
       "      <td>0.155198</td>\n",
       "      <td>0.132478</td>\n",
       "      <td>0.074572</td>\n",
       "      <td>0.950007</td>\n",
       "      <td>0.562347</td>\n",
       "    </tr>\n",
       "    <tr>\n",
       "      <th>7</th>\n",
       "      <td>0.406826</td>\n",
       "      <td>0.160338</td>\n",
       "      <td>0.132015</td>\n",
       "      <td>0.072228</td>\n",
       "      <td>0.955128</td>\n",
       "      <td>0.587860</td>\n",
       "    </tr>\n",
       "    <tr>\n",
       "      <th>8</th>\n",
       "      <td>0.422228</td>\n",
       "      <td>0.149259</td>\n",
       "      <td>0.094405</td>\n",
       "      <td>0.054850</td>\n",
       "      <td>0.951311</td>\n",
       "      <td>0.527485</td>\n",
       "    </tr>\n",
       "    <tr>\n",
       "      <th>9</th>\n",
       "      <td>0.402771</td>\n",
       "      <td>0.160068</td>\n",
       "      <td>0.163924</td>\n",
       "      <td>0.085475</td>\n",
       "      <td>0.946440</td>\n",
       "      <td>0.550708</td>\n",
       "    </tr>\n",
       "  </tbody>\n",
       "</table>\n",
       "</div>"
      ],
      "text/plain": [
       "   Lemma & Count  Lemma & TFIDF  Adjective & Count  Adjective & TFIDF  \\\n",
       "0       0.387268       0.151790           0.119081           0.067537   \n",
       "1       0.439708       0.169459           0.127178           0.068523   \n",
       "2       0.418018       0.161084           0.157012           0.079044   \n",
       "3       0.402188       0.155264           0.127014           0.074352   \n",
       "4       0.432146       0.170018           0.166042           0.084089   \n",
       "5       0.424493       0.170841           0.151555           0.079022   \n",
       "6       0.420441       0.155198           0.132478           0.074572   \n",
       "7       0.406826       0.160338           0.132015           0.072228   \n",
       "8       0.422228       0.149259           0.094405           0.054850   \n",
       "9       0.402771       0.160068           0.163924           0.085475   \n",
       "\n",
       "   Dummy & BERT  Dummy & Senence Transformer  \n",
       "0      0.958266                     0.596320  \n",
       "1      0.958078                     0.577297  \n",
       "2      0.957206                     0.564650  \n",
       "3      0.953592                     0.564476  \n",
       "4      0.953939                     0.591735  \n",
       "5      0.942794                     0.547803  \n",
       "6      0.950007                     0.562347  \n",
       "7      0.955128                     0.587860  \n",
       "8      0.951311                     0.527485  \n",
       "9      0.946440                     0.550708  "
      ]
     },
     "execution_count": 12,
     "metadata": {},
     "output_type": "execute_result"
    }
   ],
   "source": [
    "style_results = []\n",
    "for style in most_popular_styles.index[:10]:\n",
    "    sample = reviews[reviews[\"beer\"][\"style\"] == style].sample(100, random_state=SEED)\n",
    "    transform = sample[\"review\"][\"text\"].apply(lambda x: nlp(x))\n",
    "    result = run_pipelines(transform, pipelines)\n",
    "    style_results.append(result)\n",
    "df_style_results = pd.DataFrame(style_results)\n",
    "df_style_results"
   ]
  },
  {
   "cell_type": "code",
   "execution_count": 13,
   "metadata": {},
   "outputs": [
    {
     "data": {
      "text/html": [
       "<div>\n",
       "<style scoped>\n",
       "    .dataframe tbody tr th:only-of-type {\n",
       "        vertical-align: middle;\n",
       "    }\n",
       "\n",
       "    .dataframe tbody tr th {\n",
       "        vertical-align: top;\n",
       "    }\n",
       "\n",
       "    .dataframe thead th {\n",
       "        text-align: right;\n",
       "    }\n",
       "</style>\n",
       "<table border=\"1\" class=\"dataframe\">\n",
       "  <thead>\n",
       "    <tr style=\"text-align: right;\">\n",
       "      <th></th>\n",
       "      <th>Lemma &amp; Count</th>\n",
       "      <th>Lemma &amp; TFIDF</th>\n",
       "      <th>Adjective &amp; Count</th>\n",
       "      <th>Adjective &amp; TFIDF</th>\n",
       "      <th>Dummy &amp; BERT</th>\n",
       "      <th>Dummy &amp; Senence Transformer</th>\n",
       "    </tr>\n",
       "  </thead>\n",
       "  <tbody>\n",
       "    <tr>\n",
       "      <th>0</th>\n",
       "      <td>0.462031</td>\n",
       "      <td>0.190844</td>\n",
       "      <td>0.139913</td>\n",
       "      <td>0.078778</td>\n",
       "      <td>0.956497</td>\n",
       "      <td>0.597419</td>\n",
       "    </tr>\n",
       "    <tr>\n",
       "      <th>1</th>\n",
       "      <td>0.463539</td>\n",
       "      <td>0.195457</td>\n",
       "      <td>0.165077</td>\n",
       "      <td>0.087145</td>\n",
       "      <td>0.954542</td>\n",
       "      <td>0.608977</td>\n",
       "    </tr>\n",
       "    <tr>\n",
       "      <th>2</th>\n",
       "      <td>0.444459</td>\n",
       "      <td>0.171863</td>\n",
       "      <td>0.171805</td>\n",
       "      <td>0.085576</td>\n",
       "      <td>0.958744</td>\n",
       "      <td>0.585028</td>\n",
       "    </tr>\n",
       "    <tr>\n",
       "      <th>3</th>\n",
       "      <td>0.478463</td>\n",
       "      <td>0.198903</td>\n",
       "      <td>0.127421</td>\n",
       "      <td>0.074717</td>\n",
       "      <td>0.938804</td>\n",
       "      <td>0.589564</td>\n",
       "    </tr>\n",
       "    <tr>\n",
       "      <th>4</th>\n",
       "      <td>0.428567</td>\n",
       "      <td>0.171712</td>\n",
       "      <td>0.152156</td>\n",
       "      <td>0.083926</td>\n",
       "      <td>0.954615</td>\n",
       "      <td>0.600388</td>\n",
       "    </tr>\n",
       "    <tr>\n",
       "      <th>5</th>\n",
       "      <td>0.483170</td>\n",
       "      <td>0.191943</td>\n",
       "      <td>0.118303</td>\n",
       "      <td>0.067734</td>\n",
       "      <td>0.952585</td>\n",
       "      <td>0.613091</td>\n",
       "    </tr>\n",
       "    <tr>\n",
       "      <th>6</th>\n",
       "      <td>0.443890</td>\n",
       "      <td>0.180350</td>\n",
       "      <td>0.142016</td>\n",
       "      <td>0.076647</td>\n",
       "      <td>0.956908</td>\n",
       "      <td>0.609873</td>\n",
       "    </tr>\n",
       "    <tr>\n",
       "      <th>7</th>\n",
       "      <td>0.491648</td>\n",
       "      <td>0.202200</td>\n",
       "      <td>0.147134</td>\n",
       "      <td>0.081613</td>\n",
       "      <td>0.944092</td>\n",
       "      <td>0.619711</td>\n",
       "    </tr>\n",
       "    <tr>\n",
       "      <th>8</th>\n",
       "      <td>0.421768</td>\n",
       "      <td>0.170255</td>\n",
       "      <td>0.134765</td>\n",
       "      <td>0.072856</td>\n",
       "      <td>0.955965</td>\n",
       "      <td>0.603297</td>\n",
       "    </tr>\n",
       "    <tr>\n",
       "      <th>9</th>\n",
       "      <td>0.468270</td>\n",
       "      <td>0.185953</td>\n",
       "      <td>0.138217</td>\n",
       "      <td>0.075257</td>\n",
       "      <td>0.958184</td>\n",
       "      <td>0.617485</td>\n",
       "    </tr>\n",
       "  </tbody>\n",
       "</table>\n",
       "</div>"
      ],
      "text/plain": [
       "   Lemma & Count  Lemma & TFIDF  Adjective & Count  Adjective & TFIDF  \\\n",
       "0       0.462031       0.190844           0.139913           0.078778   \n",
       "1       0.463539       0.195457           0.165077           0.087145   \n",
       "2       0.444459       0.171863           0.171805           0.085576   \n",
       "3       0.478463       0.198903           0.127421           0.074717   \n",
       "4       0.428567       0.171712           0.152156           0.083926   \n",
       "5       0.483170       0.191943           0.118303           0.067734   \n",
       "6       0.443890       0.180350           0.142016           0.076647   \n",
       "7       0.491648       0.202200           0.147134           0.081613   \n",
       "8       0.421768       0.170255           0.134765           0.072856   \n",
       "9       0.468270       0.185953           0.138217           0.075257   \n",
       "\n",
       "   Dummy & BERT  Dummy & Senence Transformer  \n",
       "0      0.956497                     0.597419  \n",
       "1      0.954542                     0.608977  \n",
       "2      0.958744                     0.585028  \n",
       "3      0.938804                     0.589564  \n",
       "4      0.954615                     0.600388  \n",
       "5      0.952585                     0.613091  \n",
       "6      0.956908                     0.609873  \n",
       "7      0.944092                     0.619711  \n",
       "8      0.955965                     0.603297  \n",
       "9      0.958184                     0.617485  "
      ]
     },
     "execution_count": 13,
     "metadata": {},
     "output_type": "execute_result"
    }
   ],
   "source": [
    "beer_results = []\n",
    "for beer in most_popular_beers.index[:10]:\n",
    "    sample = reviews[reviews[\"beer\"][\"name\"] == beer].sample(100, random_state=SEED)\n",
    "    transform = sample[\"review\"][\"text\"].apply(lambda x: nlp(x))\n",
    "    result = run_pipelines(transform, pipelines)\n",
    "    beer_results.append(result)\n",
    "df_beer_results = pd.DataFrame(beer_results)\n",
    "df_beer_results"
   ]
  },
  {
   "cell_type": "code",
   "execution_count": 14,
   "metadata": {},
   "outputs": [
    {
     "data": {
      "text/plain": [
       "Lemma & Count                  0.458581\n",
       "Lemma & TFIDF                  0.185948\n",
       "Adjective & Count              0.143681\n",
       "Adjective & TFIDF              0.078425\n",
       "Dummy & BERT                   0.953094\n",
       "Dummy & Senence Transformer    0.604483\n",
       "dtype: float64"
      ]
     },
     "execution_count": 14,
     "metadata": {},
     "output_type": "execute_result"
    }
   ],
   "source": [
    "df_beer_results.mean(axis=0)"
   ]
  },
  {
   "cell_type": "code",
   "execution_count": 15,
   "metadata": {},
   "outputs": [
    {
     "data": {
      "text/plain": [
       "Lemma & Count                  0.415609\n",
       "Lemma & TFIDF                  0.160332\n",
       "Adjective & Count              0.137070\n",
       "Adjective & TFIDF              0.073969\n",
       "Dummy & BERT                   0.952676\n",
       "Dummy & Senence Transformer    0.567068\n",
       "dtype: float64"
      ]
     },
     "execution_count": 15,
     "metadata": {},
     "output_type": "execute_result"
    }
   ],
   "source": [
    "df_style_results.mean(axis=0)"
   ]
  },
  {
   "cell_type": "code",
   "execution_count": 17,
   "metadata": {},
   "outputs": [
    {
     "data": {
      "text/plain": [
       "Lemma & Count                  0.042972\n",
       "Lemma & TFIDF                  0.025616\n",
       "Adjective & Count              0.006610\n",
       "Adjective & TFIDF              0.004456\n",
       "Dummy & BERT                   0.000418\n",
       "Dummy & Senence Transformer    0.037415\n",
       "dtype: float64"
      ]
     },
     "execution_count": 17,
     "metadata": {},
     "output_type": "execute_result"
    }
   ],
   "source": [
    "df_beer_results.mean(axis=0) - df_style_results.mean(axis=0)"
   ]
  },
  {
   "cell_type": "code",
   "execution_count": null,
   "metadata": {},
   "outputs": [],
   "source": []
  }
 ],
 "metadata": {
  "kernelspec": {
   "display_name": "std",
   "language": "python",
   "name": "python3"
  },
  "language_info": {
   "codemirror_mode": {
    "name": "ipython",
    "version": 3
   },
   "file_extension": ".py",
   "mimetype": "text/x-python",
   "name": "python",
   "nbconvert_exporter": "python",
   "pygments_lexer": "ipython3",
   "version": "3.10.11"
  }
 },
 "nbformat": 4,
 "nbformat_minor": 2
}
