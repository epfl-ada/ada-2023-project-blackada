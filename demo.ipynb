{
 "cells": [
  {
   "cell_type": "markdown",
   "metadata": {},
   "source": [
    "# Unlocking the Palate - Evaluating Taste Consensus Among Beer Reviewers\n",
    "\n",
    "---\n",
    "\n",
    "Group [**BlackAda**](https://en.wikipedia.org/wiki/Blackadder)\n",
    "\n",
    "> - Ludek Cizinsky ([ludek@cizinsky@epfl.ch](ludek.cizinsky@epfl.ch))\n",
    "> - Peter Nutter ([peter@nutter@epfl.ch](peter@nutter@epfl.ch))\n",
    "> - Pierre Lardet ([pierre@lardet@epfl.ch](pierre@lardet@epfl.ch))\n",
    "> - Christian Bastin ([christian@bastin@epfl.ch](christian@bastin@epfl.ch))\n",
    "> - Mika Senghaas ([mika@senghaas@epfl.ch](mika@senghaas@epfl.ch))"
   ]
  },
  {
   "cell_type": "markdown",
   "metadata": {},
   "source": [
    "## Introduction\n",
    "\n",
    "---\n",
    "\n",
    "Navigating the world of beer reviews can be a daunting task for non-experts. Beer aficionados often describe brews as having nuanced flavors such as \"grassy notes\" and \"biscuity/ crackery malt,\" with hints of \"hay.\" But do these descriptions reflect the actual tasting experience? Following a \"wisdom-of-the-crowd\" approach, a descriptor can be considered meaningful if many, independent reviewers use similar descriptors for a beer's taste. To quantify consensus, we use natural language processing techniques to extract descriptors of a beer's taste and numerically represent these descriptors to compute similarity or consensus scores. The consensus scores between beer reviews will unveil whether there is a shared understanding of taste among beer geeks."
   ]
  },
  {
   "cell_type": "markdown",
   "metadata": {},
   "source": [
    "## Dependencies\n",
    "\n",
    "---\n",
    "\n",
    "We load the dependencies required for this project to run."
   ]
  },
  {
   "cell_type": "code",
   "execution_count": 1,
   "metadata": {},
   "outputs": [],
   "source": [
    "# Enable continuous module reloading\n",
    "%load_ext autoreload\n",
    "%autoreload 2 \n",
    "%aimport src\n",
    "\n",
    "# Standard library\n",
    "import os\n",
    "\n",
    "# Custom modules\n",
    "from src import utils"
   ]
  },
  {
   "cell_type": "markdown",
   "metadata": {},
   "source": [
    "And set some global variables."
   ]
  },
  {
   "cell_type": "code",
   "execution_count": 2,
   "metadata": {},
   "outputs": [],
   "source": [
    "# URL for the full dataset\n",
    "DATA_URL = \"https://drive.google.com/u/2/uc?id=1IqcAJtYrDB1j40rBY5M-PGp6KNX-E3xq&export=download\"\n",
    "\n",
    "# Number of samples to use for the subset\n",
    "NUM_SUBSET_SAMPLES = 100\n",
    "\n",
    "# Paths\n",
    "ROOT_DIR = os.getcwd()\n",
    "DATA_DIR = os.path.join(ROOT_DIR, \"data\")\n",
    "\n",
    "# Ensure data directory exists\n",
    "os.makedirs(DATA_DIR, exist_ok=True)"
   ]
  },
  {
   "cell_type": "markdown",
   "metadata": {},
   "source": [
    "## Data\n",
    "\n",
    "---\n",
    "\n",
    "We will be working with the beer review data from the [BeerAdvocate](https://www.beeradvocate.com/) platform. \n"
   ]
  },
  {
   "cell_type": "markdown",
   "metadata": {},
   "source": [
    "### Data Download\n",
    "\n",
    "Due to its size (uncompressed 1.6 GB), the dataset is not included in the repository but must be downloaded. The course staff has provided the data via Google Drive. On the first run of this notebook, we download the compressed data file from Google Drive and extract it to the `data` folder. The compressed file is ~1.5 GB in size. \n",
    "\n",
    "After extraction and removing of unnecessary files (archives, ratings file, ...), the data folder should contain the following files: `beers.csv`, `breweries.csv`, `users.csv`, `reviews.txt`. The total size of the data is ~2.9 GB.\n",
    "\n",
    "*NB: Data loading takes around **~8min** on the first run. Subsequent runs of this cell are instant.*"
   ]
  },
  {
   "cell_type": "code",
   "execution_count": 31,
   "metadata": {},
   "outputs": [
    {
     "name": "stdout",
     "output_type": "stream",
     "text": [
      "Beer reviews downloaded to /Users/peter/Developer/ada-2023-project-blackada/data ✅.\n"
     ]
    }
   ],
   "source": [
    "# Download the BeerAdvocate dataset if it doesn't exist\n",
    "if not os.path.exists(os.path.join(DATA_DIR, \"reviews.txt\")):\n",
    "    utils.download_data(DATA_URL, data_dir=DATA_DIR)\n",
    "print(f\"Beer reviews downloaded to {DATA_DIR} ✅.\")"
   ]
  },
  {
   "cell_type": "markdown",
   "metadata": {},
   "source": [
    "### Data Loading\n",
    "\n",
    "Next, we load the data into a Pandas DataFrame. On the first run, we load all the reviews from the `reviews.txt` file and populate it with some additional meta-data from the other files. We then save the DataFrame to a `.feather` file for faster loading in the future. On subsequent runs, we load the DataFrame from the `.feather` file if it exists.\n",
    "\n",
    "*NB: Running this cell for the first time reads in all `2.5M` reviews which takes **~7min**. Subsequent runs should be much faster, taking about **~1min**.*"
   ]
  },
  {
   "cell_type": "code",
   "execution_count": 3,
   "metadata": {},
   "outputs": [
    {
     "name": "stdout",
     "output_type": "stream",
     "text": [
      "Loaded 2589586 reviews ✅. (+100 reviews in subset)\n"
     ]
    }
   ],
   "source": [
    "# Load all reviews and a subset of reviews (10,000)\n",
    "reviews = utils.load_data(DATA_DIR)\n",
    "sub_reviews = utils.load_data(DATA_DIR, num_samples=NUM_SUBSET_SAMPLES)\n",
    "\n",
    "print(f\"Loaded {len(reviews)} reviews ✅. (+{len(sub_reviews)} reviews in subset)\")"
   ]
  },
  {
   "cell_type": "markdown",
   "metadata": {},
   "source": [
    "### EDA\n",
    "\n",
    "Let's explore the data a bit. We will analyse:\n",
    "\n",
    "- ..."
   ]
  },
  {
   "cell_type": "code",
   "execution_count": 33,
   "metadata": {},
   "outputs": [],
   "source": [
    "# TODO"
   ]
  },
  {
   "cell_type": "code",
   "execution_count": 4,
   "metadata": {},
   "outputs": [
    {
     "name": "stderr",
     "output_type": "stream",
     "text": [
      "/Users/peter/anaconda3/envs/poetry/lib/python3.10/site-packages/tqdm/auto.py:21: TqdmWarning: IProgress not found. Please update jupyter and ipywidgets. See https://ipywidgets.readthedocs.io/en/stable/user_install.html\n",
      "  from .autonotebook import tqdm as notebook_tqdm\n"
     ]
    }
   ],
   "source": [
    "from src.consensus import CosineSimilarity\n",
    "from src.extractors import *\n",
    "from src.pipeline import TextAnalysis\n",
    "from src.embedders import *\n",
    "import pandas as pd\n",
    "import spacy\n",
    "\n",
    "nlp = spacy.load(\"en_core_web_sm\")\n",
    "SEED = 42\n",
    "DEVICE = \"mps\"  # Use cpu if not on M* mac\n",
    "np.random.seed(SEED)\n",
    "torch.manual_seed(SEED)\n",
    "lemma_extractor = LemmaExtractor()\n",
    "adjective_extractor = AdjectiveExtractor()\n",
    "dummy_extractor = DummyExtractor()\n",
    "\n",
    "count_embeddor = CountEmbeddor()\n",
    "tfidf_embeddor = TfidfEmbeddor()\n",
    "bert_embeddor = BertEmbeddor(device=DEVICE)\n",
    "sentence_transformer_embeddor = SentenceTransformerEmbeddor(device=DEVICE)\n",
    "cosine_metric = CosineSimilarity()\n",
    "\n",
    "lemma_and_count = TextAnalysis(lemma_extractor, count_embeddor, cosine_metric)\n",
    "lemma_and_tfidf = TextAnalysis(lemma_extractor, tfidf_embeddor, cosine_metric)\n",
    "adj_and_bert = TextAnalysis(adjective_extractor, bert_embeddor, cosine_metric)\n",
    "adj_and_sen_tran = TextAnalysis(\n",
    "    adjective_extractor, sentence_transformer_embeddor, cosine_metric\n",
    ")\n",
    "dummy_and_bert = TextAnalysis(dummy_extractor, bert_embeddor, cosine_metric)\n",
    "\n",
    "\n",
    "def run_pipelines(docs, pipelines):\n",
    "    results = {}\n",
    "    for name, pipeline in pipelines.items():\n",
    "        results[name] = pipeline.transform(docs)\n",
    "    return results\n",
    "\n",
    "\n",
    "pipelines = {\n",
    "    \"Lemma & Count\": lemma_and_count,\n",
    "    \"Lemma & TFIDF\": lemma_and_tfidf,\n",
    "    \"Adjective & BERT\": adj_and_bert,\n",
    "    \"Adjective & SentenceTransformer\": adj_and_sen_tran,\n",
    "    \"Dummy & BERT\": dummy_and_bert,\n",
    "}"
   ]
  },
  {
   "cell_type": "code",
   "execution_count": 5,
   "metadata": {},
   "outputs": [],
   "source": [
    "most_popular_styles = reviews[\"beer\"][\"style\"].value_counts()\n",
    "most_popular_beers = reviews[\"beer\"][\"name\"].value_counts()"
   ]
  },
  {
   "cell_type": "code",
   "execution_count": 6,
   "metadata": {},
   "outputs": [
    {
     "data": {
      "text/html": [
       "<div>\n",
       "<style scoped>\n",
       "    .dataframe tbody tr th:only-of-type {\n",
       "        vertical-align: middle;\n",
       "    }\n",
       "\n",
       "    .dataframe tbody tr th {\n",
       "        vertical-align: top;\n",
       "    }\n",
       "\n",
       "    .dataframe thead th {\n",
       "        text-align: right;\n",
       "    }\n",
       "</style>\n",
       "<table border=\"1\" class=\"dataframe\">\n",
       "  <thead>\n",
       "    <tr style=\"text-align: right;\">\n",
       "      <th></th>\n",
       "      <th>Lemma &amp; Count</th>\n",
       "      <th>Lemma &amp; TFIDF</th>\n",
       "      <th>Adjective &amp; BERT</th>\n",
       "      <th>Adjective &amp; SentenceTransformer</th>\n",
       "      <th>Dummy &amp; BERT</th>\n",
       "    </tr>\n",
       "  </thead>\n",
       "  <tbody>\n",
       "    <tr>\n",
       "      <th>0</th>\n",
       "      <td>0.387268</td>\n",
       "      <td>0.151790</td>\n",
       "      <td>0.913955</td>\n",
       "      <td>0.441771</td>\n",
       "      <td>0.958266</td>\n",
       "    </tr>\n",
       "    <tr>\n",
       "      <th>1</th>\n",
       "      <td>0.439708</td>\n",
       "      <td>0.169459</td>\n",
       "      <td>0.925934</td>\n",
       "      <td>0.484051</td>\n",
       "      <td>0.958078</td>\n",
       "    </tr>\n",
       "    <tr>\n",
       "      <th>2</th>\n",
       "      <td>0.418018</td>\n",
       "      <td>0.161084</td>\n",
       "      <td>0.915397</td>\n",
       "      <td>0.476532</td>\n",
       "      <td>0.957206</td>\n",
       "    </tr>\n",
       "    <tr>\n",
       "      <th>3</th>\n",
       "      <td>0.402188</td>\n",
       "      <td>0.155264</td>\n",
       "      <td>0.916692</td>\n",
       "      <td>0.480332</td>\n",
       "      <td>0.953592</td>\n",
       "    </tr>\n",
       "    <tr>\n",
       "      <th>4</th>\n",
       "      <td>0.432146</td>\n",
       "      <td>0.170018</td>\n",
       "      <td>0.920941</td>\n",
       "      <td>0.526817</td>\n",
       "      <td>0.953939</td>\n",
       "    </tr>\n",
       "    <tr>\n",
       "      <th>5</th>\n",
       "      <td>0.424493</td>\n",
       "      <td>0.170841</td>\n",
       "      <td>0.916305</td>\n",
       "      <td>0.505684</td>\n",
       "      <td>0.942794</td>\n",
       "    </tr>\n",
       "    <tr>\n",
       "      <th>6</th>\n",
       "      <td>0.420441</td>\n",
       "      <td>0.155198</td>\n",
       "      <td>0.928033</td>\n",
       "      <td>0.503213</td>\n",
       "      <td>0.950007</td>\n",
       "    </tr>\n",
       "    <tr>\n",
       "      <th>7</th>\n",
       "      <td>0.406826</td>\n",
       "      <td>0.160338</td>\n",
       "      <td>0.926700</td>\n",
       "      <td>0.484078</td>\n",
       "      <td>0.955128</td>\n",
       "    </tr>\n",
       "    <tr>\n",
       "      <th>8</th>\n",
       "      <td>0.422228</td>\n",
       "      <td>0.149259</td>\n",
       "      <td>0.914928</td>\n",
       "      <td>0.425485</td>\n",
       "      <td>0.951311</td>\n",
       "    </tr>\n",
       "    <tr>\n",
       "      <th>9</th>\n",
       "      <td>0.402771</td>\n",
       "      <td>0.160068</td>\n",
       "      <td>0.924918</td>\n",
       "      <td>0.514777</td>\n",
       "      <td>0.946440</td>\n",
       "    </tr>\n",
       "  </tbody>\n",
       "</table>\n",
       "</div>"
      ],
      "text/plain": [
       "   Lemma & Count  Lemma & TFIDF  Adjective & BERT  \\\n",
       "0       0.387268       0.151790          0.913955   \n",
       "1       0.439708       0.169459          0.925934   \n",
       "2       0.418018       0.161084          0.915397   \n",
       "3       0.402188       0.155264          0.916692   \n",
       "4       0.432146       0.170018          0.920941   \n",
       "5       0.424493       0.170841          0.916305   \n",
       "6       0.420441       0.155198          0.928033   \n",
       "7       0.406826       0.160338          0.926700   \n",
       "8       0.422228       0.149259          0.914928   \n",
       "9       0.402771       0.160068          0.924918   \n",
       "\n",
       "   Adjective & SentenceTransformer  Dummy & BERT  \n",
       "0                         0.441771      0.958266  \n",
       "1                         0.484051      0.958078  \n",
       "2                         0.476532      0.957206  \n",
       "3                         0.480332      0.953592  \n",
       "4                         0.526817      0.953939  \n",
       "5                         0.505684      0.942794  \n",
       "6                         0.503213      0.950007  \n",
       "7                         0.484078      0.955128  \n",
       "8                         0.425485      0.951311  \n",
       "9                         0.514777      0.946440  "
      ]
     },
     "execution_count": 6,
     "metadata": {},
     "output_type": "execute_result"
    }
   ],
   "source": [
    "style_results = []\n",
    "for style in most_popular_styles.index[:10]:\n",
    "    sample = reviews[reviews[\"beer\"][\"style\"] == style].sample(100, random_state=SEED)\n",
    "    transform = sample[\"review\"][\"text\"].apply(lambda x: nlp(x))\n",
    "    result = run_pipelines(transform, pipelines)\n",
    "    style_results.append(result)\n",
    "df_style_results = pd.DataFrame(style_results)\n",
    "df_style_results"
   ]
  },
  {
   "cell_type": "code",
   "execution_count": 16,
   "metadata": {},
   "outputs": [],
   "source": [
    "beer_results = []\n",
    "for beer in most_popular_beers.index[:10]:\n",
    "    sample = reviews[reviews[\"beer\"][\"name\"] == beer].sample(100, random_state=SEED)\n",
    "    transform = sample[\"review\"][\"text\"].apply(lambda x: nlp(x))\n",
    "    result = run_pipelines(transform, pipelines)\n",
    "    beer_results.append(result)\n",
    "df_beer_results = pd.DataFrame(beer_results)\n",
    "df_beer_results"
   ]
  },
  {
   "cell_type": "code",
   "execution_count": 13,
   "metadata": {},
   "outputs": [
    {
     "ename": "NameError",
     "evalue": "name 'df_beer_results' is not defined",
     "output_type": "error",
     "traceback": [
      "\u001b[0;31m---------------------------------------------------------------------------\u001b[0m",
      "\u001b[0;31mNameError\u001b[0m                                 Traceback (most recent call last)",
      "\u001b[1;32m/Users/peter/Developer/ada-2023-project-blackada/main.ipynb Cell 18\u001b[0m line \u001b[0;36m1\n\u001b[0;32m----> <a href='vscode-notebook-cell:/Users/peter/Developer/ada-2023-project-blackada/main.ipynb#X61sZmlsZQ%3D%3D?line=0'>1</a>\u001b[0m df_beer_results\u001b[39m.\u001b[39mmean(axis \u001b[39m=\u001b[39m \u001b[39m0\u001b[39m)\n",
      "\u001b[0;31mNameError\u001b[0m: name 'df_beer_results' is not defined"
     ]
    }
   ],
   "source": [
    "df_beer_results.mean(axis=0)"
   ]
  },
  {
   "cell_type": "code",
   "execution_count": 14,
   "metadata": {},
   "outputs": [
    {
     "data": {
      "text/plain": [
       "Lemma & Count                      0.415609\n",
       "Lemma & TFIDF                      0.160332\n",
       "Adjective & BERT                   0.920380\n",
       "Adjective & SentenceTransformer    0.484274\n",
       "Dummy & BERT                       0.952676\n",
       "dtype: float64"
      ]
     },
     "execution_count": 14,
     "metadata": {},
     "output_type": "execute_result"
    }
   ],
   "source": [
    "df_style_results.mean(axis=0)"
   ]
  }
 ],
 "metadata": {
  "kernelspec": {
   "display_name": "std",
   "language": "python",
   "name": "python3"
  },
  "language_info": {
   "codemirror_mode": {
    "name": "ipython",
    "version": 3
   },
   "file_extension": ".py",
   "mimetype": "text/x-python",
   "name": "python",
   "nbconvert_exporter": "python",
   "pygments_lexer": "ipython3",
   "version": "3.10.13"
  }
 },
 "nbformat": 4,
 "nbformat_minor": 2
}
