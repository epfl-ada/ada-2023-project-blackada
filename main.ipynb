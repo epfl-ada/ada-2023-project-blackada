{
 "cells": [
  {
   "cell_type": "markdown",
   "metadata": {},
   "source": [
    "# 🍻 Unlocking the Palate - Evaluating Taste Consensus Among Beer Reviewers\n",
    "\n",
    "---\n",
    "\n",
    "Group [**BlackAda**](https://en.wikipedia.org/wiki/Blackadder)\n",
    "\n",
    "> - Ludek Cizinsky ([ludek.cizinsky@epfl.ch](ludek.cizinsky@epfl.ch))\n",
    "> - Peter Nutter ([peter.nutter@epfl.ch](peter@nutter@epfl.ch))\n",
    "> - Pierre Lardet ([pierre.lardet@epfl.ch](pierre@lardet@epfl.ch))\n",
    "> - Christopher Bastin ([christopher.bastin@epfl.ch](christian@bastin@epfl.ch))\n",
    "> - Mika Senghaas ([mika.senghaas@epfl.ch](mika@senghaas@epfl.ch))\n"
   ]
  },
  {
   "cell_type": "markdown",
   "metadata": {},
   "source": [
    "## Introduction\n",
    "\n",
    "---\n",
    "\n",
    "Navigating the world of beer reviews can be a daunting task for non-experts.\n",
    "Beer aficionados often describe brews as having nuanced flavors such as \"grassy\n",
    "notes\" and \"biscuity/ crackery malt,\" with hints of \"hay.\" But do these\n",
    "descriptions reflect the actual tasting experience? Following a\n",
    "\"wisdom-of-the-crowd\" approach, a descriptor can be considered meaningful if\n",
    "many, independent reviewers use similar descriptors for a beer's taste. To\n",
    "quantify consensus, we use natural language processing techniques to extract\n",
    "descriptors of a beer's taste and numerically represent these descriptors to\n",
    "compute similarity or consensus scores. The consensus scores between beer\n",
    "reviews will unveil whether there is a shared understanding of taste among beer\n",
    "geeks. This notebook details every step of the analysis, from data collection\n",
    "to the final results. Let's get started!\n"
   ]
  },
  {
   "cell_type": "markdown",
   "metadata": {},
   "source": [
    "## Dependencies\n",
    "\n",
    "---\n",
    "\n",
    "We load the dependencies required for this project to run.\n"
   ]
  },
  {
   "cell_type": "code",
   "execution_count": 1,
   "metadata": {},
   "outputs": [],
   "source": [
    "# Enable continuous module reloading\n",
    "%load_ext autoreload\n",
    "%autoreload 2"
   ]
  },
  {
   "cell_type": "code",
   "execution_count": 2,
   "metadata": {},
   "outputs": [],
   "source": [
    "# Standard library\n",
    "import os\n",
    "\n",
    "# External library\n",
    "import matplotlib.pyplot as plt\n",
    "from matplotlib import font_manager\n",
    "\n",
    "import numpy as np\n",
    "from tqdm import tqdm\n",
    "import seaborn as sns\n",
    "import pandas as pd\n",
    "import spacy\n",
    "from spacy.tokens import DocBin \n",
    "from sklearn.decomposition import PCA, TruncatedSVD\n",
    "\n",
    "from sklearn.manifold import TSNE\n",
    "import statsmodels.api as sm\n",
    "from statsmodels.formula.api import ols\n",
    "from statsmodels.stats.multicomp import pairwise_tukeyhsd\n",
    "\n",
    "# Custom modules\n",
    "from src import utils\n",
    "from src import extractors\n",
    "from src import embedders\n",
    "from src.consensus import ConsensusBase, CosineSimilarity, Correlation, KullbackLeiblerDivergence, JensenShannonDivergence\n",
    "from src import visualise\n",
    "from src.aggregator import EmbeddingAggregator"
   ]
  },
  {
   "cell_type": "markdown",
   "metadata": {},
   "source": [
    "And set global variables:\n"
   ]
  },
  {
   "cell_type": "code",
   "execution_count": 24,
   "metadata": {},
   "outputs": [],
   "source": [
    "# SeaBorn settings\n",
    "colorstyle = \"RdBu\"\n",
    "sns.set_style(\"dark\")\n",
    "sns.set_palette(colorstyle)\n",
    "\n",
    "# Pandas settings\n",
    "pd.options.display.max_colwidth = 150\n",
    "\n",
    "# Load SpaCy model\n",
    "NLP = spacy.load(\"en_core_web_sm\", disable=[\"ner\", \"parser\"])\n",
    "DOC_BIN = DocBin(attrs=[\"LEMMA\", \"POS\"])\n",
    "LOAD_DOCS = False # This is if you want to play around feature extraction from text, by default we load the preprocessed data\n",
    "\n",
    "# URL for the full dataset\n",
    "DATA_URL = \"https://drive.google.com/u/2/uc?id=1IqcAJtYrDB1j40rBY5M-PGp6KNX-E3xq&export=download\"\n",
    "\n",
    "# To test our initial hypothesis, or just to be able to quickly \n",
    "# iterate on the code, we can use a subset of the data\n",
    "SUBSET_DEMO = False \n",
    "NUM_SUBSET_DEMO = 10000 \n",
    "\n",
    "# Paths\n",
    "ROOT_DIR = os.getcwd()\n",
    "DATA_DIR = os.path.join(ROOT_DIR, \"data\")\n",
    "PROCESSED_DIR = os.path.join(DATA_DIR, \"processed\")\n",
    "os.makedirs(DATA_DIR, exist_ok=True)\n",
    "\n",
    "# Random seed\n",
    "SEED = 42\n",
    "\n",
    "# To obtain a baseline for the consensus accorss groups, we include\n",
    "# the shuffle flag which allows us to shuffle the reviews and then observe\n",
    "# the consensus when the data is randomised\n",
    "SHUFFLE_REVIEWS = False\n",
    "\n",
    "# Group settings\n",
    "MIN_REVIEWS = 50 # Minimum number of reviews per group\n",
    "MAX_REVIEWS = None # Maximum number of reviews per group\n",
    "\n",
    "# Review settings\n",
    "MIN_WORDS = 50 # Minimum number of words per review\n",
    "\n",
    "# Here we select the type of metric to compare the embeddings\n",
    "METRIC = \"cosine\"  \n",
    "\n",
    "# If this gives you error, then clone the website repo in the same directory as this repo\n",
    "IMAGES_PATH = os.path.join(\"..\", \"public\", \"assets\") "
   ]
  },
  {
   "cell_type": "markdown",
   "metadata": {},
   "source": [
    "We decided to use static plots for our datastory. In order for them to look well on the website, we had to setup properly the seaborn styling. At the end, we obtain a list with configurations dictionaries. In our case, we have only light and dark configs. We can also choose to run with one of them only."
   ]
  },
  {
   "cell_type": "code",
   "execution_count": 5,
   "metadata": {},
   "outputs": [],
   "source": [
    "font_path = 'font/Poppins-Regular.ttf' \n",
    "font_manager.fontManager.addfont(font_path)\n",
    "prop = font_manager.FontProperties(fname=font_path)\n",
    "\n",
    "# Light\n",
    "light_config = {\n",
    "    \"palette\": sns.color_palette([\n",
    "        \"#2654E8\", # Primary blue\n",
    "    ]),\n",
    "    \"style\": \"white\",\n",
    "    \"font\": prop.get_name(),\n",
    "    \"rc\": {\n",
    "        'axes.facecolor': (0,0,0,0), \n",
    "        'figure.facecolor':(0,0,0,0), \n",
    "        'axes.spines.left': False, \n",
    "        'axes.spines.bottom': False, \n",
    "        'axes.spines.right': False, \n",
    "        'axes.spines.top': False,\n",
    "        'axes.titleweight': 'bold',\n",
    "        'axes.labelpad': 10,  \n",
    "        'axes.titlepad': 10,  \n",
    "    },\n",
    "}\n",
    "\n",
    "dark_config = {\n",
    "    \"palette\": sns.color_palette([\n",
    "        \"#2654E8\", # Primary blue\n",
    "    ]),\n",
    "    \"style\": \"dark\",\n",
    "    \"rc\": {\n",
    "        'axes.facecolor': (0, 0, 0, 0),\n",
    "        'figure.facecolor': (0, 0, 0, 0),\n",
    "        'axes.spines.left': False,\n",
    "        'axes.spines.bottom': False,\n",
    "        'axes.spines.right': False,\n",
    "        'axes.spines.top': False,\n",
    "        'text.color': 'white',\n",
    "        'xtick.color': 'white',\n",
    "        'ytick.color': 'white',\n",
    "        'axes.labelcolor': 'white',\n",
    "        'axes.titleweight': 'bold',\n",
    "        'axes.labelpad': 10,  \n",
    "        'axes.titlepad': 10,  \n",
    "    },\n",
    "    \"font\": prop.get_name(),\n",
    "}\n",
    "\n",
    "\n",
    "# Use only the light config for now\n",
    "SEABORN_CONFIGS = [\n",
    "    (\"light\", light_config), \n",
    "]"
   ]
  },
  {
   "cell_type": "markdown",
   "metadata": {},
   "source": [
    "## Getting to know the data and preparing it for analysis\n",
    "\n",
    "---\n",
    "\n",
    "We will be working with the beer review data from the[BeerAdvocate](https://www.beeradvocate.com/) platform. Throughout the data section, our philosophy is simple. We always first check whether the given file / folder exists, if not, we run the corresponding preprocessing / download pipeline. In case you want to run this notebook, but do not want to wait for the data to be downloaded and preprocessed you can simply run the following command in the root folder of the project:\n",
    "\n",
    "```bash\n",
    "huggingface-cli download ludekcizinsky/blackada --local-dir data --repo-type dataset\n",
    "```\n",
    "\n",
    "This will download the dataset from the HuggingFace repository and place it in the `data` folder. You can then run the notebook without any issues. Nevertheless, below we document the whole data preprocessing and exploration pipeline. The main goal of this section is to get familiar with the data and to understand the preprocessing steps. We will then apply these steps before we the start the actual analysis (see Analysis section).\n"
   ]
  },
  {
   "cell_type": "markdown",
   "metadata": {},
   "source": [
    "### Data Download\n",
    "\n",
    "Due to its size (uncompressed 1.6 GB), the dataset is not included in the\n",
    "repository but must be downloaded. The course staff has provided the data via\n",
    "Google Drive. On the first run of this notebook, we download the compressed data\n",
    "file from Google Drive and extract it to the `data` folder. The compressed file\n",
    "is ~1.5 GB in size.\n",
    "\n",
    "After extraction and the removal of unnecessary files (archives, ratings file,\n",
    "...), the data folder should contain the following files: `beers.csv`,\n",
    "`breweries.csv`, `users.csv`, `reviews.txt`. The total size of the data is ~2.9\n",
    "GB.\n",
    "\n",
    "_NB: Data loading takes around **~8min** on the first run. Subsequent runs of\n",
    "this cell are instant._\n"
   ]
  },
  {
   "cell_type": "code",
   "execution_count": 10,
   "metadata": {},
   "outputs": [
    {
     "name": "stdout",
     "output_type": "stream",
     "text": [
      "Raw beer review data downloaded to /Users/ludekcizinsky/Dev/personal/ada-2023-project-blackada/data ✅.\n"
     ]
    }
   ],
   "source": [
    "# Download the BeerAdvocate dataset if it doesn't exist\n",
    "if not utils.raw_data_exists(DATA_DIR):\n",
    "    utils.download_data(DATA_URL, data_dir=DATA_DIR)\n",
    "print(f\"Raw beer review data downloaded to {DATA_DIR} ✅.\")"
   ]
  },
  {
   "cell_type": "markdown",
   "metadata": {},
   "source": [
    "### Data Processing\n",
    "\n",
    "We would like to perform a series of pre-processing steps on the raw data to make it more amenable to analysis. These steps include:\n",
    "\n",
    "- Merge the reviews data with some additional meta-data about the beers, users\n",
    "  and breweries (e.g. beer style, user location, ...) and collect in a singe\n",
    "  multi-column DataFrame.\n",
    "- We cast each column to the correct type, e.g. `date` is converted to a\n",
    "  `datetime` object.\n",
    "- We remove any reviews with any missing values (as there are only very few\n",
    "  where this is the case)\n",
    "- We drop columns that are not relevant for our analysis\n",
    "- We rename columns and organise the DataFrame to have a multi-index with the\n",
    "  reviews for easier access\n",
    "- We compute `spacy` objects for each review which are crucial for extracting the\n",
    "  taste descriptors from the reviews. This is a computationally expensive step\n",
    "  and we therefore only compute the `lemma` and `pos` attributes of each token\n",
    "  which are the only ones we need for our analysis.\n",
    "- We add a new column `style` based on the `substyles` in the original data frame to have another way of grouping the beers\n",
    "\n",
    "_NB: Procesing all `2.5M` reviews into `spacy` objects takes a long time (~2h). Furthermore, the data is very large due to the metadata that spacy stores for each token. We therefore only load a subset of the metadata as specified in the `DocBin` object which we will need for our later analysis - namely the `lemma` and `pos` attributes. This significantly reduces the disk and memory usage._"
   ]
  },
  {
   "cell_type": "code",
   "execution_count": 11,
   "metadata": {},
   "outputs": [
    {
     "name": "stdout",
     "output_type": "stream",
     "text": [
      "Processed beer review data saved to /Users/ludekcizinsky/Dev/personal/ada-2023-project-blackada/data/processed ✅.\n"
     ]
    }
   ],
   "source": [
    "# Process the data if it hasn't been processed yet\n",
    "if not utils.processed_data_exists(PROCESSED_DIR, NUM_SUBSET_DEMO if SUBSET_DEMO else None):\n",
    "    utils.process_data(DATA_DIR, PROCESSED_DIR, NLP, DOC_BIN, NUM_SUBSET_DEMO if SUBSET_DEMO else None)\n",
    "\n",
    "print(f\"Processed beer review data saved to {PROCESSED_DIR} ✅.\")"
   ]
  },
  {
   "cell_type": "markdown",
   "metadata": {},
   "source": [
    "### Data Loading\n",
    "\n",
    "Next, we load the data into a Pandas DataFrame. On the first run, we load all\n",
    "the reviews from the `reviews.txt` file and populate it with some additional\n",
    "meta-data from the other files. We then save the DataFrame to a `.feather` file\n",
    "for faster loading in the future. On subsequent runs, we load the DataFrame from\n",
    "the `.feather` file if it exists.\n",
    "\n",
    "_NB: Running this cell for the first time reads in all `2.5M` reviews which\n",
    "takes **~7min**. Subsequent runs should be much faster, taking about **~1min**._\n"
   ]
  },
  {
   "cell_type": "code",
   "execution_count": 12,
   "metadata": {},
   "outputs": [
    {
     "name": "stdout",
     "output_type": "stream",
     "text": [
      "Loaded 2400935 reviews ✅. (Full Data)\n"
     ]
    }
   ],
   "source": [
    "# Load all reviews \n",
    "reviews = utils.load_data(\n",
    "    PROCESSED_DIR, NLP, LOAD_DOCS, NUM_SUBSET_DEMO if SUBSET_DEMO else None\n",
    ")\n",
    "if SHUFFLE_REVIEWS:\n",
    "    random_indices = np.random.permutation(len(reviews))\n",
    "    reviews[(\"review\", \"text\")] = reviews[(\"review\", \"text\")].values[random_indices]\n",
    "    reviews[(\"review\", \"doc\")] = reviews[(\"review\", \"doc\")].values[random_indices]\n",
    "\n",
    "msg = \"Subset of Data\" if SUBSET_DEMO else \"Full Data\"\n",
    "print(f\"Loaded {len(reviews)} reviews ✅. ({msg})\")"
   ]
  },
  {
   "cell_type": "markdown",
   "metadata": {},
   "source": [
    "### Sanity Checks\n",
    "\n",
    "During the data loading (`utils.load_data`) we perform some basic data\n",
    "pre-processing and merging. Specifically, we do the following:\n",
    "\n",
    "\n",
    "We check that each of these steps is performed correctly and that the data is\n",
    "consistent.\n"
   ]
  },
  {
   "cell_type": "code",
   "execution_count": 13,
   "metadata": {},
   "outputs": [
    {
     "name": "stdout",
     "output_type": "stream",
     "text": [
      "✅ Additional columns loaded.\n"
     ]
    }
   ],
   "source": [
    "# Check that additional information is loaded in the reviews\n",
    "additional_cols = [(\"user\", \"location\")]\n",
    "\n",
    "for col in additional_cols:\n",
    "    err_msg = f\"❌ Additional column {col} not loaded.\"\n",
    "    assert col in reviews.columns, err_msg\n",
    "print(f\"✅ Additional columns loaded.\")"
   ]
  },
  {
   "cell_type": "code",
   "execution_count": 14,
   "metadata": {},
   "outputs": [
    {
     "name": "stdout",
     "output_type": "stream",
     "text": [
      "✅ All columns have correct type.\n"
     ]
    }
   ],
   "source": [
    "# Check that columns have correct type (e.g. review time is a datetime)\n",
    "example_types = {\n",
    "    (\"review\", \"date\"): \"datetime64[ns]\",\n",
    "    (\"review\", \"rating\"): \"float64\",\n",
    "    (\"review\", \"text\"): \"object\",\n",
    "}\n",
    "\n",
    "for col, dtype in example_types.items():\n",
    "    err_msg = f\"❌ Column has type {reviews[col].dtype} but should be {dtype}\"\n",
    "    assert reviews[col].dtype == dtype, err_msg\n",
    "print(f\"✅ All columns have correct type.\")"
   ]
  },
  {
   "cell_type": "code",
   "execution_count": 15,
   "metadata": {},
   "outputs": [
    {
     "name": "stdout",
     "output_type": "stream",
     "text": [
      "✅ There are no missing values.\n"
     ]
    }
   ],
   "source": [
    "# Check that there are no missing values (NaNs)\n",
    "missing_values = reviews.isna().sum()\n",
    "\n",
    "err_msg = f\"❌ There are {missing_values.sum()} missing values in the dataset!\"\n",
    "assert missing_values.sum() == 0, err_msg\n",
    "print(f\"✅ There are no missing values.\")"
   ]
  },
  {
   "cell_type": "code",
   "execution_count": 16,
   "metadata": {},
   "outputs": [
    {
     "name": "stdout",
     "output_type": "stream",
     "text": [
      "✅ Indices are integers from 0 to 2400934.\n"
     ]
    }
   ],
   "source": [
    "# Check that index is integer\n",
    "indices = list(reviews.index) \n",
    "\n",
    "err_msg = f\"❌ Index is not integer.\"\n",
    "assert list(range(len(indices))) == indices, err_msg\n",
    "print(f\"✅ Indices are integers from 0 to {len(indices)-1}.\")"
   ]
  },
  {
   "cell_type": "markdown",
   "metadata": {},
   "source": [
    "### Understanding the Data\n",
    "\n",
    "Let's explore the data a bit. In this section we will investigate the total\n",
    "number of reviews and in various sub-groups, as well as understand basic\n",
    "statistics about the textual reviews.\n"
   ]
  },
  {
   "cell_type": "code",
   "execution_count": 17,
   "metadata": {},
   "outputs": [
    {
     "data": {
      "text/html": [
       "<div>\n",
       "<style scoped>\n",
       "    .dataframe tbody tr th:only-of-type {\n",
       "        vertical-align: middle;\n",
       "    }\n",
       "\n",
       "    .dataframe tbody tr th {\n",
       "        vertical-align: top;\n",
       "    }\n",
       "\n",
       "    .dataframe thead tr th {\n",
       "        text-align: left;\n",
       "    }\n",
       "</style>\n",
       "<table border=\"1\" class=\"dataframe\">\n",
       "  <thead>\n",
       "    <tr>\n",
       "      <th></th>\n",
       "      <th>index</th>\n",
       "      <th colspan=\"7\" halign=\"left\">beer</th>\n",
       "      <th colspan=\"2\" halign=\"left\">brewery</th>\n",
       "      <th>...</th>\n",
       "      <th colspan=\"2\" halign=\"left\">user</th>\n",
       "      <th colspan=\"8\" halign=\"left\">review</th>\n",
       "    </tr>\n",
       "    <tr>\n",
       "      <th></th>\n",
       "      <th></th>\n",
       "      <th>id</th>\n",
       "      <th>name</th>\n",
       "      <th>style</th>\n",
       "      <th>substyle</th>\n",
       "      <th>abv</th>\n",
       "      <th>nbr_ratings</th>\n",
       "      <th>nbr_reviews</th>\n",
       "      <th>id</th>\n",
       "      <th>name</th>\n",
       "      <th>...</th>\n",
       "      <th>joined</th>\n",
       "      <th>location</th>\n",
       "      <th>appearance</th>\n",
       "      <th>aroma</th>\n",
       "      <th>palate</th>\n",
       "      <th>taste</th>\n",
       "      <th>overall</th>\n",
       "      <th>rating</th>\n",
       "      <th>text</th>\n",
       "      <th>date</th>\n",
       "    </tr>\n",
       "  </thead>\n",
       "  <tbody>\n",
       "    <tr>\n",
       "      <th>0</th>\n",
       "      <td>0</td>\n",
       "      <td>142544</td>\n",
       "      <td>Régab</td>\n",
       "      <td>Pale Lagers and Pilsners</td>\n",
       "      <td>Euro Pale Lager</td>\n",
       "      <td>4.5</td>\n",
       "      <td>1</td>\n",
       "      <td>1</td>\n",
       "      <td>37262</td>\n",
       "      <td>Societe des Brasseries du Gabon (SOBRAGA)</td>\n",
       "      <td>...</td>\n",
       "      <td>2008-01-07 11:00:00</td>\n",
       "      <td>United States, Washington</td>\n",
       "      <td>3.25</td>\n",
       "      <td>2.75</td>\n",
       "      <td>3.25</td>\n",
       "      <td>2.75</td>\n",
       "      <td>3.0</td>\n",
       "      <td>2.88</td>\n",
       "      <td>From a bottle, pours a piss yellow color with a fizzy white head.  This is carbonated similar to soda.The nose is basic.. malt, corn, a little flo...</td>\n",
       "      <td>2015-08-20 10:00:00</td>\n",
       "    </tr>\n",
       "    <tr>\n",
       "      <th>1</th>\n",
       "      <td>1</td>\n",
       "      <td>19590</td>\n",
       "      <td>Barelegs Brew</td>\n",
       "      <td>Pale Ales</td>\n",
       "      <td>English Pale Ale</td>\n",
       "      <td>4.5</td>\n",
       "      <td>4</td>\n",
       "      <td>4</td>\n",
       "      <td>10093</td>\n",
       "      <td>Strangford Lough Brewing Company Ltd</td>\n",
       "      <td>...</td>\n",
       "      <td>2007-10-08 10:00:00</td>\n",
       "      <td>United States, New York</td>\n",
       "      <td>3.00</td>\n",
       "      <td>3.50</td>\n",
       "      <td>3.50</td>\n",
       "      <td>4.00</td>\n",
       "      <td>3.5</td>\n",
       "      <td>3.67</td>\n",
       "      <td>Pours pale copper with a thin head that quickly goes. Caramel, golden syrup nose. Taste is big toasty, grassy hops backed by dark fruit, candy cor...</td>\n",
       "      <td>2009-02-20 11:00:00</td>\n",
       "    </tr>\n",
       "    <tr>\n",
       "      <th>2</th>\n",
       "      <td>2</td>\n",
       "      <td>19590</td>\n",
       "      <td>Barelegs Brew</td>\n",
       "      <td>Pale Ales</td>\n",
       "      <td>English Pale Ale</td>\n",
       "      <td>4.5</td>\n",
       "      <td>4</td>\n",
       "      <td>4</td>\n",
       "      <td>10093</td>\n",
       "      <td>Strangford Lough Brewing Company Ltd</td>\n",
       "      <td>...</td>\n",
       "      <td>2005-05-18 10:00:00</td>\n",
       "      <td>Northern Ireland</td>\n",
       "      <td>4.00</td>\n",
       "      <td>3.50</td>\n",
       "      <td>3.50</td>\n",
       "      <td>4.00</td>\n",
       "      <td>3.5</td>\n",
       "      <td>3.73</td>\n",
       "      <td>500ml Bottle bought from The Vintage, Antrim...Poured a golden yellow / orange colour... White head poured quite thick and foamy and faded to thin...</td>\n",
       "      <td>2006-03-13 11:00:00</td>\n",
       "    </tr>\n",
       "  </tbody>\n",
       "</table>\n",
       "<p>3 rows × 26 columns</p>\n",
       "</div>"
      ],
      "text/plain": [
       "  index    beer                                                             \\\n",
       "             id           name                     style          substyle   \n",
       "0     0  142544          Régab  Pale Lagers and Pilsners   Euro Pale Lager   \n",
       "1     1   19590  Barelegs Brew                 Pale Ales  English Pale Ale   \n",
       "2     2   19590  Barelegs Brew                 Pale Ales  English Pale Ale   \n",
       "\n",
       "                               brewery  \\\n",
       "   abv nbr_ratings nbr_reviews      id   \n",
       "0  4.5           1           1   37262   \n",
       "1  4.5           4           4   10093   \n",
       "2  4.5           4           4   10093   \n",
       "\n",
       "                                              ...                user  \\\n",
       "                                        name  ...              joined   \n",
       "0  Societe des Brasseries du Gabon (SOBRAGA)  ... 2008-01-07 11:00:00   \n",
       "1       Strangford Lough Brewing Company Ltd  ... 2007-10-08 10:00:00   \n",
       "2       Strangford Lough Brewing Company Ltd  ... 2005-05-18 10:00:00   \n",
       "\n",
       "                                 review                                    \\\n",
       "                    location appearance aroma palate taste overall rating   \n",
       "0  United States, Washington       3.25  2.75   3.25  2.75     3.0   2.88   \n",
       "1    United States, New York       3.00  3.50   3.50  4.00     3.5   3.67   \n",
       "2           Northern Ireland       4.00  3.50   3.50  4.00     3.5   3.73   \n",
       "\n",
       "                                                                                                                                                          \\\n",
       "                                                                                                                                                    text   \n",
       "0  From a bottle, pours a piss yellow color with a fizzy white head.  This is carbonated similar to soda.The nose is basic.. malt, corn, a little flo...   \n",
       "1  Pours pale copper with a thin head that quickly goes. Caramel, golden syrup nose. Taste is big toasty, grassy hops backed by dark fruit, candy cor...   \n",
       "2  500ml Bottle bought from The Vintage, Antrim...Poured a golden yellow / orange colour... White head poured quite thick and foamy and faded to thin...   \n",
       "\n",
       "                       \n",
       "                 date  \n",
       "0 2015-08-20 10:00:00  \n",
       "1 2009-02-20 11:00:00  \n",
       "2 2006-03-13 11:00:00  \n",
       "\n",
       "[3 rows x 26 columns]"
      ]
     },
     "execution_count": 17,
     "metadata": {},
     "output_type": "execute_result"
    }
   ],
   "source": [
    "# Show the first 3 rows of the data\n",
    "reviews.head(3)"
   ]
  },
  {
   "cell_type": "markdown",
   "metadata": {},
   "source": [
    "We see that all data is in a single data frame with multi-column indexing. Each\n",
    "row corresponds to a single review of a beer and denotes the user (`user`), beer\n",
    "(`beer`) and brewery (`brewery`) meta information, as well as the actual review\n",
    "data (`review`) in separate column indices. For example, we can look at the keys\n",
    "individually for the first three reviews.\n"
   ]
  },
  {
   "cell_type": "code",
   "execution_count": 18,
   "metadata": {},
   "outputs": [
    {
     "data": {
      "text/html": [
       "<div>\n",
       "<style scoped>\n",
       "    .dataframe tbody tr th:only-of-type {\n",
       "        vertical-align: middle;\n",
       "    }\n",
       "\n",
       "    .dataframe tbody tr th {\n",
       "        vertical-align: top;\n",
       "    }\n",
       "\n",
       "    .dataframe thead th {\n",
       "        text-align: right;\n",
       "    }\n",
       "</style>\n",
       "<table border=\"1\" class=\"dataframe\">\n",
       "  <thead>\n",
       "    <tr style=\"text-align: right;\">\n",
       "      <th></th>\n",
       "      <th>id</th>\n",
       "      <th>name</th>\n",
       "      <th>style</th>\n",
       "      <th>substyle</th>\n",
       "      <th>abv</th>\n",
       "      <th>nbr_ratings</th>\n",
       "      <th>nbr_reviews</th>\n",
       "    </tr>\n",
       "  </thead>\n",
       "  <tbody>\n",
       "    <tr>\n",
       "      <th>0</th>\n",
       "      <td>142544</td>\n",
       "      <td>Régab</td>\n",
       "      <td>Pale Lagers and Pilsners</td>\n",
       "      <td>Euro Pale Lager</td>\n",
       "      <td>4.5</td>\n",
       "      <td>1</td>\n",
       "      <td>1</td>\n",
       "    </tr>\n",
       "    <tr>\n",
       "      <th>1</th>\n",
       "      <td>19590</td>\n",
       "      <td>Barelegs Brew</td>\n",
       "      <td>Pale Ales</td>\n",
       "      <td>English Pale Ale</td>\n",
       "      <td>4.5</td>\n",
       "      <td>4</td>\n",
       "      <td>4</td>\n",
       "    </tr>\n",
       "    <tr>\n",
       "      <th>2</th>\n",
       "      <td>19590</td>\n",
       "      <td>Barelegs Brew</td>\n",
       "      <td>Pale Ales</td>\n",
       "      <td>English Pale Ale</td>\n",
       "      <td>4.5</td>\n",
       "      <td>4</td>\n",
       "      <td>4</td>\n",
       "    </tr>\n",
       "  </tbody>\n",
       "</table>\n",
       "</div>"
      ],
      "text/plain": [
       "       id           name                     style          substyle  abv  \\\n",
       "0  142544          Régab  Pale Lagers and Pilsners   Euro Pale Lager  4.5   \n",
       "1   19590  Barelegs Brew                 Pale Ales  English Pale Ale  4.5   \n",
       "2   19590  Barelegs Brew                 Pale Ales  English Pale Ale  4.5   \n",
       "\n",
       "   nbr_ratings  nbr_reviews  \n",
       "0            1            1  \n",
       "1            4            4  \n",
       "2            4            4  "
      ]
     },
     "execution_count": 18,
     "metadata": {},
     "output_type": "execute_result"
    }
   ],
   "source": [
    "# Meta-information on beer for first 3 samples\n",
    "reviews[\"beer\"].head(3)"
   ]
  },
  {
   "cell_type": "code",
   "execution_count": 19,
   "metadata": {},
   "outputs": [
    {
     "data": {
      "text/html": [
       "<div>\n",
       "<style scoped>\n",
       "    .dataframe tbody tr th:only-of-type {\n",
       "        vertical-align: middle;\n",
       "    }\n",
       "\n",
       "    .dataframe tbody tr th {\n",
       "        vertical-align: top;\n",
       "    }\n",
       "\n",
       "    .dataframe thead th {\n",
       "        text-align: right;\n",
       "    }\n",
       "</style>\n",
       "<table border=\"1\" class=\"dataframe\">\n",
       "  <thead>\n",
       "    <tr style=\"text-align: right;\">\n",
       "      <th></th>\n",
       "      <th>id</th>\n",
       "      <th>name</th>\n",
       "      <th>nbr_ratings</th>\n",
       "      <th>nbr_reviews</th>\n",
       "      <th>joined</th>\n",
       "      <th>location</th>\n",
       "    </tr>\n",
       "  </thead>\n",
       "  <tbody>\n",
       "    <tr>\n",
       "      <th>0</th>\n",
       "      <td>nmann08.184925</td>\n",
       "      <td>nmann08</td>\n",
       "      <td>7820</td>\n",
       "      <td>465</td>\n",
       "      <td>2008-01-07 11:00:00</td>\n",
       "      <td>United States, Washington</td>\n",
       "    </tr>\n",
       "    <tr>\n",
       "      <th>1</th>\n",
       "      <td>stjamesgate.163714</td>\n",
       "      <td>StJamesGate</td>\n",
       "      <td>2521</td>\n",
       "      <td>2504</td>\n",
       "      <td>2007-10-08 10:00:00</td>\n",
       "      <td>United States, New York</td>\n",
       "    </tr>\n",
       "    <tr>\n",
       "      <th>2</th>\n",
       "      <td>mdagnew.19527</td>\n",
       "      <td>mdagnew</td>\n",
       "      <td>1797</td>\n",
       "      <td>1143</td>\n",
       "      <td>2005-05-18 10:00:00</td>\n",
       "      <td>Northern Ireland</td>\n",
       "    </tr>\n",
       "  </tbody>\n",
       "</table>\n",
       "</div>"
      ],
      "text/plain": [
       "                   id         name  nbr_ratings  nbr_reviews  \\\n",
       "0      nmann08.184925      nmann08         7820          465   \n",
       "1  stjamesgate.163714  StJamesGate         2521         2504   \n",
       "2       mdagnew.19527      mdagnew         1797         1143   \n",
       "\n",
       "               joined                   location  \n",
       "0 2008-01-07 11:00:00  United States, Washington  \n",
       "1 2007-10-08 10:00:00    United States, New York  \n",
       "2 2005-05-18 10:00:00           Northern Ireland  "
      ]
     },
     "execution_count": 19,
     "metadata": {},
     "output_type": "execute_result"
    }
   ],
   "source": [
    "# Meta-information on user for first 3 samples\n",
    "reviews[\"user\"].head(3)"
   ]
  },
  {
   "cell_type": "code",
   "execution_count": 20,
   "metadata": {},
   "outputs": [
    {
     "data": {
      "text/html": [
       "<div>\n",
       "<style scoped>\n",
       "    .dataframe tbody tr th:only-of-type {\n",
       "        vertical-align: middle;\n",
       "    }\n",
       "\n",
       "    .dataframe tbody tr th {\n",
       "        vertical-align: top;\n",
       "    }\n",
       "\n",
       "    .dataframe thead th {\n",
       "        text-align: right;\n",
       "    }\n",
       "</style>\n",
       "<table border=\"1\" class=\"dataframe\">\n",
       "  <thead>\n",
       "    <tr style=\"text-align: right;\">\n",
       "      <th></th>\n",
       "      <th>id</th>\n",
       "      <th>name</th>\n",
       "      <th>location</th>\n",
       "      <th>nbr_beers</th>\n",
       "    </tr>\n",
       "  </thead>\n",
       "  <tbody>\n",
       "    <tr>\n",
       "      <th>0</th>\n",
       "      <td>37262</td>\n",
       "      <td>Societe des Brasseries du Gabon (SOBRAGA)</td>\n",
       "      <td>Gabon</td>\n",
       "      <td>1</td>\n",
       "    </tr>\n",
       "    <tr>\n",
       "      <th>1</th>\n",
       "      <td>10093</td>\n",
       "      <td>Strangford Lough Brewing Company Ltd</td>\n",
       "      <td>Northern Ireland</td>\n",
       "      <td>5</td>\n",
       "    </tr>\n",
       "    <tr>\n",
       "      <th>2</th>\n",
       "      <td>10093</td>\n",
       "      <td>Strangford Lough Brewing Company Ltd</td>\n",
       "      <td>Northern Ireland</td>\n",
       "      <td>5</td>\n",
       "    </tr>\n",
       "  </tbody>\n",
       "</table>\n",
       "</div>"
      ],
      "text/plain": [
       "      id                                       name          location  \\\n",
       "0  37262  Societe des Brasseries du Gabon (SOBRAGA)             Gabon   \n",
       "1  10093       Strangford Lough Brewing Company Ltd  Northern Ireland   \n",
       "2  10093       Strangford Lough Brewing Company Ltd  Northern Ireland   \n",
       "\n",
       "   nbr_beers  \n",
       "0          1  \n",
       "1          5  \n",
       "2          5  "
      ]
     },
     "execution_count": 20,
     "metadata": {},
     "output_type": "execute_result"
    }
   ],
   "source": [
    "# Meta-information on brewery for first 3 samples\n",
    "reviews[\"brewery\"].head(3)"
   ]
  },
  {
   "cell_type": "code",
   "execution_count": 21,
   "metadata": {},
   "outputs": [
    {
     "data": {
      "text/html": [
       "<div>\n",
       "<style scoped>\n",
       "    .dataframe tbody tr th:only-of-type {\n",
       "        vertical-align: middle;\n",
       "    }\n",
       "\n",
       "    .dataframe tbody tr th {\n",
       "        vertical-align: top;\n",
       "    }\n",
       "\n",
       "    .dataframe thead th {\n",
       "        text-align: right;\n",
       "    }\n",
       "</style>\n",
       "<table border=\"1\" class=\"dataframe\">\n",
       "  <thead>\n",
       "    <tr style=\"text-align: right;\">\n",
       "      <th></th>\n",
       "      <th>appearance</th>\n",
       "      <th>aroma</th>\n",
       "      <th>palate</th>\n",
       "      <th>taste</th>\n",
       "      <th>overall</th>\n",
       "      <th>rating</th>\n",
       "      <th>text</th>\n",
       "      <th>date</th>\n",
       "    </tr>\n",
       "  </thead>\n",
       "  <tbody>\n",
       "    <tr>\n",
       "      <th>0</th>\n",
       "      <td>3.25</td>\n",
       "      <td>2.75</td>\n",
       "      <td>3.25</td>\n",
       "      <td>2.75</td>\n",
       "      <td>3.0</td>\n",
       "      <td>2.88</td>\n",
       "      <td>From a bottle, pours a piss yellow color with a fizzy white head.  This is carbonated similar to soda.The nose is basic.. malt, corn, a little flo...</td>\n",
       "      <td>2015-08-20 10:00:00</td>\n",
       "    </tr>\n",
       "    <tr>\n",
       "      <th>1</th>\n",
       "      <td>3.00</td>\n",
       "      <td>3.50</td>\n",
       "      <td>3.50</td>\n",
       "      <td>4.00</td>\n",
       "      <td>3.5</td>\n",
       "      <td>3.67</td>\n",
       "      <td>Pours pale copper with a thin head that quickly goes. Caramel, golden syrup nose. Taste is big toasty, grassy hops backed by dark fruit, candy cor...</td>\n",
       "      <td>2009-02-20 11:00:00</td>\n",
       "    </tr>\n",
       "    <tr>\n",
       "      <th>2</th>\n",
       "      <td>4.00</td>\n",
       "      <td>3.50</td>\n",
       "      <td>3.50</td>\n",
       "      <td>4.00</td>\n",
       "      <td>3.5</td>\n",
       "      <td>3.73</td>\n",
       "      <td>500ml Bottle bought from The Vintage, Antrim...Poured a golden yellow / orange colour... White head poured quite thick and foamy and faded to thin...</td>\n",
       "      <td>2006-03-13 11:00:00</td>\n",
       "    </tr>\n",
       "  </tbody>\n",
       "</table>\n",
       "</div>"
      ],
      "text/plain": [
       "   appearance  aroma  palate  taste  overall  rating  \\\n",
       "0        3.25   2.75    3.25   2.75      3.0    2.88   \n",
       "1        3.00   3.50    3.50   4.00      3.5    3.67   \n",
       "2        4.00   3.50    3.50   4.00      3.5    3.73   \n",
       "\n",
       "                                                                                                                                                    text  \\\n",
       "0  From a bottle, pours a piss yellow color with a fizzy white head.  This is carbonated similar to soda.The nose is basic.. malt, corn, a little flo...   \n",
       "1  Pours pale copper with a thin head that quickly goes. Caramel, golden syrup nose. Taste is big toasty, grassy hops backed by dark fruit, candy cor...   \n",
       "2  500ml Bottle bought from The Vintage, Antrim...Poured a golden yellow / orange colour... White head poured quite thick and foamy and faded to thin...   \n",
       "\n",
       "                 date  \n",
       "0 2015-08-20 10:00:00  \n",
       "1 2009-02-20 11:00:00  \n",
       "2 2006-03-13 11:00:00  "
      ]
     },
     "execution_count": 21,
     "metadata": {},
     "output_type": "execute_result"
    }
   ],
   "source": [
    "# Information about review for first 3 samples\n",
    "reviews[\"review\"].head(3)"
   ]
  },
  {
   "cell_type": "markdown",
   "metadata": {},
   "source": [
    "As we see, for each review, we have information on the following features:\n",
    "\n",
    "1. **Review** (`review`): Review Text, Ratings (Appearance, Aroma, Palate,\n",
    "   Taste, Overall, Rating), Date\n",
    "2. **User** (`user`): User ID, User Name, #Ratings, #Reviews, Joined Date,\n",
    "   Location\n",
    "3. **Beer** (`beer`): Beer ID, Beer Name, Beer Style, Beer Substyle, ABV (Alcohol By Volume),\n",
    "   #Ratings, #Reviews\n",
    "4. **Brewery** (`brewery`): Brewery ID, Brewery Name, Location, #Beers\n"
   ]
  },
  {
   "cell_type": "markdown",
   "metadata": {},
   "source": [
    "### Groups\n",
    "\n",
    "In our analysis we want to compute the consensus between the language used in\n",
    "reviews of a) all beers, b) beers of the same style and c) invidual beers. The hypothesis is that the\n",
    "finer-grained the grouping, the higher the consensus between the reviewers.\n",
    "However, for the analysis to be meaningful we need to ensure that there are\n",
    "enough reviews in each group. We therefore compute the number of reviews in each\n",
    "group and plot the distribution of the number of reviews per group.\n"
   ]
  },
  {
   "cell_type": "code",
   "execution_count": 22,
   "metadata": {},
   "outputs": [
    {
     "name": "stdout",
     "output_type": "stream",
     "text": [
      "Number of unique beer styles: 11\n",
      "Number of unique beer substyles: 104\n",
      "Number of unique breweries: 11117\n",
      "Number of unique beers: 141833\n"
     ]
    }
   ],
   "source": [
    "unique_beer_styles = reviews.beer[\"style\"].drop_duplicates()\n",
    "unique_beer_substyles = reviews.beer[\"substyle\"].drop_duplicates()\n",
    "unique_breweries = reviews.brewery.drop_duplicates()\n",
    "unique_beers = reviews.beer.drop_duplicates()\n",
    "\n",
    "print(f\"Number of unique beer styles: {len(unique_beer_styles)}\")\n",
    "print(f\"Number of unique beer substyles: {len(unique_beer_substyles)}\")\n",
    "print(f\"Number of unique breweries: {len(unique_breweries)}\")\n",
    "print(f\"Number of unique beers: {len(unique_beers)}\")"
   ]
  },
  {
   "cell_type": "markdown",
   "metadata": {},
   "source": [
    "We show the sorted number of reviews per beer style, brewery and beer below. The\n",
    "y-axis is log-scaled to better show the distribution and we add a horizontal\n",
    "line to show the minimum number of reviews to `50` per beer style, brewery and\n",
    "beer that we require for our further analysis.\n"
   ]
  },
  {
   "cell_type": "code",
   "execution_count": 25,
   "metadata": {},
   "outputs": [
    {
     "data": {
      "image/png": "[encoded data removed]",
      "text/plain": [
       "<Figure size 2000x500 with 4 Axes>"
      ]
     },
     "metadata": {},
     "output_type": "display_data"
    }
   ],
   "source": [
    "# Compute the number of reviews for each element in each group\n",
    "reviews_per_beer_style = (\n",
    "    reviews.groupby(by=(\"beer\", \"style\")).size().sort_values(ascending=False)\n",
    ")\n",
    "reviews_per_beer_substyle = (\n",
    "    reviews.groupby(by=(\"beer\", \"substyle\")).size().sort_values(ascending=False)\n",
    ")\n",
    "reviews_per_brewery = (\n",
    "    reviews.groupby(by=(\"brewery\", \"id\")).size().sort_values(ascending=False)\n",
    ")\n",
    "reviews_per_beer = (\n",
    "    reviews.groupby(by=(\"beer\", \"id\")).size().sort_values(ascending=False)\n",
    ")\n",
    "\n",
    "# Plot number of reviews per beer style\n",
    "fig, axs = plt.subplots(ncols=4, figsize=(20, 5))\n",
    "for ax, reviews_per_group in zip(\n",
    "    axs, [reviews_per_beer_style, reviews_per_beer_substyle, reviews_per_brewery, reviews_per_beer]\n",
    "):\n",
    "    sns.lineplot(x=range(len(reviews_per_group)), y=reviews_per_group.values, ax=ax)\n",
    "    ax.plot(\n",
    "        [0, len(reviews_per_group)],\n",
    "        [MIN_REVIEWS, MIN_REVIEWS],\n",
    "        linestyle=\"--\",\n",
    "        color=\"black\",\n",
    "    )\n",
    "    a, b = reviews_per_group.index.names[0]\n",
    "    ax.set(\n",
    "        title=f\"#Reviews per {a.capitalize()} {b.capitalize()}\",\n",
    "        xlabel=\"Rank\",\n",
    "        ylabel=\"Counts (Log)\",\n",
    "        yscale=\"log\",\n",
    "    )"
   ]
  },
  {
   "cell_type": "markdown",
   "metadata": {},
   "source": [
    "As we can see, as we narrow down the grouping, the number of reviews per group drops significantly, this is especially apparent for the individual beers. Therefore, before starting our analysis, we will filter out all groups with less than `50` reviews (see Analysis section later)."
   ]
  },
  {
   "cell_type": "markdown",
   "metadata": {},
   "source": [
    "### Reviews Statistics\n",
    "\n",
    "The textual reviews are central to our analysis and we will be using them to\n",
    "extract the taste descriptors. Let's look at some statistics about the reviews\n",
    "to ensure that they are of good quality.\n"
   ]
  },
  {
   "cell_type": "code",
   "execution_count": 26,
   "metadata": {},
   "outputs": [
    {
     "data": {
      "text/html": [
       "<div>\n",
       "<style scoped>\n",
       "    .dataframe tbody tr th:only-of-type {\n",
       "        vertical-align: middle;\n",
       "    }\n",
       "\n",
       "    .dataframe tbody tr th {\n",
       "        vertical-align: top;\n",
       "    }\n",
       "\n",
       "    .dataframe thead th {\n",
       "        text-align: right;\n",
       "    }\n",
       "</style>\n",
       "<table border=\"1\" class=\"dataframe\">\n",
       "  <thead>\n",
       "    <tr style=\"text-align: right;\">\n",
       "      <th></th>\n",
       "      <th>text</th>\n",
       "    </tr>\n",
       "  </thead>\n",
       "  <tbody>\n",
       "    <tr>\n",
       "      <th>0</th>\n",
       "      <td>From a bottle, pours a piss yellow color with a fizzy white head.  This is carbonated similar to soda.The nose is basic.. malt, corn, a little flo...</td>\n",
       "    </tr>\n",
       "    <tr>\n",
       "      <th>1</th>\n",
       "      <td>Pours pale copper with a thin head that quickly goes. Caramel, golden syrup nose. Taste is big toasty, grassy hops backed by dark fruit, candy cor...</td>\n",
       "    </tr>\n",
       "    <tr>\n",
       "      <th>2</th>\n",
       "      <td>500ml Bottle bought from The Vintage, Antrim...Poured a golden yellow / orange colour... White head poured quite thick and foamy and faded to thin...</td>\n",
       "    </tr>\n",
       "    <tr>\n",
       "      <th>3</th>\n",
       "      <td>Serving: 500ml brown bottlePour: Good head with excellent retention and a slight amount of lacing Appearance: Slightly cloudy golden colour. Smell...</td>\n",
       "    </tr>\n",
       "    <tr>\n",
       "      <th>4</th>\n",
       "      <td>500ml bottlePours with a light, slightly hazy golden body, light amber in colour. Slight tan head formsSmell, slight hop aromas, some sweetness co...</td>\n",
       "    </tr>\n",
       "    <tr>\n",
       "      <th>5</th>\n",
       "      <td>This was a 12 oz bottle poured into a snifter.It pours a dark brown with some clarity but not truly transparent. It has a frothy head with mild re...</td>\n",
       "    </tr>\n",
       "    <tr>\n",
       "      <th>6</th>\n",
       "      <td>Poured from a 12 ounce bottle into a pilsner glass.A: A finger of creamy head with clear-dark amber body.S: Rich brown sugar. Malty...T: Slight su...</td>\n",
       "    </tr>\n",
       "    <tr>\n",
       "      <th>7</th>\n",
       "      <td>Beer poured from bottle into a Nonic shaped pint glassA - Beer pours with a dark creme/brownish colored head; about 1/2 finger in size; no lacing;...</td>\n",
       "    </tr>\n",
       "    <tr>\n",
       "      <th>8</th>\n",
       "      <td>Pours a rich brownish red with some chill haze and a big off-white head. Some lace.Some caramel, toffee, butter, and toasted malt. Some burnt suga...</td>\n",
       "    </tr>\n",
       "    <tr>\n",
       "      <th>9</th>\n",
       "      <td>Appearance: These Strangford Lough beers pour very nicely and this one pours a clear copper; while its head is not as impressive as the St. Patric...</td>\n",
       "    </tr>\n",
       "  </tbody>\n",
       "</table>\n",
       "</div>"
      ],
      "text/plain": [
       "                                                                                                                                                    text\n",
       "0  From a bottle, pours a piss yellow color with a fizzy white head.  This is carbonated similar to soda.The nose is basic.. malt, corn, a little flo...\n",
       "1  Pours pale copper with a thin head that quickly goes. Caramel, golden syrup nose. Taste is big toasty, grassy hops backed by dark fruit, candy cor...\n",
       "2  500ml Bottle bought from The Vintage, Antrim...Poured a golden yellow / orange colour... White head poured quite thick and foamy and faded to thin...\n",
       "3  Serving: 500ml brown bottlePour: Good head with excellent retention and a slight amount of lacing Appearance: Slightly cloudy golden colour. Smell...\n",
       "4  500ml bottlePours with a light, slightly hazy golden body, light amber in colour. Slight tan head formsSmell, slight hop aromas, some sweetness co...\n",
       "5  This was a 12 oz bottle poured into a snifter.It pours a dark brown with some clarity but not truly transparent. It has a frothy head with mild re...\n",
       "6  Poured from a 12 ounce bottle into a pilsner glass.A: A finger of creamy head with clear-dark amber body.S: Rich brown sugar. Malty...T: Slight su...\n",
       "7  Beer poured from bottle into a Nonic shaped pint glassA - Beer pours with a dark creme/brownish colored head; about 1/2 finger in size; no lacing;...\n",
       "8  Pours a rich brownish red with some chill haze and a big off-white head. Some lace.Some caramel, toffee, butter, and toasted malt. Some burnt suga...\n",
       "9  Appearance: These Strangford Lough beers pour very nicely and this one pours a clear copper; while its head is not as impressive as the St. Patric..."
      ]
     },
     "execution_count": 26,
     "metadata": {},
     "output_type": "execute_result"
    }
   ],
   "source": [
    "pd.DataFrame(reviews.review.head(10)[\"text\"])"
   ]
  },
  {
   "cell_type": "markdown",
   "metadata": {},
   "source": [
    "We see that this random sample of 10 reviews consists only of reviews that are\n",
    "very detailed and descriptive about the beer and its taste. This suggests that\n",
    "the majority of reviews are of good quality and suited for our analysis.\n",
    "However, we suspect that there might be some meaningless \"spam\" reviews that may\n",
    "skew our results. We will investigate this by checking for outliers in the\n",
    "review length. We use simple proxies for review length, namely the number of\n",
    "words and characters in the review.\n"
   ]
  },
  {
   "cell_type": "code",
   "execution_count": 28,
   "metadata": {},
   "outputs": [
    {
     "data": {
      "text/html": [
       "<div>\n",
       "<style scoped>\n",
       "    .dataframe tbody tr th:only-of-type {\n",
       "        vertical-align: middle;\n",
       "    }\n",
       "\n",
       "    .dataframe tbody tr th {\n",
       "        vertical-align: top;\n",
       "    }\n",
       "\n",
       "    .dataframe thead th {\n",
       "        text-align: right;\n",
       "    }\n",
       "</style>\n",
       "<table border=\"1\" class=\"dataframe\">\n",
       "  <thead>\n",
       "    <tr style=\"text-align: right;\">\n",
       "      <th></th>\n",
       "      <th>count</th>\n",
       "      <th>mean</th>\n",
       "      <th>std</th>\n",
       "      <th>min</th>\n",
       "      <th>25%</th>\n",
       "      <th>50%</th>\n",
       "      <th>75%</th>\n",
       "      <th>max</th>\n",
       "    </tr>\n",
       "  </thead>\n",
       "  <tbody>\n",
       "    <tr>\n",
       "      <th>Character Lengths</th>\n",
       "      <td>2400935.0</td>\n",
       "      <td>679.421069</td>\n",
       "      <td>409.546961</td>\n",
       "      <td>42.0</td>\n",
       "      <td>405.0</td>\n",
       "      <td>582.0</td>\n",
       "      <td>836.0</td>\n",
       "      <td>5129.0</td>\n",
       "    </tr>\n",
       "    <tr>\n",
       "      <th>Word Lengths</th>\n",
       "      <td>2400935.0</td>\n",
       "      <td>118.655135</td>\n",
       "      <td>72.274044</td>\n",
       "      <td>1.0</td>\n",
       "      <td>70.0</td>\n",
       "      <td>102.0</td>\n",
       "      <td>146.0</td>\n",
       "      <td>967.0</td>\n",
       "    </tr>\n",
       "  </tbody>\n",
       "</table>\n",
       "</div>"
      ],
      "text/plain": [
       "                       count        mean         std   min    25%    50%  \\\n",
       "Character Lengths  2400935.0  679.421069  409.546961  42.0  405.0  582.0   \n",
       "Word Lengths       2400935.0  118.655135   72.274044   1.0   70.0  102.0   \n",
       "\n",
       "                     75%     max  \n",
       "Character Lengths  836.0  5129.0  \n",
       "Word Lengths       146.0   967.0  "
      ]
     },
     "execution_count": 28,
     "metadata": {},
     "output_type": "execute_result"
    },
    {
     "data": {
      "image/png": "[encoded data removed]",
      "text/plain": [
       "<Figure size 2000x500 with 2 Axes>"
      ]
     },
     "metadata": {},
     "output_type": "display_data"
    }
   ],
   "source": [
    "# Compute character and word lengths of reviews\n",
    "character_lengths = reviews.review.text.str.len()\n",
    "word_lengths = reviews.review.text.apply(lambda x: len(x.split()))\n",
    "\n",
    "# Distribution of the number of ratings/ reviews per user\n",
    "fig, ax = plt.subplots(ncols=2, figsize=(20, 5))\n",
    "sns.histplot(x=character_lengths, kde=True, ax=ax[0])\n",
    "sns.histplot(x=word_lengths, kde=True, ax=ax[1])\n",
    "\n",
    "character_lengths_stats = character_lengths.describe()\n",
    "word_lengths_stats = word_lengths.describe()\n",
    "\n",
    "ax[0].set(\n",
    "    title=\"Distribution of Character Lengths in Reviews\",\n",
    "    xlabel=\"Character Length\",\n",
    "    ylabel=\"Frequency\",\n",
    ")\n",
    "ax[1].set(\n",
    "    title=\"Distribution of Word Lengths in Reviews\",\n",
    "    xlabel=\"Word Lengths\",\n",
    "    ylabel=\"Frequency\",\n",
    ")\n",
    "\n",
    "# Show summary statistics\n",
    "pd.DataFrame(\n",
    "    [character_lengths_stats, word_lengths_stats],\n",
    "    index=[\"Character Lengths\", \"Word Lengths\"],\n",
    ")"
   ]
  },
  {
   "cell_type": "markdown",
   "metadata": {},
   "source": [
    "We see that most reviews are around **~408 characters** and **~123 words** long.\n",
    "There is a slight right-skew in the distribution, meaning that there are some\n",
    "very long reviews. The very short reviews are probably not very helpful for our\n",
    "analysis as the numeric representation will not be meaningful. Let's look at\n",
    "those reviews to see if further processing is required. Let's start with \n",
    "showing the shortest 0.1% of reviews (by character count):\n"
   ]
  },
  {
   "cell_type": "code",
   "execution_count": 31,
   "metadata": {},
   "outputs": [
    {
     "data": {
      "text/html": [
       "<div>\n",
       "<style scoped>\n",
       "    .dataframe tbody tr th:only-of-type {\n",
       "        vertical-align: middle;\n",
       "    }\n",
       "\n",
       "    .dataframe tbody tr th {\n",
       "        vertical-align: top;\n",
       "    }\n",
       "\n",
       "    .dataframe thead tr th {\n",
       "        text-align: left;\n",
       "    }\n",
       "</style>\n",
       "<table border=\"1\" class=\"dataframe\">\n",
       "  <thead>\n",
       "    <tr>\n",
       "      <th></th>\n",
       "      <th colspan=\"2\" halign=\"left\">beer</th>\n",
       "      <th>user</th>\n",
       "      <th colspan=\"3\" halign=\"left\">review</th>\n",
       "    </tr>\n",
       "    <tr>\n",
       "      <th></th>\n",
       "      <th>name</th>\n",
       "      <th>style</th>\n",
       "      <th>name</th>\n",
       "      <th>rating</th>\n",
       "      <th>text</th>\n",
       "      <th>date</th>\n",
       "    </tr>\n",
       "  </thead>\n",
       "  <tbody>\n",
       "    <tr>\n",
       "      <th>1761184</th>\n",
       "      <td>Electric Boots</td>\n",
       "      <td>Other</td>\n",
       "      <td>KVNBGRY</td>\n",
       "      <td>4.23</td>\n",
       "      <td>Hazy, nice lacing, almost no head.  &amp;quot;</td>\n",
       "      <td>2016-08-23 10:00:00</td>\n",
       "    </tr>\n",
       "    <tr>\n",
       "      <th>1695155</th>\n",
       "      <td>Focal Banger India Pale Ale</td>\n",
       "      <td>India Pale Ales (IPAs)</td>\n",
       "      <td>Skrat45</td>\n",
       "      <td>5.00</td>\n",
       "      <td>I might like this better than heady I can't decide</td>\n",
       "      <td>2017-01-18 11:00:00</td>\n",
       "    </tr>\n",
       "    <tr>\n",
       "      <th>1105687</th>\n",
       "      <td>Original Honey Brown Extra Rich Lager (Beer Brewed With Honey)</td>\n",
       "      <td>Other</td>\n",
       "      <td>transitionbikes93</td>\n",
       "      <td>4.17</td>\n",
       "      <td>Cold weather is approaching central Virginia, as with such darker beer</td>\n",
       "      <td>2015-10-18 10:00:00</td>\n",
       "    </tr>\n",
       "    <tr>\n",
       "      <th>93839</th>\n",
       "      <td>Khevsuruli</td>\n",
       "      <td>Pale Lagers and Pilsners</td>\n",
       "      <td>AlexAfonin</td>\n",
       "      <td>2.80</td>\n",
       "      <td>ывв фыфффффффффффффффффффффффффффффффффффффффффффффффффффффффффффффффффффффф</td>\n",
       "      <td>2016-05-18 10:00:00</td>\n",
       "    </tr>\n",
       "    <tr>\n",
       "      <th>2356801</th>\n",
       "      <td>Colomba</td>\n",
       "      <td>Wheat Beers</td>\n",
       "      <td>chenyan</td>\n",
       "      <td>2.84</td>\n",
       "      <td>浅金黄色，呈现半透明的云雾状，泡沫细腻，但不持久，轻微挂壁。气味清爽，苦甜交加。沙口感，有明显酸味、苦味，余味苦。沙口感过后呈现奶油般的顺滑口感。整体上麦芽香味不明显。</td>\n",
       "      <td>2016-01-16 11:00:00</td>\n",
       "    </tr>\n",
       "    <tr>\n",
       "      <th>...</th>\n",
       "      <td>...</td>\n",
       "      <td>...</td>\n",
       "      <td>...</td>\n",
       "      <td>...</td>\n",
       "      <td>...</td>\n",
       "      <td>...</td>\n",
       "    </tr>\n",
       "    <tr>\n",
       "      <th>378040</th>\n",
       "      <td>Polar Pilsen</td>\n",
       "      <td>Other</td>\n",
       "      <td>SteenLarsen</td>\n",
       "      <td>1.78</td>\n",
       "      <td>Tried it on location. Looks like beer allright, has some head , but the closest to tap water you can get in a beer bottle. Hardly no malt or hop t...</td>\n",
       "      <td>2015-02-13 11:00:00</td>\n",
       "    </tr>\n",
       "    <tr>\n",
       "      <th>1732877</th>\n",
       "      <td>Irish Stout</td>\n",
       "      <td>Stouts and Porters</td>\n",
       "      <td>arvidkoval</td>\n",
       "      <td>4.16</td>\n",
       "      <td>Pours a nice black with a solid tan head. Smells roasty and sweet. Tastes like coffee, chocolate, with a burnt finish. Quite creamy. Great Irish s...</td>\n",
       "      <td>2015-01-22 11:00:00</td>\n",
       "    </tr>\n",
       "    <tr>\n",
       "      <th>563985</th>\n",
       "      <td>Beatification</td>\n",
       "      <td>Hybrid and Experimental Beers</td>\n",
       "      <td>VABA</td>\n",
       "      <td>5.00</td>\n",
       "      <td>An incredible beer! I wish I could get a hold of this in my neck of the woods! I will be back to Russian River Brewpub to enjoy it again in the fu...</td>\n",
       "      <td>2015-10-30 11:00:00</td>\n",
       "    </tr>\n",
       "    <tr>\n",
       "      <th>2042449</th>\n",
       "      <td>Renewale - 2013 Extra Special Bitter</td>\n",
       "      <td>Bitters and English Ales</td>\n",
       "      <td>stevoj</td>\n",
       "      <td>3.61</td>\n",
       "      <td>Excellent bitter, on tap at Payette. Perfect hops bitterness. short and sharp/ Amber body with thin foamy head. Would fit right in at a British pu...</td>\n",
       "      <td>2016-03-18 11:00:00</td>\n",
       "    </tr>\n",
       "    <tr>\n",
       "      <th>1471561</th>\n",
       "      <td>Zombie Dust</td>\n",
       "      <td>Pale Ales</td>\n",
       "      <td>laketang</td>\n",
       "      <td>4.43</td>\n",
       "      <td>Great all around apa, super mouth feel, copper color, smell the hops, hurray to three floydsexcellent example of the apa style if not the best exa...</td>\n",
       "      <td>2015-07-18 10:00:00</td>\n",
       "    </tr>\n",
       "  </tbody>\n",
       "</table>\n",
       "<p>2400 rows × 6 columns</p>\n",
       "</div>"
      ],
      "text/plain": [
       "                                                                   beer  \\\n",
       "                                                                   name   \n",
       "1761184                                                  Electric Boots   \n",
       "1695155                                     Focal Banger India Pale Ale   \n",
       "1105687  Original Honey Brown Extra Rich Lager (Beer Brewed With Honey)   \n",
       "93839                                                        Khevsuruli   \n",
       "2356801                                                         Colomba   \n",
       "...                                                                 ...   \n",
       "378040                                                     Polar Pilsen   \n",
       "1732877                                                     Irish Stout   \n",
       "563985                                                    Beatification   \n",
       "2042449                            Renewale - 2013 Extra Special Bitter   \n",
       "1471561                                                     Zombie Dust   \n",
       "\n",
       "                                                     user review  \\\n",
       "                                 style               name rating   \n",
       "1761184                          Other            KVNBGRY   4.23   \n",
       "1695155         India Pale Ales (IPAs)            Skrat45   5.00   \n",
       "1105687                          Other  transitionbikes93   4.17   \n",
       "93839         Pale Lagers and Pilsners         AlexAfonin   2.80   \n",
       "2356801                    Wheat Beers            chenyan   2.84   \n",
       "...                                ...                ...    ...   \n",
       "378040                           Other        SteenLarsen   1.78   \n",
       "1732877             Stouts and Porters         arvidkoval   4.16   \n",
       "563985   Hybrid and Experimental Beers               VABA   5.00   \n",
       "2042449       Bitters and English Ales             stevoj   3.61   \n",
       "1471561                      Pale Ales           laketang   4.43   \n",
       "\n",
       "                                                                                                                                                                \\\n",
       "                                                                                                                                                          text   \n",
       "1761184                                                                                                             Hazy, nice lacing, almost no head.  &quot;   \n",
       "1695155                                                                                                     I might like this better than heady I can't decide   \n",
       "1105687                                                                                 Cold weather is approaching central Virginia, as with such darker beer   \n",
       "93839                                                                             ывв фыфффффффффффффффффффффффффффффффффффффффффффффффффффффффффффффффффффффф   \n",
       "2356801                                                                   浅金黄色，呈现半透明的云雾状，泡沫细腻，但不持久，轻微挂壁。气味清爽，苦甜交加。沙口感，有明显酸味、苦味，余味苦。沙口感过后呈现奶油般的顺滑口感。整体上麦芽香味不明显。   \n",
       "...                                                                                                                                                        ...   \n",
       "378040   Tried it on location. Looks like beer allright, has some head , but the closest to tap water you can get in a beer bottle. Hardly no malt or hop t...   \n",
       "1732877  Pours a nice black with a solid tan head. Smells roasty and sweet. Tastes like coffee, chocolate, with a burnt finish. Quite creamy. Great Irish s...   \n",
       "563985   An incredible beer! I wish I could get a hold of this in my neck of the woods! I will be back to Russian River Brewpub to enjoy it again in the fu...   \n",
       "2042449  Excellent bitter, on tap at Payette. Perfect hops bitterness. short and sharp/ Amber body with thin foamy head. Would fit right in at a British pu...   \n",
       "1471561  Great all around apa, super mouth feel, copper color, smell the hops, hurray to three floydsexcellent example of the apa style if not the best exa...   \n",
       "\n",
       "                             \n",
       "                       date  \n",
       "1761184 2016-08-23 10:00:00  \n",
       "1695155 2017-01-18 11:00:00  \n",
       "1105687 2015-10-18 10:00:00  \n",
       "93839   2016-05-18 10:00:00  \n",
       "2356801 2016-01-16 11:00:00  \n",
       "...                     ...  \n",
       "378040  2015-02-13 11:00:00  \n",
       "1732877 2015-01-22 11:00:00  \n",
       "563985  2015-10-30 11:00:00  \n",
       "2042449 2016-03-18 11:00:00  \n",
       "1471561 2015-07-18 10:00:00  \n",
       "\n",
       "[2400 rows x 6 columns]"
      ]
     },
     "execution_count": 31,
     "metadata": {},
     "output_type": "execute_result"
    }
   ],
   "source": [
    "n = int(len(reviews) * 0.001)\n",
    "character_sorted = list(character_lengths.sort_values().index.values)\n",
    "shortest_character_length_reviews = reviews.loc[character_sorted]\n",
    "\n",
    "shortest_reviews_char = shortest_character_length_reviews[[(\"beer\", \"name\"), (\"beer\", \"style\"), (\"user\", \"name\"), (\"review\", \"rating\"), (\"review\", \"text\"), (\"review\", \"date\")]].head(n)\n",
    "\n",
    "shortest_reviews_char"
   ]
  },
  {
   "cell_type": "markdown",
   "metadata": {},
   "source": [
    "Further, let's also show the shortest 0.1% of reviews (by word count):"
   ]
  },
  {
   "cell_type": "code",
   "execution_count": 30,
   "metadata": {},
   "outputs": [
    {
     "data": {
      "text/html": [
       "<div>\n",
       "<style scoped>\n",
       "    .dataframe tbody tr th:only-of-type {\n",
       "        vertical-align: middle;\n",
       "    }\n",
       "\n",
       "    .dataframe tbody tr th {\n",
       "        vertical-align: top;\n",
       "    }\n",
       "\n",
       "    .dataframe thead tr th {\n",
       "        text-align: left;\n",
       "    }\n",
       "</style>\n",
       "<table border=\"1\" class=\"dataframe\">\n",
       "  <thead>\n",
       "    <tr>\n",
       "      <th></th>\n",
       "      <th colspan=\"2\" halign=\"left\">beer</th>\n",
       "      <th>user</th>\n",
       "      <th colspan=\"3\" halign=\"left\">review</th>\n",
       "    </tr>\n",
       "    <tr>\n",
       "      <th></th>\n",
       "      <th>name</th>\n",
       "      <th>style</th>\n",
       "      <th>name</th>\n",
       "      <th>rating</th>\n",
       "      <th>text</th>\n",
       "      <th>date</th>\n",
       "    </tr>\n",
       "  </thead>\n",
       "  <tbody>\n",
       "    <tr>\n",
       "      <th>2296532</th>\n",
       "      <td>Maredsous 8 - Brune</td>\n",
       "      <td>Belgian and French Ales</td>\n",
       "      <td>Jordiehowe</td>\n",
       "      <td>4.67</td>\n",
       "      <td>onetwothreefourfivesixseveneightnineteneleventwelvethirteenfourteenfifteensixteenseventeeneighteennineteentwentywhydoIhavetowriteareviewofatleast2...</td>\n",
       "      <td>2014-03-10 11:00:00</td>\n",
       "    </tr>\n",
       "    <tr>\n",
       "      <th>2356801</th>\n",
       "      <td>Colomba</td>\n",
       "      <td>Wheat Beers</td>\n",
       "      <td>chenyan</td>\n",
       "      <td>2.84</td>\n",
       "      <td>浅金黄色，呈现半透明的云雾状，泡沫细腻，但不持久，轻微挂壁。气味清爽，苦甜交加。沙口感，有明显酸味、苦味，余味苦。沙口感过后呈现奶油般的顺滑口感。整体上麦芽香味不明显。</td>\n",
       "      <td>2016-01-16 11:00:00</td>\n",
       "    </tr>\n",
       "    <tr>\n",
       "      <th>2336148</th>\n",
       "      <td>Hoegaarden Original White Ale</td>\n",
       "      <td>Wheat Beers</td>\n",
       "      <td>chenyan</td>\n",
       "      <td>4.22</td>\n",
       "      <td>在瓶中呈现雾状，有酵母漂浮。倒入杯中为稻草黄色，半透明，白色泡沫细腻、较持久。果香味浓郁、混杂酵母味、香料味，略微有点烤肉味。中度酒体，较为平衡，辛辣明显，舌上能感受到酒精或碳酸口感的持久刺激。余味干爽，特点鲜明，是一款能让人记住的酒。</td>\n",
       "      <td>2016-01-16 11:00:00</td>\n",
       "    </tr>\n",
       "    <tr>\n",
       "      <th>2093510</th>\n",
       "      <td>Vulgar Display Of Power</td>\n",
       "      <td>Stouts and Porters</td>\n",
       "      <td>ColSanders</td>\n",
       "      <td>5.00</td>\n",
       "      <td>\\m/Walk.............................................................................................................................................</td>\n",
       "      <td>2016-04-21 10:00:00</td>\n",
       "    </tr>\n",
       "    <tr>\n",
       "      <th>93839</th>\n",
       "      <td>Khevsuruli</td>\n",
       "      <td>Pale Lagers and Pilsners</td>\n",
       "      <td>AlexAfonin</td>\n",
       "      <td>2.80</td>\n",
       "      <td>ывв фыфффффффффффффффффффффффффффффффффффффффффффффффффффффффффффффффффффффф</td>\n",
       "      <td>2016-05-18 10:00:00</td>\n",
       "    </tr>\n",
       "    <tr>\n",
       "      <th>...</th>\n",
       "      <td>...</td>\n",
       "      <td>...</td>\n",
       "      <td>...</td>\n",
       "      <td>...</td>\n",
       "      <td>...</td>\n",
       "      <td>...</td>\n",
       "    </tr>\n",
       "    <tr>\n",
       "      <th>1962253</th>\n",
       "      <td>Java Chip Mint Stout</td>\n",
       "      <td>Stouts and Porters</td>\n",
       "      <td>Davepoolesque</td>\n",
       "      <td>3.50</td>\n",
       "      <td>Mint, bitter dark chocolate, espresso, coffee, peppermint and roasted malt. Light bodied. Good carb. Very short, slightly watery finish. Some odd ...</td>\n",
       "      <td>2016-05-31 10:00:00</td>\n",
       "    </tr>\n",
       "    <tr>\n",
       "      <th>1022474</th>\n",
       "      <td>Nirvana IPA</td>\n",
       "      <td>India Pale Ales (IPAs)</td>\n",
       "      <td>Davepoolesque</td>\n",
       "      <td>3.98</td>\n",
       "      <td>Tangerine, orange zest, melon and grapefruit pith. Earthy, sweet malt backbone. Floral and clean. Short bitter finish. It's pretty good mass produ...</td>\n",
       "      <td>2016-10-25 10:00:00</td>\n",
       "    </tr>\n",
       "    <tr>\n",
       "      <th>1679745</th>\n",
       "      <td>Pernicious IPA</td>\n",
       "      <td>India Pale Ales (IPAs)</td>\n",
       "      <td>ryanhooks81</td>\n",
       "      <td>4.34</td>\n",
       "      <td>poured golden, yellow from growler. 2 months old, but still delicious. huge pine, pineapple and mango  aromas. still great carbonation. medium-lig...</td>\n",
       "      <td>2015-09-09 10:00:00</td>\n",
       "    </tr>\n",
       "    <tr>\n",
       "      <th>1756759</th>\n",
       "      <td>Happy Hermit Pale Ale</td>\n",
       "      <td>Pale Ales</td>\n",
       "      <td>DrMullet</td>\n",
       "      <td>3.53</td>\n",
       "      <td>Pours a medium yellow gold color.   Smell is moderate citrus hops and pineapple.    Taste has some grapefruit and lemon.    Hoppy but not overpowe...</td>\n",
       "      <td>2016-05-29 10:00:00</td>\n",
       "    </tr>\n",
       "    <tr>\n",
       "      <th>47293</th>\n",
       "      <td>Golden Chalice</td>\n",
       "      <td>Bitters and English Ales</td>\n",
       "      <td>vinicole</td>\n",
       "      <td>3.27</td>\n",
       "      <td>Golden yellow. Thin but lasting head.Distant aroma of hop.Light tangerine tasting hop with muted malt. Good balance.Quite fizzy.A reasonable but u...</td>\n",
       "      <td>2015-07-21 10:00:00</td>\n",
       "    </tr>\n",
       "  </tbody>\n",
       "</table>\n",
       "<p>2400 rows × 6 columns</p>\n",
       "</div>"
      ],
      "text/plain": [
       "                                  beer                            \\\n",
       "                                  name                     style   \n",
       "2296532            Maredsous 8 - Brune   Belgian and French Ales   \n",
       "2356801                        Colomba               Wheat Beers   \n",
       "2336148  Hoegaarden Original White Ale               Wheat Beers   \n",
       "2093510        Vulgar Display Of Power        Stouts and Porters   \n",
       "93839                       Khevsuruli  Pale Lagers and Pilsners   \n",
       "...                                ...                       ...   \n",
       "1962253           Java Chip Mint Stout        Stouts and Porters   \n",
       "1022474                    Nirvana IPA    India Pale Ales (IPAs)   \n",
       "1679745                 Pernicious IPA    India Pale Ales (IPAs)   \n",
       "1756759          Happy Hermit Pale Ale                 Pale Ales   \n",
       "47293                   Golden Chalice  Bitters and English Ales   \n",
       "\n",
       "                  user review  \\\n",
       "                  name rating   \n",
       "2296532     Jordiehowe   4.67   \n",
       "2356801        chenyan   2.84   \n",
       "2336148        chenyan   4.22   \n",
       "2093510     ColSanders   5.00   \n",
       "93839       AlexAfonin   2.80   \n",
       "...                ...    ...   \n",
       "1962253  Davepoolesque   3.50   \n",
       "1022474  Davepoolesque   3.98   \n",
       "1679745    ryanhooks81   4.34   \n",
       "1756759       DrMullet   3.53   \n",
       "47293         vinicole   3.27   \n",
       "\n",
       "                                                                                                                                                                \\\n",
       "                                                                                                                                                          text   \n",
       "2296532  onetwothreefourfivesixseveneightnineteneleventwelvethirteenfourteenfifteensixteenseventeeneighteennineteentwentywhydoIhavetowriteareviewofatleast2...   \n",
       "2356801                                                                   浅金黄色，呈现半透明的云雾状，泡沫细腻，但不持久，轻微挂壁。气味清爽，苦甜交加。沙口感，有明显酸味、苦味，余味苦。沙口感过后呈现奶油般的顺滑口感。整体上麦芽香味不明显。   \n",
       "2336148                                 在瓶中呈现雾状，有酵母漂浮。倒入杯中为稻草黄色，半透明，白色泡沫细腻、较持久。果香味浓郁、混杂酵母味、香料味，略微有点烤肉味。中度酒体，较为平衡，辛辣明显，舌上能感受到酒精或碳酸口感的持久刺激。余味干爽，特点鲜明，是一款能让人记住的酒。   \n",
       "2093510   \\m/Walk.............................................................................................................................................   \n",
       "93839                                                                             ывв фыфффффффффффффффффффффффффффффффффффффффффффффффффффффффффффффффффффффф   \n",
       "...                                                                                                                                                        ...   \n",
       "1962253  Mint, bitter dark chocolate, espresso, coffee, peppermint and roasted malt. Light bodied. Good carb. Very short, slightly watery finish. Some odd ...   \n",
       "1022474  Tangerine, orange zest, melon and grapefruit pith. Earthy, sweet malt backbone. Floral and clean. Short bitter finish. It's pretty good mass produ...   \n",
       "1679745  poured golden, yellow from growler. 2 months old, but still delicious. huge pine, pineapple and mango  aromas. still great carbonation. medium-lig...   \n",
       "1756759  Pours a medium yellow gold color.   Smell is moderate citrus hops and pineapple.    Taste has some grapefruit and lemon.    Hoppy but not overpowe...   \n",
       "47293    Golden yellow. Thin but lasting head.Distant aroma of hop.Light tangerine tasting hop with muted malt. Good balance.Quite fizzy.A reasonable but u...   \n",
       "\n",
       "                             \n",
       "                       date  \n",
       "2296532 2014-03-10 11:00:00  \n",
       "2356801 2016-01-16 11:00:00  \n",
       "2336148 2016-01-16 11:00:00  \n",
       "2093510 2016-04-21 10:00:00  \n",
       "93839   2016-05-18 10:00:00  \n",
       "...                     ...  \n",
       "1962253 2016-05-31 10:00:00  \n",
       "1022474 2016-10-25 10:00:00  \n",
       "1679745 2015-09-09 10:00:00  \n",
       "1756759 2016-05-29 10:00:00  \n",
       "47293   2015-07-21 10:00:00  \n",
       "\n",
       "[2400 rows x 6 columns]"
      ]
     },
     "execution_count": 30,
     "metadata": {},
     "output_type": "execute_result"
    }
   ],
   "source": [
    "n = int(len(reviews) * 0.001)\n",
    "words_sorted = list(word_lengths.sort_values().index.values)\n",
    "shortest_word_length_reviews = reviews.loc[words_sorted]\n",
    "\n",
    "shortest_reviews_word = shortest_word_length_reviews[[(\"beer\", \"name\"), (\"beer\", \"style\"), (\"user\", \"name\"), (\"review\", \"rating\"), (\"review\", \"text\"), (\"review\", \"date\")]].head(n)\n",
    "\n",
    "shortest_reviews_word"
   ]
  },
  {
   "cell_type": "markdown",
   "metadata": {},
   "source": [
    "Upon inspecting the shortest reviews, we can see that most of the shortest\n",
    "reviews by character count are actually regular reviews that are just short.\n",
    "However, in the reviews with very little words we can see some \"spam\" reviews\n",
    "that are not very helpful for our analysis. It is likely that our extractors are\n",
    "going to struggle with these kinds of reviews. Therefore, again, we will filter\n",
    "out all reviews with less than `MIN_WORDS` words (see Analysis section later).\n"
   ]
  },
  {
   "cell_type": "markdown",
   "metadata": {},
   "source": [
    "## Components\n",
    "\n",
    "---\n"
   ]
  },
  {
   "cell_type": "markdown",
   "metadata": {},
   "source": [
    "### Extractors\n",
    "\n",
    "Before we embed reviews into a numerical representation, we preprocess them\n",
    "using different **extractors modules**. For this project, we have considered the\n",
    "following method:\n",
    "\n",
    "(1) `DummyExtractor`: This is a dummy extractor that does not do any\n",
    "preprocessing. It simply returns the input text as is.\n",
    "\n",
    "(2) `LemmaExtractor`: Tokenizes the text and then uses only _lemmas_ of the\n",
    "extracted tokens. A lemma is the base form of a word. For example, the lemma of\n",
    "**was** is **be**. Thus, the `LemmaExtractor` might be thougt of as a text\n",
    "normaliser which maps all tokens to the normalised space.\n",
    "\n",
    "(3) `AdjectiveExtractor`: As the name suggests, extract tokens which were\n",
    "classified by `spaCy` as **adjectives**.\n",
    "\n",
    "(4) `StopWordExtractor`: Removes common words with no semantic value, this implemantaion also uses lemmatization."
   ]
  },
  {
   "cell_type": "code",
   "execution_count": null,
   "metadata": {},
   "outputs": [],
   "source": [
    "# Define all extractor models\n",
    "extractor_models: list[extractors.ExtractorBase] = [\n",
    "    extractors.DummyExtractor(),\n",
    "    extractors.LemmaExtractor(),\n",
    "    extractors.AdjectiveExtractor(),\n",
    "    extractors.StopwordExtractor()\n",
    "]"
   ]
  },
  {
   "cell_type": "markdown",
   "metadata": {},
   "source": [
    "We want to understand the behaviour of each of the extractors in detail. To do\n",
    "this, we process an example review.\n"
   ]
  },
  {
   "cell_type": "code",
   "execution_count": null,
   "metadata": {},
   "outputs": [],
   "source": [
    "# Define demo review\n",
    "demo_review = \"\"\"Pours with a frothy head then settles to a thin head with thin lacing. \n",
    "Transparent. Golden to bronze in color. Dry grains. \n",
    "Light notes of citrus - orange. Pilsner-esque. Very light malt sweetness - caramel. \n",
    "Moves to a dry hoppy-ness. Light bodied. Dry. Somewhat chalky. Meh. \n",
    "Just average. Not one I would suggest to a friend, but thank for the organic \n",
    "ingredients.\n",
    "\"\"\"\n",
    "\n",
    "# Preprocess the example with Spacy\n",
    "processed_demo_review = [NLP(demo_review)]"
   ]
  },
  {
   "cell_type": "code",
   "execution_count": null,
   "metadata": {},
   "outputs": [],
   "source": [
    "# Run the extractors against the example\n",
    "transformed_all = []\n",
    "for extractor in extractor_models:\n",
    "    transformed_example = extractor.transform(processed_demo_review)\n",
    "    transformed_all.append(transformed_example[0])"
   ]
  },
  {
   "cell_type": "markdown",
   "metadata": {},
   "source": [
    "Starting with the `DummyExtractor`, we can use it as a reference baseline for\n",
    "the other two extractors.\n"
   ]
  },
  {
   "cell_type": "code",
   "execution_count": null,
   "metadata": {},
   "outputs": [],
   "source": [
    "print(\"DummyExtractor:\\n\", transformed_all[0].strip())"
   ]
  },
  {
   "cell_type": "markdown",
   "metadata": {},
   "source": [
    "Let's look at the `LemmaExtractor` next.\n"
   ]
  },
  {
   "cell_type": "code",
   "execution_count": null,
   "metadata": {},
   "outputs": [],
   "source": [
    "print(\"LemmaExtractor\\n\", transformed_all[1].strip())"
   ]
  },
  {
   "cell_type": "markdown",
   "metadata": {},
   "source": [
    "As the text below shows, `LemmaExtractor` has normalised the words to their base\n",
    "form (lemma), a couple of examples:\n",
    "\n",
    "(1) `grains` -> `grain` (get rid of the plural form)\n",
    "\n",
    "(2) `settles` -> `settle` (remove `s` from the he/she/it form)\n",
    "\n",
    "(3) `bodied` -> `body` (stem form)\n",
    "\n",
    "Apart from the lemmatisation, we can also see that how `spaCy` tokenizes the\n",
    "text. In particular, it treats punctuation marks as separate tokens. For\n",
    "example, `.` is a separate token.\n"
   ]
  },
  {
   "cell_type": "markdown",
   "metadata": {},
   "source": [
    "Now, we run the `AdjectiveExtractor` on the example review.\n"
   ]
  },
  {
   "cell_type": "code",
   "execution_count": null,
   "metadata": {},
   "outputs": [],
   "source": [
    "print(\"AdjectiveExtractor\\n\", transformed_all[2].strip())"
   ]
  },
  {
   "cell_type": "markdown",
   "metadata": {},
   "source": [
    "Finally, looking at the `AdjectiveExtractor`, we can see that it strips the text\n",
    "to only adjectives, thereby potentially losing some useful information. On the\n",
    "other hand, for the purposes of our analysis, this might be in fact useful as we\n",
    "only want our embeddings be based on the descriptive words related to beer and\n",
    "avoid the noise.\n"
   ]
  },
  {
   "cell_type": "markdown",
   "metadata": {},
   "source": [
    "Finnaly, we we run `StopWordExtractor` with lemmatisation on the example review."
   ]
  },
  {
   "cell_type": "code",
   "execution_count": null,
   "metadata": {},
   "outputs": [],
   "source": [
    "print(\"StopwordExtractor\\n\", transformed_all[3].strip())"
   ]
  },
  {
   "cell_type": "markdown",
   "metadata": {},
   "source": [
    "The StopwordExtractor eliminates common stopwords and lemmatizes the remaining text. This approach is chosen for our analysis as it filters out irrelevant words while retaining meaningful non-adjective terms, like **caramel**.\n",
    "\n"
   ]
  },
  {
   "cell_type": "markdown",
   "metadata": {},
   "source": [
    "Now, we will run the extractors against the reviews and show the word frequency\n",
    "and the 10 most frequent words for each extractor.\n"
   ]
  },
  {
   "cell_type": "code",
   "execution_count": null,
   "metadata": {},
   "outputs": [],
   "source": [
    "# We map the list of docs to the list of preprocessed strings\n",
    "extracted_reviews = [\n",
    "    extractor.transform(reviews.review.doc) for extractor in extractor_models\n",
    "]\n",
    "frequencies = [utils.get_word_frequency(text) for text in extracted_reviews]\n",
    "\n",
    "# Plot the word frequency of top-10 words for each extractor\n",
    "fig, axes = plt.subplots(1, 4, figsize=(12, 5))\n",
    "for ax, freq, extractor in zip(axes, frequencies, extractor_models):\n",
    "    sns.barplot(x=\"frequency\", y=\"word\", data=freq.head(10), ax=ax)\n",
    "    ax.set_title(extractor.name)\n",
    "    ax.set_xlabel(\"Word Frequency\")\n",
    "    ax.set_ylabel(\"Word\")\n",
    "\n",
    "plt.tight_layout()"
   ]
  },
  {
   "cell_type": "markdown",
   "metadata": {},
   "source": [
    "In summary, each of the extractors works as expected. Given the manual\n",
    "inspection of the extraction process, we hypothesise that the\n",
    "`StopWordRemover` with lemmatization is the most suitable one for our task because the extracs both adjectives and other nouns that are relevant for a description of a beer.\n",
    "\n"
   ]
  },
  {
   "cell_type": "markdown",
   "metadata": {},
   "source": [
    "### Embedders\n",
    "\n",
    "We need an embedding module to turn the extracted information from the reviews\n",
    "into a numeric representation. Let's go over how each one works.\n",
    "\n",
    "- CountEmbeddors uses sklearn's\n",
    "  [CountVectorizer](https://scikit-learn.org/stable/modules/generated/sklearn.feature_extraction.text.CountVectorizer.html).\n",
    "  Count vectorisation simply assigns each word in the vocabulary to a variable\n",
    "  in the feature vector, and the values are the counts of each word.\n",
    "\n",
    "- TFIDF is similar to CountVectorizer, but also multiplies by an 'inverse\n",
    "  document frequency' term. This weights a word in the vocabular by how\n",
    "  frequently it appears in the corpus. Very common words are penalised, and\n",
    "  rarer words are given more weight. This also uses sklearn's\n",
    "  [TFIDFVectorizer](https://scikit-learn.org/stable/modules/generated/sklearn.feature_extraction.text.TfidfVectorizer.html).\n",
    "  This is done using the following formula:\n",
    "\n",
    "$$w_{i,j} = tf_{i,j} \\times \\frac{N}{df_i}$$\n",
    "\n",
    "where $w_{i,j}$ denotes the TFIDF of the $i$ th term in review $j$, $tf_{i,j}$\n",
    "is the 'term frequency' (the count vectorization) of term $i$ in review $j$, $N$\n",
    "is the total number of reviews and $df_i$ is the 'document frequency' of term\n",
    "$i$ i.e. the number of documents in which $i$ appears. This second half of the\n",
    "equation corresponds to the 'inverse document frequency' (IDF) of TFIDF.\n",
    "\n",
    "- BERTEmbeddor uses `bert-base-uncased`\n",
    "  [from HuggingFace](https://huggingface.co/bert-base-uncased). BERT is a\n",
    "  bidirectional encoder-only transformer. There are many options for extracting\n",
    "  embeddings from the model since there are 12 layers, and an embbedding for\n",
    "  each token input. Currently, the implementation takes the penultimate hidden\n",
    "  state of the model and takes the mean across all tokens in the input (see\n",
    "  [this guide](https://mccormickml.com/2019/05/14/BERT-word-embeddings-tutorial/)).\n",
    "\n",
    "- SentenceTransformerEmbeddor uses the recommended `all-MiniLM-L6-v2` model from\n",
    "  the `sentence-transformers`\n",
    "  [library](<(https://www.sbert.net/docs/pretrained_models.html)>). These models\n",
    "  take outputs from BERT, conduct pooling similar to above (e.g. by default,\n",
    "  mean of last layer), and are trained on various sentence-related NLP problems\n",
    "  using\n",
    "  [Siamese networks](https://towardsdatascience.com/a-friendly-introduction-to-siamese-networks-85ab17522942).\n"
   ]
  },
  {
   "cell_type": "markdown",
   "metadata": {},
   "source": [
    "Let's initialize the embedder models and run them first on some dummy reviews\n",
    "and then a small sample of the actual reviews.\n"
   ]
  },
  {
   "cell_type": "code",
   "execution_count": null,
   "metadata": {},
   "outputs": [],
   "source": [
    "# Initalise embedders\n",
    "embedding_models: list[embedders.EmbedderBase] = [\n",
    "    embedders.CountEmbedder(),\n",
    "    embedders.TfidfEmbedder(sparse_output=False),\n",
    "    embedders.BertEmbedder(),\n",
    "    embedders.SentenceTransformerEmbedder(),\n",
    "]"
   ]
  },
  {
   "cell_type": "markdown",
   "metadata": {},
   "source": [
    "First, we compute the cosine similary between the first sentence and each\n",
    "subsequent sentence for each of the embedding models.\n"
   ]
  },
  {
   "cell_type": "code",
   "execution_count": null,
   "metadata": {},
   "outputs": [],
   "source": [
    "# Create a dataframe with some sample reviews\n",
    "embedder_demo = pd.DataFrame(\n",
    "    {\n",
    "        \"text\": [\n",
    "            \"The beer is nice, with sweet nutty flavours\",\n",
    "            \"This is a very different sentence\",\n",
    "            \"Not sweet enough. I like my beer sweet. \",\n",
    "            \"Not sweet at all. Terrible beer. \",\n",
    "            \"Not sweet at all. But I like bitter beers so it is a nice beer. \",\n",
    "            \"Piss yellow beer\",\n",
    "            \"Sweet beer\",\n",
    "        ]\n",
    "    }\n",
    ")\n",
    "\n",
    "# Initialise results dataframe\n",
    "results = pd.DataFrame(\n",
    "    index=[model.name for model in embedding_models],\n",
    "    columns=[f\"Similarity {i}\" for i in range(1, len(embedder_demo))],\n",
    ")\n",
    "\n",
    "# Compute the similarity between the first and the nth sentence\n",
    "for i in range(1, len(embedder_demo)):\n",
    "    for model in embedding_models:\n",
    "        similarity = utils.compute_similarity(\n",
    "            model, embedder_demo[\"text\"][0], embedder_demo[\"text\"][i]\n",
    "        )\n",
    "        results.loc[model.name, f\"Similarity {i}\"] = similarity\n",
    "\n",
    "print(\"Similarity between first and nth sentence:\")\n",
    "results.head()"
   ]
  },
  {
   "cell_type": "markdown",
   "metadata": {},
   "source": [
    "Here we can see the obvious pitfall of using CountVectorizer and TFIDF - they\n",
    "lose all context. Sentences 3 and 4 would ideally have the lowest similairty\n",
    "with sentence 1 since they are opposite in meaning. However, these samples all\n",
    "use the same words which Count and TFIDF interpret as therefore being similar.\n",
    "If, during the pipeline, we were to group beers by some measure that affects\n",
    "their sweetness, then in order to confirm out hypothesis we would like to see an\n",
    "increase of similarity inside each group, but we may lower similarity due to\n",
    "negations.\n",
    "\n",
    "However, BERT and SentenceTransformers are not necessarily better. The values\n",
    "are far less interpretable, with sentence embeddor falling for a similar\n",
    "negation trap since similarities 3 and 4 are higher than 7. Interestingly,\n",
    "SentenceTransformer was far better than BERT at differentiating between\n",
    "sentences on different topic matters (similarity 2). BERT's scores are all\n",
    "broadly similar, and roughly gets the order in line what we might expect, but we\n",
    "have little faith that this translates any better than sentence transformer to\n",
    "the real reviews since these little samples play into BERT's context-aware\n",
    "strengths.\n",
    "\n",
    "However, for now, we will try to make conclusions using tf-idf. It is the most\n",
    "interpretable (we can get out the most impactful words at the end), and so long\n",
    "as there are enough reviews that are long enough, we should see a meaningful\n",
    "vocabulary emerge. If the tfidf embeddings seem to be limiting us in the future,\n",
    "we can experiment with other methods.\n"
   ]
  },
  {
   "cell_type": "markdown",
   "metadata": {},
   "source": [
    "Now let's try with some real sample reviews.\n"
   ]
  },
  {
   "cell_type": "code",
   "execution_count": null,
   "metadata": {},
   "outputs": [],
   "source": [
    "# Create a dataframe with some sample reviews\n",
    "embedder_sample = pd.DataFrame(\n",
    "    {\"text\": reviews.sample(4, random_state=0).review.text.values.tolist()}\n",
    ")\n",
    "\n",
    "# Initialise results dataframe\n",
    "results = pd.DataFrame(\n",
    "    index=[model.name for model in embedding_models],\n",
    "    columns=[f\"Similarity {i}\" for i in range(1, len(embedder_sample))],\n",
    ")\n",
    "\n",
    "# Compute the similarity between the first and the nth sentence\n",
    "for i in range(1, len(embedder_sample)):\n",
    "    for model in embedding_models:\n",
    "        similarity = utils.compute_similarity(\n",
    "            model, embedder_sample[\"text\"][0], embedder_sample[\"text\"][i]\n",
    "        )\n",
    "        results.loc[model.name, f\"Similarity {i}\"] = similarity\n",
    "\n",
    "print(\"Similarity between first and nth sentence:\")\n",
    "results.head()"
   ]
  },
  {
   "cell_type": "markdown",
   "metadata": {},
   "source": [
    "Unsurprisinlgy, Count and TFIDF agree on ordering of similarity. However, BERT\n",
    "and SentenceTransformer disagree both with this ordering and each other. BERT is\n",
    "the less 'sure', with very high and close values, as in the previous example.\n",
    "\n",
    "Reading the reviews, it's very hard to define what the ordering _should_ be,\n",
    "therefore it is hard to define which embedder has done a better job in this\n",
    "sample. Further investigation will be carried out for P3.\n"
   ]
  },
  {
   "cell_type": "markdown",
   "metadata": {},
   "source": [
    "## Analysis\n",
    "\n",
    "---\n",
    "\n"
   ]
  },
  {
   "cell_type": "markdown",
   "metadata": {},
   "source": [
    "Due to the large size of the dataset, we will now load precomputed embeddings of all of the reviews. These embeddings were computed using the `StopWordExtractor` and `TFIDFEmbeddor`. How to get this data is explained in the [Reporduce](./REPRODUCE.md) file.\n"
   ]
  },
  {
   "cell_type": "code",
   "execution_count": null,
   "metadata": {},
   "outputs": [],
   "source": [
    "# Load all reviews and emebddings\n",
    "reviews_all = utils.load_data(PROCESSED_DIR, None, False, None)\n",
    "embeddings_all = utils.load_embeddings(PROCESSED_DIR, None)  # sparse matrix\n",
    "vocab = utils.load_vocab(PROCESSED_DIR)\n",
    "assert len(reviews_all) == embeddings_all.shape[0]\n",
    "print(f\"✅ Loaded {len(reviews_all)} reviews and embeddings.\")\n",
    "\n",
    "# Filter out beer styles with less than MIN_REVIEWS reviews\n",
    "embeddings_all, reviews_all = utils.filter_data(\n",
    "    embeddings_all, reviews_all, MIN_REVIEWS, MAX_REVIEWS, MIN_WORDS\n",
    ")  # Add min words filter\n",
    "assert len(reviews_all) == embeddings_all.shape[0]\n",
    "print(f\"✅ Filtered {len(reviews_all)} reviews and embeddings.\")\n",
    "\n",
    "# Shuffle the embeddings to prove that the effect isn't random\n",
    "if SHUFFLE_REVIEWS:\n",
    "    random_indices = np.random.permutation(embeddings_all.shape[0])\n",
    "    embeddings_all = embeddings_all[random_indices]\n",
    "    print(f\"✅ Shuffled embeddings.\")"
   ]
  },
  {
   "cell_type": "markdown",
   "metadata": {},
   "source": [
    "### Embedding visualisation\n",
    "Here we chose manually three disinct beer styles that we will use to visualise the embeddings. From each of these styles we picked one of its most popular representatives from at each level of aggregation. "
   ]
  },
  {
   "cell_type": "code",
   "execution_count": null,
   "metadata": {},
   "outputs": [],
   "source": [
    "# Hand picked styles\n",
    "styles = [\"Specialty Beers\", \"Stouts and Porters\", \"Pale Lagers and Pilsners\"]\n",
    "\n",
    "# Representative substyles for each style\n",
    "substyle = [\n",
    "    \"Fruit / Vegetable Beer\",\n",
    "    \"American Double / Imperial Stout\",\n",
    "    \"German Pilsener\",\n",
    "]\n",
    "\n",
    "# Representative beers for each substyle\n",
    "beers = [\n",
    "    \"Samuel Adams Cherry Wheat\",\n",
    "    \"Founders KBS (Kentucky Breakfast Stout)\",\n",
    "    \"Prima Pils\",\n",
    "]\n",
    "groups = [styles, substyle, beers]\n",
    "aggregators = [(\"beer\", \"style\"), (\"beer\", \"substyle\"), (\"beer\", \"name\")]"
   ]
  },
  {
   "cell_type": "markdown",
   "metadata": {},
   "source": [
    "Let's understand the embeddings a bit better by plotting them in 2D using SVD. Other methods such as t-SNE are too computationally expensive to run on the full dataset but produce nicer plots. `TruncatedSVD` is very fast on sparse matrices, but it only distinguishes clusters along the directions of the highest singular values or their combinations. Therefore, it cannot distinguish many styles or subtle variations within the data."
   ]
  },
  {
   "cell_type": "code",
   "execution_count": null,
   "metadata": {},
   "outputs": [],
   "source": [
    "# Embed into 2 dimensions\n",
    "svd = TruncatedSVD(n_components=2, n_iter=10, random_state=42)\n",
    "reduced_embeddings = svd.fit_transform(embeddings_all)\n",
    "reduced_embeddings.shape"
   ]
  },
  {
   "cell_type": "code",
   "execution_count": null,
   "metadata": {},
   "outputs": [],
   "source": [
    "# Setup consistent colors for each group\n",
    "n = len(groups)\n",
    "colors = sns.color_palette(\"husl\", n_colors=n)\n",
    "group_colors = [dict(zip(group, colors)) for group in groups]"
   ]
  },
  {
   "cell_type": "code",
   "execution_count": null,
   "metadata": {},
   "outputs": [],
   "source": [
    "fig, axs = plt.subplots(ncols=len(aggregators), figsize=(5 * len(aggregators), 5))\n",
    "fig.tight_layout(pad=0)\n",
    "\n",
    "for i, (ax, agg, group) in enumerate(zip(axs, aggregators, groups)):\n",
    "    subset = reviews_all[reviews_all[agg].isin(group)]\n",
    "\n",
    "    colors = group_colors[i]\n",
    "    visualise.embeddings(\n",
    "        title=f\"By {agg[1].capitalize()}\",\n",
    "        embeddings=reduced_embeddings,\n",
    "        hue=reviews_all[agg],\n",
    "        subset=subset.index,\n",
    "        plot_type=\"kde\",\n",
    "        fill=True,\n",
    "        alpha=0.5,\n",
    "        plot_legend=True,\n",
    "        ax=ax,\n",
    "        color_palette=colors,\n",
    "        sns_config=light_config,\n",
    "    )"
   ]
  },
  {
   "cell_type": "markdown",
   "metadata": {},
   "source": [
    "Here we plot the same thing just as a scatter plot 💔"
   ]
  },
  {
   "cell_type": "code",
   "execution_count": null,
   "metadata": {},
   "outputs": [],
   "source": [
    "fig, axs = plt.subplots(ncols=len(aggregators), figsize=(5 * len(aggregators), 5))\n",
    "fig.tight_layout(pad=0)\n",
    "for i, (ax, agg, group) in enumerate(zip(axs, aggregators, groups)):\n",
    "    # Filter out all reviews that are not in the group\n",
    "    subset = reviews_all[reviews_all[agg].isin(group)]\n",
    "\n",
    "    # Normalize the number of reviews per group to the smallest group\n",
    "    min_number_samples = subset.groupby(agg).size().min()\n",
    "    subset = subset.groupby(agg).sample(n=min_number_samples, random_state=SEED)\n",
    "\n",
    "    cmap = sns.cubehelix_palette(start=0, light=1, as_cmap=True)\n",
    "    visualise.embeddings(\n",
    "        title=f\"By {agg[1].capitalize()}\",\n",
    "        embeddings=reduced_embeddings,\n",
    "        hue=reviews_all[agg],\n",
    "        subset=subset.index,\n",
    "        plot_type=\"scatter\",\n",
    "        # fill=True,\n",
    "        alpha=0.2,\n",
    "        color_palette=group_colors[i],\n",
    "        plot_legend=False,\n",
    "        ax=ax,\n",
    "        sns_config=light_config,\n",
    "    )"
   ]
  },
  {
   "cell_type": "markdown",
   "metadata": {},
   "source": [
    "### Consensus\n",
    "#### Overview\n",
    "In this section, we initialize the consensus models to quantify the agreement or similarity within groups of data. This is crucial for understanding the patterns and trends in our dataset."
   ]
  },
  {
   "cell_type": "markdown",
   "metadata": {},
   "source": [
    "#### Similarity metrics\n",
    "\n",
    "We mainly used cosine similarity to measure the similarity between the reviews. However, we also tried other metrics such as KL divergence, JS divergence and Pearson correlation. "
   ]
  },
  {
   "cell_type": "code",
   "execution_count": null,
   "metadata": {},
   "outputs": [],
   "source": [
    "# Initialise the consensus models\n",
    "consensus: ConsensusBase\n",
    "if METRIC == \"cosine\":\n",
    "    consensus = CosineSimilarity()\n",
    "elif METRIC == \"kl\":\n",
    "    consensus = KullbackLeiblerDivergence()\n",
    "elif METRIC == \"js\":\n",
    "    consensus = JensenShannonDivergence()\n",
    "elif METRIC == \"correlation\":\n",
    "    consensus = Correlation()\n",
    "else:\n",
    "    raise ValueError(f\"Unknown metric {METRIC}\")\n",
    "print(f\"✅ Using {type(consensus).__name__} consensus.\")"
   ]
  },
  {
   "cell_type": "markdown",
   "metadata": {},
   "source": [
    "#### Initializing Aggregators\n",
    "To facilitate the analysis of consensus within different beer categories, we initialize aggregator classes. These aggregators will help us group the data by different levels such as beer name, style, substyle, and overall general category."
   ]
  },
  {
   "cell_type": "code",
   "execution_count": null,
   "metadata": {},
   "outputs": [],
   "source": [
    "# Initialise the aggregators\n",
    "beer_aggregator = EmbeddingAggregator(\n",
    "    embeddings_all, reviews_all, consensus, (\"beer\", \"name\")\n",
    ")\n",
    "style_aggregator = EmbeddingAggregator(\n",
    "    embeddings_all, reviews_all, consensus, (\"beer\", \"style\")\n",
    ")\n",
    "substyle_aggregator = EmbeddingAggregator(\n",
    "    embeddings_all, reviews_all, consensus, (\"beer\", \"substyle\")\n",
    ")\n",
    "gereral_aggregator = EmbeddingAggregator(embeddings_all, reviews_all, consensus, None)\n",
    "\n",
    "print(f\"ℹ️ Beer groups: {len(beer_aggregator.groups)}\")\n",
    "print(f\"ℹ️ Style groups: {len(style_aggregator.groups)}\")\n",
    "print(f\"ℹ️ Substyle groups: {len(substyle_aggregator.groups)}\")\n",
    "print(f\"ℹ️ General groups: {len(gereral_aggregator.groups)}\")"
   ]
  },
  {
   "cell_type": "markdown",
   "metadata": {},
   "source": [
    "Let's perform a detailed statistical analysis on the consensus distributions for each category. Please note, this process is time-intensive and is expected to take approximately `15 minutes`. The analysis proceeds as follows: For each hierarchical level of data aggregation – encompassing the overall beer category, specific beer styles, substyles, and individual beers – we select either the maximum number of samples defined by `MAX_SAMPLES` or the actual number of reviews available for that category. Next, we calculate the consensus matrix for these data points, utilizing the designated `METRIC`. Finally, we determine the average pairwise similarity for these groups and record the results in the `consensus_df`."
   ]
  },
  {
   "cell_type": "code",
   "execution_count": null,
   "metadata": {},
   "outputs": [],
   "source": [
    "# Make a nice df\n",
    "levels = [\"General\", \"Style\", \"Substyle\", \"Beer\"]\n",
    "consensus_levels = [\n",
    "    gereral_aggregator,\n",
    "    style_aggregator,\n",
    "    substyle_aggregator,\n",
    "    beer_aggregator,\n",
    "]\n",
    "MAX_SAMPLES = 10000\n",
    "consensus_df = []\n",
    "for level, consensus_level in zip(levels, consensus_levels):\n",
    "    for group in tqdm(consensus_level.groups, desc=f\"Processing Group {level}\"):\n",
    "        con = consensus_level.get_consensus_distribution(\n",
    "            group, max_samples=MAX_SAMPLES\n",
    "        ).mean()\n",
    "\n",
    "        consensus_df.append(\n",
    "            {\n",
    "                \"Level\": level,\n",
    "                \"group\": group,\n",
    "                \"Consensus Score\": con,\n",
    "            }\n",
    "        )\n",
    "        dis = consensus_level.get_embeddings_by_group(group).mean(axis=0)\n",
    "\n",
    "consensus_df = pd.DataFrame(consensus_df)\n",
    "print(f\"️✅ Created consensus dataframe of shape {consensus_df.shape}.\")"
   ]
  },
  {
   "cell_type": "markdown",
   "metadata": {},
   "source": [
    "Here we display the mean average of the individual means of each group. The Number of samples increases with the level of aggregation."
   ]
  },
  {
   "cell_type": "code",
   "execution_count": null,
   "metadata": {},
   "outputs": [],
   "source": [
    "# Sort by levels list\n",
    "level_stats = consensus_df.groupby(by=[\"Level\"]).describe().reindex(levels, level=0)\n",
    "level_stats"
   ]
  },
  {
   "cell_type": "markdown",
   "metadata": {},
   "source": [
    "While the consensus score does not change a lot, the mean consensus across\n",
    "all groups increases with increasing specificity of the grouping. This is promising\n",
    "for confirming our hypothesis that language used differs between beer types.\n"
   ]
  },
  {
   "cell_type": "code",
   "execution_count": null,
   "metadata": {},
   "outputs": [],
   "source": [
    "# Plot distributions of mean consensus scores\n",
    "fig, axs = plt.subplots(ncols=2, figsize=(20, 6))\n",
    "fig.suptitle(\"Distribution Shift\", fontsize=16)\n",
    "sns.set(**light_config)\n",
    "# Boxplot of consensus scores per level\n",
    "sns.boxplot(\n",
    "    data=consensus_df[consensus_df[\"Level\"] != \"General\"],\n",
    "    x=\"Level\",\n",
    "    y=\"Consensus Score\",\n",
    "    hue=\"Level\",\n",
    "    order=levels[1:],\n",
    "    showfliers=False,\n",
    "    palette=\"CMRmap\",\n",
    "    ax=axs[0],\n",
    ")\n",
    "\n",
    "# Distplot of consensus scores per level\n",
    "sns.histplot(\n",
    "    data=consensus_df[consensus_df[\"Level\"] != \"General\"],\n",
    "    x=\"Consensus Score\",\n",
    "    hue=\"Level\",\n",
    "    stat=\"probability\",\n",
    "    kde=True,\n",
    "    fill=True,\n",
    "    common_norm=False,\n",
    "    palette=\"CMRmap\",\n",
    "    ax=axs[1],\n",
    ")\n",
    "leg = axs[1].get_legend()\n",
    "leg.set_frame_on(True)\n",
    "leg.get_frame().set_alpha(0)\n",
    "\n",
    "print(f\"✅ Plotted distribution of all consensus scores in levels.\")"
   ]
  },
  {
   "cell_type": "markdown",
   "metadata": {},
   "source": [
    "### Statistical Tests\n",
    "\n",
    "We pefrom a statistical test with the null hypothesis that the average consensus scores in each level of grouping are the same. We use the ANOVA test to test this hypothesis at the 1% significance level. We have different number of samples in each group, so we use the type 2 ANOVA test which is more robust to unequal sample sizes. [Post about differnet types of ANOVA](https://www.r-bloggers.com/2011/03/anova-%e2%80%93-type-iiiiii-ss-explained/)"
   ]
  },
  {
   "cell_type": "code",
   "execution_count": null,
   "metadata": {},
   "outputs": [],
   "source": [
    "# We first need to fit an OLS model\n",
    "model = ols(\"Q('Consensus Score') ~ C(Level)\", data=consensus_df).fit()\n",
    "anova_table = sm.stats.anova_lm(model, typ=2)\n",
    "anova_table"
   ]
  },
  {
   "cell_type": "code",
   "execution_count": null,
   "metadata": {},
   "outputs": [],
   "source": [
    "print(\n",
    "    f\"The test statistic is {anova_table.iloc[0]['F']:.2f} and the p-value is {anova_table.iloc[0]['PR(>F)']:.2f}.\"\n",
    ")"
   ]
  },
  {
   "cell_type": "markdown",
   "metadata": {},
   "source": [
    "We see that the p-value is very small, so we reject the null hypothesis and conclude that the average consensus scores in each level of grouping are not the same. This is promising for confirming our hypothesis that language used differs between beer types."
   ]
  },
  {
   "cell_type": "markdown",
   "metadata": {},
   "source": [
    "We double check that this insn't a result of the methodology means were computed by re-running the whole notebook with `SHUFFLE=True`. Now we should get a large p value and fail to reject the null hypothesis."
   ]
  },
  {
   "cell_type": "markdown",
   "metadata": {},
   "source": [
    "We would also like to know which `Levels` are significantly different from each other. We use Tukey's HSD test to test this hypothesis at the 1% significance level. We see that only the **Beer** to **Substyle** and **Beer** to **Style** comparisons are significantly different. "
   ]
  },
  {
   "cell_type": "code",
   "execution_count": null,
   "metadata": {},
   "outputs": [],
   "source": [
    "turkey_results = pairwise_tukeyhsd(\n",
    "    consensus_df[\"Consensus Score\"], consensus_df[\"Level\"], alpha=0.01\n",
    ")\n",
    "turkey_results.summary()"
   ]
  },
  {
   "cell_type": "markdown",
   "metadata": {},
   "source": [
    "### Layman's Guide to the Beer Lexicon\n",
    "\n",
    "---"
   ]
  },
  {
   "cell_type": "code",
   "execution_count": null,
   "metadata": {},
   "outputs": [],
   "source": [
    "# Compute the average\n",
    "M = embeddings_all.mean(axis=0)\n",
    "average_embedding = np.squeeze(np.asarray(M))\n",
    "\n",
    "# Select top K\n",
    "top_k = 10\n",
    "top_k_embeddings = np.argsort(average_embedding)[::-1][:top_k]\n",
    "top_k_features = vocab[top_k_embeddings]\n",
    "\n",
    "# Plot the top K features\n",
    "visualise.interpretation_barplot(\n",
    "    y=top_k_features,\n",
    "    x=average_embedding[top_k_embeddings],\n",
    "    title=f\"Top {top_k} Features\",\n",
    "    xlabel=\"Average Embedding\",\n",
    "    ylabel=\"Feature\",\n",
    "    image_path=IMAGES_PATH,\n",
    "    image_name=\"top_k_features_overall\",\n",
    "    seaborn_cfgs=[SEABORN_CONFIGS[0]]\n",
    ")"
   ]
  },
  {
   "cell_type": "code",
   "execution_count": null,
   "metadata": {},
   "outputs": [],
   "source": [
    "styles = reviews[('beer', 'style')].unique()\n",
    "n_styles = len(styles)\n",
    "\n",
    "for i, style in enumerate(styles[:n_styles]):\n",
    "\n",
    "    # Select all reviews for the style\n",
    "    style_reviews = reviews_all[reviews_all[('beer', 'style')] == style]\n",
    "\n",
    "    # Compute the average\n",
    "    M = embeddings_all[style_reviews.index].mean(axis=0)\n",
    "    style_embedding = np.squeeze(np.asarray(M))\n",
    "\n",
    "    # Select top K\n",
    "    top_k_embeddings = np.argsort(style_embedding)[::-1][:top_k]\n",
    "    top_k_features = vocab[top_k_embeddings]\n",
    "\n",
    "    # Plot the top K features\n",
    "    visualise.interpretation_barplot(\n",
    "        y=top_k_features,\n",
    "        x=style_embedding[top_k_embeddings],\n",
    "        title=f\"Top {top_k} Features for {style}\",\n",
    "        xlabel=\"Average Embedding\",\n",
    "        ylabel=\"Feature\",\n",
    "        image_path=os.path.join(IMAGES_PATH, \"top_k_features_by_style\"),\n",
    "        image_name=f\"top_k_features_{style}\",\n",
    "        seaborn_cfgs=[SEABORN_CONFIGS[0]],\n",
    "        save=False,\n",
    "        plot=True\n",
    "    )"
   ]
  },
  {
   "cell_type": "code",
   "execution_count": null,
   "metadata": {},
   "outputs": [],
   "source": [
    "for i, style in enumerate(styles[:n_styles]):\n",
    "\n",
    "    # Select all reviews for the style\n",
    "    style_reviews = reviews_all[reviews_all[('beer', 'style')] == style]\n",
    "    rest_reviews = reviews_all[reviews_all[('beer', 'style')] != style]\n",
    "\n",
    "    M_style = embeddings_all[style_reviews.index].mean(axis=0)\n",
    "    style_embedding = np.squeeze(np.asarray(M_style))\n",
    "\n",
    "    M_rest = embeddings_all[rest_reviews.index].mean(axis=0)\n",
    "    rest_embedding = np.squeeze(np.asarray(M_rest))\n",
    "    \n",
    "    # Take the difference between the style embedding and the rest embedding\n",
    "    style_diff = style_embedding - rest_embedding\n",
    "\n",
    "    # Get the top 10 features for the absolute difference\n",
    "    top_k_embeddings = np.argsort(np.abs(style_diff))[::-1][:top_k]\n",
    "    top_k_features = vocab[top_k_embeddings]\n",
    "\n",
    "    # Plot the top 10 differences in features for the style\n",
    "    visualise.interpretation_barplot(\n",
    "        y=top_k_features,\n",
    "        x=style_diff[top_k_embeddings],\n",
    "        title=f\"Top {top_k} Features for {style}\",\n",
    "        xlabel=\"Average Embedding\",\n",
    "        ylabel=\"Feature\",\n",
    "        image_path=os.path.join(IMAGES_PATH, \"top_k_features_by_style_diff\"),\n",
    "        image_name=f\"top_k_features_{style}\",\n",
    "        seaborn_cfgs=[SEABORN_CONFIGS[0]],\n",
    "        save=False,\n",
    "        plot=True\n",
    "    )"
   ]
  }
 ],
 "metadata": {
  "kernelspec": {
   "display_name": "std",
   "language": "python",
   "name": "python3"
  },
  "language_info": {
   "codemirror_mode": {
    "name": "ipython",
    "version": 3
   },
   "file_extension": ".py",
   "mimetype": "text/x-python",
   "name": "python",
   "nbconvert_exporter": "python",
   "pygments_lexer": "ipython3",
   "version": "3.10.11"
  }
 },
 "nbformat": 4,
 "nbformat_minor": 2
}
