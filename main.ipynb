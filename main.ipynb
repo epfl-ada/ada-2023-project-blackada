{
 "cells": [
  {
   "cell_type": "markdown",
   "metadata": {},
   "source": [
    "# Unlocking the Palate - Evaluating Taste Consensus Among Beer Reviewers\n",
    "\n",
    "Group: **BlackAda** (Ludek Cizinsky, Peter Nutter, Pierre Lardet, Chrisitan Bastin  and Mika Senghaas)\n",
    "\n",
    "## Introduction\n",
    "\n",
    "---\n",
    "\n",
    "Navigating the world of beer reviews can be a daunting task for non-experts. Beer aficionados often describe brews as having nuanced flavors such as \"grassy notes\" and \"biscuity/ crackery malt,\" with hints of \"hay.\" But do these descriptions reflect the actual tasting experience? Following a \"wisdom-of-the-crowd\" approach, a descriptor can be considered meaningful if many, independent reviewers use similar descriptors for a beer's taste. To quantify consensus, we use natural language processing techniques to extract descriptors of a beer's taste and numerically represent these descriptors to compute similarity or consensus scores. The consensus scores between beer reviews will unveil whether there is a shared understanding of taste among beer geeks."
   ]
  },
  {
   "cell_type": "markdown",
   "metadata": {},
   "source": [
    "## Dependencies\n",
    "\n",
    "---\n",
    "\n",
    "We load the dependencies required for this project to run."
   ]
  },
  {
   "cell_type": "code",
   "execution_count": 2,
   "metadata": {},
   "outputs": [],
   "source": [
    "# Enable continuous module reloading\n",
    "%load_ext autoreload\n",
    "%autoreload 1\n",
    "\n",
    "# Standard library"
   ]
  },
  {
   "cell_type": "markdown",
   "metadata": {},
   "source": [
    "## Data\n",
    "\n",
    "---\n",
    "\n"
   ]
  },
  {
   "cell_type": "code",
   "execution_count": null,
   "metadata": {},
   "outputs": [],
   "source": [
    "# TODO"
   ]
  }
 ],
 "metadata": {
  "kernelspec": {
   "display_name": "std",
   "language": "python",
   "name": "python3"
  },
  "language_info": {
   "codemirror_mode": {
    "name": "ipython",
    "version": 3
   },
   "file_extension": ".py",
   "mimetype": "text/x-python",
   "name": "python",
   "nbconvert_exporter": "python",
   "pygments_lexer": "ipython3",
   "version": "3.10.10"
  }
 },
 "nbformat": 4,
 "nbformat_minor": 2
}
