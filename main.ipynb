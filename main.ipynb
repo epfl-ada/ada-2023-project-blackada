{
 "cells": [
  {
   "cell_type": "markdown",
   "metadata": {},
   "source": [
    "# Unlocking the Palate - Evaluating Taste Consensus Among Beer Reviewers\n",
    "\n",
    "---\n",
    "\n",
    "Group [**BlackAda**](https://en.wikipedia.org/wiki/Blackadder)\n",
    "\n",
    "> - Ludek Cizinsky ([ludek.cizinsky@epfl.ch](ludek.cizinsky@epfl.ch))\n",
    "> - Peter Nutter ([peter.nutter@epfl.ch](peter@nutter@epfl.ch))\n",
    "> - Pierre Lardet ([pierre.lardet@epfl.ch](pierre@lardet@epfl.ch))\n",
    "> - Christopher Bastin ([christopher.bastin@epfl.ch](christian@bastin@epfl.ch))\n",
    "> - Mika Senghaas ([mika.senghaas@epfl.ch](mika@senghaas@epfl.ch))\n",
    "\n",
    "📣 Note to TA for P2 *This notebook runs a preliminary analysis on a subset of 10.000 reviews for computational efficiency. We attempt to show the feasibility and correctness of implementation for the entire pipeline. Running the analysis on the full dataset requires only to unset the `SUBSAMPLE` flag.**"
   ]
  },
  {
   "cell_type": "markdown",
   "metadata": {},
   "source": [
    "## Introduction\n",
    "\n",
    "---\n",
    "\n",
    "Navigating the world of beer reviews can be a daunting task for non-experts. Beer aficionados often describe brews as having nuanced flavors such as \"grassy notes\" and \"biscuity/ crackery malt,\" with hints of \"hay.\" But do these descriptions reflect the actual tasting experience? Following a \"wisdom-of-the-crowd\" approach, a descriptor can be considered meaningful if many, independent reviewers use similar descriptors for a beer's taste. To quantify consensus, we use natural language processing techniques to extract descriptors of a beer's taste and numerically represent these descriptors to compute similarity or consensus scores. The consensus scores between beer reviews will unveil whether there is a shared understanding of taste among beer geeks."
   ]
  },
  {
   "cell_type": "markdown",
   "metadata": {},
   "source": [
    "## Dependencies\n",
    "\n",
    "---\n",
    "\n",
    "We load the dependencies required for this project to run."
   ]
  },
  {
   "cell_type": "code",
   "execution_count": 1,
   "metadata": {},
   "outputs": [],
   "source": [
    "# Enable continuous module reloading\n",
    "%load_ext autoreload\n",
    "%autoreload 1\n",
    "%aimport src\n",
    "\n",
    "# Standard library\n",
    "import os\n",
    "\n",
    "# External library\n",
    "import matplotlib.pyplot as plt\n",
    "from tqdm import tqdm\n",
    "import seaborn as sns\n",
    "import pandas as pd\n",
    "import numpy as np\n",
    "import spacy\n",
    "\n",
    "# Custom modules\n",
    "from src import utils\n",
    "from src import extractors\n",
    "from src import embedders\n",
    "from src import consensus\n",
    "from src import pipeline"
   ]
  },
  {
   "cell_type": "markdown",
   "metadata": {},
   "source": [
    "And set some global variables."
   ]
  },
  {
   "cell_type": "code",
   "execution_count": 2,
   "metadata": {},
   "outputs": [],
   "source": [
    "# Plotting settings\n",
    "colorstyle = \"RdBu\"\n",
    "sns.set_style('dark')\n",
    "sns.set_palette(colorstyle)\n",
    "\n",
    "# Pandas settings\n",
    "pd.options.display.max_colwidth = 150 \n",
    "\n",
    "# \n",
    "nlp = spacy.load(\"en_core_web_sm\")\n",
    "\n",
    "# URL for the full dataset\n",
    "DATA_URL = \"https://drive.google.com/u/2/uc?id=1IqcAJtYrDB1j40rBY5M-PGp6KNX-E3xq&export=download\"\n",
    "\n",
    "# Subsetting options\n",
    "SUBSET = True\n",
    "NUM_SUBSET_SAMPLES = 10_000\n",
    "\n",
    "# Paths\n",
    "ROOT_DIR = os.getcwd()\n",
    "DATA_DIR = os.path.join(ROOT_DIR, \"data\")\n",
    "\n",
    "# Random seed\n",
    "SEED = 42\n",
    "\n",
    "# Ensure data directory exists\n",
    "os.makedirs(DATA_DIR, exist_ok=True)"
   ]
  },
  {
   "cell_type": "markdown",
   "metadata": {},
   "source": [
    "## Data\n",
    "\n",
    "---\n",
    "\n",
    "We will be working with the beer review data from the [BeerAdvocate](https://www.beeradvocate.com/) platform. \n"
   ]
  },
  {
   "cell_type": "markdown",
   "metadata": {},
   "source": [
    "### Data Download\n",
    "\n",
    "Due to its size (uncompressed 1.6 GB), the dataset is not included in the repository but must be downloaded. The course staff has provided the data via Google Drive. On the first run of this notebook, we download the compressed data file from Google Drive and extract it to the `data` folder. The compressed file is ~1.5 GB in size. \n",
    "\n",
    "After extraction and the removal of unnecessary files (archives, ratings file, ...), the data folder should contain the following files: `beers.csv`, `breweries.csv`, `users.csv`, `reviews.txt`. The total size of the data is ~2.9 GB.\n",
    "\n",
    "*NB: Data loading takes around **~8min** on the first run. Subsequent runs of this cell are instant.*"
   ]
  },
  {
   "cell_type": "code",
   "execution_count": 3,
   "metadata": {},
   "outputs": [
    {
     "name": "stdout",
     "output_type": "stream",
     "text": [
      "Beer reviews downloaded to /Users/jonas-mika/epfl/coursework/projects/ada-2023-project-blackada/data ✅.\n"
     ]
    }
   ],
   "source": [
    "# Download the BeerAdvocate dataset if it doesn't exist\n",
    "if not os.path.exists(os.path.join(DATA_DIR, \"reviews.txt\")):\n",
    "    utils.download_data(DATA_URL, data_dir=DATA_DIR)\n",
    "print(f\"Beer reviews downloaded to {DATA_DIR} ✅.\")"
   ]
  },
  {
   "cell_type": "markdown",
   "metadata": {},
   "source": [
    "### Data Loading\n",
    "\n",
    "Next, we load the data into a Pandas DataFrame. On the first run, we load all the reviews from the `reviews.txt` file and populate it with some additional meta-data from the other files. We then save the DataFrame to a `.feather` file for faster loading in the future. On subsequent runs, we load the DataFrame from the `.feather` file if it exists.\n",
    "\n",
    "*NB: Running this cell for the first time reads in all `2.5M` reviews which takes **~7min**. Subsequent runs should be much faster, taking about **~1min**.*"
   ]
  },
  {
   "cell_type": "code",
   "execution_count": 4,
   "metadata": {},
   "outputs": [
    {
     "name": "stdout",
     "output_type": "stream",
     "text": [
      "Loaded 10000 reviews ✅. (Subset of Data)\n"
     ]
    }
   ],
   "source": [
    "# Load all reviews and a subset of reviews (100,000)\n",
    "if SUBSET:\n",
    "    reviews = utils.load_data(DATA_DIR, num_samples=NUM_SUBSET_SAMPLES, seed=SEED)\n",
    "else:\n",
    "    reviews = utils.load_data(DATA_DIR, seed=SEED)\n",
    "\n",
    "msg = \"Subset of Data\" if SUBSET else \"Full Data\"\n",
    "print(f\"Loaded {len(reviews)} reviews ✅. ({msg})\")"
   ]
  },
  {
   "cell_type": "markdown",
   "metadata": {},
   "source": [
    "### Sanity Checks\n",
    "\n",
    "During the data loading (`utils.load_data`) we perform some basic data pre-processing and merging. Specifically, we do the following:\n",
    "- Merge the reviews data with some additional meta-data about the beers, users and breweries (e.g. beer style, user location, ...) and collect in a singe multi-column DataFrame.\n",
    "- We cast each column to the correct type, e.g. `date` is converted to a `datetime` object.\n",
    "- We remove any reviews with any missing values (as there are only very few where this is the case)\n",
    "\n",
    "We check that each of these steps is performed correctly and that the data is consistent."
   ]
  },
  {
   "cell_type": "code",
   "execution_count": 5,
   "metadata": {},
   "outputs": [
    {
     "name": "stdout",
     "output_type": "stream",
     "text": [
      "✅ Additional columns loaded.\n"
     ]
    }
   ],
   "source": [
    "# Check that additional information is loaded in the reviews\n",
    "additional_cols = [(\"user\", \"location\")]\n",
    "\n",
    "for col in additional_cols:\n",
    "    err_msg = f\"❌ Additional column {col} not loaded.\"\n",
    "    assert col in reviews.columns, err_msg\n",
    "print(f\"✅ Additional columns loaded.\")"
   ]
  },
  {
   "cell_type": "code",
   "execution_count": 6,
   "metadata": {},
   "outputs": [
    {
     "name": "stdout",
     "output_type": "stream",
     "text": [
      "✅ All columns have correct type.\n"
     ]
    }
   ],
   "source": [
    "# Check that columns have correct type (e.g. review time is a datetime)\n",
    "example_types = {(\"review\", \"date\"): \"datetime64[ns]\", (\"review\", \"rating\"): \"float64\", (\"review\", \"text\"): \"object\"}\n",
    "\n",
    "for col, dtype in example_types.items():\n",
    "    err_msg = f\"❌ Column has type {reviews[col].dtype} but should be {dtype}\"\n",
    "    assert reviews[col].dtype == dtype, err_msg\n",
    "print(f\"✅ All columns have correct type.\")"
   ]
  },
  {
   "cell_type": "code",
   "execution_count": 7,
   "metadata": {},
   "outputs": [
    {
     "name": "stdout",
     "output_type": "stream",
     "text": [
      "✅ There are no missing values.\n"
     ]
    }
   ],
   "source": [
    "# Check that there are no missing values (NaNs)\n",
    "missing_values = reviews.isna().sum()\n",
    "\n",
    "err_msg = f\"❌ There are {missing_values.sum()} missing values in the dataset!\"\n",
    "assert missing_values.sum() == 0, err_msg\n",
    "print(f\"✅ There are no missing values.\")"
   ]
  },
  {
   "cell_type": "markdown",
   "metadata": {},
   "source": [
    "### Understanding the Data\n",
    "\n",
    "Let's explore the data a bit. In this section we will investigate the total number of reviews and in various sub-groups, as well as understand basic statistics about the textual reviews.\n",
    "\n",
    "*Note: We have a full notebook with more detailed EDA of the data in the [`playground/eda.ipynb`](https://github.com/epfl-ada/ada-2023-project-blackada/blob/main/playground/eda.ipynb) notebook. In this notebook we focus on the parts of the data exploration that are important for our project.*"
   ]
  },
  {
   "cell_type": "code",
   "execution_count": 8,
   "metadata": {},
   "outputs": [
    {
     "data": {
      "text/html": [
       "<div>\n",
       "<style scoped>\n",
       "    .dataframe tbody tr th:only-of-type {\n",
       "        vertical-align: middle;\n",
       "    }\n",
       "\n",
       "    .dataframe tbody tr th {\n",
       "        vertical-align: top;\n",
       "    }\n",
       "\n",
       "    .dataframe thead tr th {\n",
       "        text-align: left;\n",
       "    }\n",
       "</style>\n",
       "<table border=\"1\" class=\"dataframe\">\n",
       "  <thead>\n",
       "    <tr>\n",
       "      <th></th>\n",
       "      <th colspan=\"6\" halign=\"left\">beer</th>\n",
       "      <th colspan=\"4\" halign=\"left\">brewery</th>\n",
       "      <th>...</th>\n",
       "      <th colspan=\"2\" halign=\"left\">user</th>\n",
       "      <th colspan=\"8\" halign=\"left\">review</th>\n",
       "    </tr>\n",
       "    <tr>\n",
       "      <th></th>\n",
       "      <th>id</th>\n",
       "      <th>name</th>\n",
       "      <th>style</th>\n",
       "      <th>abv</th>\n",
       "      <th>nbr_ratings</th>\n",
       "      <th>nbr_reviews</th>\n",
       "      <th>id</th>\n",
       "      <th>name</th>\n",
       "      <th>location</th>\n",
       "      <th>nbr_beers</th>\n",
       "      <th>...</th>\n",
       "      <th>joined</th>\n",
       "      <th>location</th>\n",
       "      <th>appearance</th>\n",
       "      <th>aroma</th>\n",
       "      <th>palate</th>\n",
       "      <th>taste</th>\n",
       "      <th>overall</th>\n",
       "      <th>rating</th>\n",
       "      <th>text</th>\n",
       "      <th>date</th>\n",
       "    </tr>\n",
       "  </thead>\n",
       "  <tbody>\n",
       "    <tr>\n",
       "      <th>0</th>\n",
       "      <td>142544</td>\n",
       "      <td>Régab</td>\n",
       "      <td>Euro Pale Lager</td>\n",
       "      <td>4.5</td>\n",
       "      <td>1</td>\n",
       "      <td>1</td>\n",
       "      <td>37262</td>\n",
       "      <td>Societe des Brasseries du Gabon (SOBRAGA)</td>\n",
       "      <td>Gabon</td>\n",
       "      <td>1</td>\n",
       "      <td>...</td>\n",
       "      <td>2008-01-07 11:00:00</td>\n",
       "      <td>United States, Washington</td>\n",
       "      <td>3.25</td>\n",
       "      <td>2.75</td>\n",
       "      <td>3.25</td>\n",
       "      <td>2.75</td>\n",
       "      <td>3.0</td>\n",
       "      <td>2.88</td>\n",
       "      <td>From a bottle, pours a piss yellow color with a fizzy white head.  This is carbonated similar to soda.The nose is basic.. malt, corn, a little flo...</td>\n",
       "      <td>2015-08-20 10:00:00</td>\n",
       "    </tr>\n",
       "    <tr>\n",
       "      <th>1</th>\n",
       "      <td>19590</td>\n",
       "      <td>Barelegs Brew</td>\n",
       "      <td>English Pale Ale</td>\n",
       "      <td>4.5</td>\n",
       "      <td>4</td>\n",
       "      <td>4</td>\n",
       "      <td>10093</td>\n",
       "      <td>Strangford Lough Brewing Company Ltd</td>\n",
       "      <td>Northern Ireland</td>\n",
       "      <td>5</td>\n",
       "      <td>...</td>\n",
       "      <td>2007-10-08 10:00:00</td>\n",
       "      <td>United States, New York</td>\n",
       "      <td>3.00</td>\n",
       "      <td>3.50</td>\n",
       "      <td>3.50</td>\n",
       "      <td>4.00</td>\n",
       "      <td>3.5</td>\n",
       "      <td>3.67</td>\n",
       "      <td>Pours pale copper with a thin head that quickly goes. Caramel, golden syrup nose. Taste is big toasty, grassy hops backed by dark fruit, candy cor...</td>\n",
       "      <td>2009-02-20 11:00:00</td>\n",
       "    </tr>\n",
       "    <tr>\n",
       "      <th>2</th>\n",
       "      <td>19590</td>\n",
       "      <td>Barelegs Brew</td>\n",
       "      <td>English Pale Ale</td>\n",
       "      <td>4.5</td>\n",
       "      <td>4</td>\n",
       "      <td>4</td>\n",
       "      <td>10093</td>\n",
       "      <td>Strangford Lough Brewing Company Ltd</td>\n",
       "      <td>Northern Ireland</td>\n",
       "      <td>5</td>\n",
       "      <td>...</td>\n",
       "      <td>2005-05-18 10:00:00</td>\n",
       "      <td>Northern Ireland</td>\n",
       "      <td>4.00</td>\n",
       "      <td>3.50</td>\n",
       "      <td>3.50</td>\n",
       "      <td>4.00</td>\n",
       "      <td>3.5</td>\n",
       "      <td>3.73</td>\n",
       "      <td>500ml Bottle bought from The Vintage, Antrim...Poured a golden yellow / orange colour... White head poured quite thick and foamy and faded to thin...</td>\n",
       "      <td>2006-03-13 11:00:00</td>\n",
       "    </tr>\n",
       "  </tbody>\n",
       "</table>\n",
       "<p>3 rows × 24 columns</p>\n",
       "</div>"
      ],
      "text/plain": [
       "     beer                                                                \\\n",
       "       id           name             style  abv nbr_ratings nbr_reviews   \n",
       "0  142544          Régab   Euro Pale Lager  4.5           1           1   \n",
       "1   19590  Barelegs Brew  English Pale Ale  4.5           4           4   \n",
       "2   19590  Barelegs Brew  English Pale Ale  4.5           4           4   \n",
       "\n",
       "  brewery                                                               \\\n",
       "       id                                       name          location   \n",
       "0   37262  Societe des Brasseries du Gabon (SOBRAGA)             Gabon   \n",
       "1   10093       Strangford Lough Brewing Company Ltd  Northern Ireland   \n",
       "2   10093       Strangford Lough Brewing Company Ltd  Northern Ireland   \n",
       "\n",
       "             ...                user                                review  \\\n",
       "  nbr_beers  ...              joined                   location appearance   \n",
       "0         1  ... 2008-01-07 11:00:00  United States, Washington       3.25   \n",
       "1         5  ... 2007-10-08 10:00:00    United States, New York       3.00   \n",
       "2         5  ... 2005-05-18 10:00:00           Northern Ireland       4.00   \n",
       "\n",
       "                                     \\\n",
       "  aroma palate taste overall rating   \n",
       "0  2.75   3.25  2.75     3.0   2.88   \n",
       "1  3.50   3.50  4.00     3.5   3.67   \n",
       "2  3.50   3.50  4.00     3.5   3.73   \n",
       "\n",
       "                                                                                                                                                          \\\n",
       "                                                                                                                                                    text   \n",
       "0  From a bottle, pours a piss yellow color with a fizzy white head.  This is carbonated similar to soda.The nose is basic.. malt, corn, a little flo...   \n",
       "1  Pours pale copper with a thin head that quickly goes. Caramel, golden syrup nose. Taste is big toasty, grassy hops backed by dark fruit, candy cor...   \n",
       "2  500ml Bottle bought from The Vintage, Antrim...Poured a golden yellow / orange colour... White head poured quite thick and foamy and faded to thin...   \n",
       "\n",
       "                       \n",
       "                 date  \n",
       "0 2015-08-20 10:00:00  \n",
       "1 2009-02-20 11:00:00  \n",
       "2 2006-03-13 11:00:00  \n",
       "\n",
       "[3 rows x 24 columns]"
      ]
     },
     "execution_count": 8,
     "metadata": {},
     "output_type": "execute_result"
    }
   ],
   "source": [
    "# Show the first 5 rows of the data\n",
    "reviews.head(3)"
   ]
  },
  {
   "cell_type": "markdown",
   "metadata": {},
   "source": [
    "We see that all data is in a single data frame with multi-column indexing. Each row corresponds to a single review of a beer and denotes the user (`user`), beer (`beer`) and brewery (`brewery`) meta information, as well as the actual review data (`review`) in separate column indices. For example, we can look at the keys individually for the first three reviews."
   ]
  },
  {
   "cell_type": "code",
   "execution_count": 9,
   "metadata": {},
   "outputs": [
    {
     "data": {
      "text/html": [
       "<div>\n",
       "<style scoped>\n",
       "    .dataframe tbody tr th:only-of-type {\n",
       "        vertical-align: middle;\n",
       "    }\n",
       "\n",
       "    .dataframe tbody tr th {\n",
       "        vertical-align: top;\n",
       "    }\n",
       "\n",
       "    .dataframe thead th {\n",
       "        text-align: right;\n",
       "    }\n",
       "</style>\n",
       "<table border=\"1\" class=\"dataframe\">\n",
       "  <thead>\n",
       "    <tr style=\"text-align: right;\">\n",
       "      <th></th>\n",
       "      <th>id</th>\n",
       "      <th>name</th>\n",
       "      <th>style</th>\n",
       "      <th>abv</th>\n",
       "      <th>nbr_ratings</th>\n",
       "      <th>nbr_reviews</th>\n",
       "    </tr>\n",
       "  </thead>\n",
       "  <tbody>\n",
       "    <tr>\n",
       "      <th>0</th>\n",
       "      <td>142544</td>\n",
       "      <td>Régab</td>\n",
       "      <td>Euro Pale Lager</td>\n",
       "      <td>4.5</td>\n",
       "      <td>1</td>\n",
       "      <td>1</td>\n",
       "    </tr>\n",
       "    <tr>\n",
       "      <th>1</th>\n",
       "      <td>19590</td>\n",
       "      <td>Barelegs Brew</td>\n",
       "      <td>English Pale Ale</td>\n",
       "      <td>4.5</td>\n",
       "      <td>4</td>\n",
       "      <td>4</td>\n",
       "    </tr>\n",
       "    <tr>\n",
       "      <th>2</th>\n",
       "      <td>19590</td>\n",
       "      <td>Barelegs Brew</td>\n",
       "      <td>English Pale Ale</td>\n",
       "      <td>4.5</td>\n",
       "      <td>4</td>\n",
       "      <td>4</td>\n",
       "    </tr>\n",
       "  </tbody>\n",
       "</table>\n",
       "</div>"
      ],
      "text/plain": [
       "       id           name             style  abv  nbr_ratings  nbr_reviews\n",
       "0  142544          Régab   Euro Pale Lager  4.5            1            1\n",
       "1   19590  Barelegs Brew  English Pale Ale  4.5            4            4\n",
       "2   19590  Barelegs Brew  English Pale Ale  4.5            4            4"
      ]
     },
     "execution_count": 9,
     "metadata": {},
     "output_type": "execute_result"
    }
   ],
   "source": [
    "# Meta-information on beer for first 3 samples\n",
    "reviews[\"beer\"].head(3)"
   ]
  },
  {
   "cell_type": "code",
   "execution_count": 10,
   "metadata": {},
   "outputs": [
    {
     "data": {
      "text/html": [
       "<div>\n",
       "<style scoped>\n",
       "    .dataframe tbody tr th:only-of-type {\n",
       "        vertical-align: middle;\n",
       "    }\n",
       "\n",
       "    .dataframe tbody tr th {\n",
       "        vertical-align: top;\n",
       "    }\n",
       "\n",
       "    .dataframe thead th {\n",
       "        text-align: right;\n",
       "    }\n",
       "</style>\n",
       "<table border=\"1\" class=\"dataframe\">\n",
       "  <thead>\n",
       "    <tr style=\"text-align: right;\">\n",
       "      <th></th>\n",
       "      <th>id</th>\n",
       "      <th>name</th>\n",
       "      <th>nbr_ratings</th>\n",
       "      <th>nbr_reviews</th>\n",
       "      <th>joined</th>\n",
       "      <th>location</th>\n",
       "    </tr>\n",
       "  </thead>\n",
       "  <tbody>\n",
       "    <tr>\n",
       "      <th>0</th>\n",
       "      <td>nmann08.184925</td>\n",
       "      <td>nmann08</td>\n",
       "      <td>7820</td>\n",
       "      <td>465</td>\n",
       "      <td>2008-01-07 11:00:00</td>\n",
       "      <td>United States, Washington</td>\n",
       "    </tr>\n",
       "    <tr>\n",
       "      <th>1</th>\n",
       "      <td>stjamesgate.163714</td>\n",
       "      <td>StJamesGate</td>\n",
       "      <td>2521</td>\n",
       "      <td>2504</td>\n",
       "      <td>2007-10-08 10:00:00</td>\n",
       "      <td>United States, New York</td>\n",
       "    </tr>\n",
       "    <tr>\n",
       "      <th>2</th>\n",
       "      <td>mdagnew.19527</td>\n",
       "      <td>mdagnew</td>\n",
       "      <td>1797</td>\n",
       "      <td>1143</td>\n",
       "      <td>2005-05-18 10:00:00</td>\n",
       "      <td>Northern Ireland</td>\n",
       "    </tr>\n",
       "  </tbody>\n",
       "</table>\n",
       "</div>"
      ],
      "text/plain": [
       "                   id         name  nbr_ratings  nbr_reviews  \\\n",
       "0      nmann08.184925      nmann08         7820          465   \n",
       "1  stjamesgate.163714  StJamesGate         2521         2504   \n",
       "2       mdagnew.19527      mdagnew         1797         1143   \n",
       "\n",
       "               joined                   location  \n",
       "0 2008-01-07 11:00:00  United States, Washington  \n",
       "1 2007-10-08 10:00:00    United States, New York  \n",
       "2 2005-05-18 10:00:00           Northern Ireland  "
      ]
     },
     "execution_count": 10,
     "metadata": {},
     "output_type": "execute_result"
    }
   ],
   "source": [
    "# Meta-information on user for first 3 samples\n",
    "reviews[\"user\"].head(3)"
   ]
  },
  {
   "cell_type": "code",
   "execution_count": 11,
   "metadata": {},
   "outputs": [
    {
     "data": {
      "text/html": [
       "<div>\n",
       "<style scoped>\n",
       "    .dataframe tbody tr th:only-of-type {\n",
       "        vertical-align: middle;\n",
       "    }\n",
       "\n",
       "    .dataframe tbody tr th {\n",
       "        vertical-align: top;\n",
       "    }\n",
       "\n",
       "    .dataframe thead th {\n",
       "        text-align: right;\n",
       "    }\n",
       "</style>\n",
       "<table border=\"1\" class=\"dataframe\">\n",
       "  <thead>\n",
       "    <tr style=\"text-align: right;\">\n",
       "      <th></th>\n",
       "      <th>id</th>\n",
       "      <th>name</th>\n",
       "      <th>location</th>\n",
       "      <th>nbr_beers</th>\n",
       "    </tr>\n",
       "  </thead>\n",
       "  <tbody>\n",
       "    <tr>\n",
       "      <th>0</th>\n",
       "      <td>37262</td>\n",
       "      <td>Societe des Brasseries du Gabon (SOBRAGA)</td>\n",
       "      <td>Gabon</td>\n",
       "      <td>1</td>\n",
       "    </tr>\n",
       "    <tr>\n",
       "      <th>1</th>\n",
       "      <td>10093</td>\n",
       "      <td>Strangford Lough Brewing Company Ltd</td>\n",
       "      <td>Northern Ireland</td>\n",
       "      <td>5</td>\n",
       "    </tr>\n",
       "    <tr>\n",
       "      <th>2</th>\n",
       "      <td>10093</td>\n",
       "      <td>Strangford Lough Brewing Company Ltd</td>\n",
       "      <td>Northern Ireland</td>\n",
       "      <td>5</td>\n",
       "    </tr>\n",
       "  </tbody>\n",
       "</table>\n",
       "</div>"
      ],
      "text/plain": [
       "      id                                       name          location  \\\n",
       "0  37262  Societe des Brasseries du Gabon (SOBRAGA)             Gabon   \n",
       "1  10093       Strangford Lough Brewing Company Ltd  Northern Ireland   \n",
       "2  10093       Strangford Lough Brewing Company Ltd  Northern Ireland   \n",
       "\n",
       "   nbr_beers  \n",
       "0          1  \n",
       "1          5  \n",
       "2          5  "
      ]
     },
     "execution_count": 11,
     "metadata": {},
     "output_type": "execute_result"
    }
   ],
   "source": [
    "# Meta-information on brewery for first 3 samples\n",
    "reviews[\"brewery\"].head(3)"
   ]
  },
  {
   "cell_type": "code",
   "execution_count": 12,
   "metadata": {},
   "outputs": [
    {
     "data": {
      "text/html": [
       "<div>\n",
       "<style scoped>\n",
       "    .dataframe tbody tr th:only-of-type {\n",
       "        vertical-align: middle;\n",
       "    }\n",
       "\n",
       "    .dataframe tbody tr th {\n",
       "        vertical-align: top;\n",
       "    }\n",
       "\n",
       "    .dataframe thead th {\n",
       "        text-align: right;\n",
       "    }\n",
       "</style>\n",
       "<table border=\"1\" class=\"dataframe\">\n",
       "  <thead>\n",
       "    <tr style=\"text-align: right;\">\n",
       "      <th></th>\n",
       "      <th>appearance</th>\n",
       "      <th>aroma</th>\n",
       "      <th>palate</th>\n",
       "      <th>taste</th>\n",
       "      <th>overall</th>\n",
       "      <th>rating</th>\n",
       "      <th>text</th>\n",
       "      <th>date</th>\n",
       "    </tr>\n",
       "  </thead>\n",
       "  <tbody>\n",
       "    <tr>\n",
       "      <th>0</th>\n",
       "      <td>3.25</td>\n",
       "      <td>2.75</td>\n",
       "      <td>3.25</td>\n",
       "      <td>2.75</td>\n",
       "      <td>3.0</td>\n",
       "      <td>2.88</td>\n",
       "      <td>From a bottle, pours a piss yellow color with a fizzy white head.  This is carbonated similar to soda.The nose is basic.. malt, corn, a little flo...</td>\n",
       "      <td>2015-08-20 10:00:00</td>\n",
       "    </tr>\n",
       "    <tr>\n",
       "      <th>1</th>\n",
       "      <td>3.00</td>\n",
       "      <td>3.50</td>\n",
       "      <td>3.50</td>\n",
       "      <td>4.00</td>\n",
       "      <td>3.5</td>\n",
       "      <td>3.67</td>\n",
       "      <td>Pours pale copper with a thin head that quickly goes. Caramel, golden syrup nose. Taste is big toasty, grassy hops backed by dark fruit, candy cor...</td>\n",
       "      <td>2009-02-20 11:00:00</td>\n",
       "    </tr>\n",
       "    <tr>\n",
       "      <th>2</th>\n",
       "      <td>4.00</td>\n",
       "      <td>3.50</td>\n",
       "      <td>3.50</td>\n",
       "      <td>4.00</td>\n",
       "      <td>3.5</td>\n",
       "      <td>3.73</td>\n",
       "      <td>500ml Bottle bought from The Vintage, Antrim...Poured a golden yellow / orange colour... White head poured quite thick and foamy and faded to thin...</td>\n",
       "      <td>2006-03-13 11:00:00</td>\n",
       "    </tr>\n",
       "  </tbody>\n",
       "</table>\n",
       "</div>"
      ],
      "text/plain": [
       "   appearance  aroma  palate  taste  overall  rating  \\\n",
       "0        3.25   2.75    3.25   2.75      3.0    2.88   \n",
       "1        3.00   3.50    3.50   4.00      3.5    3.67   \n",
       "2        4.00   3.50    3.50   4.00      3.5    3.73   \n",
       "\n",
       "                                                                                                                                                    text  \\\n",
       "0  From a bottle, pours a piss yellow color with a fizzy white head.  This is carbonated similar to soda.The nose is basic.. malt, corn, a little flo...   \n",
       "1  Pours pale copper with a thin head that quickly goes. Caramel, golden syrup nose. Taste is big toasty, grassy hops backed by dark fruit, candy cor...   \n",
       "2  500ml Bottle bought from The Vintage, Antrim...Poured a golden yellow / orange colour... White head poured quite thick and foamy and faded to thin...   \n",
       "\n",
       "                 date  \n",
       "0 2015-08-20 10:00:00  \n",
       "1 2009-02-20 11:00:00  \n",
       "2 2006-03-13 11:00:00  "
      ]
     },
     "execution_count": 12,
     "metadata": {},
     "output_type": "execute_result"
    }
   ],
   "source": [
    "# Information about review for first 3 samples\n",
    "reviews[\"review\"].head(3)"
   ]
  },
  {
   "cell_type": "markdown",
   "metadata": {},
   "source": [
    "As we see, for each review, we have information on the following features:\n",
    "    \n",
    "1. **Review** (`review`): Review Text, Ratings (Appearance, Aroma, Palate, Taste, Overall, Rating), Date\n",
    "2. **User** (`user`): User ID, User Name, #Ratings, #Reviews, Joined Date, Location\n",
    "3. **Beer** (`beer`): Beer ID, Beer Name, Beer Style, ABV (Alcohol By Volume), #Ratings, #Reviews\n",
    "4. **Brewery** (`brewery`): Brewery ID, Brewery Name, Location, #Beers"
   ]
  },
  {
   "cell_type": "markdown",
   "metadata": {},
   "source": [
    "### Groups\n",
    "\n",
    "In our analysis we want to compute the consensus between the language used in reviews of a) all beers, b) beers of the same style, c) beers from the same brewery and, finally, d) invidual beers. The hypothesis is that the finer-grained the grouping, the higher the consensus between the reviewers. However, for the analysis to be meaningful we need to ensure that there are enough reviews in each group. We therefore compute the number of reviews in each group and plot the distribution of the number of reviews per group."
   ]
  },
  {
   "cell_type": "code",
   "execution_count": 13,
   "metadata": {},
   "outputs": [
    {
     "name": "stdout",
     "output_type": "stream",
     "text": [
      "Number of unique beer styles: 72\n",
      "Number of unique breweries: 90\n",
      "Number of unique beers: 817\n"
     ]
    }
   ],
   "source": [
    "unique_beer_styles = reviews.beer[\"style\"].drop_duplicates()\n",
    "unique_breweries = reviews.brewery.drop_duplicates()\n",
    "unique_beers = reviews.beer.drop_duplicates()\n",
    "\n",
    "print(f\"Number of unique beer styles: {len(unique_beer_styles)}\")\n",
    "print(f\"Number of unique breweries: {len(unique_breweries)}\")\n",
    "print(f\"Number of unique beers: {len(unique_beers)}\")"
   ]
  },
  {
   "cell_type": "markdown",
   "metadata": {},
   "source": [
    "We show the sorted number of reviews per beer style, brewery and beer below. The y-axis is log-scaled to better show the distribution and we add a horizontal line to show the minimum number of reviews to `100` per beer style, brewery and beer that we require for our further analysis. "
   ]
  },
  {
   "cell_type": "code",
   "execution_count": 14,
   "metadata": {},
   "outputs": [
    {
     "data": {
      "image/png": "[encoded data removed]",
      "text/plain": [
       "<Figure size 2000x500 with 3 Axes>"
      ]
     },
     "metadata": {},
     "output_type": "display_data"
    }
   ],
   "source": [
    "# Minimum number of reviews for a beer style, brewery, or beer to be included in the analysis\n",
    "MIN_REVIEWS = 100\n",
    "\n",
    "# Compute the number of reviews for each element in each group\n",
    "reviews_per_beer_style = reviews.groupby(by=(\"beer\", \"style\")).size().sort_values(ascending=False)\n",
    "reviews_per_brewery = reviews.groupby(by=(\"brewery\", \"id\")).size().sort_values(ascending=False)\n",
    "reviews_per_beer = reviews.groupby(by=(\"beer\", \"id\")).size().sort_values(ascending=False)\n",
    "\n",
    "# Plot number of reviews per beer style\n",
    "fig, axs = plt.subplots(ncols=3, figsize=(20, 5))\n",
    "for ax, reviews_per_group in zip(axs, [reviews_per_beer_style, reviews_per_brewery, reviews_per_beer]):\n",
    "    sns.lineplot(x=range(len(reviews_per_group)), y=reviews_per_group.values, ax=ax)\n",
    "    ax.plot([0, len(reviews_per_group)], [MIN_REVIEWS, MIN_REVIEWS], linestyle=\"--\", color=\"black\")\n",
    "    a, b = reviews_per_group.index.names[0]\n",
    "    ax.set(\n",
    "        title=f\"#Reviews per {a.capitalize()} {b.capitalize()}\",\n",
    "        xlabel=\"Rank\",\n",
    "        ylabel=\"Counts (Log)\",\n",
    "        yscale=\"log\"\n",
    "        )\n",
    "    "
   ]
  },
  {
   "cell_type": "code",
   "execution_count": 15,
   "metadata": {},
   "outputs": [
    {
     "name": "stdout",
     "output_type": "stream",
     "text": [
      "✅ Filtering done. Reviews after filtering: 5508 (Removed 4492 reviews)\n"
     ]
    }
   ],
   "source": [
    "# Filter out beer styles with less than MIN_REVIEWS reviews\n",
    "included_beer_styles = reviews_per_beer_style[reviews_per_beer_style >= MIN_REVIEWS].index\n",
    "included_breweries = reviews_per_brewery[reviews_per_brewery >= MIN_REVIEWS].index\n",
    "included_beers = reviews_per_beer[reviews_per_beer >= MIN_REVIEWS].index\n",
    "\n",
    "# Create masks for filtering out beer styles with less than MIN_REVIEWS reviewsk\n",
    "min_reviews_beer_style_mask = reviews.beer[\"style\"].isin(included_beer_styles)\n",
    "min_reviews_breweries_mask = reviews.brewery[\"id\"].isin(included_breweries)\n",
    "min_reviews_beer_mask = reviews.beer[\"id\"].isin(included_beers)\n",
    "\n",
    "# Filter out reviews for beer styles with less than MIN_REVIEWS reviews\n",
    "original_reviews = reviews.copy()\n",
    "reviews = reviews[min_reviews_beer_style_mask & min_reviews_breweries_mask & min_reviews_beer_mask]\n",
    "\n",
    "print(f\"✅ Filtering done. Reviews after filtering: {len(reviews)} (Removed {len(original_reviews) - len(reviews)} reviews)\")"
   ]
  },
  {
   "cell_type": "markdown",
   "metadata": {},
   "source": [
    "### Reviews Statistics\n",
    "\n",
    "The textual reviews are central to our analysis and we will be using them to extract the taste descriptors. Let's look at some statistics about the reviews to ensure that they are of good quality."
   ]
  },
  {
   "cell_type": "code",
   "execution_count": 16,
   "metadata": {},
   "outputs": [
    {
     "data": {
      "text/html": [
       "<div>\n",
       "<style scoped>\n",
       "    .dataframe tbody tr th:only-of-type {\n",
       "        vertical-align: middle;\n",
       "    }\n",
       "\n",
       "    .dataframe tbody tr th {\n",
       "        vertical-align: top;\n",
       "    }\n",
       "\n",
       "    .dataframe thead th {\n",
       "        text-align: right;\n",
       "    }\n",
       "</style>\n",
       "<table border=\"1\" class=\"dataframe\">\n",
       "  <thead>\n",
       "    <tr style=\"text-align: right;\">\n",
       "      <th></th>\n",
       "      <th>text</th>\n",
       "    </tr>\n",
       "  </thead>\n",
       "  <tbody>\n",
       "    <tr>\n",
       "      <th>1248</th>\n",
       "      <td>Light opaque brown pour.  There's a weird tea like aroma.  Like more than hops, although I'm sure the tea like notes are derivative of the earthy ...</td>\n",
       "    </tr>\n",
       "    <tr>\n",
       "      <th>1249</th>\n",
       "      <td>The pour was a cloudy deep reddish brown with a 1.5-finger off-white head that dissipated quickly. The aroma was toffee with a hint of holiday fru...</td>\n",
       "    </tr>\n",
       "    <tr>\n",
       "      <th>1250</th>\n",
       "      <td>Appearance: Pours a clouded body the color of fine, aged leather. Modest-sized head of large, dissipating suds.Smell: Cut hardwood planks layered ...</td>\n",
       "    </tr>\n",
       "    <tr>\n",
       "      <th>1251</th>\n",
       "      <td>Beer bottle (50 cl.), tasted in 2010.Appearance : amber color, with tan foamy head.Smell : roasted malt and caramel aromas.Taste and mouthfeel : t...</td>\n",
       "    </tr>\n",
       "    <tr>\n",
       "      <th>1252</th>\n",
       "      <td>quite tastey. poured brownish into my tower glass. good carbonation. nice balance of hops and malts and gives a good biscuit bitter dry finish. th...</td>\n",
       "    </tr>\n",
       "    <tr>\n",
       "      <th>1254</th>\n",
       "      <td>I wish all beers came in big fat 16.9 ounce bottles. This one poured nicely into a pint glass (some left in the bottle). Dark carmel brown with sa...</td>\n",
       "    </tr>\n",
       "    <tr>\n",
       "      <th>1256</th>\n",
       "      <td>Big bottle poured into an English pint glass. The pour is cloudy deep reddish brown with a 1.5-finger khaki head floating atop. The aroma is caram...</td>\n",
       "    </tr>\n",
       "    <tr>\n",
       "      <th>1257</th>\n",
       "      <td>This was new at my Beer store, so I got it!A- Pours dark golden with a nice head.The head is actually very impressive. S- hoppy smell also caramel...</td>\n",
       "    </tr>\n",
       "    <tr>\n",
       "      <th>1258</th>\n",
       "      <td>This ESB has been showing up on shelves in SoCal beer stores over the last couple months...or I haven't noticed this beer before. I got the Guinne...</td>\n",
       "    </tr>\n",
       "    <tr>\n",
       "      <th>1259</th>\n",
       "      <td>Good across the board, this is one fine drinking ale. The look is of a deep ruby dark amber almost to mahogany in shading. A small cream colored a...</td>\n",
       "    </tr>\n",
       "  </tbody>\n",
       "</table>\n",
       "</div>"
      ],
      "text/plain": [
       "                                                                                                                                                       text\n",
       "1248  Light opaque brown pour.  There's a weird tea like aroma.  Like more than hops, although I'm sure the tea like notes are derivative of the earthy ...\n",
       "1249  The pour was a cloudy deep reddish brown with a 1.5-finger off-white head that dissipated quickly. The aroma was toffee with a hint of holiday fru...\n",
       "1250  Appearance: Pours a clouded body the color of fine, aged leather. Modest-sized head of large, dissipating suds.Smell: Cut hardwood planks layered ...\n",
       "1251  Beer bottle (50 cl.), tasted in 2010.Appearance : amber color, with tan foamy head.Smell : roasted malt and caramel aromas.Taste and mouthfeel : t...\n",
       "1252  quite tastey. poured brownish into my tower glass. good carbonation. nice balance of hops and malts and gives a good biscuit bitter dry finish. th...\n",
       "1254  I wish all beers came in big fat 16.9 ounce bottles. This one poured nicely into a pint glass (some left in the bottle). Dark carmel brown with sa...\n",
       "1256  Big bottle poured into an English pint glass. The pour is cloudy deep reddish brown with a 1.5-finger khaki head floating atop. The aroma is caram...\n",
       "1257  This was new at my Beer store, so I got it!A- Pours dark golden with a nice head.The head is actually very impressive. S- hoppy smell also caramel...\n",
       "1258  This ESB has been showing up on shelves in SoCal beer stores over the last couple months...or I haven't noticed this beer before. I got the Guinne...\n",
       "1259  Good across the board, this is one fine drinking ale. The look is of a deep ruby dark amber almost to mahogany in shading. A small cream colored a..."
      ]
     },
     "execution_count": 16,
     "metadata": {},
     "output_type": "execute_result"
    }
   ],
   "source": [
    "# Let's show some example reviews\n",
    "pd.DataFrame(reviews.review.head(10)[\"text\"])"
   ]
  },
  {
   "cell_type": "markdown",
   "metadata": {},
   "source": [
    "We see that this random sample of 10 reviews consists only of reviews that are very detailed and descriptive about the beer and its taste. This suggests that the majority of reviews are of good quality and suited for our analysis. However, we suspect that there might be some meaningless \"spam\" reviews that may skew our results. We will investigate this by checking for outliers in the review length. We use simple proxies for review length, namely the number of words and characters in the review."
   ]
  },
  {
   "cell_type": "code",
   "execution_count": 17,
   "metadata": {},
   "outputs": [
    {
     "data": {
      "text/html": [
       "<div>\n",
       "<style scoped>\n",
       "    .dataframe tbody tr th:only-of-type {\n",
       "        vertical-align: middle;\n",
       "    }\n",
       "\n",
       "    .dataframe tbody tr th {\n",
       "        vertical-align: top;\n",
       "    }\n",
       "\n",
       "    .dataframe thead th {\n",
       "        text-align: right;\n",
       "    }\n",
       "</style>\n",
       "<table border=\"1\" class=\"dataframe\">\n",
       "  <thead>\n",
       "    <tr style=\"text-align: right;\">\n",
       "      <th></th>\n",
       "      <th>count</th>\n",
       "      <th>mean</th>\n",
       "      <th>std</th>\n",
       "      <th>min</th>\n",
       "      <th>25%</th>\n",
       "      <th>50%</th>\n",
       "      <th>75%</th>\n",
       "      <th>max</th>\n",
       "    </tr>\n",
       "  </thead>\n",
       "  <tbody>\n",
       "    <tr>\n",
       "      <th>Character Lengths</th>\n",
       "      <td>5508.0</td>\n",
       "      <td>705.702796</td>\n",
       "      <td>408.509738</td>\n",
       "      <td>137.0</td>\n",
       "      <td>436.0</td>\n",
       "      <td>610.0</td>\n",
       "      <td>859.0</td>\n",
       "      <td>4458.0</td>\n",
       "    </tr>\n",
       "    <tr>\n",
       "      <th>Word Lengths</th>\n",
       "      <td>5508.0</td>\n",
       "      <td>123.406500</td>\n",
       "      <td>72.576827</td>\n",
       "      <td>15.0</td>\n",
       "      <td>75.0</td>\n",
       "      <td>106.0</td>\n",
       "      <td>151.0</td>\n",
       "      <td>786.0</td>\n",
       "    </tr>\n",
       "  </tbody>\n",
       "</table>\n",
       "</div>"
      ],
      "text/plain": [
       "                    count        mean         std    min    25%    50%    75%  \\\n",
       "Character Lengths  5508.0  705.702796  408.509738  137.0  436.0  610.0  859.0   \n",
       "Word Lengths       5508.0  123.406500   72.576827   15.0   75.0  106.0  151.0   \n",
       "\n",
       "                      max  \n",
       "Character Lengths  4458.0  \n",
       "Word Lengths        786.0  "
      ]
     },
     "execution_count": 17,
     "metadata": {},
     "output_type": "execute_result"
    },
    {
     "data": {
      "image/png": "[encoded data removed]",
      "text/plain": [
       "<Figure size 2000x500 with 2 Axes>"
      ]
     },
     "metadata": {},
     "output_type": "display_data"
    }
   ],
   "source": [
    "# Compute character and word lengths of reviews\n",
    "character_lengths = reviews.review.text.str.len()\n",
    "word_lengths = reviews.review.text.apply(lambda x: len(x.split()))\n",
    "\n",
    "# Distribution of the number of ratings/ reviews per user\n",
    "fig, ax = plt.subplots(ncols=2, figsize=(20, 5))\n",
    "sns.histplot(x=character_lengths, kde=True, ax=ax[0])\n",
    "sns.histplot(x=word_lengths, kde=True, ax=ax[1])\n",
    "\n",
    "character_lengths_stats = character_lengths.describe()\n",
    "word_lengths_stats = word_lengths.describe()\n",
    "\n",
    "ax[0].set(\n",
    "    title=\"Distribution of Character Lengths in Reviews\",\n",
    "    xlabel=\"Character Length\",\n",
    "    ylabel=\"Frequency\",\n",
    ")\n",
    "ax[1].set(\n",
    "    title=\"Distribution of Word Lengths in Reviews\",\n",
    "    xlabel=\"Word Lengths\",\n",
    "    ylabel=\"Frequency\",\n",
    ")\n",
    "\n",
    "# Show summary statistics\n",
    "pd.DataFrame([character_lengths_stats, word_lengths_stats], index=[\"Character Lengths\", \"Word Lengths\"])"
   ]
  },
  {
   "cell_type": "markdown",
   "metadata": {},
   "source": [
    "We see that most reviews are around **~408 characters** and **~123 words** long. There is a slight right-skew in the distribution, meaning that there are some very long reviews. The very short reviews are probably not very helpful for our analysis as the numeric representation will not be meaningful. Let's look at those reviews to see if further processing is required."
   ]
  },
  {
   "cell_type": "code",
   "execution_count": 18,
   "metadata": {},
   "outputs": [
    {
     "data": {
      "text/html": [
       "<div>\n",
       "<style scoped>\n",
       "    .dataframe tbody tr th:only-of-type {\n",
       "        vertical-align: middle;\n",
       "    }\n",
       "\n",
       "    .dataframe tbody tr th {\n",
       "        vertical-align: top;\n",
       "    }\n",
       "\n",
       "    .dataframe thead th {\n",
       "        text-align: right;\n",
       "    }\n",
       "</style>\n",
       "<table border=\"1\" class=\"dataframe\">\n",
       "  <thead>\n",
       "    <tr style=\"text-align: right;\">\n",
       "      <th></th>\n",
       "      <th>text</th>\n",
       "    </tr>\n",
       "  </thead>\n",
       "  <tbody>\n",
       "    <tr>\n",
       "      <th>1944</th>\n",
       "      <td>**12/24/2016Bottle to snifter.Dark black, no head...right to lacing.Toasty barleyLight fruit finishA little Smokey.   From the scotch, **</td>\n",
       "    </tr>\n",
       "    <tr>\n",
       "      <th>2778</th>\n",
       "      <td>Black and blacker.Prunes and figs.Hint of chocolate. Some oak with a touch of Scotch. Light peat. Subtle.Mild and long. Sweet but not sticky.Excel...</td>\n",
       "    </tr>\n",
       "    <tr>\n",
       "      <th>5436</th>\n",
       "      <td>Tasted at bustling Apeldoorn; Beautiful dark gold with a fairly firm foam suit, floral aroma, a lot of co2 therefore soapy and remains only floral...</td>\n",
       "    </tr>\n",
       "    <tr>\n",
       "      <th>7679</th>\n",
       "      <td>Can pour, one finger head.  Typical pale lager look.  Decent taste going down but an unpleasant aftertaste. There are much better pale lagers than...</td>\n",
       "    </tr>\n",
       "    <tr>\n",
       "      <th>7764</th>\n",
       "      <td>Another beer that tastes like Heineken but a little worse. Nothing really good or bad stands out about this Lager. Typical skunkiness can be expec...</td>\n",
       "    </tr>\n",
       "  </tbody>\n",
       "</table>\n",
       "</div>"
      ],
      "text/plain": [
       "                                                                                                                                                       text\n",
       "1944              **12/24/2016Bottle to snifter.Dark black, no head...right to lacing.Toasty barleyLight fruit finishA little Smokey.   From the scotch, **\n",
       "2778  Black and blacker.Prunes and figs.Hint of chocolate. Some oak with a touch of Scotch. Light peat. Subtle.Mild and long. Sweet but not sticky.Excel...\n",
       "5436  Tasted at bustling Apeldoorn; Beautiful dark gold with a fairly firm foam suit, floral aroma, a lot of co2 therefore soapy and remains only floral...\n",
       "7679  Can pour, one finger head.  Typical pale lager look.  Decent taste going down but an unpleasant aftertaste. There are much better pale lagers than...\n",
       "7764  Another beer that tastes like Heineken but a little worse. Nothing really good or bad stands out about this Lager. Typical skunkiness can be expec..."
      ]
     },
     "execution_count": 18,
     "metadata": {},
     "output_type": "execute_result"
    }
   ],
   "source": [
    "# Show the shortest 0.1% of reviews (by character count)\n",
    "n = int(len(reviews) * 0.001)\n",
    "character_sorted = list(character_lengths.sort_values().index.values)\n",
    "shortest_character_length_reviews = reviews.review[reviews.index.isin(character_sorted[:n])]\n",
    "\n",
    "pd.DataFrame(shortest_character_length_reviews.text)"
   ]
  },
  {
   "cell_type": "code",
   "execution_count": 19,
   "metadata": {},
   "outputs": [
    {
     "data": {
      "text/html": [
       "<div>\n",
       "<style scoped>\n",
       "    .dataframe tbody tr th:only-of-type {\n",
       "        vertical-align: middle;\n",
       "    }\n",
       "\n",
       "    .dataframe tbody tr th {\n",
       "        vertical-align: top;\n",
       "    }\n",
       "\n",
       "    .dataframe thead th {\n",
       "        text-align: right;\n",
       "    }\n",
       "</style>\n",
       "<table border=\"1\" class=\"dataframe\">\n",
       "  <thead>\n",
       "    <tr style=\"text-align: right;\">\n",
       "      <th></th>\n",
       "      <th>text</th>\n",
       "    </tr>\n",
       "  </thead>\n",
       "  <tbody>\n",
       "    <tr>\n",
       "      <th>1944</th>\n",
       "      <td>**12/24/2016Bottle to snifter.Dark black, no head...right to lacing.Toasty barleyLight fruit finishA little Smokey.   From the scotch, **</td>\n",
       "    </tr>\n",
       "    <tr>\n",
       "      <th>2319</th>\n",
       "      <td>Light brown appearance with little head but just the right amount of carbonation.  Complex aroma with a slight nutty coffee hint.  Excellent nutty...</td>\n",
       "    </tr>\n",
       "    <tr>\n",
       "      <th>2778</th>\n",
       "      <td>Black and blacker.Prunes and figs.Hint of chocolate. Some oak with a touch of Scotch. Light peat. Subtle.Mild and long. Sweet but not sticky.Excel...</td>\n",
       "    </tr>\n",
       "    <tr>\n",
       "      <th>3863</th>\n",
       "      <td>A very good beer, with pleasant but not overbearing aromas of coffee and burnt bread. Very drinkable despite the lingering roasty aftertastes. Gre...</td>\n",
       "    </tr>\n",
       "    <tr>\n",
       "      <th>8025</th>\n",
       "      <td>Medium fine headGold colorRaw and &amp;quot;green&amp;quot; grain smellUncharacteristically smoothIntense bitter hopGreen-tasting freshnessRestricted but ...</td>\n",
       "    </tr>\n",
       "  </tbody>\n",
       "</table>\n",
       "</div>"
      ],
      "text/plain": [
       "                                                                                                                                                       text\n",
       "1944              **12/24/2016Bottle to snifter.Dark black, no head...right to lacing.Toasty barleyLight fruit finishA little Smokey.   From the scotch, **\n",
       "2319  Light brown appearance with little head but just the right amount of carbonation.  Complex aroma with a slight nutty coffee hint.  Excellent nutty...\n",
       "2778  Black and blacker.Prunes and figs.Hint of chocolate. Some oak with a touch of Scotch. Light peat. Subtle.Mild and long. Sweet but not sticky.Excel...\n",
       "3863  A very good beer, with pleasant but not overbearing aromas of coffee and burnt bread. Very drinkable despite the lingering roasty aftertastes. Gre...\n",
       "8025  Medium fine headGold colorRaw and &quot;green&quot; grain smellUncharacteristically smoothIntense bitter hopGreen-tasting freshnessRestricted but ..."
      ]
     },
     "execution_count": 19,
     "metadata": {},
     "output_type": "execute_result"
    }
   ],
   "source": [
    "# Show the shortest 0.1% of reviews (by word count)\n",
    "n = int(len(reviews) * 0.001)\n",
    "words_sorted = list(word_lengths.sort_values().index.values)\n",
    "shortest_word_length_reviews = reviews.review[reviews.index.isin(words_sorted[:n])]\n",
    "\n",
    "pd.DataFrame(shortest_word_length_reviews.text)"
   ]
  },
  {
   "cell_type": "markdown",
   "metadata": {},
   "source": [
    "Upon inspecting the shortest reviews, we can see that most of the shortest reviews by character count are actually regular reviews that are just short. However, in the reviews with very little words we can see some \"spam\" reviews that are not very helpful for our analysis. It is likely that our extractors are going to struggle with these kinds of reviews. Therefore, we remove all reviews that have less than `10` words."
   ]
  },
  {
   "cell_type": "code",
   "execution_count": 20,
   "metadata": {},
   "outputs": [
    {
     "name": "stdout",
     "output_type": "stream",
     "text": [
      "Removed 0 reviews with less than 10 words ✅\n",
      "Number of reviews: 5508\n"
     ]
    }
   ],
   "source": [
    "# Remove the shortest reviews by word count from the dataset\n",
    "MIN_WORDS = 10\n",
    "filtered_review = reviews.copy()\n",
    "reviews = reviews[word_lengths >= MIN_WORDS]\n",
    "\n",
    "print(f\"Removed {(word_lengths < MIN_WORDS).sum()} reviews with less than {MIN_WORDS} words ✅\")\n",
    "print(f\"Number of reviews: {len(reviews)}\")"
   ]
  },
  {
   "cell_type": "markdown",
   "metadata": {},
   "source": [
    "## Analysis\n",
    "\n",
    "---\n"
   ]
  },
  {
   "cell_type": "markdown",
   "metadata": {},
   "source": [
    "### Extractors\n",
    "\n",
    "Before we embed reviews into a numerical representation, we preprocess them using different **extractors modules**. For this project, we have considered the following method:\n",
    "\n",
    "(1) `DummyExtractor`: This is a dummy extractor that does not do any preprocessing. It simply returns the input text as is.\n",
    "\n",
    "(2) `LemmaExtractor`: Tokenizes the text and then uses only *lemmas* of the extracted tokens. A lemma is the base form of a word. For example, the lemma of **was** is **be**. Thus, the `LemmaExtractor` might be thougt of as a text normaliser which maps all tokens to the normalised space.\n",
    "\n",
    "(3) `AdjectiveExtractor`: As the name suggests, extract tokens which were classified by `spaCy` as **adjectives**.\n"
   ]
  },
  {
   "cell_type": "code",
   "execution_count": 21,
   "metadata": {},
   "outputs": [],
   "source": [
    "# Define all extractor models\n",
    "extractor_models: list[extractors.ExtractorBase] = [\n",
    "    extractors.DummyExtractor(),\n",
    "    extractors.LemmaExtractor(),\n",
    "    extractors.AdjectiveExtractor()\n",
    "]"
   ]
  },
  {
   "cell_type": "markdown",
   "metadata": {},
   "source": [
    "We want to understand the behaviour of each of the extractors in detail. To do this, we process an example review."
   ]
  },
  {
   "cell_type": "code",
   "execution_count": 22,
   "metadata": {},
   "outputs": [],
   "source": [
    "# Define demo review\n",
    "demo_review = \\\n",
    "\"\"\"Pours with a frothy head then settles to a thin head with thin lacing. \n",
    "Transparent. Golden to bronze in color. Dry grains. \n",
    "Light notes of citrus - orange. Pilsner-esque. Very light malt sweetness - caramel. \n",
    "Moves to a dry hoppy-ness. Light bodied. Dry. Somewhat chalky. Meh. \n",
    "Just average. Not one I would suggest to a friend, but thank for the organic \n",
    "ingredients.\n",
    "\"\"\"\n",
    "\n",
    "# Preprocess the example with Spacy\n",
    "processed_demo_review = [nlp(demo_review)]"
   ]
  },
  {
   "cell_type": "code",
   "execution_count": 23,
   "metadata": {},
   "outputs": [],
   "source": [
    "# Run the extractors against the example\n",
    "transformed_all = []\n",
    "for extractor in extractor_models:\n",
    "    transformed_example = extractor.transform(processed_demo_review)\n",
    "    transformed_all.append(transformed_example[0])"
   ]
  },
  {
   "cell_type": "markdown",
   "metadata": {},
   "source": [
    "Starting with the `DummyExtractor`, we can use it as a reference baseline for the other two extractors."
   ]
  },
  {
   "cell_type": "code",
   "execution_count": 24,
   "metadata": {},
   "outputs": [
    {
     "name": "stdout",
     "output_type": "stream",
     "text": [
      "DummyExtractor:\n",
      " Pours with a frothy head then settles to a thin head with thin lacing. \n",
      "Transparent. Golden to bronze in color. Dry grains. \n",
      "Light notes of citrus - orange. Pilsner-esque. Very light malt sweetness - caramel. \n",
      "Moves to a dry hoppy-ness. Light bodied. Dry. Somewhat chalky. Meh. \n",
      "Just average. Not one I would suggest to a friend, but thank for the organic \n",
      "ingredients.\n"
     ]
    }
   ],
   "source": [
    "print(\"DummyExtractor:\\n\", transformed_all[0].strip())"
   ]
  },
  {
   "cell_type": "markdown",
   "metadata": {},
   "source": [
    "Let's look at the `LemmaExtractor` next."
   ]
  },
  {
   "cell_type": "code",
   "execution_count": 25,
   "metadata": {},
   "outputs": [
    {
     "name": "stdout",
     "output_type": "stream",
     "text": [
      "LemmaExtractor\n",
      " pour with a frothy head then settle to a thin head with thin lacing . \n",
      " Transparent . golden to bronze in color . dry grain . \n",
      " Light note of citrus - orange . Pilsner - esque . very light malt sweetness - caramel . \n",
      " move to a dry hoppy - ness . Light body . Dry . somewhat chalky . Meh . \n",
      " just average . not one I would suggest to a friend , but thank for the organic \n",
      " ingredient .\n"
     ]
    }
   ],
   "source": [
    "print(\"LemmaExtractor\\n\", transformed_all[1].strip())"
   ]
  },
  {
   "cell_type": "markdown",
   "metadata": {},
   "source": [
    "As the text below shows, `LemmaExtractor` has normalised the words to their base form (lemma), a couple of examples:\n",
    "\n",
    "(1) `grains` -> `grain` (get rid of the plural form)\n",
    "\n",
    "(2) `settles` -> `settle` (remove `s` from the he/she/it form)\n",
    "\n",
    "(3) `bodied` -> `body` (stem form)\n",
    "\n",
    "Apart from the lemmatisation, we can also see that how `spaCy` tokenizes the text. In particular, it treats punctuation marks as separate tokens. For example, `.` is a separate token."
   ]
  },
  {
   "cell_type": "markdown",
   "metadata": {},
   "source": [
    "Lastly, we run the `AdjectiveExtractor` on the example review."
   ]
  },
  {
   "cell_type": "code",
   "execution_count": 26,
   "metadata": {},
   "outputs": [
    {
     "name": "stdout",
     "output_type": "stream",
     "text": [
      "AdjectiveExtractor\n",
      " frothy thin thin Golden Dry orange esque light dry chalky average organic\n"
     ]
    }
   ],
   "source": [
    "print(\"AdjectiveExtractor\\n\", transformed_all[2].strip())"
   ]
  },
  {
   "cell_type": "markdown",
   "metadata": {},
   "source": [
    "Finally, looking at the `AdjectiveExtractor`, we can see that it strips the text to only adjectives, thereby potentially losing some useful information. On the other hand,\n",
    "for the purposes of our analysis, this might be in fact useful as we only want our embeddings be based on the descriptive words related to beer and avoid the noise."
   ]
  },
  {
   "cell_type": "markdown",
   "metadata": {},
   "source": [
    "Now, let's run the extractors against the reviews and store them back into the data frame."
   ]
  },
  {
   "cell_type": "code",
   "execution_count": 27,
   "metadata": {},
   "outputs": [
    {
     "name": "stderr",
     "output_type": "stream",
     "text": [
      "100%|██████████| 5508/5508 [02:27<00:00, 37.35it/s]\n"
     ]
    }
   ],
   "source": [
    "processed_reviews = [nlp(text) for text in tqdm(reviews.review.text.tolist())]\n",
    "reviews[(\"review\", \"docs\")] = processed_reviews"
   ]
  },
  {
   "cell_type": "markdown",
   "metadata": {},
   "source": [
    "Now, we will run the extractors against the reviews and show the word frequency and the 10 most frequent words for each extractor."
   ]
  },
  {
   "cell_type": "code",
   "execution_count": 28,
   "metadata": {},
   "outputs": [
    {
     "data": {
      "image/png": "[encoded data removed]",
      "text/plain": [
       "<Figure size 1000x500 with 3 Axes>"
      ]
     },
     "metadata": {},
     "output_type": "display_data"
    }
   ],
   "source": [
    "# We map the list of docs to the list of preprocessed strings\n",
    "extracted_reviews = [extractor.transform(processed_reviews) for extractor in extractor_models]\n",
    "frequencies = [utils.get_word_frequency(text) for text in extracted_reviews]\n",
    "\n",
    "# Plot the word frequency of top-10 words for each extractor\n",
    "fig, axes = plt.subplots(1, 3, figsize=(10, 5))\n",
    "for ax, freq, extractor in zip(axes, frequencies, extractor_models):\n",
    "    sns.barplot(x='frequency', y='word', data=freq.head(10), ax=ax)\n",
    "    ax.set_title(extractor.name)\n",
    "    ax.set_xlabel('Word Frequency')\n",
    "    ax.set_ylabel('Word')\n",
    "\n",
    "plt.tight_layout()"
   ]
  },
  {
   "cell_type": "markdown",
   "metadata": {},
   "source": [
    "In summary, each of the extractors works as expected. Given the manual inspection of the extraction process, we hypothesise that the `AdjectiveExtractor` is the most suitable one for our task because the adjectives are most related to the taste of a beer. Thus, numerically representing only the subset of adjectives is going to be the closest proxy to an embedding of the beer's taste."
   ]
  },
  {
   "cell_type": "markdown",
   "metadata": {},
   "source": [
    "### Embedders\n",
    "\n",
    "We need an embedding module to turn the extracted information from the reviews into a numeric representation. Let's go over how each one works.\n",
    "\n",
    "- CountEmbeddors uses sklearn's [CountVectorizer](https://scikit-learn.org/stable/modules/generated/sklearn.feature_extraction.text.CountVectorizer.html). Count vectorisation simply assigns each word in the vocabulary to a variable in the feature vector, and the values are the counts of each word. \n",
    "\n",
    "- TFIDF is similar to CountVectorizer, but also multiplies by an 'inverse document frequency' term. This weights a word in the vocabular by how frequently it appears in the corpus. Very common words are penalised, and rarer words are given more weight. This also uses sklearn's [TFIDFVectorizer](https://scikit-learn.org/stable/modules/generated/sklearn.feature_extraction.text.TfidfVectorizer.html). This is done using the following formula:\n",
    "\n",
    "$$w_{i,j} = tf_{i,j} \\times \\frac{N}{df_i}$$\n",
    "\n",
    "where $w_{i,j}$ denotes the TFIDF of the $i$ th term in review $j$, $tf_{i,j}$ is the 'term frequency' (the count vectorization) of term $i$ in review $j$, $N$ is the total number of reviews and $df_i$ is the 'document frequency' of term $i$ i.e. the number of documents in which $i$ appears. This second half of the equation corresponds to the 'inverse document frequency' (IDF) of TFIDF.\n",
    "\n",
    "- BERTEmbeddor uses `bert-base-uncased` [from HuggingFace](https://huggingface.co/bert-base-uncased). BERT is a bidirectional encoder-only transformer. There are many options for extracting embeddings from the model since there are 12 layers, and an embbedding for each token input. Currently, the implementation takes the penultimate hidden state of the model and takes the mean across all tokens in the input (see [this guide](https://mccormickml.com/2019/05/14/BERT-word-embeddings-tutorial/)).\n",
    "\n",
    "- SentenceTransformerEmbeddor uses the recommended `all-MiniLM-L6-v2` model from the `sentence-transformers` [library]((https://www.sbert.net/docs/pretrained_models.html)). These models take outputs from BERT, conduct pooling similar to above (e.g. by default, mean of last layer), and are trained on various sentence-related NLP problems using [Siamese networks](https://towardsdatascience.com/a-friendly-introduction-to-siamese-networks-85ab17522942)."
   ]
  },
  {
   "cell_type": "markdown",
   "metadata": {},
   "source": [
    "Let's initialize the embedder models and run them first on some dummy reviews and then a small sample of the actual reviews."
   ]
  },
  {
   "cell_type": "code",
   "execution_count": 29,
   "metadata": {},
   "outputs": [],
   "source": [
    "# Initalise embedders\n",
    "embedding_models: list[embedders.EmbedderBase] = [\n",
    "    embedders.CountEmbedder(),\n",
    "    embedders.TfidfEmbedder(),\n",
    "    embedders.BertEmbedder(),\n",
    "    embedders.SentenceTransformerEmbedder(),\n",
    "]"
   ]
  },
  {
   "cell_type": "markdown",
   "metadata": {},
   "source": [
    "First, we compute the cosine similary between the first sentence and each subsequent sentence for each of the embedding models."
   ]
  },
  {
   "cell_type": "code",
   "execution_count": 30,
   "metadata": {},
   "outputs": [
    {
     "name": "stdout",
     "output_type": "stream",
     "text": [
      "Similarity between first and nth sentence:\n"
     ]
    },
    {
     "data": {
      "text/html": [
       "<div>\n",
       "<style scoped>\n",
       "    .dataframe tbody tr th:only-of-type {\n",
       "        vertical-align: middle;\n",
       "    }\n",
       "\n",
       "    .dataframe tbody tr th {\n",
       "        vertical-align: top;\n",
       "    }\n",
       "\n",
       "    .dataframe thead th {\n",
       "        text-align: right;\n",
       "    }\n",
       "</style>\n",
       "<table border=\"1\" class=\"dataframe\">\n",
       "  <thead>\n",
       "    <tr style=\"text-align: right;\">\n",
       "      <th></th>\n",
       "      <th>Similarity 1</th>\n",
       "      <th>Similarity 2</th>\n",
       "      <th>Similarity 3</th>\n",
       "      <th>Similarity 4</th>\n",
       "      <th>Similarity 5</th>\n",
       "      <th>Similarity 6</th>\n",
       "    </tr>\n",
       "  </thead>\n",
       "  <tbody>\n",
       "    <tr>\n",
       "      <th>CountEmbedder</th>\n",
       "      <td>0.158114</td>\n",
       "      <td>0.353553</td>\n",
       "      <td>0.288675</td>\n",
       "      <td>0.392232</td>\n",
       "      <td>0.204124</td>\n",
       "      <td>0.5</td>\n",
       "    </tr>\n",
       "    <tr>\n",
       "      <th>TfidfEmbedder</th>\n",
       "      <td>0.087044</td>\n",
       "      <td>0.224413</td>\n",
       "      <td>0.170776</td>\n",
       "      <td>0.248458</td>\n",
       "      <td>0.116718</td>\n",
       "      <td>0.379978</td>\n",
       "    </tr>\n",
       "    <tr>\n",
       "      <th>BertEmbedder</th>\n",
       "      <td>0.617567</td>\n",
       "      <td>0.79183</td>\n",
       "      <td>0.791252</td>\n",
       "      <td>0.828123</td>\n",
       "      <td>0.721489</td>\n",
       "      <td>0.776372</td>\n",
       "    </tr>\n",
       "    <tr>\n",
       "      <th>SentenceTransformerEmbedder</th>\n",
       "      <td>0.094767</td>\n",
       "      <td>0.667616</td>\n",
       "      <td>0.69976</td>\n",
       "      <td>0.718871</td>\n",
       "      <td>0.334227</td>\n",
       "      <td>0.650784</td>\n",
       "    </tr>\n",
       "  </tbody>\n",
       "</table>\n",
       "</div>"
      ],
      "text/plain": [
       "                            Similarity 1 Similarity 2 Similarity 3  \\\n",
       "CountEmbedder                   0.158114     0.353553     0.288675   \n",
       "TfidfEmbedder                   0.087044     0.224413     0.170776   \n",
       "BertEmbedder                    0.617567      0.79183     0.791252   \n",
       "SentenceTransformerEmbedder     0.094767     0.667616      0.69976   \n",
       "\n",
       "                            Similarity 4 Similarity 5 Similarity 6  \n",
       "CountEmbedder                   0.392232     0.204124          0.5  \n",
       "TfidfEmbedder                   0.248458     0.116718     0.379978  \n",
       "BertEmbedder                    0.828123     0.721489     0.776372  \n",
       "SentenceTransformerEmbedder     0.718871     0.334227     0.650784  "
      ]
     },
     "execution_count": 30,
     "metadata": {},
     "output_type": "execute_result"
    }
   ],
   "source": [
    "# Create a dataframe with some sample reviews\n",
    "embedder_demo = pd.DataFrame(\n",
    "    {\n",
    "        \"text\": [\n",
    "            \"The beer is nice, with sweet nutty flavours\",\n",
    "            \"This is a very different sentence\",\n",
    "            \"Not sweet enough. I like my beer sweet. \",\n",
    "            \"Not sweet at all. Terrible beer. \",\n",
    "            \"Not sweet at all. But I like bitter beers so it is a nice beer. \",\n",
    "            \"Piss yellow beer\",\n",
    "            \"Sweet beer\"\n",
    "        ]\n",
    "    }\n",
    ")\n",
    "\n",
    "# Initialise results dataframe\n",
    "results = pd.DataFrame(\n",
    "    index=[model.name for model in embedding_models], \n",
    "    columns=[f\"Similarity {i}\" for i in range(1, len(embedder_demo))]\n",
    ")\n",
    "\n",
    "# Compute the similarity between the first and the nth sentence\n",
    "for i in range(1, len(embedder_demo)):\n",
    "    for model in embedding_models:\n",
    "        similarity = utils.compute_similarity(model, embedder_demo[\"text\"][0], embedder_demo[\"text\"][i])\n",
    "        results.loc[model.name, f\"Similarity {i}\"] = similarity\n",
    "\n",
    "print(\"Similarity between first and nth sentence:\")\n",
    "results.head()"
   ]
  },
  {
   "cell_type": "markdown",
   "metadata": {},
   "source": [
    "Here we can see the obvious pitfall of using CountVectorizer and TFIDF - they lose all context. Sentences 3 and 4 would ideally have the lowest similairty with sentence 1 since they are opposite in meaning. However, these samples all use the same words which Count and TFIDF interpret as therefore being similar. If, during the pipeline, we were to group beers by some measure that affects their sweetness, then in order to confirm out hypothesis we would like to see an increase of similarity inside each group, but we may lower similarity due to negations.\n",
    "\n",
    "However, BERT and SentenceTransformers are not necessarily better. The values are far less interpretable, with sentence embeddor falling for a similar negation trap since similarities 3 and 4 are higher than 7. Interestingly, SentenceTransformer was far better than BERT at differentiating between sentences on different topic matters (similarity 2). BERT's scores are all broadly similar, and roughly gets the order in line what we might expect, but we have little faith that this translates any better than sentence transformer to the real reviews since these little samples play into BERT's context-aware strengths.\n",
    "\n",
    "However, for now, we will try to make conclusions using tf-idf. It is the most interpretable (we can get out the most impactful words at the end), and so long as there are enough reviews that are long enough, we should see a meaningful vocabulary emerge. If the tfidf embeddings seem to be limiting us in the future, we can experiment with other methods."
   ]
  },
  {
   "cell_type": "markdown",
   "metadata": {},
   "source": [
    "Now let's try with some real sample reviews."
   ]
  },
  {
   "cell_type": "code",
   "execution_count": 31,
   "metadata": {},
   "outputs": [
    {
     "name": "stdout",
     "output_type": "stream",
     "text": [
      "Similarity between first and nth sentence:\n"
     ]
    },
    {
     "data": {
      "text/html": [
       "<div>\n",
       "<style scoped>\n",
       "    .dataframe tbody tr th:only-of-type {\n",
       "        vertical-align: middle;\n",
       "    }\n",
       "\n",
       "    .dataframe tbody tr th {\n",
       "        vertical-align: top;\n",
       "    }\n",
       "\n",
       "    .dataframe thead th {\n",
       "        text-align: right;\n",
       "    }\n",
       "</style>\n",
       "<table border=\"1\" class=\"dataframe\">\n",
       "  <thead>\n",
       "    <tr style=\"text-align: right;\">\n",
       "      <th></th>\n",
       "      <th>Similarity 1</th>\n",
       "      <th>Similarity 2</th>\n",
       "      <th>Similarity 3</th>\n",
       "    </tr>\n",
       "  </thead>\n",
       "  <tbody>\n",
       "    <tr>\n",
       "      <th>CountEmbedder</th>\n",
       "      <td>0.301358</td>\n",
       "      <td>0.324482</td>\n",
       "      <td>0.296816</td>\n",
       "    </tr>\n",
       "    <tr>\n",
       "      <th>TfidfEmbedder</th>\n",
       "      <td>0.184997</td>\n",
       "      <td>0.222741</td>\n",
       "      <td>0.181423</td>\n",
       "    </tr>\n",
       "    <tr>\n",
       "      <th>BertEmbedder</th>\n",
       "      <td>0.928967</td>\n",
       "      <td>0.89636</td>\n",
       "      <td>0.941803</td>\n",
       "    </tr>\n",
       "    <tr>\n",
       "      <th>SentenceTransformerEmbedder</th>\n",
       "      <td>0.569074</td>\n",
       "      <td>0.543028</td>\n",
       "      <td>0.536188</td>\n",
       "    </tr>\n",
       "  </tbody>\n",
       "</table>\n",
       "</div>"
      ],
      "text/plain": [
       "                            Similarity 1 Similarity 2 Similarity 3\n",
       "CountEmbedder                   0.301358     0.324482     0.296816\n",
       "TfidfEmbedder                   0.184997     0.222741     0.181423\n",
       "BertEmbedder                    0.928967      0.89636     0.941803\n",
       "SentenceTransformerEmbedder     0.569074     0.543028     0.536188"
      ]
     },
     "execution_count": 31,
     "metadata": {},
     "output_type": "execute_result"
    }
   ],
   "source": [
    "# Create a dataframe with some sample reviews\n",
    "embedder_sample = pd.DataFrame({ \"text\": reviews.sample(4, random_state=0).review.text.values.tolist() })\n",
    "\n",
    "# Initialise results dataframe\n",
    "results = pd.DataFrame(\n",
    "    index=[model.name for model in embedding_models], \n",
    "    columns=[f\"Similarity {i}\" for i in range(1, len(embedder_sample))]\n",
    ")\n",
    "\n",
    "# Compute the similarity between the first and the nth sentence\n",
    "for i in range(1, len(embedder_sample)):\n",
    "    for model in embedding_models:\n",
    "        similarity = utils.compute_similarity(model, embedder_sample[\"text\"][0], embedder_sample[\"text\"][i])\n",
    "        results.loc[model.name, f\"Similarity {i}\"] = similarity\n",
    "\n",
    "print(\"Similarity between first and nth sentence:\")\n",
    "results.head()"
   ]
  },
  {
   "cell_type": "markdown",
   "metadata": {},
   "source": [
    "Unsurprisinlgy, Count and TFIDF agree on ordering of similarity. However, BERT and SentenceTransformer disagree both with this ordering and each other. \n",
    "BERT is the less 'sure', with very high and close values, as in the previous example.\n",
    "\n",
    "Reading the reviews, it's very hard to define what the ordering *should* be, therefore it is hard to define which embedder has done a better job in this sample. Further investigation will be carried out for P3."
   ]
  },
  {
   "cell_type": "markdown",
   "metadata": {},
   "source": [
    "### Consensus Clustering\n",
    "\n",
    "The final step in the pipeline is to compute the consensus scores for a set of beer reviews. These are implemented as child classes of the `consensus.ConsensusBase` class. Currently, we have implemented the following consensus functions:\n",
    "\n",
    "- `CosineSimilarity`: Computes the pairwise cosine similarity between all reviews in a set of reviews. The consensus score is the mean of all pairwise cosine similarities."
   ]
  },
  {
   "cell_type": "code",
   "execution_count": 32,
   "metadata": {},
   "outputs": [],
   "source": [
    "# Initialise the consensus models\n",
    "consensus_models: list[consensus.ConsensusBase] = [\n",
    "    consensus.CosineSimilarity(),\n",
    "]"
   ]
  },
  {
   "cell_type": "markdown",
   "metadata": {},
   "source": [
    "## Pipeline\n",
    "\n",
    "---"
   ]
  },
  {
   "cell_type": "markdown",
   "metadata": {},
   "source": [
    "We can bring the previous steps together into a `pipeline.TextAnalysis` objec that exposes a `transform` method which brings together all of the previous functionality.\n",
    "\n",
    "We can now easily pass in a group of reviews and obtain a consensus score."
   ]
  },
  {
   "cell_type": "code",
   "execution_count": 33,
   "metadata": {},
   "outputs": [],
   "source": [
    "# Chosen extractor, embedder and consensus model\n",
    "adjective_extractor = extractors.AdjectiveExtractor()\n",
    "tfidf_embedder = embedders.TfidfEmbedder()\n",
    "cosine_consensus = consensus.CosineSimilarity()\n",
    "\n",
    "# Combine into pipeline\n",
    "pipe = pipeline.TextAnalysis(adjective_extractor, tfidf_embedder, cosine_consensus)"
   ]
  },
  {
   "cell_type": "code",
   "execution_count": 34,
   "metadata": {},
   "outputs": [
    {
     "name": "stdout",
     "output_type": "stream",
     "text": [
      "Overall Consensus: 0.06186846979687751\n"
     ]
    }
   ],
   "source": [
    "# Overall consensus score\n",
    "overall_consensus = pipe.transform(reviews.review.docs)\n",
    "\n",
    "print(f\"Overall Consensus: {overall_consensus}\")"
   ]
  },
  {
   "cell_type": "code",
   "execution_count": 35,
   "metadata": {},
   "outputs": [],
   "source": [
    "# Consensus within beer style\n",
    "consensus_scores_per_beer_style = reviews.groupby(by=(\"beer\", \"style\")).apply(lambda x: pipe.transform(x.review.docs))\n",
    "\n",
    "# Consensus within brewery\n",
    "consensus_scores_per_brewery = reviews.groupby(by=(\"brewery\", \"id\")).apply(lambda x: pipe.transform(x.review.docs))\n",
    "\n",
    "# Consensus within beer\n",
    "consensus_scores_per_beer = reviews.groupby(by=(\"beer\", \"id\")).apply(lambda x: pipe.transform(x.review.docs))"
   ]
  },
  {
   "cell_type": "code",
   "execution_count": 36,
   "metadata": {},
   "outputs": [
    {
     "name": "stdout",
     "output_type": "stream",
     "text": [
      "Consensus score per beer style: 0.0733874700271136\n",
      "Consensus score per brewery: 0.06991285303919346\n",
      "Consensus score per beer: 0.0763424682145174\n"
     ]
    }
   ],
   "source": [
    "print(f\"Consensus score per beer style: {consensus_scores_per_beer_style.mean()}\")\n",
    "print(f\"Consensus score per brewery: {consensus_scores_per_brewery.mean()}\")\n",
    "print(f\"Consensus score per beer: {consensus_scores_per_beer.mean()}\")"
   ]
  },
  {
   "cell_type": "markdown",
   "metadata": {},
   "source": [
    "While the consensus score does not change significantly, the consensus does increase for all 3 sub-groupings (style, brewery and beer). This is promising for confirming our hypothesis that language used differs between beer types."
   ]
  },
  {
   "cell_type": "markdown",
   "metadata": {},
   "source": [
    "**Next Steps**\n",
    "\n",
    "This notebook has shown that our pipeline is working as expected. The immediate next steps will be to run the analysis on the full dataset. Next, we have to quantify the certainity in the deviation of the consensus score that we observe between the different groupings and investigate the reasons behind this.\n",
    "\n",
    "For the further analysis, there are many more avenues which we can explore, including groupings by other variables, interpretability of the language use (through TFIDF) and combination with an additional dataset of critics' reviews."
   ]
  }
 ],
 "metadata": {
  "kernelspec": {
   "display_name": "std",
   "language": "python",
   "name": "python3"
  },
  "language_info": {
   "codemirror_mode": {
    "name": "ipython",
    "version": 3
   },
   "file_extension": ".py",
   "mimetype": "text/x-python",
   "name": "python",
   "nbconvert_exporter": "python",
   "pygments_lexer": "ipython3",
   "version": "3.10.10"
  }
 },
 "nbformat": 4,
 "nbformat_minor": 2
}
