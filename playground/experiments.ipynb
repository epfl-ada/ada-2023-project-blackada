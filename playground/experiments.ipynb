{
 "cells": [
  {
   "cell_type": "code",
   "execution_count": 1,
   "metadata": {},
   "outputs": [],
   "source": [
    "# Enable continuous module reloading\n",
    "%load_ext autoreload\n",
    "%autoreload 2\n",
    "\n",
    "# Standard library\n",
    "import os\n",
    "import sys\n",
    "sys.path.append('..')\n",
    "# External library\n",
    "import matplotlib.pyplot as plt\n",
    "import numpy as np\n",
    "from tqdm import tqdm\n",
    "import seaborn as sns\n",
    "import pandas as pd\n",
    "import scipy\n",
    "import statsmodels.api as sm\n",
    "from statsmodels.formula.api import ols\n",
    "from statsmodels.stats.multicomp import pairwise_tukeyhsd\n",
    "\n",
    "# Custom modules\n",
    "from src import utils\n",
    "from src.consensus import *\n",
    "from src.aggregator import EmbeddingAggregator\n",
    "# from src import pipeline"
   ]
  },
  {
   "cell_type": "markdown",
   "metadata": {},
   "source": [
    "And set some global variables.\n"
   ]
  },
  {
   "cell_type": "code",
   "execution_count": 2,
   "metadata": {},
   "outputs": [],
   "source": [
    "# Plotting settings\n",
    "from process_data import PROCESSED_DIR\n",
    "\n",
    "\n",
    "colorstyle = \"RdBu\"\n",
    "sns.set_style(\"dark\")\n",
    "sns.set_palette(colorstyle)\n",
    "\n",
    "# Pandas settings\n",
    "pd.options.display.max_colwidth = 150\n",
    "\n",
    "# Subsetting options\n",
    "SUBSET = True \n",
    "NUM_SUBSET_SAMPLES = 10_000 # Expects that `process_data.py --limit NUM_SUBSET_SAMPLES`\n",
    "\n",
    "# Paths\n",
    "ROOT_DIR = os.getcwd()\n",
    "ROOT_DIR = os.path.join(ROOT_DIR, \"..\")\n",
    "DATA_DIR = os.path.join(ROOT_DIR, \"data\")\n",
    "PROCESSED_DIR = os.path.join(DATA_DIR, \"processed\")\n",
    "\n",
    "# Random seed\n",
    "SEED = 42\n",
    "np.random.seed(SEED)\n",
    "SHUFFLE_REVIEWS = True \n",
    "\n",
    "# Type of metric\n",
    "METRIC = \"cosine\"  # cosine, kl, js, correlation\n",
    "MAX_SAMPLES = 10_000 # Maximum number of samples for a specific group\n",
    "MIN_NUM_REVIEWS = 30 # Minimum number of reviews for a beer to be included in the analysis\n",
    "\n",
    "# Ensure data directory exists\n",
    "os.makedirs(DATA_DIR, exist_ok=True)"
   ]
  },
  {
   "cell_type": "code",
   "execution_count": 3,
   "metadata": {},
   "outputs": [
    {
     "name": "stdout",
     "output_type": "stream",
     "text": [
      "Loaded 2400935 reviews and 2400935 embeddings.\n",
      "Filtered to 1763726 reviews and 1763726 embeddings.\n",
      "Shuffled reviews.\n"
     ]
    }
   ],
   "source": [
    "reviews = utils.load_data(PROCESSED_DIR, None, False, None)\n",
    "embeddings = utils.load_embeddings(PROCESSED_DIR, None)\n",
    "assert len(reviews) == embeddings.shape[0]\n",
    "print(f\"Loaded {len(reviews)} reviews and {embeddings.shape[0]} embeddings.\")\n",
    "embeddings, reviews = utils.filter_data(embeddings, reviews, 30)\n",
    "print(f\"Filtered to {len(reviews)} reviews and {embeddings.shape[0]} embeddings.\")\n",
    "if SHUFFLE_REVIEWS:\n",
    "    random_indices = np.random.permutation(embeddings.shape[0])\n",
    "    embeddings = embeddings[random_indices]\n",
    "    print(\"Shuffled reviews.\")"
   ]
  },
  {
   "cell_type": "code",
   "execution_count": 8,
   "metadata": {},
   "outputs": [
    {
     "name": "stdout",
     "output_type": "stream",
     "text": [
      "Using cosine consensus\n",
      "Beer groups: 24763\n",
      "Style groups: 11\n",
      "Substyle groups: 104\n",
      "General groups: 1\n"
     ]
    }
   ],
   "source": [
    "# Chosen extractor, embedder and consensus model\n",
    "consensus: ConsensusBase\n",
    "if METRIC == \"cosine\":\n",
    "    consensus =CosineSimilarity()\n",
    "    print(\"Using cosine consensus\")\n",
    "elif METRIC == \"correlation\":\n",
    "    consensus = Correlation()\n",
    "    print(\"Using correlation consensus\")\n",
    "elif METRIC == \"kl\":\n",
    "    consensus = KullbackLeiblerDivergence()\n",
    "    print(\"Using KL consensus\")\n",
    "elif METRIC == \"js\":\n",
    "    consensus = JensenShannonDivergence()\n",
    "    print(\"Using JS consensus\")\n",
    "else:\n",
    "    raise ValueError(\"Invalid metric\")\n",
    "\n",
    "beer_aggregator = EmbeddingAggregator(embeddings,reviews, consensus, ('beer', 'name'))\n",
    "style_aggregator = EmbeddingAggregator(embeddings,reviews, consensus, ('beer', 'style'))\n",
    "substyle_aggregator = EmbeddingAggregator(embeddings,reviews, consensus, ('beer', 'substyle'))\n",
    "gereral_aggregator = EmbeddingAggregator(embeddings,reviews, consensus, None)\n",
    "\n",
    "print(f\"Beer groups: {len(beer_aggregator.groups)}\")\n",
    "print(f\"Style groups: {len(style_aggregator.groups)}\")\n",
    "print(f\"Substyle groups: {len(substyle_aggregator.groups)}\")\n",
    "print(f\"General groups: {len(gereral_aggregator.groups)}\")"
   ]
  },
  {
   "cell_type": "markdown",
   "metadata": {},
   "source": [
    "### First experiment\n",
    "\n",
    "Here we try to calculate the average consenus for each group at each level dute to the computational restrictions we take only a sample for the large groups."
   ]
  },
  {
   "cell_type": "code",
   "execution_count": 9,
   "metadata": {},
   "outputs": [
    {
     "name": "stderr",
     "output_type": "stream",
     "text": [
      "Processing Group General: 100%|██████████| 1/1 [00:02<00:00,  2.53s/it]\n",
      "Processing Group Style: 100%|██████████| 11/11 [00:30<00:00,  2.73s/it]\n",
      "Processing Group Substyle: 100%|██████████| 104/104 [03:22<00:00,  1.95s/it]\n",
      "Processing Group Beer: 100%|██████████| 24763/24763 [38:19<00:00, 10.77it/s] \n"
     ]
    },
    {
     "name": "stdout",
     "output_type": "stream",
     "text": [
      "️✅ Created consensus dataframe of shape (24879, 3).\n"
     ]
    }
   ],
   "source": [
    "# Make a nice df\n",
    "levels = [\"General\", \"Style\", \"Substyle\", \"Beer\"]\n",
    "consensus_levels = [\n",
    "    gereral_aggregator,\n",
    "    style_aggregator,\n",
    "    substyle_aggregator,\n",
    "    beer_aggregator,\n",
    "]\n",
    "MAX_SAMPLES = 10000\n",
    "consensus_df = []\n",
    "for level, consensus_level in zip(levels, consensus_levels):\n",
    "    for group in tqdm(consensus_level.groups, desc=f\"Processing Group {level}\"):\n",
    "        con = consensus_level.get_consensus_distribution(group, max_samples=MAX_SAMPLES).mean()\n",
    "\n",
    "        consensus_df.append(\n",
    "            {\n",
    "                \"level\": level,\n",
    "                \"group\": group,\n",
    "                \"consensus\": con,\n",
    "            }\n",
    "        )\n",
    "\n",
    "consensus_df = pd.DataFrame(consensus_df)\n",
    "# save\n",
    "print(f\"️✅ Created consensus dataframe of shape {consensus_df.shape}.\")"
   ]
  },
  {
   "cell_type": "code",
   "execution_count": 10,
   "metadata": {},
   "outputs": [
    {
     "data": {
      "text/plain": [
       "level\n",
       "General     0.052502\n",
       "Style       0.052467\n",
       "Substyle    0.052586\n",
       "Beer        0.052549\n",
       "Name: consensus, dtype: float64"
      ]
     },
     "execution_count": 10,
     "metadata": {},
     "output_type": "execute_result"
    }
   ],
   "source": [
    "# Compute the mean consensus dataframe\n",
    "mean_consensus_df = consensus_df.groupby(by=[\"level\"])[\"consensus\"].mean()\n",
    "mean_consensus_df.reindex(levels)"
   ]
  },
  {
   "cell_type": "code",
   "execution_count": 11,
   "metadata": {},
   "outputs": [
    {
     "name": "stdout",
     "output_type": "stream",
     "text": [
      "✅ Plotted distribution of all consensus scores in levels.\n"
     ]
    },
    {
     "data": {
      "image/png": "[encoded data removed]",
      "text/plain": [
       "<Figure size 2000x600 with 2 Axes>"
      ]
     },
     "metadata": {},
     "output_type": "display_data"
    }
   ],
   "source": [
    "# Plot distributions of mean consensus scores\n",
    "fig, axs = plt.subplots(ncols=2, figsize=(20, 6))\n",
    "fig.suptitle(\"Distribution Shift\", fontsize=16)\n",
    "\n",
    "# Boxplot of consensus scores per level\n",
    "sns.boxplot(\n",
    "    data=consensus_df,\n",
    "    x=\"level\",\n",
    "    y=\"consensus\",\n",
    "    hue=\"level\",\n",
    "    order=levels,\n",
    "    showfliers=False,\n",
    "    palette=\"CMRmap\",\n",
    "    ax=axs[0],\n",
    ")\n",
    "\n",
    "# Distplot of consensus scores per level\n",
    "sns.histplot(\n",
    "    data=consensus_df,\n",
    "    x=\"consensus\",\n",
    "    hue=\"level\",\n",
    "    stat=\"probability\",\n",
    "    kde=True,\n",
    "    fill=True,\n",
    "    common_norm=False,\n",
    "    palette=\"CMRmap\",\n",
    "    ax=axs[1]\n",
    ")\n",
    "\n",
    "print(f\"✅ Plotted distribution of all consensus scores in levels.\")"
   ]
  },
  {
   "cell_type": "markdown",
   "metadata": {},
   "source": [
    "### Statistical Tests\n",
    "\n",
    "We pefrom a statistical test with the null hypothesis that the average consensus scores in each level of grouping are the same. We use the ANOVA test to test this hypothesis at the 1% significance level. We have different number of samples in each group, so we use the type 2 ANOVA test which is more robust to unequal sample sizes. [Source](https://www.r-bloggers.com/2011/03/anova-%e2%80%93-type-iiiiii-ss-explained/)"
   ]
  },
  {
   "cell_type": "code",
   "execution_count": 55,
   "metadata": {},
   "outputs": [],
   "source": [
    "# consensus_df = consensus_df[consensus_df['level'] != 'General']"
   ]
  },
  {
   "cell_type": "code",
   "execution_count": 12,
   "metadata": {},
   "outputs": [
    {
     "data": {
      "text/html": [
       "<div>\n",
       "<style scoped>\n",
       "    .dataframe tbody tr th:only-of-type {\n",
       "        vertical-align: middle;\n",
       "    }\n",
       "\n",
       "    .dataframe tbody tr th {\n",
       "        vertical-align: top;\n",
       "    }\n",
       "\n",
       "    .dataframe thead th {\n",
       "        text-align: right;\n",
       "    }\n",
       "</style>\n",
       "<table border=\"1\" class=\"dataframe\">\n",
       "  <thead>\n",
       "    <tr style=\"text-align: right;\">\n",
       "      <th></th>\n",
       "      <th>sum_sq</th>\n",
       "      <th>df</th>\n",
       "      <th>F</th>\n",
       "      <th>PR(&gt;F)</th>\n",
       "    </tr>\n",
       "  </thead>\n",
       "  <tbody>\n",
       "    <tr>\n",
       "      <th>C(level)</th>\n",
       "      <td>2.131981e-07</td>\n",
       "      <td>3.0</td>\n",
       "      <td>0.00091</td>\n",
       "      <td>0.999962</td>\n",
       "    </tr>\n",
       "    <tr>\n",
       "      <th>Residual</th>\n",
       "      <td>1.941714e+00</td>\n",
       "      <td>24875.0</td>\n",
       "      <td>NaN</td>\n",
       "      <td>NaN</td>\n",
       "    </tr>\n",
       "  </tbody>\n",
       "</table>\n",
       "</div>"
      ],
      "text/plain": [
       "                sum_sq       df        F    PR(>F)\n",
       "C(level)  2.131981e-07      3.0  0.00091  0.999962\n",
       "Residual  1.941714e+00  24875.0      NaN       NaN"
      ]
     },
     "execution_count": 12,
     "metadata": {},
     "output_type": "execute_result"
    }
   ],
   "source": [
    "# We first need to fit an OLS model\n",
    "model = ols(\"consensus ~ C(level)\", data=consensus_df).fit()\n",
    "anova_table = sm.stats.anova_lm(model, typ=2)\n",
    "anova_table"
   ]
  },
  {
   "cell_type": "code",
   "execution_count": 13,
   "metadata": {},
   "outputs": [
    {
     "name": "stdout",
     "output_type": "stream",
     "text": [
      "The test statistic is 0.00 and the p-value is 1.00.\n"
     ]
    }
   ],
   "source": [
    "print(\n",
    "    f\"The test statistic is {anova_table.iloc[0]['F']:.2f} and the p-value is {anova_table.iloc[0]['PR(>F)']:.2f}.\"\n",
    ")"
   ]
  },
  {
   "cell_type": "code",
   "execution_count": 14,
   "metadata": {},
   "outputs": [
    {
     "data": {
      "text/html": [
       "<table class=\"simpletable\">\n",
       "<caption>Multiple Comparison of Means - Tukey HSD, FWER=0.01</caption>\n",
       "<tr>\n",
       "  <th>group1</th>   <th>group2</th>  <th>meandiff</th> <th>p-adj</th>  <th>lower</th>   <th>upper</th> <th>reject</th>\n",
       "</tr>\n",
       "<tr>\n",
       "   <td>Beer</td>    <td>General</td>   <td>-0.0</td>    <td>1.0</td>  <td>-0.0276</td> <td>0.0275</td>  <td>False</td>\n",
       "</tr>\n",
       "<tr>\n",
       "   <td>Beer</td>     <td>Style</td>   <td>-0.0001</td>  <td>1.0</td>  <td>-0.0084</td> <td>0.0082</td>  <td>False</td>\n",
       "</tr>\n",
       "<tr>\n",
       "   <td>Beer</td>   <td>Substyle</td>    <td>0.0</td>    <td>1.0</td>  <td>-0.0027</td> <td>0.0027</td>  <td>False</td>\n",
       "</tr>\n",
       "<tr>\n",
       "  <td>General</td>   <td>Style</td>    <td>-0.0</td>    <td>1.0</td>  <td>-0.0288</td> <td>0.0287</td>  <td>False</td>\n",
       "</tr>\n",
       "<tr>\n",
       "  <td>General</td> <td>Substyle</td>  <td>0.0001</td>   <td>1.0</td>  <td>-0.0276</td> <td>0.0277</td>  <td>False</td>\n",
       "</tr>\n",
       "<tr>\n",
       "   <td>Style</td>  <td>Substyle</td>  <td>0.0001</td>   <td>1.0</td>  <td>-0.0086</td> <td>0.0088</td>  <td>False</td>\n",
       "</tr>\n",
       "</table>"
      ],
      "text/latex": [
       "\\begin{center}\n",
       "\\begin{tabular}{ccccccc}\n",
       "\\toprule\n",
       "\\textbf{group1} & \\textbf{group2} & \\textbf{meandiff} & \\textbf{p-adj} & \\textbf{lower} & \\textbf{upper} & \\textbf{reject}  \\\\\n",
       "\\midrule\n",
       "      Beer      &     General     &        -0.0       &      1.0       &    -0.0276     &     0.0275     &      False       \\\\\n",
       "      Beer      &      Style      &      -0.0001      &      1.0       &    -0.0084     &     0.0082     &      False       \\\\\n",
       "      Beer      &     Substyle    &        0.0        &      1.0       &    -0.0027     &     0.0027     &      False       \\\\\n",
       "    General     &      Style      &        -0.0       &      1.0       &    -0.0288     &     0.0287     &      False       \\\\\n",
       "    General     &     Substyle    &       0.0001      &      1.0       &    -0.0276     &     0.0277     &      False       \\\\\n",
       "     Style      &     Substyle    &       0.0001      &      1.0       &    -0.0086     &     0.0088     &      False       \\\\\n",
       "\\bottomrule\n",
       "\\end{tabular}\n",
       "%\\caption{Multiple Comparison of Means - Tukey HSD, FWER=0.01}\n",
       "\\end{center}"
      ],
      "text/plain": [
       "<class 'statsmodels.iolib.table.SimpleTable'>"
      ]
     },
     "execution_count": 14,
     "metadata": {},
     "output_type": "execute_result"
    }
   ],
   "source": [
    "turkey_results = pairwise_tukeyhsd(\n",
    "   consensus_df['consensus'],consensus_df['level'], alpha=0.01\n",
    ")\n",
    "turkey_results.summary()"
   ]
  },
  {
   "cell_type": "markdown",
   "metadata": {},
   "source": [
    "### Second experiment\n",
    "\n",
    "Here we try something a bit faster we compute the average embedding for each group at each level and then compute the consensus among the average embeddings. This than reverses the trend we now expect that the average consensus will be higher for the most specific groups."
   ]
  },
  {
   "cell_type": "code",
   "execution_count": 15,
   "metadata": {},
   "outputs": [
    {
     "name": "stderr",
     "output_type": "stream",
     "text": [
      "Calculating average embeddings: 100%|██████████| 11/11 [00:02<00:00,  3.72it/s]\n",
      "Calculating average embeddings: 100%|██████████| 104/104 [00:10<00:00,  9.65it/s]\n",
      "Calculating average embeddings: 100%|██████████| 24763/24763 [41:59<00:00,  9.83it/s] \n"
     ]
    },
    {
     "name": "stdout",
     "output_type": "stream",
     "text": [
      "️✅ Created consensus dataframe of shape (306596114, 2).\n"
     ]
    }
   ],
   "source": [
    "levels = [\"Style\", \"Substyle\", \"Beer\"]\n",
    "consensus_levels = [\n",
    "    style_aggregator,\n",
    "    substyle_aggregator,\n",
    "    beer_aggregator,\n",
    "]\n",
    "disagreement_df = pd.DataFrame()\n",
    "for level, consensus_level in zip(levels, consensus_levels):\n",
    "    dist = consensus_level.get_overall_consensus_distribution()\n",
    "    dist = pd.DataFrame(dist, columns=[\"consensus\"])\n",
    "    dist[\"level\"] = level\n",
    "    disagreement_df= pd.concat([disagreement_df, dist])\n",
    "\n",
    "\n",
    "# save\n",
    "print(f\"️✅ Created consensus dataframe of shape {disagreement_df.shape}.\")"
   ]
  },
  {
   "cell_type": "code",
   "execution_count": 72,
   "metadata": {},
   "outputs": [
    {
     "data": {
      "text/html": [
       "<div>\n",
       "<style scoped>\n",
       "    .dataframe tbody tr th:only-of-type {\n",
       "        vertical-align: middle;\n",
       "    }\n",
       "\n",
       "    .dataframe tbody tr th {\n",
       "        vertical-align: top;\n",
       "    }\n",
       "\n",
       "    .dataframe thead th {\n",
       "        text-align: right;\n",
       "    }\n",
       "</style>\n",
       "<table border=\"1\" class=\"dataframe\">\n",
       "  <thead>\n",
       "    <tr style=\"text-align: right;\">\n",
       "      <th></th>\n",
       "      <th>consensus</th>\n",
       "    </tr>\n",
       "    <tr>\n",
       "      <th>level</th>\n",
       "      <th></th>\n",
       "    </tr>\n",
       "  </thead>\n",
       "  <tbody>\n",
       "    <tr>\n",
       "      <th>Style</th>\n",
       "      <td>0.999853</td>\n",
       "    </tr>\n",
       "    <tr>\n",
       "      <th>Substyle</th>\n",
       "      <td>0.992619</td>\n",
       "    </tr>\n",
       "  </tbody>\n",
       "</table>\n",
       "</div>"
      ],
      "text/plain": [
       "          consensus\n",
       "level              \n",
       "Style      0.999853\n",
       "Substyle   0.992619"
      ]
     },
     "execution_count": 72,
     "metadata": {},
     "output_type": "execute_result"
    }
   ],
   "source": [
    "mean_disagreement_df = consensus_df.groupby(\"level\").mean().reindex(levels)\n",
    "mean_disagreement_df"
   ]
  },
  {
   "cell_type": "code",
   "execution_count": 71,
   "metadata": {},
   "outputs": [
    {
     "name": "stdout",
     "output_type": "stream",
     "text": [
      "✅ Plotted distribution of all consensus scores in levels.\n"
     ]
    },
    {
     "data": {
      "image/png": "[encoded data removed]",
      "text/plain": [
       "<Figure size 2000x600 with 2 Axes>"
      ]
     },
     "metadata": {},
     "output_type": "display_data"
    }
   ],
   "source": [
    "# Plot distributions of mean consensus scores\n",
    "fig, axs = plt.subplots(ncols=2, figsize=(20, 6))\n",
    "fig.suptitle(\"Distribution Shift\", fontsize=16)\n",
    "\n",
    "# Boxplot of consensus scores per level\n",
    "sns.boxplot(\n",
    "    data=mean_disagreement_df,\n",
    "    x=\"level\",\n",
    "    y=\"consensus\",\n",
    "    hue=\"level\",\n",
    "    order=levels,\n",
    "    showfliers=False,\n",
    "    palette=\"CMRmap\",\n",
    "    ax=axs[0],\n",
    ")\n",
    "\n",
    "# Distplot of consensus scores per level\n",
    "sns.histplot(\n",
    "    data=mean_disagreement_df,\n",
    "    x=\"consensus\",\n",
    "    hue=\"level\",\n",
    "    stat=\"probability\",\n",
    "    kde=True,\n",
    "    fill=True,\n",
    "    common_norm=False,\n",
    "    palette=\"CMRmap\",\n",
    "    ax=axs[1],\n",
    ")\n",
    "\n",
    "print(f\"✅ Plotted distribution of all consensus scores in levels.\")"
   ]
  },
  {
   "cell_type": "code",
   "execution_count": 68,
   "metadata": {},
   "outputs": [
    {
     "data": {
      "text/html": [
       "<div>\n",
       "<style scoped>\n",
       "    .dataframe tbody tr th:only-of-type {\n",
       "        vertical-align: middle;\n",
       "    }\n",
       "\n",
       "    .dataframe tbody tr th {\n",
       "        vertical-align: top;\n",
       "    }\n",
       "\n",
       "    .dataframe thead th {\n",
       "        text-align: right;\n",
       "    }\n",
       "</style>\n",
       "<table border=\"1\" class=\"dataframe\">\n",
       "  <thead>\n",
       "    <tr style=\"text-align: right;\">\n",
       "      <th></th>\n",
       "      <th>sum_sq</th>\n",
       "      <th>df</th>\n",
       "      <th>F</th>\n",
       "      <th>PR(&gt;F)</th>\n",
       "    </tr>\n",
       "  </thead>\n",
       "  <tbody>\n",
       "    <tr>\n",
       "      <th>C(level)</th>\n",
       "      <td>0.002849</td>\n",
       "      <td>1.0</td>\n",
       "      <td>9.587046</td>\n",
       "      <td>0.00197</td>\n",
       "    </tr>\n",
       "    <tr>\n",
       "      <th>Residual</th>\n",
       "      <td>1.607407</td>\n",
       "      <td>5409.0</td>\n",
       "      <td>NaN</td>\n",
       "      <td>NaN</td>\n",
       "    </tr>\n",
       "  </tbody>\n",
       "</table>\n",
       "</div>"
      ],
      "text/plain": [
       "            sum_sq      df         F   PR(>F)\n",
       "C(level)  0.002849     1.0  9.587046  0.00197\n",
       "Residual  1.607407  5409.0       NaN      NaN"
      ]
     },
     "execution_count": 68,
     "metadata": {},
     "output_type": "execute_result"
    }
   ],
   "source": [
    "# We first need to fit an OLS model\n",
    "model = ols(\"consensus ~ C(level)\", data=consensus_df).fit()\n",
    "anova_table = sm.stats.anova_lm(model, typ=2)\n",
    "anova_table"
   ]
  },
  {
   "cell_type": "code",
   "execution_count": null,
   "metadata": {},
   "outputs": [],
   "source": [
    "print(\n",
    "    f\"The test statistic is {anova_table.iloc[0]['F']:.2f} and the p-value is {anova_table.iloc[0]['PR(>F)']:.2f}.\"\n",
    ")"
   ]
  },
  {
   "cell_type": "code",
   "execution_count": 70,
   "metadata": {},
   "outputs": [
    {
     "data": {
      "text/html": [
       "<table class=\"simpletable\">\n",
       "<caption>Multiple Comparison of Means - Tukey HSD, FWER=0.01</caption>\n",
       "<tr>\n",
       "  <th>group1</th>  <th>group2</th>  <th>meandiff</th> <th>p-adj</th>  <th>lower</th>   <th>upper</th>  <th>reject</th>\n",
       "</tr>\n",
       "<tr>\n",
       "   <td>Style</td> <td>Substyle</td>  <td>-0.0072</td> <td>0.002</td> <td>-0.0133</td> <td>-0.0012</td>  <td>True</td> \n",
       "</tr>\n",
       "</table>"
      ],
      "text/latex": [
       "\\begin{center}\n",
       "\\begin{tabular}{ccccccc}\n",
       "\\toprule\n",
       "\\textbf{group1} & \\textbf{group2} & \\textbf{meandiff} & \\textbf{p-adj} & \\textbf{lower} & \\textbf{upper} & \\textbf{reject}  \\\\\n",
       "\\midrule\n",
       "     Style      &     Substyle    &      -0.0072      &     0.002      &    -0.0133     &    -0.0012     &       True       \\\\\n",
       "\\bottomrule\n",
       "\\end{tabular}\n",
       "%\\caption{Multiple Comparison of Means - Tukey HSD, FWER=0.01}\n",
       "\\end{center}"
      ],
      "text/plain": [
       "<class 'statsmodels.iolib.table.SimpleTable'>"
      ]
     },
     "execution_count": 70,
     "metadata": {},
     "output_type": "execute_result"
    }
   ],
   "source": [
    "turkey_results = pairwise_tukeyhsd(\n",
    "    consensus_df[\"consensus\"],\n",
    "    consensus_df[\"level\"],\n",
    "    alpha=0.01,\n",
    ")\n",
    "turkey_results.summary()"
   ]
  },
  {
   "cell_type": "markdown",
   "metadata": {},
   "source": [
    "### Conduct experiments with different metrics\n"
   ]
  },
  {
   "cell_type": "code",
   "execution_count": 3,
   "metadata": {},
   "outputs": [
    {
     "name": "stderr",
     "output_type": "stream",
     "text": [
      "Processing Group General:   0%|          | 0/1 [00:00<?, ?it/s]"
     ]
    }
   ],
   "source": [
    "import pickle\n",
    "\n",
    "\n",
    "metrics = [\n",
    "    Correlation(),\n",
    "    KullbackLeiblerDivergence(),\n",
    "    CosineSimilarity(),\n",
    "    JensenShannonDivergence(),\n",
    "]\n",
    "shuffle = [True, False]\n",
    "MAX_SAMPLES = 10000\n",
    "levels1 = [\"General\", \"Style\", \"Substyle\", \"Beer\"]\n",
    "levels2 = [\"Style\", \"Substyle\", \"Beer\"]\n",
    "experiements = []\n",
    "\n",
    "for metric in metrics:\n",
    "    for shuf in shuffle:\n",
    "        reviews = utils.load_data(PROCESSED_DIR, None, False, None)\n",
    "        embeddings = utils.load_embeddings(PROCESSED_DIR)\n",
    "        embeddings, reviews = utils.filter_data(embeddings, reviews, 30)\n",
    "\n",
    "        if shuf:\n",
    "            random_indices = np.random.permutation(len(reviews))\n",
    "            embeddings = embeddings[random_indices]\n",
    "\n",
    "        beer_con = EmbeddingAggregator(embeddings, reviews, metric, (\"beer\", \"name\"))\n",
    "        style_aggregator = EmbeddingAggregator(\n",
    "            embeddings, reviews, metric, (\"beer\", \"style\")\n",
    "        )\n",
    "        substyle_aggregator = EmbeddingAggregator(\n",
    "            embeddings, reviews, metric, (\"beer\", \"substyle\")\n",
    "        )\n",
    "        gereral_aggregator = EmbeddingAggregator(embeddings, reviews, metric, None)\n",
    "        # First experiment\n",
    "        consensus_levels1 = [\n",
    "            gereral_aggregator,\n",
    "            style_aggregator,\n",
    "            substyle_aggregator,\n",
    "            beer_con,\n",
    "        ]\n",
    "        consensus_df = []\n",
    "        for level, consensus_level in zip(levels1, consensus_levels1):\n",
    "            for group in tqdm(consensus_level.groups, desc=f\"Processing Group {level}\"):\n",
    "                con = consensus_level.get_consensus_distribution(\n",
    "                    group, max_samples=MAX_SAMPLES\n",
    "                ).mean()\n",
    "\n",
    "                consensus_df.append(\n",
    "                    {\n",
    "                        \"level\": level,\n",
    "                        \"group\": group,\n",
    "                        \"consensus\": con,\n",
    "                        \"metric\": metric,\n",
    "                        \"shuffle\": shuf,\n",
    "                    }\n",
    "                )\n",
    "        consensus_df = pd.DataFrame(consensus_df)\n",
    "        mean_consensus_df = (\n",
    "            consensus_df.groupby(by=[\"level\"])[\"consensus\"].mean().reindex(levels1)\n",
    "        )\n",
    "        model1 = ols(\"consensus ~ C(level)\", data=consensus_df).fit()\n",
    "        anova_table1 = sm.stats.anova_lm(model1, typ=2)\n",
    "        turkey_results1 = pairwise_tukeyhsd(\n",
    "            consensus_df[\"consensus\"],\n",
    "            consensus_df[\"level\"],\n",
    "            alpha=0.01,\n",
    "        )\n",
    "\n",
    "        # Second experiment\n",
    "        consensus_levels2 = [style_aggregator, substyle_aggregator, beer_con]\n",
    "        consensus_df = pd.DataFrame()\n",
    "        for level, consensus_level in zip(levels2, consensus_levels2):\n",
    "            dist = consensus_level.get_overall_consensus_distribution()\n",
    "            dist = pd.DataFrame(dist, columns=[\"consensus\"])\n",
    "            dist[\"level\"] = level\n",
    "            dist[\"shuffle\"] = shuf\n",
    "            consensus_df = pd.concat([consensus_df, dist])\n",
    "        mean_disagreement_df = (\n",
    "            consensus_df.groupby(\"level\")[\"consensus\"].mean().reindex(levels2)\n",
    "        )\n",
    "        model2 = ols(\"consensus ~ C(level)\", data=consensus_df).fit()\n",
    "        anova_table2 = sm.stats.anova_lm(model2, typ=2)\n",
    "        turkey_results2 = pairwise_tukeyhsd(\n",
    "            consensus_df[\"consensus\"],\n",
    "            consensus_df[\"level\"],\n",
    "            alpha=0.01,\n",
    "        )\n",
    "        result = {}\n",
    "        result[\"metric\"] = type(metric).__name__\n",
    "        result[\"shuffle\"] = shuf\n",
    "        result[\"anova_table1\"] = anova_table1\n",
    "        result[\"turkey_results1\"] = turkey_results1\n",
    "        result[\"anova_table2\"] = anova_table2\n",
    "        result[\"turkey_results2\"] = turkey_results2\n",
    "        result[\"mean_consensus_df\"] = mean_consensus_df\n",
    "        result[\"mean_disagreement_df\"] = mean_disagreement_df\n",
    "        experiements.append(result)\n",
    "        print(f\"✅ Finished experiment with {metric} and shuffle {shuf}.\")\n",
    "\n",
    "        # Save results disctionary as binary file\n",
    "        with open(os.path.join(PROCESSED_DIR, \"experiments2.pkl\"), \"wb\") as f:\n",
    "            pickle.dump(experiements, f)\n",
    "\n",
    "print(f\"✅ Saved results dictionary as binary file.\")\n",
    "# load results\n",
    "with open(os.path.join(PROCESSED_DIR, \"experiments2.pkl\"), \"rb\") as f:\n",
    "    experiements_loaded = pickle.load(f)"
   ]
  },
  {
   "cell_type": "code",
   "execution_count": null,
   "metadata": {},
   "outputs": [],
   "source": []
  }
 ],
 "metadata": {
  "kernelspec": {
   "display_name": "std",
   "language": "python",
   "name": "python3"
  },
  "language_info": {
   "codemirror_mode": {
    "name": "ipython",
    "version": 3
   },
   "file_extension": ".py",
   "mimetype": "text/x-python",
   "name": "python",
   "nbconvert_exporter": "python",
   "pygments_lexer": "ipython3",
   "version": "3.10.13"
  }
 },
 "nbformat": 4,
 "nbformat_minor": 2
}
