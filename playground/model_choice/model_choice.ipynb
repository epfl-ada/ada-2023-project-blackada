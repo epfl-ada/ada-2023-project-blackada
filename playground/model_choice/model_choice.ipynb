{
 "cells": [
  {
   "cell_type": "markdown",
   "metadata": {},
   "source": [
    "### Example Usage\n",
    "(of the `embedding_models.py` file.)\n",
    "The file exposes a `ModelType` enum and an `embed_inputs` function which takes in a `pd.Series`, a model type and returns a new `pd.Series` representing the embedding for an input text using the method specified.\n",
    "\n",
    "The function is expecting the `pd.Series` to be a list of strings, rather than a list of list of strings. "
   ]
  },
  {
   "cell_type": "code",
   "execution_count": 5,
   "metadata": {},
   "outputs": [],
   "source": [
    "import importlib\n",
    "from embedding_models import embed_inputs, ModelType\n",
    "import pandas as pd"
   ]
  },
  {
   "cell_type": "code",
   "execution_count": 11,
   "metadata": {},
   "outputs": [
    {
     "data": {
      "text/html": [
       "<div>\n",
       "<style scoped>\n",
       "    .dataframe tbody tr th:only-of-type {\n",
       "        vertical-align: middle;\n",
       "    }\n",
       "\n",
       "    .dataframe tbody tr th {\n",
       "        vertical-align: top;\n",
       "    }\n",
       "\n",
       "    .dataframe thead th {\n",
       "        text-align: right;\n",
       "    }\n",
       "</style>\n",
       "<table border=\"1\" class=\"dataframe\">\n",
       "  <thead>\n",
       "    <tr style=\"text-align: right;\">\n",
       "      <th></th>\n",
       "      <th>text</th>\n",
       "      <th>SentenceTransformer</th>\n",
       "      <th>BERT</th>\n",
       "      <th>Count</th>\n",
       "      <th>TFIDF</th>\n",
       "    </tr>\n",
       "  </thead>\n",
       "  <tbody>\n",
       "    <tr>\n",
       "      <th>0</th>\n",
       "      <td>Hazy nutty flavours</td>\n",
       "      <td>[-0.05412261560559273, -0.06606823951005936, 0...</td>\n",
       "      <td>[-0.24941563606262207, -0.44494691491127014, 0...</td>\n",
       "      <td>[0, 0, 1, 1, 0, 1, 0, 0, 0, 0]</td>\n",
       "      <td>[0.0, 0.0, 0.5773502691896257, 0.5773502691896...</td>\n",
       "    </tr>\n",
       "    <tr>\n",
       "      <th>1</th>\n",
       "      <td>This is another test</td>\n",
       "      <td>[0.02996388077735901, -0.024454835802316666, -...</td>\n",
       "      <td>[-0.12034142762422562, -0.6497827172279358, 0....</td>\n",
       "      <td>[1, 0, 0, 0, 1, 0, 0, 1, 1, 0]</td>\n",
       "      <td>[0.5, 0.0, 0.0, 0.0, 0.5, 0.0, 0.0, 0.5, 0.5, ...</td>\n",
       "    </tr>\n",
       "    <tr>\n",
       "      <th>2</th>\n",
       "      <td>Piss yellow beer</td>\n",
       "      <td>[-0.03343258053064346, 0.0571899488568306, -0....</td>\n",
       "      <td>[-0.07380929589271545, 0.6937302947044373, 0.0...</td>\n",
       "      <td>[0, 1, 0, 0, 0, 0, 1, 0, 0, 1]</td>\n",
       "      <td>[0.0, 0.5773502691896257, 0.0, 0.0, 0.0, 0.0, ...</td>\n",
       "    </tr>\n",
       "  </tbody>\n",
       "</table>\n",
       "</div>"
      ],
      "text/plain": [
       "                   text                                SentenceTransformer  \\\n",
       "0   Hazy nutty flavours  [-0.05412261560559273, -0.06606823951005936, 0...   \n",
       "1  This is another test  [0.02996388077735901, -0.024454835802316666, -...   \n",
       "2      Piss yellow beer  [-0.03343258053064346, 0.0571899488568306, -0....   \n",
       "\n",
       "                                                BERT  \\\n",
       "0  [-0.24941563606262207, -0.44494691491127014, 0...   \n",
       "1  [-0.12034142762422562, -0.6497827172279358, 0....   \n",
       "2  [-0.07380929589271545, 0.6937302947044373, 0.0...   \n",
       "\n",
       "                            Count  \\\n",
       "0  [0, 0, 1, 1, 0, 1, 0, 0, 0, 0]   \n",
       "1  [1, 0, 0, 0, 1, 0, 0, 1, 1, 0]   \n",
       "2  [0, 1, 0, 0, 0, 0, 1, 0, 0, 1]   \n",
       "\n",
       "                                               TFIDF  \n",
       "0  [0.0, 0.0, 0.5773502691896257, 0.5773502691896...  \n",
       "1  [0.5, 0.0, 0.0, 0.0, 0.5, 0.0, 0.0, 0.5, 0.5, ...  \n",
       "2  [0.0, 0.5773502691896257, 0.0, 0.0, 0.0, 0.0, ...  "
      ]
     },
     "execution_count": 11,
     "metadata": {},
     "output_type": "execute_result"
    }
   ],
   "source": [
    "df = pd.DataFrame(\n",
    "    {\n",
    "        \"text\": [\n",
    "            \"Sweet nutty flavours\",\n",
    "            \"This is a different sentence\",\n",
    "            \"Piss yellow beer\",\n",
    "            \"Not sweet enough\",\n",
    "        ]\n",
    "    }\n",
    ")\n",
    "for model in ModelType:\n",
    "    df[model.name] = embed_inputs(df[\"text\"], model=model)\n",
    "df.head()"
   ]
  },
  {
   "cell_type": "markdown",
   "metadata": {},
   "source": [
    "##### An example of similarity\n",
    "\n",
    "We can now comput cosine similarity between pairs of sentences as below."
   ]
  },
  {
   "cell_type": "code",
   "execution_count": 13,
   "metadata": {},
   "outputs": [
    {
     "name": "stdout",
     "output_type": "stream",
     "text": [
      "Texts: ['Hazy nutty flavours' 'This is another test' 'Piss yellow beer']\n",
      "Similarity between first and nth sentence:\n"
     ]
    },
    {
     "data": {
      "text/html": [
       "<div>\n",
       "<style scoped>\n",
       "    .dataframe tbody tr th:only-of-type {\n",
       "        vertical-align: middle;\n",
       "    }\n",
       "\n",
       "    .dataframe tbody tr th {\n",
       "        vertical-align: top;\n",
       "    }\n",
       "\n",
       "    .dataframe thead th {\n",
       "        text-align: right;\n",
       "    }\n",
       "</style>\n",
       "<table border=\"1\" class=\"dataframe\">\n",
       "  <thead>\n",
       "    <tr style=\"text-align: right;\">\n",
       "      <th></th>\n",
       "      <th>2</th>\n",
       "      <th>3</th>\n",
       "    </tr>\n",
       "  </thead>\n",
       "  <tbody>\n",
       "    <tr>\n",
       "      <th>SentenceTransformer</th>\n",
       "      <td>0.153935</td>\n",
       "      <td>0.314107</td>\n",
       "    </tr>\n",
       "    <tr>\n",
       "      <th>BERT</th>\n",
       "      <td>0.562694</td>\n",
       "      <td>0.763873</td>\n",
       "    </tr>\n",
       "    <tr>\n",
       "      <th>Count</th>\n",
       "      <td>0.000000</td>\n",
       "      <td>0.000000</td>\n",
       "    </tr>\n",
       "    <tr>\n",
       "      <th>TFIDF</th>\n",
       "      <td>0.000000</td>\n",
       "      <td>0.000000</td>\n",
       "    </tr>\n",
       "  </tbody>\n",
       "</table>\n",
       "</div>"
      ],
      "text/plain": [
       "                            2         3\n",
       "SentenceTransformer  0.153935  0.314107\n",
       "BERT                 0.562694  0.763873\n",
       "Count                0.000000  0.000000\n",
       "TFIDF                0.000000  0.000000"
      ]
     },
     "execution_count": 13,
     "metadata": {},
     "output_type": "execute_result"
    }
   ],
   "source": [
    "from sentence_transformers import util\n",
    "import torch\n",
    "\n",
    "methods = [modeltype.name for modeltype in ModelType]\n",
    "df_methods = pd.DataFrame(index=methods)\n",
    "\n",
    "for model in ModelType:\n",
    "    for i in range(1, len(df)):\n",
    "        df_methods.loc[model.name, i + 1] = util.cos_sim(\n",
    "            torch.Tensor(df[model.name][0]), torch.Tensor(df[model.name][i])\n",
    "        ).item()\n",
    "\n",
    "print(\"Texts: \" + str(df[\"text\"].values))\n",
    "print(\"Similarity between first and nth sentence:\")\n",
    "df_methods.head()"
   ]
  }
 ],
 "metadata": {
  "kernelspec": {
   "display_name": "ada",
   "language": "python",
   "name": "python3"
  },
  "language_info": {
   "codemirror_mode": {
    "name": "ipython",
    "version": 3
   },
   "file_extension": ".py",
   "mimetype": "text/x-python",
   "name": "python",
   "nbconvert_exporter": "python",
   "pygments_lexer": "ipython3",
   "version": "3.9.18"
  }
 },
 "nbformat": 4,
 "nbformat_minor": 2
}
