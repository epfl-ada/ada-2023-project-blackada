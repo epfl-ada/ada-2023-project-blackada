{
 "cells": [
  {
   "cell_type": "code",
   "execution_count": 5,
   "id": "aad268bf-5b88-4196-ad20-a737f7d2716e",
   "metadata": {
    "tags": []
   },
   "outputs": [],
   "source": [
    "import pandas as pd\n",
    "import numpy as np\n",
    "import matplotlib.pyplot as plt\n",
    "import powerlaw"
   ]
  },
  {
   "cell_type": "code",
   "execution_count": 6,
   "id": "45bdc66d-7609-4a23-a829-abd96c3ef830",
   "metadata": {
    "tags": []
   },
   "outputs": [],
   "source": [
    "users = pd.read_csv('../raw/users.csv')\n",
    "beers = pd.read_csv('../raw/beers.csv')\n",
    "breweries = pd.read_csv('../raw/breweries.csv')\n"
   ]
  },
  {
   "cell_type": "markdown",
   "id": "b1d92746-6fe9-4eda-8eb8-33bee4949a54",
   "metadata": {},
   "source": [
    "### Users"
   ]
  },
  {
   "cell_type": "markdown",
   "id": "f2b17614-26d2-47f1-9c08-bcc6baa68bdd",
   "metadata": {},
   "source": [
    "Possible ideas for inferred attributes:\n",
    "- Based on number of reviews - hard core, one time, ...\n",
    "- How far is your rating from the average rating of the given beer\n",
    "- Is the sentiment of what you write aligned with the score you give?"
   ]
  },
  {
   "cell_type": "code",
   "execution_count": 7,
   "id": "59735b00-d028-478d-a549-aa3b202018f5",
   "metadata": {
    "tags": []
   },
   "outputs": [
    {
     "name": "stdout",
     "output_type": "stream",
     "text": [
      "head: BeerAdvocate/ratings.txt: No such file or directory\r\n"
     ]
    }
   ],
   "source": [
    "!head -100 BeerAdvocate/ratings.txt"
   ]
  },
  {
   "cell_type": "code",
   "execution_count": 8,
   "id": "9a7d77b9-d8f8-4f6d-8e02-c8345e4a968b",
   "metadata": {
    "tags": []
   },
   "outputs": [
    {
     "data": {
      "text/plain": "['nbr_ratings', 'nbr_reviews', 'user_id', 'user_name', 'joined', 'location']"
     },
     "execution_count": 8,
     "metadata": {},
     "output_type": "execute_result"
    }
   ],
   "source": [
    "list(users.columns)"
   ]
  },
  {
   "cell_type": "code",
   "execution_count": 9,
   "id": "de8ec928-8f9b-4402-b895-f26a2dcf5ae9",
   "metadata": {
    "tags": []
   },
   "outputs": [
    {
     "data": {
      "text/plain": "                               count  % of total\nlocation                                        \nUnited States, California      11638        7.57\nUnited States, Pennsylvania     8689        5.65\nUnited States, New York         7432        4.84\nUnited States, Illinois         6866        4.47\nUnited States, Massachusetts    6658        4.33\nUnited States, Texas            5893        3.83\nUnited States, Ohio             4776        3.11\nUnited States, Florida          4604        3.00\nUnited States, Michigan         4213        2.74\nUnited States, New Jersey       3716        2.42\nUnited States, Virginia         3604        2.34\nUnited States, North Carolina   3405        2.22\nCanada                          3324        2.16\nUnited States, Washington       2891        1.88\nUnited States, Minnesota        2854        1.86\nUnited States, Connecticut      2792        1.82\nUnited States, Indiana          2644        1.72\nUnited States, Georgia          2633        1.71\nUnited States, Wisconsin        2375        1.55\nUnited States, Maryland         2335        1.52",
      "text/html": "<div>\n<style scoped>\n    .dataframe tbody tr th:only-of-type {\n        vertical-align: middle;\n    }\n\n    .dataframe tbody tr th {\n        vertical-align: top;\n    }\n\n    .dataframe thead th {\n        text-align: right;\n    }\n</style>\n<table border=\"1\" class=\"dataframe\">\n  <thead>\n    <tr style=\"text-align: right;\">\n      <th></th>\n      <th>count</th>\n      <th>% of total</th>\n    </tr>\n    <tr>\n      <th>location</th>\n      <th></th>\n      <th></th>\n    </tr>\n  </thead>\n  <tbody>\n    <tr>\n      <th>United States, California</th>\n      <td>11638</td>\n      <td>7.57</td>\n    </tr>\n    <tr>\n      <th>United States, Pennsylvania</th>\n      <td>8689</td>\n      <td>5.65</td>\n    </tr>\n    <tr>\n      <th>United States, New York</th>\n      <td>7432</td>\n      <td>4.84</td>\n    </tr>\n    <tr>\n      <th>United States, Illinois</th>\n      <td>6866</td>\n      <td>4.47</td>\n    </tr>\n    <tr>\n      <th>United States, Massachusetts</th>\n      <td>6658</td>\n      <td>4.33</td>\n    </tr>\n    <tr>\n      <th>United States, Texas</th>\n      <td>5893</td>\n      <td>3.83</td>\n    </tr>\n    <tr>\n      <th>United States, Ohio</th>\n      <td>4776</td>\n      <td>3.11</td>\n    </tr>\n    <tr>\n      <th>United States, Florida</th>\n      <td>4604</td>\n      <td>3.00</td>\n    </tr>\n    <tr>\n      <th>United States, Michigan</th>\n      <td>4213</td>\n      <td>2.74</td>\n    </tr>\n    <tr>\n      <th>United States, New Jersey</th>\n      <td>3716</td>\n      <td>2.42</td>\n    </tr>\n    <tr>\n      <th>United States, Virginia</th>\n      <td>3604</td>\n      <td>2.34</td>\n    </tr>\n    <tr>\n      <th>United States, North Carolina</th>\n      <td>3405</td>\n      <td>2.22</td>\n    </tr>\n    <tr>\n      <th>Canada</th>\n      <td>3324</td>\n      <td>2.16</td>\n    </tr>\n    <tr>\n      <th>United States, Washington</th>\n      <td>2891</td>\n      <td>1.88</td>\n    </tr>\n    <tr>\n      <th>United States, Minnesota</th>\n      <td>2854</td>\n      <td>1.86</td>\n    </tr>\n    <tr>\n      <th>United States, Connecticut</th>\n      <td>2792</td>\n      <td>1.82</td>\n    </tr>\n    <tr>\n      <th>United States, Indiana</th>\n      <td>2644</td>\n      <td>1.72</td>\n    </tr>\n    <tr>\n      <th>United States, Georgia</th>\n      <td>2633</td>\n      <td>1.71</td>\n    </tr>\n    <tr>\n      <th>United States, Wisconsin</th>\n      <td>2375</td>\n      <td>1.55</td>\n    </tr>\n    <tr>\n      <th>United States, Maryland</th>\n      <td>2335</td>\n      <td>1.52</td>\n    </tr>\n  </tbody>\n</table>\n</div>"
     },
     "execution_count": 9,
     "metadata": {},
     "output_type": "execute_result"
    }
   ],
   "source": [
    "location_user_count = (\n",
    "    users\n",
    "    .groupby('location')[['user_id']]\n",
    "    .count()\n",
    "    .rename(columns={'user_id': 'count'})\n",
    "    .sort_values('count', ascending=False)\n",
    ")\n",
    "total_user_count = users.shape[0]\n",
    "location_user_count['% of total'] = round(100*(location_user_count['count'] / total_user_count),2)\n",
    "location_user_count.iloc[:20]"
   ]
  },
  {
   "cell_type": "code",
   "execution_count": 10,
   "id": "20c50e8f-7fde-4069-8beb-490ff694dca3",
   "metadata": {
    "tags": []
   },
   "outputs": [
    {
     "data": {
      "text/plain": "<Figure size 432x288 with 1 Axes>",
      "image/png": "[encoded data removed]"
     },
     "metadata": {
      "needs_background": "light"
     },
     "output_type": "display_data"
    }
   ],
   "source": [
    "fig, ax = plt.subplots()\n",
    "ax.hist(users[['nbr_ratings']], bins=1000)\n",
    "ax.set_xscale(\"log\")"
   ]
  },
  {
   "cell_type": "code",
   "execution_count": 10,
   "id": "bf2cc635-187b-43ab-bcff-4cdf7b1f9a6f",
   "metadata": {},
   "outputs": [],
   "source": []
  },
  {
   "cell_type": "code",
   "execution_count": 11,
   "id": "1a3d66a6-3807-476d-9757-ca8587bafee2",
   "metadata": {
    "tags": []
   },
   "outputs": [
    {
     "data": {
      "text/plain": "<Figure size 432x288 with 1 Axes>",
      "image/png": "[encoded data removed]"
     },
     "metadata": {
      "needs_background": "light"
     },
     "output_type": "display_data"
    }
   ],
   "source": [
    "users[users['nbr_ratings'] < 200]['nbr_ratings'].hist(bins=100, density=True, alpha=0.7);"
   ]
  },
  {
   "cell_type": "code",
   "execution_count": 12,
   "id": "d24eb112-44a1-4612-a8de-b7406175a096",
   "metadata": {},
   "outputs": [
    {
     "name": "stderr",
     "output_type": "stream",
     "text": [
      "Values less than or equal to 0 in data. Throwing out 0 or negative values\n"
     ]
    },
    {
     "data": {
      "text/plain": "(-904.3511513879428, 0.0)"
     },
     "execution_count": 12,
     "metadata": {},
     "output_type": "execute_result"
    },
    {
     "data": {
      "text/plain": "<Figure size 432x288 with 1 Axes>",
      "image/png": "[encoded data removed]"
     },
     "metadata": {
      "needs_background": "light"
     },
     "output_type": "display_data"
    }
   ],
   "source": [
    "data = users['nbr_reviews']\n",
    "fit = powerlaw.Fit(data, xmin=1, discrete=True)\n",
    "fig, ax = plt.subplots()\n",
    "fit.power_law.plot_pdf(color= 'r',linestyle='--', ax=ax)\n",
    "fit.plot_pdf(color='b', ax=ax);\n",
    "fit.distribution_compare('power_law', 'stretched_exponential')"
   ]
  },
  {
   "cell_type": "markdown",
   "id": "8cba4e5c-8d85-44de-b3d9-a1e99b7b7c82",
   "metadata": {},
   "source": [
    "### Breweries"
   ]
  },
  {
   "cell_type": "code",
   "execution_count": 13,
   "id": "02de5791-b9d6-4a77-98f7-a3a08bc75a22",
   "metadata": {
    "tags": []
   },
   "outputs": [
    {
     "data": {
      "text/plain": "['id', 'location', 'name', 'nbr_beers']"
     },
     "execution_count": 13,
     "metadata": {},
     "output_type": "execute_result"
    }
   ],
   "source": [
    "list(breweries.columns)"
   ]
  },
  {
   "cell_type": "code",
   "execution_count": 14,
   "id": "77112783-9865-4672-8692-d0d47f2f5acd",
   "metadata": {
    "tags": []
   },
   "outputs": [
    {
     "data": {
      "text/plain": "                             count  % of total\nlocation                                      \nGermany                       1431        8.54\nEngland                        997        5.95\nUnited States, California      929        5.54\nCanada                         775        4.62\nUnited States, Washington      411        2.45\nUnited States, New York        406        2.42\nUnited States, Colorado        404        2.41\nFrance                         402        2.40\nAustralia                      401        2.39\nItaly                          369        2.20\nBelgium                        335        2.00\nUnited States, Pennsylvania    328        1.96\nUnited States, Michigan        321        1.92\nSpain                          315        1.88\nUnited States, Florida         297        1.77\nUnited States, Oregon          295        1.76\nUnited States, Texas           280        1.67\nRussia                         268        1.60\nUnited States, Illinois        266        1.59\nNetherlands                    258        1.54",
      "text/html": "<div>\n<style scoped>\n    .dataframe tbody tr th:only-of-type {\n        vertical-align: middle;\n    }\n\n    .dataframe tbody tr th {\n        vertical-align: top;\n    }\n\n    .dataframe thead th {\n        text-align: right;\n    }\n</style>\n<table border=\"1\" class=\"dataframe\">\n  <thead>\n    <tr style=\"text-align: right;\">\n      <th></th>\n      <th>count</th>\n      <th>% of total</th>\n    </tr>\n    <tr>\n      <th>location</th>\n      <th></th>\n      <th></th>\n    </tr>\n  </thead>\n  <tbody>\n    <tr>\n      <th>Germany</th>\n      <td>1431</td>\n      <td>8.54</td>\n    </tr>\n    <tr>\n      <th>England</th>\n      <td>997</td>\n      <td>5.95</td>\n    </tr>\n    <tr>\n      <th>United States, California</th>\n      <td>929</td>\n      <td>5.54</td>\n    </tr>\n    <tr>\n      <th>Canada</th>\n      <td>775</td>\n      <td>4.62</td>\n    </tr>\n    <tr>\n      <th>United States, Washington</th>\n      <td>411</td>\n      <td>2.45</td>\n    </tr>\n    <tr>\n      <th>United States, New York</th>\n      <td>406</td>\n      <td>2.42</td>\n    </tr>\n    <tr>\n      <th>United States, Colorado</th>\n      <td>404</td>\n      <td>2.41</td>\n    </tr>\n    <tr>\n      <th>France</th>\n      <td>402</td>\n      <td>2.40</td>\n    </tr>\n    <tr>\n      <th>Australia</th>\n      <td>401</td>\n      <td>2.39</td>\n    </tr>\n    <tr>\n      <th>Italy</th>\n      <td>369</td>\n      <td>2.20</td>\n    </tr>\n    <tr>\n      <th>Belgium</th>\n      <td>335</td>\n      <td>2.00</td>\n    </tr>\n    <tr>\n      <th>United States, Pennsylvania</th>\n      <td>328</td>\n      <td>1.96</td>\n    </tr>\n    <tr>\n      <th>United States, Michigan</th>\n      <td>321</td>\n      <td>1.92</td>\n    </tr>\n    <tr>\n      <th>Spain</th>\n      <td>315</td>\n      <td>1.88</td>\n    </tr>\n    <tr>\n      <th>United States, Florida</th>\n      <td>297</td>\n      <td>1.77</td>\n    </tr>\n    <tr>\n      <th>United States, Oregon</th>\n      <td>295</td>\n      <td>1.76</td>\n    </tr>\n    <tr>\n      <th>United States, Texas</th>\n      <td>280</td>\n      <td>1.67</td>\n    </tr>\n    <tr>\n      <th>Russia</th>\n      <td>268</td>\n      <td>1.60</td>\n    </tr>\n    <tr>\n      <th>United States, Illinois</th>\n      <td>266</td>\n      <td>1.59</td>\n    </tr>\n    <tr>\n      <th>Netherlands</th>\n      <td>258</td>\n      <td>1.54</td>\n    </tr>\n  </tbody>\n</table>\n</div>"
     },
     "execution_count": 14,
     "metadata": {},
     "output_type": "execute_result"
    }
   ],
   "source": [
    "location_brew_count = (\n",
    "    breweries\n",
    "    .groupby('location')[['id']]\n",
    "    .count()\n",
    "    .rename(columns={'id': 'count'})\n",
    "    .sort_values('count', ascending=False)\n",
    ")\n",
    "total_brew_count = breweries.shape[0]\n",
    "location_brew_count['% of total'] = round(100*(location_brew_count['count'] / total_brew_count),2)\n",
    "location_brew_count.iloc[:20]"
   ]
  },
  {
   "cell_type": "code",
   "execution_count": 15,
   "id": "e6938015-2c7a-4898-b087-8e2f8ca5ab50",
   "metadata": {
    "tags": []
   },
   "outputs": [
    {
     "data": {
      "text/plain": "<Figure size 432x288 with 1 Axes>",
      "image/png": "[encoded data removed]"
     },
     "metadata": {
      "needs_background": "light"
     },
     "output_type": "display_data"
    }
   ],
   "source": [
    "fig, ax = plt.subplots()\n",
    "breweries['nbr_beers'].hist(ax=ax, bins=20);"
   ]
  },
  {
   "cell_type": "code",
   "execution_count": 16,
   "id": "0641ee41-93f6-4ec8-98d5-067a1a209a94",
   "metadata": {
    "tags": []
   },
   "outputs": [
    {
     "data": {
      "text/plain": "<Figure size 432x288 with 1 Axes>",
      "image/png": "[encoded data removed]"
     },
     "metadata": {
      "needs_background": "light"
     },
     "output_type": "display_data"
    }
   ],
   "source": [
    "fig, ax = plt.subplots()\n",
    "breweries.boxplot('nbr_beers', ax=ax);"
   ]
  },
  {
   "cell_type": "code",
   "execution_count": 17,
   "id": "e167769f-23af-4129-93c5-2b456af9723a",
   "metadata": {
    "tags": []
   },
   "outputs": [
    {
     "data": {
      "text/plain": "          id                       location  \\\n172    16315                       Scotland   \n9504   28609   United States, Massachusetts   \n10595    345    United States, Pennsylvania   \n9500      14   United States, Massachusetts   \n10597  43271    United States, Pennsylvania   \n10596  40257    United States, Pennsylvania   \n13082    287        United States, Michigan   \n10569   1114    United States, Pennsylvania   \n13342   2391          United States, Oregon   \n8420    3835      United States, California   \n2209    9408                         Canada   \n9755   10607        United States, New York   \n8878   32931      United States, California   \n13564  37467          United States, Oregon   \n12820  33246            United States, Ohio   \n12819  19544            United States, Ohio   \n10130     30        United States, Colorado   \n9488     299   United States, Massachusetts   \n9543     238   United States, Massachusetts   \n9489      17   United States, Massachusetts   \n9569   31544   United States, Massachusetts   \n9577   23735   United States, Massachusetts   \n9469   18044   United States, Massachusetts   \n10655  27273    United States, Pennsylvania   \n11287  31535        United States, Virginia   \n10371    192        United States, Colorado   \n12202    602         United States, Vermont   \n9574      98   United States, Massachusetts   \n12646  35412         United States, Florida   \n12514  22147         United States, Florida   \n8540     396      United States, California   \n8993   31987      United States, California   \n9487      35   United States, Massachusetts   \n8386     220      United States, California   \n10026  33510        United States, New York   \n654    23249                        England   \n14109  28178        United States, Illinois   \n13252   1471        United States, Michigan   \n12385   4063          United States, Kansas   \n13979  18006        United States, Illinois   \n11899  31722  United States, North Carolina   \n11174  29008        United States, New York   \n8369   22412      United States, California   \n13685    477     United States, Connecticut   \n9802   24300        United States, New York   \n13549  31540          United States, Oregon   \n13438    132          United States, Oregon   \n14140    612        United States, Illinois   \n9213     700      United States, Washington   \n1765    1141                         Canada   \n\n                                            name  nbr_beers  \n172                                      BrewDog        330  \n9504                         Night Shift Brewing        323  \n10595      Victory Brewing Company - Downingtown        317  \n9500                   Cambridge Brewing Company        317  \n10597       Victory Brewing Company - Parkesburg        317  \n10596   Victory Brewing Company - Kennett Square        317  \n13082                       Bell's Brewery, Inc.        312  \n10569                           Bullfrog Brewery        312  \n13342  Cascade Brewing / Raccoon Lodge & Brewpub        309  \n8420                         Drake's Brewing Co.        308  \n2209                         Great Lakes Brewery        307  \n9755                            Sixpoint Brewery        307  \n8878                     Cellarmaker Brewing Co.        306  \n13564                         Fat Head's Brewery        306  \n12820             Fat Head's Brewery & Tap House        306  \n12819                Fat Head's Brewery & Saloon        306  \n10130                      Avery Brewing Company        306  \n9488            Boston Beer Works - Canal Street        303  \n9543                            Salem Beer Works        303  \n9489                  Boston Beer Works - Fenway        303  \n9569                       Framingham Beer Works        303  \n9577                          Hingham Beer Works        303  \n9469                           Lowell Beer Works        303  \n10655              Forest & Main Brewing Company        302  \n11287              Adroit Theory Brewing Company        301  \n10371                        New Belgium Brewing        298  \n12202                            Harpoon Brewery        291  \n9574                 Harpoon Brewery & Beer Hall        291  \n12646                              Cycle Brewing        290  \n12514                   Peg's Cantina & Brew Pub        290  \n8540                    AleSmith Brewing Company        288  \n8993                           Modern Times Beer        286  \n9487          Boston Beer Company (Samuel Adams)        285  \n8386                   Lagunitas Brewing Company        278  \n10026                     Other Half Brewing Co.        266  \n654                           The Kernel Brewery        264  \n14109                  Pipeworks Brewing Company        261  \n13252                 Dark Horse Brewing Company        258  \n12385                     River City Brewing Co.        258  \n13979                     Half Acre Beer Company        258  \n11899                            Burial Beer Co.        251  \n11174            Bluejacket / Arsenal Restaurant        250  \n8369                             Noble Ale Works        249  \n13685                    Willimantic Brewing Co.        249  \n9802                           Evil Twin Brewing        248  \n13549                           de Garde Brewing        247  \n13438                                 Rogue Ales        247  \n14140     Flossmoor Station Restaurant & Brewery        247  \n9213                     Elysian Brewing Company        245  \n1765                     Brasserie Dieu du Ciel!        242  ",
      "text/html": "<div>\n<style scoped>\n    .dataframe tbody tr th:only-of-type {\n        vertical-align: middle;\n    }\n\n    .dataframe tbody tr th {\n        vertical-align: top;\n    }\n\n    .dataframe thead th {\n        text-align: right;\n    }\n</style>\n<table border=\"1\" class=\"dataframe\">\n  <thead>\n    <tr style=\"text-align: right;\">\n      <th></th>\n      <th>id</th>\n      <th>location</th>\n      <th>name</th>\n      <th>nbr_beers</th>\n    </tr>\n  </thead>\n  <tbody>\n    <tr>\n      <th>172</th>\n      <td>16315</td>\n      <td>Scotland</td>\n      <td>BrewDog</td>\n      <td>330</td>\n    </tr>\n    <tr>\n      <th>9504</th>\n      <td>28609</td>\n      <td>United States, Massachusetts</td>\n      <td>Night Shift Brewing</td>\n      <td>323</td>\n    </tr>\n    <tr>\n      <th>10595</th>\n      <td>345</td>\n      <td>United States, Pennsylvania</td>\n      <td>Victory Brewing Company - Downingtown</td>\n      <td>317</td>\n    </tr>\n    <tr>\n      <th>9500</th>\n      <td>14</td>\n      <td>United States, Massachusetts</td>\n      <td>Cambridge Brewing Company</td>\n      <td>317</td>\n    </tr>\n    <tr>\n      <th>10597</th>\n      <td>43271</td>\n      <td>United States, Pennsylvania</td>\n      <td>Victory Brewing Company - Parkesburg</td>\n      <td>317</td>\n    </tr>\n    <tr>\n      <th>10596</th>\n      <td>40257</td>\n      <td>United States, Pennsylvania</td>\n      <td>Victory Brewing Company - Kennett Square</td>\n      <td>317</td>\n    </tr>\n    <tr>\n      <th>13082</th>\n      <td>287</td>\n      <td>United States, Michigan</td>\n      <td>Bell's Brewery, Inc.</td>\n      <td>312</td>\n    </tr>\n    <tr>\n      <th>10569</th>\n      <td>1114</td>\n      <td>United States, Pennsylvania</td>\n      <td>Bullfrog Brewery</td>\n      <td>312</td>\n    </tr>\n    <tr>\n      <th>13342</th>\n      <td>2391</td>\n      <td>United States, Oregon</td>\n      <td>Cascade Brewing / Raccoon Lodge &amp; Brewpub</td>\n      <td>309</td>\n    </tr>\n    <tr>\n      <th>8420</th>\n      <td>3835</td>\n      <td>United States, California</td>\n      <td>Drake's Brewing Co.</td>\n      <td>308</td>\n    </tr>\n    <tr>\n      <th>2209</th>\n      <td>9408</td>\n      <td>Canada</td>\n      <td>Great Lakes Brewery</td>\n      <td>307</td>\n    </tr>\n    <tr>\n      <th>9755</th>\n      <td>10607</td>\n      <td>United States, New York</td>\n      <td>Sixpoint Brewery</td>\n      <td>307</td>\n    </tr>\n    <tr>\n      <th>8878</th>\n      <td>32931</td>\n      <td>United States, California</td>\n      <td>Cellarmaker Brewing Co.</td>\n      <td>306</td>\n    </tr>\n    <tr>\n      <th>13564</th>\n      <td>37467</td>\n      <td>United States, Oregon</td>\n      <td>Fat Head's Brewery</td>\n      <td>306</td>\n    </tr>\n    <tr>\n      <th>12820</th>\n      <td>33246</td>\n      <td>United States, Ohio</td>\n      <td>Fat Head's Brewery &amp; Tap House</td>\n      <td>306</td>\n    </tr>\n    <tr>\n      <th>12819</th>\n      <td>19544</td>\n      <td>United States, Ohio</td>\n      <td>Fat Head's Brewery &amp; Saloon</td>\n      <td>306</td>\n    </tr>\n    <tr>\n      <th>10130</th>\n      <td>30</td>\n      <td>United States, Colorado</td>\n      <td>Avery Brewing Company</td>\n      <td>306</td>\n    </tr>\n    <tr>\n      <th>9488</th>\n      <td>299</td>\n      <td>United States, Massachusetts</td>\n      <td>Boston Beer Works - Canal Street</td>\n      <td>303</td>\n    </tr>\n    <tr>\n      <th>9543</th>\n      <td>238</td>\n      <td>United States, Massachusetts</td>\n      <td>Salem Beer Works</td>\n      <td>303</td>\n    </tr>\n    <tr>\n      <th>9489</th>\n      <td>17</td>\n      <td>United States, Massachusetts</td>\n      <td>Boston Beer Works - Fenway</td>\n      <td>303</td>\n    </tr>\n    <tr>\n      <th>9569</th>\n      <td>31544</td>\n      <td>United States, Massachusetts</td>\n      <td>Framingham Beer Works</td>\n      <td>303</td>\n    </tr>\n    <tr>\n      <th>9577</th>\n      <td>23735</td>\n      <td>United States, Massachusetts</td>\n      <td>Hingham Beer Works</td>\n      <td>303</td>\n    </tr>\n    <tr>\n      <th>9469</th>\n      <td>18044</td>\n      <td>United States, Massachusetts</td>\n      <td>Lowell Beer Works</td>\n      <td>303</td>\n    </tr>\n    <tr>\n      <th>10655</th>\n      <td>27273</td>\n      <td>United States, Pennsylvania</td>\n      <td>Forest &amp; Main Brewing Company</td>\n      <td>302</td>\n    </tr>\n    <tr>\n      <th>11287</th>\n      <td>31535</td>\n      <td>United States, Virginia</td>\n      <td>Adroit Theory Brewing Company</td>\n      <td>301</td>\n    </tr>\n    <tr>\n      <th>10371</th>\n      <td>192</td>\n      <td>United States, Colorado</td>\n      <td>New Belgium Brewing</td>\n      <td>298</td>\n    </tr>\n    <tr>\n      <th>12202</th>\n      <td>602</td>\n      <td>United States, Vermont</td>\n      <td>Harpoon Brewery</td>\n      <td>291</td>\n    </tr>\n    <tr>\n      <th>9574</th>\n      <td>98</td>\n      <td>United States, Massachusetts</td>\n      <td>Harpoon Brewery &amp; Beer Hall</td>\n      <td>291</td>\n    </tr>\n    <tr>\n      <th>12646</th>\n      <td>35412</td>\n      <td>United States, Florida</td>\n      <td>Cycle Brewing</td>\n      <td>290</td>\n    </tr>\n    <tr>\n      <th>12514</th>\n      <td>22147</td>\n      <td>United States, Florida</td>\n      <td>Peg's Cantina &amp; Brew Pub</td>\n      <td>290</td>\n    </tr>\n    <tr>\n      <th>8540</th>\n      <td>396</td>\n      <td>United States, California</td>\n      <td>AleSmith Brewing Company</td>\n      <td>288</td>\n    </tr>\n    <tr>\n      <th>8993</th>\n      <td>31987</td>\n      <td>United States, California</td>\n      <td>Modern Times Beer</td>\n      <td>286</td>\n    </tr>\n    <tr>\n      <th>9487</th>\n      <td>35</td>\n      <td>United States, Massachusetts</td>\n      <td>Boston Beer Company (Samuel Adams)</td>\n      <td>285</td>\n    </tr>\n    <tr>\n      <th>8386</th>\n      <td>220</td>\n      <td>United States, California</td>\n      <td>Lagunitas Brewing Company</td>\n      <td>278</td>\n    </tr>\n    <tr>\n      <th>10026</th>\n      <td>33510</td>\n      <td>United States, New York</td>\n      <td>Other Half Brewing Co.</td>\n      <td>266</td>\n    </tr>\n    <tr>\n      <th>654</th>\n      <td>23249</td>\n      <td>England</td>\n      <td>The Kernel Brewery</td>\n      <td>264</td>\n    </tr>\n    <tr>\n      <th>14109</th>\n      <td>28178</td>\n      <td>United States, Illinois</td>\n      <td>Pipeworks Brewing Company</td>\n      <td>261</td>\n    </tr>\n    <tr>\n      <th>13252</th>\n      <td>1471</td>\n      <td>United States, Michigan</td>\n      <td>Dark Horse Brewing Company</td>\n      <td>258</td>\n    </tr>\n    <tr>\n      <th>12385</th>\n      <td>4063</td>\n      <td>United States, Kansas</td>\n      <td>River City Brewing Co.</td>\n      <td>258</td>\n    </tr>\n    <tr>\n      <th>13979</th>\n      <td>18006</td>\n      <td>United States, Illinois</td>\n      <td>Half Acre Beer Company</td>\n      <td>258</td>\n    </tr>\n    <tr>\n      <th>11899</th>\n      <td>31722</td>\n      <td>United States, North Carolina</td>\n      <td>Burial Beer Co.</td>\n      <td>251</td>\n    </tr>\n    <tr>\n      <th>11174</th>\n      <td>29008</td>\n      <td>United States, New York</td>\n      <td>Bluejacket / Arsenal Restaurant</td>\n      <td>250</td>\n    </tr>\n    <tr>\n      <th>8369</th>\n      <td>22412</td>\n      <td>United States, California</td>\n      <td>Noble Ale Works</td>\n      <td>249</td>\n    </tr>\n    <tr>\n      <th>13685</th>\n      <td>477</td>\n      <td>United States, Connecticut</td>\n      <td>Willimantic Brewing Co.</td>\n      <td>249</td>\n    </tr>\n    <tr>\n      <th>9802</th>\n      <td>24300</td>\n      <td>United States, New York</td>\n      <td>Evil Twin Brewing</td>\n      <td>248</td>\n    </tr>\n    <tr>\n      <th>13549</th>\n      <td>31540</td>\n      <td>United States, Oregon</td>\n      <td>de Garde Brewing</td>\n      <td>247</td>\n    </tr>\n    <tr>\n      <th>13438</th>\n      <td>132</td>\n      <td>United States, Oregon</td>\n      <td>Rogue Ales</td>\n      <td>247</td>\n    </tr>\n    <tr>\n      <th>14140</th>\n      <td>612</td>\n      <td>United States, Illinois</td>\n      <td>Flossmoor Station Restaurant &amp; Brewery</td>\n      <td>247</td>\n    </tr>\n    <tr>\n      <th>9213</th>\n      <td>700</td>\n      <td>United States, Washington</td>\n      <td>Elysian Brewing Company</td>\n      <td>245</td>\n    </tr>\n    <tr>\n      <th>1765</th>\n      <td>1141</td>\n      <td>Canada</td>\n      <td>Brasserie Dieu du Ciel!</td>\n      <td>242</td>\n    </tr>\n  </tbody>\n</table>\n</div>"
     },
     "execution_count": 17,
     "metadata": {},
     "output_type": "execute_result"
    }
   ],
   "source": [
    "(\n",
    "    breweries\n",
    "    .drop_duplicates(subset=['name'])\n",
    "    .sort_values('nbr_beers', ascending=False)\n",
    "    .iloc[50:100]\n",
    ")"
   ]
  },
  {
   "cell_type": "markdown",
   "id": "b33049df-a907-4023-9f16-595783c95d5a",
   "metadata": {},
   "source": [
    "### Beers"
   ]
  },
  {
   "cell_type": "code",
   "execution_count": 18,
   "id": "df15a2e2-1ecb-4765-bc80-ff5efb11d60c",
   "metadata": {
    "tags": []
   },
   "outputs": [
    {
     "data": {
      "text/plain": "['beer_id',\n 'beer_name',\n 'brewery_id',\n 'brewery_name',\n 'style',\n 'nbr_ratings',\n 'nbr_reviews',\n 'avg',\n 'ba_score',\n 'bros_score',\n 'abv',\n 'avg_computed',\n 'zscore',\n 'nbr_matched_valid_ratings',\n 'avg_matched_valid_ratings']"
     },
     "execution_count": 18,
     "metadata": {},
     "output_type": "execute_result"
    }
   ],
   "source": [
    "list(beers.columns)"
   ]
  },
  {
   "cell_type": "code",
   "execution_count": 19,
   "id": "05bff6e0-26b6-4453-9dc2-63bab1835f47",
   "metadata": {
    "tags": []
   },
   "outputs": [
    {
     "data": {
      "text/plain": "                         brewery_name  \\\n180458   Dogfish Head Brewings & Eats   \n226278       Founders Brewing Company   \n77815         North Coast Brewing Co.   \n79091   Russian River Brewing Company   \n225955           Bell's Brewery, Inc.   \n225867           Bell's Brewery, Inc.   \n82585       Sierra Nevada Brewing Co.   \n226360       Founders Brewing Company   \n97619                   Stone Brewing   \n76313                Arrogant Brewing   \n\n                                      beer_name  % of total  \n180458                            90 Minute IPA      0.1506  \n226278                 Founders Breakfast Stout      0.1472  \n77815       Old Rasputin Russian Imperial Stout      0.1437  \n79091                           Pliny The Elder      0.1425  \n225955                          Two Hearted Ale      0.1375  \n225867                              Hopslam Ale      0.1362  \n82585             Sierra Nevada Celebration Ale      0.1338  \n226360  Founders KBS (Kentucky Breakfast Stout)      0.1244  \n97619                       Stone Ruination IPA      0.1187  \n76313                      Arrogant Bastard Ale      0.1184  ",
      "text/html": "<div>\n<style scoped>\n    .dataframe tbody tr th:only-of-type {\n        vertical-align: middle;\n    }\n\n    .dataframe tbody tr th {\n        vertical-align: top;\n    }\n\n    .dataframe thead th {\n        text-align: right;\n    }\n</style>\n<table border=\"1\" class=\"dataframe\">\n  <thead>\n    <tr style=\"text-align: right;\">\n      <th></th>\n      <th>brewery_name</th>\n      <th>beer_name</th>\n      <th>% of total</th>\n    </tr>\n  </thead>\n  <tbody>\n    <tr>\n      <th>180458</th>\n      <td>Dogfish Head Brewings &amp; Eats</td>\n      <td>90 Minute IPA</td>\n      <td>0.1506</td>\n    </tr>\n    <tr>\n      <th>226278</th>\n      <td>Founders Brewing Company</td>\n      <td>Founders Breakfast Stout</td>\n      <td>0.1472</td>\n    </tr>\n    <tr>\n      <th>77815</th>\n      <td>North Coast Brewing Co.</td>\n      <td>Old Rasputin Russian Imperial Stout</td>\n      <td>0.1437</td>\n    </tr>\n    <tr>\n      <th>79091</th>\n      <td>Russian River Brewing Company</td>\n      <td>Pliny The Elder</td>\n      <td>0.1425</td>\n    </tr>\n    <tr>\n      <th>225955</th>\n      <td>Bell's Brewery, Inc.</td>\n      <td>Two Hearted Ale</td>\n      <td>0.1375</td>\n    </tr>\n    <tr>\n      <th>225867</th>\n      <td>Bell's Brewery, Inc.</td>\n      <td>Hopslam Ale</td>\n      <td>0.1362</td>\n    </tr>\n    <tr>\n      <th>82585</th>\n      <td>Sierra Nevada Brewing Co.</td>\n      <td>Sierra Nevada Celebration Ale</td>\n      <td>0.1338</td>\n    </tr>\n    <tr>\n      <th>226360</th>\n      <td>Founders Brewing Company</td>\n      <td>Founders KBS (Kentucky Breakfast Stout)</td>\n      <td>0.1244</td>\n    </tr>\n    <tr>\n      <th>97619</th>\n      <td>Stone Brewing</td>\n      <td>Stone Ruination IPA</td>\n      <td>0.1187</td>\n    </tr>\n    <tr>\n      <th>76313</th>\n      <td>Arrogant Brewing</td>\n      <td>Arrogant Bastard Ale</td>\n      <td>0.1184</td>\n    </tr>\n  </tbody>\n</table>\n</div>"
     },
     "execution_count": 19,
     "metadata": {},
     "output_type": "execute_result"
    }
   ],
   "source": [
    "total_beer_nrev = beers['nbr_reviews'].sum()\n",
    "beers['% of total'] = round(100*(beers['nbr_reviews'] / total_beer_nrev),4)\n",
    "beers.sort_values('% of total', ascending=False)[['brewery_name', 'beer_name', '% of total']].iloc[:10]"
   ]
  },
  {
   "cell_type": "code",
   "execution_count": 20,
   "id": "637576ff-3e5c-409a-90f8-84a895811d40",
   "metadata": {},
   "outputs": [
    {
     "data": {
      "text/plain": "   beer_id           beer_name  brewery_id            brewery_name  \\\n0   166064    Nashe Moskovskoe       39912  Abdysh-Ata (Абдыш Ата)   \n1   166065     Nashe Pivovskoe       39912  Abdysh-Ata (Абдыш Ата)   \n2   166066  Nashe Shakhterskoe       39912  Abdysh-Ata (Абдыш Ата)   \n3   166067  Nashe Zhigulevskoe       39912  Abdysh-Ata (Абдыш Ата)   \n4   166063              Zhivoe       39912  Abdysh-Ata (Абдыш Ата)   \n\n             style  nbr_ratings  nbr_reviews  avg  ba_score  bros_score  abv  \\\n0  Euro Pale Lager            0            0  NaN       NaN         NaN  4.7   \n1  Euro Pale Lager            0            0  NaN       NaN         NaN  3.8   \n2  Euro Pale Lager            0            0  NaN       NaN         NaN  4.8   \n3  Euro Pale Lager            0            0  NaN       NaN         NaN  4.0   \n4  Euro Pale Lager            0            0  NaN       NaN         NaN  4.5   \n\n   avg_computed  zscore  nbr_matched_valid_ratings  avg_matched_valid_ratings  \\\n0           NaN     NaN                          0                        NaN   \n1           NaN     NaN                          0                        NaN   \n2           NaN     NaN                          0                        NaN   \n3           NaN     NaN                          0                        NaN   \n4           NaN     NaN                          0                        NaN   \n\n   % of total  \n0         0.0  \n1         0.0  \n2         0.0  \n3         0.0  \n4         0.0  ",
      "text/html": "<div>\n<style scoped>\n    .dataframe tbody tr th:only-of-type {\n        vertical-align: middle;\n    }\n\n    .dataframe tbody tr th {\n        vertical-align: top;\n    }\n\n    .dataframe thead th {\n        text-align: right;\n    }\n</style>\n<table border=\"1\" class=\"dataframe\">\n  <thead>\n    <tr style=\"text-align: right;\">\n      <th></th>\n      <th>beer_id</th>\n      <th>beer_name</th>\n      <th>brewery_id</th>\n      <th>brewery_name</th>\n      <th>style</th>\n      <th>nbr_ratings</th>\n      <th>nbr_reviews</th>\n      <th>avg</th>\n      <th>ba_score</th>\n      <th>bros_score</th>\n      <th>abv</th>\n      <th>avg_computed</th>\n      <th>zscore</th>\n      <th>nbr_matched_valid_ratings</th>\n      <th>avg_matched_valid_ratings</th>\n      <th>% of total</th>\n    </tr>\n  </thead>\n  <tbody>\n    <tr>\n      <th>0</th>\n      <td>166064</td>\n      <td>Nashe Moskovskoe</td>\n      <td>39912</td>\n      <td>Abdysh-Ata (Абдыш Ата)</td>\n      <td>Euro Pale Lager</td>\n      <td>0</td>\n      <td>0</td>\n      <td>NaN</td>\n      <td>NaN</td>\n      <td>NaN</td>\n      <td>4.7</td>\n      <td>NaN</td>\n      <td>NaN</td>\n      <td>0</td>\n      <td>NaN</td>\n      <td>0.0</td>\n    </tr>\n    <tr>\n      <th>1</th>\n      <td>166065</td>\n      <td>Nashe Pivovskoe</td>\n      <td>39912</td>\n      <td>Abdysh-Ata (Абдыш Ата)</td>\n      <td>Euro Pale Lager</td>\n      <td>0</td>\n      <td>0</td>\n      <td>NaN</td>\n      <td>NaN</td>\n      <td>NaN</td>\n      <td>3.8</td>\n      <td>NaN</td>\n      <td>NaN</td>\n      <td>0</td>\n      <td>NaN</td>\n      <td>0.0</td>\n    </tr>\n    <tr>\n      <th>2</th>\n      <td>166066</td>\n      <td>Nashe Shakhterskoe</td>\n      <td>39912</td>\n      <td>Abdysh-Ata (Абдыш Ата)</td>\n      <td>Euro Pale Lager</td>\n      <td>0</td>\n      <td>0</td>\n      <td>NaN</td>\n      <td>NaN</td>\n      <td>NaN</td>\n      <td>4.8</td>\n      <td>NaN</td>\n      <td>NaN</td>\n      <td>0</td>\n      <td>NaN</td>\n      <td>0.0</td>\n    </tr>\n    <tr>\n      <th>3</th>\n      <td>166067</td>\n      <td>Nashe Zhigulevskoe</td>\n      <td>39912</td>\n      <td>Abdysh-Ata (Абдыш Ата)</td>\n      <td>Euro Pale Lager</td>\n      <td>0</td>\n      <td>0</td>\n      <td>NaN</td>\n      <td>NaN</td>\n      <td>NaN</td>\n      <td>4.0</td>\n      <td>NaN</td>\n      <td>NaN</td>\n      <td>0</td>\n      <td>NaN</td>\n      <td>0.0</td>\n    </tr>\n    <tr>\n      <th>4</th>\n      <td>166063</td>\n      <td>Zhivoe</td>\n      <td>39912</td>\n      <td>Abdysh-Ata (Абдыш Ата)</td>\n      <td>Euro Pale Lager</td>\n      <td>0</td>\n      <td>0</td>\n      <td>NaN</td>\n      <td>NaN</td>\n      <td>NaN</td>\n      <td>4.5</td>\n      <td>NaN</td>\n      <td>NaN</td>\n      <td>0</td>\n      <td>NaN</td>\n      <td>0.0</td>\n    </tr>\n  </tbody>\n</table>\n</div>"
     },
     "execution_count": 20,
     "metadata": {},
     "output_type": "execute_result"
    }
   ],
   "source": [
    "beers.head()"
   ]
  },
  {
   "cell_type": "code",
   "execution_count": 20,
   "id": "190f8cfd-8b7d-49ef-8a13-f0fdbf37dd99",
   "metadata": {},
   "outputs": [],
   "source": []
  }
 ],
 "metadata": {
  "kernelspec": {
   "display_name": "Python 3 (ipykernel)",
   "language": "python",
   "name": "python3"
  },
  "language_info": {
   "codemirror_mode": {
    "name": "ipython",
    "version": 3
   },
   "file_extension": ".py",
   "mimetype": "text/x-python",
   "name": "python",
   "nbconvert_exporter": "python",
   "pygments_lexer": "ipython3",
   "version": "3.9.18"
  }
 },
 "nbformat": 4,
 "nbformat_minor": 5
}