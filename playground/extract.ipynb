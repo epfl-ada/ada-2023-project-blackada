{
 "cells": [
  {
   "cell_type": "markdown",
   "metadata": {},
   "source": [
    "### About\n",
    "\n",
    "This notebook is a playground for various extraction techniques for relevant words that are later embedded."
   ]
  },
  {
   "cell_type": "code",
   "execution_count": 37,
   "metadata": {},
   "outputs": [],
   "source": [
    "import pandas as pd\n",
    "from tqdm import tqdm\n",
    "\n",
    "# NLP processing\n",
    "import spacy\n",
    "\n",
    "nlp = spacy.load(\"en_core_web_sm\")"
   ]
  },
  {
   "cell_type": "markdown",
   "metadata": {},
   "source": []
  },
  {
   "cell_type": "markdown",
   "metadata": {},
   "source": [
    "### Load the data"
   ]
  },
  {
   "cell_type": "code",
   "execution_count": 47,
   "metadata": {},
   "outputs": [
    {
     "name": "stdout",
     "output_type": "stream",
     "text": [
      " 44022962 ../data/BeerAdvocate/reviews.txt\n"
     ]
    }
   ],
   "source": [
    "!wc -l ../data/BeerAdvocate/reviews.txt"
   ]
  },
  {
   "cell_type": "code",
   "execution_count": 46,
   "metadata": {},
   "outputs": [
    {
     "name": "stdout",
     "output_type": "stream",
     "text": [
      " 151074576 ../data/BeerAdvocate/ratings.txt\n"
     ]
    }
   ],
   "source": [
    "!wc -l ../data/BeerAdvocate/ratings.txt"
   ]
  },
  {
   "cell_type": "code",
   "execution_count": 44,
   "metadata": {},
   "outputs": [
    {
     "name": "stdout",
     "output_type": "stream",
     "text": [
      "beer_name: Régab\n",
      "beer_id: 142544\n",
      "brewery_name: Societe des Brasseries du Gabon (SOBRAGA)\n",
      "brewery_id: 37262\n",
      "style: Euro Pale Lager\n",
      "abv: 4.5\n",
      "date: 1440064800\n",
      "user_name: nmann08\n",
      "user_id: nmann08.184925\n",
      "appearance: 3.25\n",
      "aroma: 2.75\n",
      "palate: 3.25\n",
      "taste: 2.75\n",
      "overall: 3.0\n",
      "rating: 2.88\n",
      "text: From a bottle, pours a piss yellow color with a fizzy white head.  This is carbonated similar to soda.The nose is basic.. malt, corn, a little floral, some earthy straw.  The flavor is boring, not offensive, just boring.  Tastes a little like corn and grain.  Hard to write a review on something so simple.Its ok, could be way worse.\n",
      "review: True\n",
      "\n",
      "beer_name: Barelegs Brew\n",
      "beer_id: 19590\n"
     ]
    }
   ],
   "source": [
    "!head -20 ../data/BeerAdvocate/ratings.txt"
   ]
  },
  {
   "cell_type": "code",
   "execution_count": 45,
   "metadata": {},
   "outputs": [
    {
     "name": "stdout",
     "output_type": "stream",
     "text": [
      "beer_name: Régab\n",
      "beer_id: 142544\n",
      "brewery_name: Societe des Brasseries du Gabon (SOBRAGA)\n",
      "brewery_id: 37262\n",
      "style: Euro Pale Lager\n",
      "abv: 4.5\n",
      "date: 1440064800\n",
      "user_name: nmann08\n",
      "user_id: nmann08.184925\n",
      "appearance: 3.25\n",
      "aroma: 2.75\n",
      "palate: 3.25\n",
      "taste: 2.75\n",
      "overall: 3.0\n",
      "rating: 2.88\n",
      "text: From a bottle, pours a piss yellow color with a fizzy white head.  This is carbonated similar to soda.The nose is basic.. malt, corn, a little floral, some earthy straw.  The flavor is boring, not offensive, just boring.  Tastes a little like corn and grain.  Hard to write a review on something so simple.Its ok, could be way worse.\n",
      "\n",
      "beer_name: Barelegs Brew\n",
      "beer_id: 19590\n",
      "brewery_name: Strangford Lough Brewing Company Ltd\n"
     ]
    }
   ],
   "source": [
    "!head -20 ../data/BeerAdvocate/reviews.txt"
   ]
  },
  {
   "cell_type": "code",
   "execution_count": 39,
   "metadata": {},
   "outputs": [],
   "source": [
    "file_path = \"../data/BeerAdvocate/reviews.txt\"\n",
    "n_lines = 100\n",
    "\n",
    "# Initialize an empty list to store each beer's information\n",
    "beer_data = []\n",
    "\n",
    "# Open the text file for reading\n",
    "with open(file_path, \"r\") as file:\n",
    "    # Initialize an empty dictionary for the current beer\n",
    "    current_beer = {}\n",
    "    total = 1\n",
    "    # Iterate over each line in the file\n",
    "    for line in file:\n",
    "        # Strip the line of leading/trailing whitespace\n",
    "        line = line.strip()\n",
    "        # If the line is empty or not a key-value pair, it means we're between beer entries\n",
    "        if line == \"\" or \": \" not in line:\n",
    "            if current_beer:\n",
    "                # Add the current beer's dictionary to the list and reset it\n",
    "                beer_data.append(current_beer)\n",
    "                current_beer = {}\n",
    "                total += 1\n",
    "                if total == n_lines:\n",
    "                    break\n",
    "        else:\n",
    "            # Split the line into key and value, if possible\n",
    "            parts = line.split(\": \", 1)\n",
    "            if len(parts) == 2:\n",
    "                key, value = parts\n",
    "                # Special handling for 'date' field to convert it into a readable format\n",
    "                if key == \"date\":\n",
    "                    value = pd.to_datetime(int(value), unit=\"s\")\n",
    "                # Convert boolean string 'True'/'False' to a Python boolean\n",
    "                elif value == \"True\":\n",
    "                    value = True\n",
    "                elif value == \"False\":\n",
    "                    value = False\n",
    "                # Add the key-value pair to the current beer's dictionary\n",
    "                current_beer[key] = value\n",
    "            else:\n",
    "                print(f\"Line skipped: {line}\")\n",
    "\n",
    "    # Make sure to add the last beer's data if the file doesn't end with a newline\n",
    "    if current_beer:\n",
    "        beer_data.append(current_beer)\n",
    "\n",
    "# Create a DataFrame from the list of dictionaries\n",
    "df = pd.DataFrame(beer_data)"
   ]
  },
  {
   "cell_type": "code",
   "execution_count": 40,
   "metadata": {},
   "outputs": [
    {
     "data": {
      "text/html": [
       "<div>\n",
       "<style scoped>\n",
       "    .dataframe tbody tr th:only-of-type {\n",
       "        vertical-align: middle;\n",
       "    }\n",
       "\n",
       "    .dataframe tbody tr th {\n",
       "        vertical-align: top;\n",
       "    }\n",
       "\n",
       "    .dataframe thead th {\n",
       "        text-align: right;\n",
       "    }\n",
       "</style>\n",
       "<table border=\"1\" class=\"dataframe\">\n",
       "  <thead>\n",
       "    <tr style=\"text-align: right;\">\n",
       "      <th></th>\n",
       "      <th>beer_name</th>\n",
       "      <th>beer_id</th>\n",
       "      <th>brewery_name</th>\n",
       "      <th>brewery_id</th>\n",
       "      <th>style</th>\n",
       "      <th>abv</th>\n",
       "      <th>date</th>\n",
       "      <th>user_name</th>\n",
       "      <th>user_id</th>\n",
       "      <th>appearance</th>\n",
       "      <th>aroma</th>\n",
       "      <th>palate</th>\n",
       "      <th>taste</th>\n",
       "      <th>overall</th>\n",
       "      <th>rating</th>\n",
       "      <th>text</th>\n",
       "    </tr>\n",
       "  </thead>\n",
       "  <tbody>\n",
       "    <tr>\n",
       "      <th>0</th>\n",
       "      <td>Régab</td>\n",
       "      <td>142544</td>\n",
       "      <td>Societe des Brasseries du Gabon (SOBRAGA)</td>\n",
       "      <td>37262</td>\n",
       "      <td>Euro Pale Lager</td>\n",
       "      <td>4.5</td>\n",
       "      <td>2015-08-20 10:00:00</td>\n",
       "      <td>nmann08</td>\n",
       "      <td>nmann08.184925</td>\n",
       "      <td>3.25</td>\n",
       "      <td>2.75</td>\n",
       "      <td>3.25</td>\n",
       "      <td>2.75</td>\n",
       "      <td>3.0</td>\n",
       "      <td>2.88</td>\n",
       "      <td>From a bottle, pours a piss yellow color with ...</td>\n",
       "    </tr>\n",
       "    <tr>\n",
       "      <th>1</th>\n",
       "      <td>Barelegs Brew</td>\n",
       "      <td>19590</td>\n",
       "      <td>Strangford Lough Brewing Company Ltd</td>\n",
       "      <td>10093</td>\n",
       "      <td>English Pale Ale</td>\n",
       "      <td>4.5</td>\n",
       "      <td>2009-02-20 11:00:00</td>\n",
       "      <td>StJamesGate</td>\n",
       "      <td>stjamesgate.163714</td>\n",
       "      <td>3.0</td>\n",
       "      <td>3.5</td>\n",
       "      <td>3.5</td>\n",
       "      <td>4.0</td>\n",
       "      <td>3.5</td>\n",
       "      <td>3.67</td>\n",
       "      <td>Pours pale copper with a thin head that quickl...</td>\n",
       "    </tr>\n",
       "    <tr>\n",
       "      <th>2</th>\n",
       "      <td>Barelegs Brew</td>\n",
       "      <td>19590</td>\n",
       "      <td>Strangford Lough Brewing Company Ltd</td>\n",
       "      <td>10093</td>\n",
       "      <td>English Pale Ale</td>\n",
       "      <td>4.5</td>\n",
       "      <td>2006-03-13 11:00:00</td>\n",
       "      <td>mdagnew</td>\n",
       "      <td>mdagnew.19527</td>\n",
       "      <td>4.0</td>\n",
       "      <td>3.5</td>\n",
       "      <td>3.5</td>\n",
       "      <td>4.0</td>\n",
       "      <td>3.5</td>\n",
       "      <td>3.73</td>\n",
       "      <td>500ml Bottle bought from The Vintage, Antrim.....</td>\n",
       "    </tr>\n",
       "    <tr>\n",
       "      <th>3</th>\n",
       "      <td>Barelegs Brew</td>\n",
       "      <td>19590</td>\n",
       "      <td>Strangford Lough Brewing Company Ltd</td>\n",
       "      <td>10093</td>\n",
       "      <td>English Pale Ale</td>\n",
       "      <td>4.5</td>\n",
       "      <td>2004-12-01 11:00:00</td>\n",
       "      <td>helloloser12345</td>\n",
       "      <td>helloloser12345.10867</td>\n",
       "      <td>4.0</td>\n",
       "      <td>3.5</td>\n",
       "      <td>4.0</td>\n",
       "      <td>4.0</td>\n",
       "      <td>4.5</td>\n",
       "      <td>3.98</td>\n",
       "      <td>Serving: 500ml brown bottlePour: Good head wit...</td>\n",
       "    </tr>\n",
       "    <tr>\n",
       "      <th>4</th>\n",
       "      <td>Barelegs Brew</td>\n",
       "      <td>19590</td>\n",
       "      <td>Strangford Lough Brewing Company Ltd</td>\n",
       "      <td>10093</td>\n",
       "      <td>English Pale Ale</td>\n",
       "      <td>4.5</td>\n",
       "      <td>2004-08-30 10:00:00</td>\n",
       "      <td>cypressbob</td>\n",
       "      <td>cypressbob.3708</td>\n",
       "      <td>4.0</td>\n",
       "      <td>4.0</td>\n",
       "      <td>4.0</td>\n",
       "      <td>4.0</td>\n",
       "      <td>4.0</td>\n",
       "      <td>4.00</td>\n",
       "      <td>500ml bottlePours with a light, slightly hazy ...</td>\n",
       "    </tr>\n",
       "  </tbody>\n",
       "</table>\n",
       "</div>"
      ],
      "text/plain": [
       "       beer_name beer_id                               brewery_name  \\\n",
       "0          Régab  142544  Societe des Brasseries du Gabon (SOBRAGA)   \n",
       "1  Barelegs Brew   19590       Strangford Lough Brewing Company Ltd   \n",
       "2  Barelegs Brew   19590       Strangford Lough Brewing Company Ltd   \n",
       "3  Barelegs Brew   19590       Strangford Lough Brewing Company Ltd   \n",
       "4  Barelegs Brew   19590       Strangford Lough Brewing Company Ltd   \n",
       "\n",
       "  brewery_id             style  abv                date        user_name  \\\n",
       "0      37262   Euro Pale Lager  4.5 2015-08-20 10:00:00          nmann08   \n",
       "1      10093  English Pale Ale  4.5 2009-02-20 11:00:00      StJamesGate   \n",
       "2      10093  English Pale Ale  4.5 2006-03-13 11:00:00          mdagnew   \n",
       "3      10093  English Pale Ale  4.5 2004-12-01 11:00:00  helloloser12345   \n",
       "4      10093  English Pale Ale  4.5 2004-08-30 10:00:00       cypressbob   \n",
       "\n",
       "                 user_id appearance aroma palate taste overall rating  \\\n",
       "0         nmann08.184925       3.25  2.75   3.25  2.75     3.0   2.88   \n",
       "1     stjamesgate.163714        3.0   3.5    3.5   4.0     3.5   3.67   \n",
       "2          mdagnew.19527        4.0   3.5    3.5   4.0     3.5   3.73   \n",
       "3  helloloser12345.10867        4.0   3.5    4.0   4.0     4.5   3.98   \n",
       "4        cypressbob.3708        4.0   4.0    4.0   4.0     4.0   4.00   \n",
       "\n",
       "                                                text  \n",
       "0  From a bottle, pours a piss yellow color with ...  \n",
       "1  Pours pale copper with a thin head that quickl...  \n",
       "2  500ml Bottle bought from The Vintage, Antrim.....  \n",
       "3  Serving: 500ml brown bottlePour: Good head wit...  \n",
       "4  500ml bottlePours with a light, slightly hazy ...  "
      ]
     },
     "execution_count": 40,
     "metadata": {},
     "output_type": "execute_result"
    }
   ],
   "source": [
    "df.head()"
   ]
  },
  {
   "cell_type": "code",
   "execution_count": 41,
   "metadata": {},
   "outputs": [],
   "source": [
    "def process_text(text):\n",
    "    # Runs preprocessing and tokenization\n",
    "    doc = nlp(text)\n",
    "\n",
    "    # here we can decide what we want to do with the preprocessed text\n",
    "    lemmas = \" \".join([token.lemma_ for token in doc])\n",
    "    adjectives = \" \".join([token.text for token in doc if token.pos_.startswith(\"ADJ\")])\n",
    "\n",
    "    return pd.Series({\"lemmas\": lemmas, \"adjectives\": adjectives})"
   ]
  },
  {
   "cell_type": "code",
   "execution_count": 42,
   "metadata": {},
   "outputs": [],
   "source": [
    "extracted_data = df[\"text\"].apply(process_text)\n",
    "df = pd.concat([df, extracted_data], axis=1)"
   ]
  },
  {
   "cell_type": "code",
   "execution_count": 43,
   "metadata": {},
   "outputs": [
    {
     "data": {
      "text/html": [
       "<div>\n",
       "<style scoped>\n",
       "    .dataframe tbody tr th:only-of-type {\n",
       "        vertical-align: middle;\n",
       "    }\n",
       "\n",
       "    .dataframe tbody tr th {\n",
       "        vertical-align: top;\n",
       "    }\n",
       "\n",
       "    .dataframe thead th {\n",
       "        text-align: right;\n",
       "    }\n",
       "</style>\n",
       "<table border=\"1\" class=\"dataframe\">\n",
       "  <thead>\n",
       "    <tr style=\"text-align: right;\">\n",
       "      <th></th>\n",
       "      <th>text</th>\n",
       "      <th>adjectives</th>\n",
       "    </tr>\n",
       "  </thead>\n",
       "  <tbody>\n",
       "    <tr>\n",
       "      <th>0</th>\n",
       "      <td>From a bottle, pours a piss yellow color with ...</td>\n",
       "      <td>piss yellow fizzy white similar basic little e...</td>\n",
       "    </tr>\n",
       "    <tr>\n",
       "      <th>1</th>\n",
       "      <td>Pours pale copper with a thin head that quickl...</td>\n",
       "      <td>pale thin golden big grassy dark more Brave mo...</td>\n",
       "    </tr>\n",
       "    <tr>\n",
       "      <th>2</th>\n",
       "      <td>500ml Bottle bought from The Vintage, Antrim.....</td>\n",
       "      <td>golden yellow White thick foamy thin light spi...</td>\n",
       "    </tr>\n",
       "    <tr>\n",
       "      <th>3</th>\n",
       "      <td>Serving: 500ml brown bottlePour: Good head wit...</td>\n",
       "      <td>Good excellent slight cloudy golden subtle swe...</td>\n",
       "    </tr>\n",
       "    <tr>\n",
       "      <th>4</th>\n",
       "      <td>500ml bottlePours with a light, slightly hazy ...</td>\n",
       "      <td>light hazy golden light Slight slight balanced...</td>\n",
       "    </tr>\n",
       "  </tbody>\n",
       "</table>\n",
       "</div>"
      ],
      "text/plain": [
       "                                                text  \\\n",
       "0  From a bottle, pours a piss yellow color with ...   \n",
       "1  Pours pale copper with a thin head that quickl...   \n",
       "2  500ml Bottle bought from The Vintage, Antrim.....   \n",
       "3  Serving: 500ml brown bottlePour: Good head wit...   \n",
       "4  500ml bottlePours with a light, slightly hazy ...   \n",
       "\n",
       "                                          adjectives  \n",
       "0  piss yellow fizzy white similar basic little e...  \n",
       "1  pale thin golden big grassy dark more Brave mo...  \n",
       "2  golden yellow White thick foamy thin light spi...  \n",
       "3  Good excellent slight cloudy golden subtle swe...  \n",
       "4  light hazy golden light Slight slight balanced...  "
      ]
     },
     "execution_count": 43,
     "metadata": {},
     "output_type": "execute_result"
    }
   ],
   "source": [
    "df[[\"text\", \"adjectives\"]].head()"
   ]
  }
 ],
 "metadata": {
  "kernelspec": {
   "display_name": "ada",
   "language": "python",
   "name": "python3"
  },
  "language_info": {
   "codemirror_mode": {
    "name": "ipython",
    "version": 3
   },
   "file_extension": ".py",
   "mimetype": "text/x-python",
   "name": "python",
   "nbconvert_exporter": "python",
   "pygments_lexer": "ipython3",
   "version": "3.9.18"
  }
 },
 "nbformat": 4,
 "nbformat_minor": 2
}
