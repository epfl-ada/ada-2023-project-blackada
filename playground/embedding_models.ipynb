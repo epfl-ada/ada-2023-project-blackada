{
 "cells": [
  {
   "cell_type": "markdown",
   "metadata": {},
   "source": [
    "# Embedding Models\n",
    "\n",
    "This notebook explores the different possibilities of embbedding models we may use in the project. The code implementing these models can be found in `/src/embedders` and are imported into this notebook.\n",
    "\n",
    "This document will go over each embedding model, talk about how it works and its potential strengths/weaknesses."
   ]
  },
  {
   "cell_type": "code",
   "execution_count": 8,
   "metadata": {},
   "outputs": [
    {
     "name": "stdout",
     "output_type": "stream",
     "text": [
      "The autoreload extension is already loaded. To reload it, use:\n",
      "  %reload_ext autoreload\n"
     ]
    }
   ],
   "source": [
    "# Import sys and use it to add the root of the project to the path to import from src\n",
    "import sys\n",
    "sys.path.append('../')\n",
    "\n",
    "# Necessary imports for basic similarity calculation\n",
    "from sentence_transformers import util\n",
    "import torch\n",
    "import pandas as pd\n",
    "\n",
    "# Embedders\n",
    "from src.embedders import CountEmbeddor, TFIDFEmbeddor, BERTEmbeddor, SentenceTransformerEmbeddor, EmbeddorBase\n",
    "\n",
    "# Reloading of embedders when the file changes\n",
    "%load_ext autoreload\n",
    "%autoreload 1\n",
    "%aimport src.embedders\n"
   ]
  },
  {
   "cell_type": "code",
   "execution_count": 10,
   "metadata": {},
   "outputs": [],
   "source": [
    "# Declare each embedder\n",
    "models: list[EmbeddorBase] = [\n",
    "    CountEmbeddor(),\n",
    "    TFIDFEmbeddor(),\n",
    "    BERTEmbeddor(),\n",
    "    SentenceTransformerEmbeddor(),\n",
    "]"
   ]
  },
  {
   "cell_type": "markdown",
   "metadata": {},
   "source": [
    "First, let's see how the embedders work on a simple example."
   ]
  },
  {
   "cell_type": "code",
   "execution_count": 11,
   "metadata": {},
   "outputs": [
    {
     "data": {
      "text/html": [
       "<div>\n",
       "<style scoped>\n",
       "    .dataframe tbody tr th:only-of-type {\n",
       "        vertical-align: middle;\n",
       "    }\n",
       "\n",
       "    .dataframe tbody tr th {\n",
       "        vertical-align: top;\n",
       "    }\n",
       "\n",
       "    .dataframe thead th {\n",
       "        text-align: right;\n",
       "    }\n",
       "</style>\n",
       "<table border=\"1\" class=\"dataframe\">\n",
       "  <thead>\n",
       "    <tr style=\"text-align: right;\">\n",
       "      <th></th>\n",
       "      <th>text</th>\n",
       "      <th>CountEmbeddor</th>\n",
       "      <th>TFIDFEmbeddor</th>\n",
       "      <th>BERTEmbeddor</th>\n",
       "      <th>SentenceTransformerEmbeddor</th>\n",
       "    </tr>\n",
       "  </thead>\n",
       "  <tbody>\n",
       "    <tr>\n",
       "      <th>0</th>\n",
       "      <td>Sweet nutty flavours</td>\n",
       "      <td>[0, 0, 0, 1, 0, 0, 1, 0, 0, 1, 0, 0]</td>\n",
       "      <td>[0.0, 0.0, 0.0, 0.6176143709756019, 0.0, 0.0, ...</td>\n",
       "      <td>[-0.4556387960910797, -0.5342035293579102, 0.1...</td>\n",
       "      <td>[-0.04542968049645424, -0.11505721509456635, 0...</td>\n",
       "    </tr>\n",
       "    <tr>\n",
       "      <th>1</th>\n",
       "      <td>This is a different sentence</td>\n",
       "      <td>[0, 1, 0, 0, 1, 0, 0, 0, 1, 0, 1, 0]</td>\n",
       "      <td>[0.0, 0.5, 0.0, 0.0, 0.5, 0.0, 0.0, 0.0, 0.5, ...</td>\n",
       "      <td>[-0.19627796113491058, -0.5809494853019714, 0....</td>\n",
       "      <td>[0.045435935258865356, 0.03793025761842728, 0....</td>\n",
       "    </tr>\n",
       "    <tr>\n",
       "      <th>2</th>\n",
       "      <td>Piss yellow beer</td>\n",
       "      <td>[1, 0, 0, 0, 0, 0, 0, 1, 0, 0, 0, 1]</td>\n",
       "      <td>[0.5773502691896257, 0.0, 0.0, 0.0, 0.0, 0.0, ...</td>\n",
       "      <td>[-0.04581831395626068, 0.7215461134910583, 0.1...</td>\n",
       "      <td>[-0.033432573080062866, 0.057189930230379105, ...</td>\n",
       "    </tr>\n",
       "    <tr>\n",
       "      <th>3</th>\n",
       "      <td>Not sweet enough</td>\n",
       "      <td>[0, 0, 1, 0, 0, 1, 0, 0, 0, 1, 0, 0]</td>\n",
       "      <td>[0.0, 0.0, 0.6176143709756019, 0.0, 0.0, 0.617...</td>\n",
       "      <td>[-0.41678184270858765, -0.3863939940929413, -0...</td>\n",
       "      <td>[-0.039078567177057266, -0.05166036635637283, ...</td>\n",
       "    </tr>\n",
       "  </tbody>\n",
       "</table>\n",
       "</div>"
      ],
      "text/plain": [
       "                           text                         CountEmbeddor  \\\n",
       "0          Sweet nutty flavours  [0, 0, 0, 1, 0, 0, 1, 0, 0, 1, 0, 0]   \n",
       "1  This is a different sentence  [0, 1, 0, 0, 1, 0, 0, 0, 1, 0, 1, 0]   \n",
       "2              Piss yellow beer  [1, 0, 0, 0, 0, 0, 0, 1, 0, 0, 0, 1]   \n",
       "3              Not sweet enough  [0, 0, 1, 0, 0, 1, 0, 0, 0, 1, 0, 0]   \n",
       "\n",
       "                                       TFIDFEmbeddor  \\\n",
       "0  [0.0, 0.0, 0.0, 0.6176143709756019, 0.0, 0.0, ...   \n",
       "1  [0.0, 0.5, 0.0, 0.0, 0.5, 0.0, 0.0, 0.0, 0.5, ...   \n",
       "2  [0.5773502691896257, 0.0, 0.0, 0.0, 0.0, 0.0, ...   \n",
       "3  [0.0, 0.0, 0.6176143709756019, 0.0, 0.0, 0.617...   \n",
       "\n",
       "                                        BERTEmbeddor  \\\n",
       "0  [-0.4556387960910797, -0.5342035293579102, 0.1...   \n",
       "1  [-0.19627796113491058, -0.5809494853019714, 0....   \n",
       "2  [-0.04581831395626068, 0.7215461134910583, 0.1...   \n",
       "3  [-0.41678184270858765, -0.3863939940929413, -0...   \n",
       "\n",
       "                         SentenceTransformerEmbeddor  \n",
       "0  [-0.04542968049645424, -0.11505721509456635, 0...  \n",
       "1  [0.045435935258865356, 0.03793025761842728, 0....  \n",
       "2  [-0.033432573080062866, 0.057189930230379105, ...  \n",
       "3  [-0.039078567177057266, -0.05166036635637283, ...  "
      ]
     },
     "execution_count": 11,
     "metadata": {},
     "output_type": "execute_result"
    }
   ],
   "source": [
    "import pandas as pd\n",
    "\n",
    "# Create a dataframe with some sample reviews\n",
    "df = pd.DataFrame(\n",
    "    {\n",
    "        \"text\": [\n",
    "            \"Sweet nutty flavours\",\n",
    "            \"This is a different sentence\",\n",
    "            \"Piss yellow beer\",\n",
    "            \"Not sweet enough\",\n",
    "        ]\n",
    "    }\n",
    ")\n",
    "\n",
    "# Loop through each model and add the embeddings to the dataframe\n",
    "for model in models:\n",
    "    df[model.name] = model.transform(df[\"text\"]).tolist()\n",
    "df.head()\n"
   ]
  },
  {
   "cell_type": "markdown",
   "metadata": {},
   "source": [
    "We can use this to calculate simple cosine similarities between the embeddings."
   ]
  },
  {
   "cell_type": "code",
   "execution_count": 20,
   "metadata": {},
   "outputs": [
    {
     "name": "stdout",
     "output_type": "stream",
     "text": [
      "Texts: ['Sweet nutty flavours' 'This is a different sentence' 'Piss yellow beer'\n",
      " 'Not sweet enough']\n",
      "Similarity between first and nth sentence:\n"
     ]
    },
    {
     "data": {
      "text/html": [
       "<div>\n",
       "<style scoped>\n",
       "    .dataframe tbody tr th:only-of-type {\n",
       "        vertical-align: middle;\n",
       "    }\n",
       "\n",
       "    .dataframe tbody tr th {\n",
       "        vertical-align: top;\n",
       "    }\n",
       "\n",
       "    .dataframe thead th {\n",
       "        text-align: right;\n",
       "    }\n",
       "</style>\n",
       "<table border=\"1\" class=\"dataframe\">\n",
       "  <thead>\n",
       "    <tr style=\"text-align: right;\">\n",
       "      <th></th>\n",
       "      <th>Similarity 1</th>\n",
       "      <th>Similarity 2</th>\n",
       "      <th>Similarity 3</th>\n",
       "    </tr>\n",
       "  </thead>\n",
       "  <tbody>\n",
       "    <tr>\n",
       "      <th>CountEmbeddor</th>\n",
       "      <td>0.000000</td>\n",
       "      <td>0.000000</td>\n",
       "      <td>0.333333</td>\n",
       "    </tr>\n",
       "    <tr>\n",
       "      <th>TFIDFEmbeddor</th>\n",
       "      <td>0.000000</td>\n",
       "      <td>0.000000</td>\n",
       "      <td>0.201993</td>\n",
       "    </tr>\n",
       "    <tr>\n",
       "      <th>BERTEmbeddor</th>\n",
       "      <td>0.514830</td>\n",
       "      <td>0.688030</td>\n",
       "      <td>0.661113</td>\n",
       "    </tr>\n",
       "    <tr>\n",
       "      <th>SentenceTransformerEmbeddor</th>\n",
       "      <td>0.094743</td>\n",
       "      <td>0.236396</td>\n",
       "      <td>0.527919</td>\n",
       "    </tr>\n",
       "  </tbody>\n",
       "</table>\n",
       "</div>"
      ],
      "text/plain": [
       "                             Similarity 1  Similarity 2  Similarity 3\n",
       "CountEmbeddor                    0.000000      0.000000      0.333333\n",
       "TFIDFEmbeddor                    0.000000      0.000000      0.201993\n",
       "BERTEmbeddor                     0.514830      0.688030      0.661113\n",
       "SentenceTransformerEmbeddor      0.094743      0.236396      0.527919"
      ]
     },
     "execution_count": 20,
     "metadata": {},
     "output_type": "execute_result"
    }
   ],
   "source": [
    "def get_similarity(review1: str, review2: str) -> float:\n",
    "    \"\"\"Computes the similarity between two reviews using all the models\"\"\"\n",
    "    texts = [review1, review2]\n",
    "    similarities = {}\n",
    "    for model in models:\n",
    "        embeddings = model.transform(texts).tolist()\n",
    "        similarities[model.name] = util.cos_sim(\n",
    "            torch.Tensor(embeddings[0]), torch.Tensor(embeddings[1])\n",
    "        ).item()\n",
    "    return similarities\n",
    "\n",
    "df_methods = pd.DataFrame(index=[model.name for model in models])\n",
    "\n",
    "# Compute the similarity between the first and the nth sentence\n",
    "for i in range(1, len(df)):\n",
    "    df_methods[\"Similarity \" + str(i+1)] = get_similarity(df[\"text\"][0], df[\"text\"][i]).values()\n",
    "\n",
    "print(\"Texts: \" + str(df[\"text\"].values))\n",
    "print(\"Similarity between first and nth sentence:\")\n",
    "df_methods.head()"
   ]
  },
  {
   "cell_type": "code",
   "execution_count": 18,
   "metadata": {},
   "outputs": [
    {
     "name": "stdout",
     "output_type": "stream",
     "text": [
      "{'CountEmbeddor': 0.0, 'TFIDFEmbeddor': 0.0, 'BERTEmbeddor': 0.514830470085144, 'SentenceTransformerEmbeddor': 0.09474346786737442}\n"
     ]
    }
   ],
   "source": [
    "\n",
    "\n",
    "print(get_similarity(\"Sweet nutty flavours\", \"This is a different sentence\"))"
   ]
  }
 ],
 "metadata": {
  "kernelspec": {
   "display_name": "ada-project",
   "language": "python",
   "name": "python3"
  },
  "language_info": {
   "codemirror_mode": {
    "name": "ipython",
    "version": 3
   },
   "file_extension": ".py",
   "mimetype": "text/x-python",
   "name": "python",
   "nbconvert_exporter": "python",
   "pygments_lexer": "ipython3",
   "version": "3.10.13"
  }
 },
 "nbformat": 4,
 "nbformat_minor": 2
}
