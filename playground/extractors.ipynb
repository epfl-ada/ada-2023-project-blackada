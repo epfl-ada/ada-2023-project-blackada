{
 "cells": [
  {
   "cell_type": "code",
   "execution_count": 1,
   "metadata": {},
   "outputs": [],
   "source": [
    "# TODO: delete in the main \n",
    "import sys\n",
    "sys.path.insert(0, \"..\")\n",
    "\n",
    "# Automatic reload\n",
    "%load_ext autoreload\n",
    "%autoreload 2"
   ]
  },
  {
   "cell_type": "code",
   "execution_count": 122,
   "metadata": {},
   "outputs": [],
   "source": [
    "from src.extractors import LemmaExtractor, AdjectiveExtractor, DummyExtractor\n",
    "from src import utils\n",
    "\n",
    "import pandas as pd\n",
    "import numpy as np\n",
    "import spacy\n",
    "from rich import print\n",
    "from rich.text import Text\n",
    "\n",
    "import matplotlib.pyplot as plt\n",
    "import seaborn as sns\n",
    "sns.set_style('dark')\n",
    "colorstyle = \"RdBu\"\n",
    "sns.set_palette(colorstyle)\n",
    "\n",
    "from tqdm import tqdm\n",
    "\n",
    "\n",
    "from collections import Counter\n",
    "\n",
    "nlp = spacy.load(\"en_core_web_sm\")"
   ]
  },
  {
   "cell_type": "code",
   "execution_count": 3,
   "metadata": {},
   "outputs": [],
   "source": [
    "sub_reviews = utils.load_data(\"../data/\", num_samples=10000)"
   ]
  },
  {
   "cell_type": "markdown",
   "metadata": {},
   "source": [
    "### Text Extractors\n",
    "\n",
    "Before we embbed the text, we preprocess using different `text extractors`. Namely:\n",
    "\n",
    "(1) `DummyExtractor`: This is a dummy extractor that does not do any preprocessing. It simply returns the input text as is.\n",
    "\n",
    "(2) `LemmaExtractor`: Tokenizes the text and then uses only `lemmas` of the extracted tokens. `Lemma` is the base form of a word. For example, the lemma of `was` is `be`. Thus, the `LemmaExtractor` might be thougt of as a text normaliser which maps all tokens to the normalised space.\n",
    "\n",
    "(3) `AdjectiveExtractor`: As the name suggests, extract tokens which were classified by spaCy as `adjectives`.\n",
    "\n",
    "For the preprocessing and tokenization of the text, we use spaCy. SpaCy is a free, open-source library for advanced Natural Language Processing (NLP) in Python. It is designed specifically for production use and helps you build applications that process and \"understand\" large volumes of text. It can be used to build information extraction or natural language understanding systems, or to pre-process text for deep learning.\n",
    "\n",
    "\n",
    "This section introduces each of these extractors in more detail. Let's start with a simple example and see how each of these extractors output."
   ]
  },
  {
   "cell_type": "code",
   "execution_count": 14,
   "metadata": {},
   "outputs": [],
   "source": [
    "# Define the example\n",
    "example = \"\"\"\n",
    "A) Pours with a frothy head then settles to a thin head with thin lacing. \n",
    "Transparent. Golden to bronze in color.S) Dry grains. \n",
    "Light notes of citrus - orange. Pilsner-esque.T) Very light malt sweetness - caramel. \n",
    "Moves to a dry hoppy-ness. M) Light bodied. Dry. Somewhat chalky.D) Meh. \n",
    "Just average. Not one I would suggest to a friend, but thank for the organic \n",
    "ingredients.\n",
    "\"\"\"\n",
    "\n",
    "# Preprocess the example with Spacy\n",
    "example_doc = [nlp(example)]\n",
    "\n",
    "# Define the extractors\n",
    "extractors = [DummyExtractor(), LemmaExtractor(), AdjectiveExtractor()]\n",
    "\n",
    "# Run the extractors against the example\n",
    "transformed_all = []\n",
    "for extractor in extractors:\n",
    "    transformed_example = extractor.transform(example_doc)\n",
    "    transformed_all.append(transformed_example[0])"
   ]
  },
  {
   "cell_type": "markdown",
   "metadata": {},
   "source": [
    "Starting with the `DummyExtractor`, we can use it as a reference baseline for the other two extractors."
   ]
  },
  {
   "cell_type": "code",
   "execution_count": 32,
   "metadata": {},
   "outputs": [
    {
     "data": {
      "text/html": [
       "<pre style=\"white-space:pre;overflow-x:auto;line-height:normal;font-family:Menlo,'DejaVu Sans Mono',consolas,'Courier New',monospace\"><span style=\"color: #000080; text-decoration-color: #000080; font-weight: bold\">DummyExtractor</span>\n",
       " A<span style=\"font-weight: bold\">)</span> Pours with a frothy head then settles to a thin head with thin lacing. \n",
       "Transparent. Golden to bronze in color.S<span style=\"font-weight: bold\">)</span> Dry grains. \n",
       "Light notes of citrus - orange. Pilsner-esque.T<span style=\"font-weight: bold\">)</span> Very light malt sweetness - caramel. \n",
       "Moves to a dry hoppy-ness. M<span style=\"font-weight: bold\">)</span> Light bodied. Dry. Somewhat chalky.D<span style=\"font-weight: bold\">)</span> Meh. \n",
       "Just average. Not one I would suggest to a friend, but thank for the organic \n",
       "ingredients.\n",
       "</pre>\n"
      ],
      "text/plain": [
       "\u001b[1;34mDummyExtractor\u001b[0m\n",
       " A\u001b[1m)\u001b[0m Pours with a frothy head then settles to a thin head with thin lacing. \n",
       "Transparent. Golden to bronze in color.S\u001b[1m)\u001b[0m Dry grains. \n",
       "Light notes of citrus - orange. Pilsner-esque.T\u001b[1m)\u001b[0m Very light malt sweetness - caramel. \n",
       "Moves to a dry hoppy-ness. M\u001b[1m)\u001b[0m Light bodied. Dry. Somewhat chalky.D\u001b[1m)\u001b[0m Meh. \n",
       "Just average. Not one I would suggest to a friend, but thank for the organic \n",
       "ingredients.\n"
      ]
     },
     "metadata": {},
     "output_type": "display_data"
    }
   ],
   "source": [
    "print(Text(\"DummyExtractor\\n\", style=\"bold blue\"), transformed_all[0].strip())"
   ]
  },
  {
   "cell_type": "markdown",
   "metadata": {},
   "source": [
    "As the text below shows, `LemmaExtractor` has normalised the words to their base form (lemma), a couple of examples:\n",
    "\n",
    "(1) `grains` -> `grain` (get rid of the plural form)\n",
    "\n",
    "(2) `settles` -> `settle` (remove `s` from the he/she/it form)\n",
    "\n",
    "(3) `bodied` -> `body` (stem form)\n",
    "\n",
    "Apart from the lemmatisation, we can also see that how `spaCy` tokenizes the text. In particular, it treats punctuation marks as separate tokens. For example, `.` is a separate token."
   ]
  },
  {
   "cell_type": "code",
   "execution_count": 33,
   "metadata": {},
   "outputs": [
    {
     "data": {
      "text/html": [
       "<pre style=\"white-space:pre;overflow-x:auto;line-height:normal;font-family:Menlo,'DejaVu Sans Mono',consolas,'Courier New',monospace\"><span style=\"color: #000080; text-decoration-color: #000080; font-weight: bold\">LemmaExtractor</span>\n",
       " a <span style=\"font-weight: bold\">)</span> pour with a frothy head then settle to a thin head with thin lacing . \n",
       " Transparent . golden to bronze in color . s <span style=\"font-weight: bold\">)</span> dry grain . \n",
       " Light note of citrus - orange . Pilsner - esque . t <span style=\"font-weight: bold\">)</span> very light malt sweetness - caramel . \n",
       " move to a dry hoppy - ness . M <span style=\"font-weight: bold\">)</span> Light body . Dry . somewhat chalky . D <span style=\"font-weight: bold\">)</span> Meh . \n",
       " just average . not one I would suggest to a friend , but thank for the organic \n",
       " ingredient .\n",
       "</pre>\n"
      ],
      "text/plain": [
       "\u001b[1;34mLemmaExtractor\u001b[0m\n",
       " a \u001b[1m)\u001b[0m pour with a frothy head then settle to a thin head with thin lacing . \n",
       " Transparent . golden to bronze in color . s \u001b[1m)\u001b[0m dry grain . \n",
       " Light note of citrus - orange . Pilsner - esque . t \u001b[1m)\u001b[0m very light malt sweetness - caramel . \n",
       " move to a dry hoppy - ness . M \u001b[1m)\u001b[0m Light body . Dry . somewhat chalky . D \u001b[1m)\u001b[0m Meh . \n",
       " just average . not one I would suggest to a friend , but thank for the organic \n",
       " ingredient .\n"
      ]
     },
     "metadata": {},
     "output_type": "display_data"
    }
   ],
   "source": [
    "print(Text(\"LemmaExtractor\\n\", style=\"bold blue\"), transformed_all[1].strip())"
   ]
  },
  {
   "cell_type": "markdown",
   "metadata": {},
   "source": [
    "Finally, looking at the `AdjectiveExtractor`, we can see that it stips the text to only adjectives, thereby potentially losing some useful information. On the other hand,\n",
    "for the purposes of our analysis, this might be in fact useful as we only want our embeddings be based on the descriptive words related to beer and avoid the noise."
   ]
  },
  {
   "cell_type": "code",
   "execution_count": 34,
   "metadata": {},
   "outputs": [
    {
     "data": {
      "text/html": [
       "<pre style=\"white-space:pre;overflow-x:auto;line-height:normal;font-family:Menlo,'DejaVu Sans Mono',consolas,'Courier New',monospace\"><span style=\"color: #000080; text-decoration-color: #000080; font-weight: bold\">AdjectiveExtractor</span>\n",
       " frothy thin thin Golden Dry orange esque light dry chalky average organic\n",
       "</pre>\n"
      ],
      "text/plain": [
       "\u001b[1;34mAdjectiveExtractor\u001b[0m\n",
       " frothy thin thin Golden Dry orange esque light dry chalky average organic\n"
      ]
     },
     "metadata": {},
     "output_type": "display_data"
    }
   ],
   "source": [
    "print(Text(\"AdjectiveExtractor\\n\", style=\"bold blue\"), transformed_all[2].strip())"
   ]
  },
  {
   "cell_type": "markdown",
   "metadata": {},
   "source": [
    "Now, let's run the extractors against the selected subsample and then investigate the results in more detail. We start by preprocessing the text.\n",
    "\n",
    "*NB:* takes around **4 minutes** to run."
   ]
  },
  {
   "cell_type": "code",
   "execution_count": 43,
   "metadata": {},
   "outputs": [
    {
     "name": "stderr",
     "output_type": "stream",
     "text": [
      "  0%|          | 0/10000 [00:00<?, ?it/s]"
     ]
    },
    {
     "name": "stderr",
     "output_type": "stream",
     "text": [
      "100%|██████████| 10000/10000 [04:01<00:00, 41.46it/s]\n"
     ]
    }
   ],
   "source": [
    "docs = [nlp(text) for text in tqdm(sub_reviews.review.text.tolist())]"
   ]
  },
  {
   "cell_type": "markdown",
   "metadata": {},
   "source": [
    "Now, we will run the extractors against the subsample and save the results."
   ]
  },
  {
   "cell_type": "code",
   "execution_count": 149,
   "metadata": {},
   "outputs": [],
   "source": [
    "# We map the list of docs to the list of preprocessed strings\n",
    "prep_text = []\n",
    "for extractor in extractors:\n",
    "    prep_text_ext = extractor.transform(docs)\n",
    "    prep_text.append(prep_text_ext)"
   ]
  },
  {
   "cell_type": "markdown",
   "metadata": {},
   "source": [
    "Now, let's first look at the global token frequency distribution for each extractor."
   ]
  },
  {
   "cell_type": "code",
   "execution_count": 150,
   "metadata": {},
   "outputs": [],
   "source": [
    "# TODO: move this to utils?\n",
    "def get_word_frequency(text_list):\n",
    "    \"\"\"Calculate word frequency given a list of text documents\"\"\"\n",
    "    # Combine all the text documents into one large string\n",
    "    combined_text = ' '.join(text_list)\n",
    "\n",
    "    # Tokenize the text\n",
    "    tokens = combined_text.split()\n",
    "\n",
    "    # Calculate word frequency using Counter\n",
    "    word_frequency = Counter(tokens)\n",
    "\n",
    "    # Return Sorted word frequency as Pandas DataFrame\n",
    "    return pd.DataFrame(word_frequency.most_common(), columns=['word', 'frequency'])"
   ]
  },
  {
   "cell_type": "markdown",
   "metadata": {},
   "source": [
    "TODO: add description of what is going on"
   ]
  },
  {
   "cell_type": "code",
   "execution_count": 151,
   "metadata": {},
   "outputs": [
    {
     "data": {
      "image/png": "[encoded data removed]",
      "text/plain": [
       "<Figure size 1000x500 with 3 Axes>"
      ]
     },
     "metadata": {},
     "output_type": "display_data"
    }
   ],
   "source": [
    "# Obtain the word frequency for each extractor\n",
    "frequencies = [get_word_frequency(text) for text in prep_text]\n",
    "\n",
    "# Using seaborn plot the word frequency for each extractor\n",
    "fig, axes = plt.subplots(1, 3, figsize=(10, 5))\n",
    "for ax, freq, extractor in zip(axes, frequencies, extractors):\n",
    "    sns.barplot(x='frequency', y='word', data=freq.head(10), ax=ax)\n",
    "    ax.set_title(extractor.name)\n",
    "    ax.set_xlabel('Word Frequency')\n",
    "    ax.set_ylabel('Word')\n",
    "\n",
    "plt.tight_layout()"
   ]
  },
  {
   "cell_type": "markdown",
   "metadata": {},
   "source": [
    "Let's now recall our hypothesis under which we assume that `words` associated with particular `beer brand` are very specific to the given beer brand. Therefore, if we zoom out and look at words associated with particular beer style, we should see greater variety of words, as such less specifity. Let's see if this is the case by using a simple approach. \n",
    "\n",
    "\n",
    "In our first experiment, we will select all reviews associated with particular beer brand. Then, we will randomly split the reviews into two disjunt sets, i.e., there will be no overlap in terms of the reviews. We then extract the adjectives and their frequencies for each of the two sets. Finally, we compare the two sets and see how many adjectives are shared between the two sets using `Jaccard Similarity`.\n",
    "\n",
    "In our second experiment, we will follow the exact same procedure, however this time, we will sample the reviews from a subroup of beers associate with particular style."
   ]
  },
  {
   "cell_type": "code",
   "execution_count": 152,
   "metadata": {},
   "outputs": [],
   "source": [
    "# TODO: move this to utils?\n",
    "def get_jaccard_similarity(df1, df2, weighted=False):\n",
    "    \"\"\"Calculate the weighted jaccard distance between two dataframes\n",
    "\n",
    "    Args:\n",
    "        df1 (pd.DataFrame): First dataframe with columns word and frequency\n",
    "        df2 (pd.DataFrame): Second dataframe with columns word and frequency\n",
    "\n",
    "    Returns:\n",
    "        float: Weighted jaccard distance \n",
    "    \"\"\"\n",
    "\n",
    "    if weighted:\n",
    "        # Merge the two dataframes on the word column\n",
    "        merged = df1.merge(df2, on='word')\n",
    "\n",
    "        # Calculate the weighted jaccard distance\n",
    "        jaccard_similarity = (merged.frequency_x * merged.frequency_y).sum() / (merged.frequency_x.sum() + merged.frequency_y.sum())\n",
    "\n",
    "    else:\n",
    "        # Convert the word column to a set for each dataframe\n",
    "        set1 = set(df1['word'])\n",
    "        set2 = set(df2['word'])\n",
    "        \n",
    "        # Calculate Jaccard similarity\n",
    "        jaccard_similarity = len(set1.intersection(set2)) / len(set1.union(set2))\n",
    "\n",
    "    return jaccard_similarity"
   ]
  },
  {
   "cell_type": "code",
   "execution_count": 153,
   "metadata": {},
   "outputs": [],
   "source": [
    "# Add the extracted adjectives to sub_reviews\n",
    "sub_reviews['adjectives'] = prep_text[2]"
   ]
  },
  {
   "cell_type": "code",
   "execution_count": 180,
   "metadata": {},
   "outputs": [
    {
     "name": "stderr",
     "output_type": "stream",
     "text": [
      "  0%|          | 0/19 [00:00<?, ?it/s]"
     ]
    },
    {
     "name": "stderr",
     "output_type": "stream",
     "text": [
      "100%|██████████| 19/19 [00:00<00:00, 356.39it/s]\n"
     ]
    },
    {
     "data": {
      "text/html": [
       "<pre style=\"white-space:pre;overflow-x:auto;line-height:normal;font-family:Menlo,'DejaVu Sans Mono',consolas,'Courier New',monospace\">Beer scores: <span style=\"color: #008080; text-decoration-color: #008080; font-weight: bold\">0.389</span> +<span style=\"color: #800080; text-decoration-color: #800080\">/</span><span style=\"color: #ff00ff; text-decoration-color: #ff00ff\">-</span> <span style=\"color: #008080; text-decoration-color: #008080; font-weight: bold\">0.012</span>\n",
       "</pre>\n"
      ],
      "text/plain": [
       "Beer scores: \u001b[1;36m0.389\u001b[0m +\u001b[35m/\u001b[0m\u001b[95m-\u001b[0m \u001b[1;36m0.012\u001b[0m\n"
      ]
     },
     "metadata": {},
     "output_type": "display_data"
    }
   ],
   "source": [
    "# Get the distribution of beer styles in our dataset\n",
    "styles_dist = sub_reviews.beer[\"style\"].value_counts()*100/len(sub_reviews)\n",
    "\n",
    "# Get the reviews associate with the most popular beer style\n",
    "mostpop_style_reviews = sub_reviews[sub_reviews.beer[\"style\"] == styles_dist.index[0]]\n",
    "\n",
    "# Obtain unique beer brands for the most popular beer style\n",
    "beer_brands = mostpop_style_reviews.beer[\"name\"].unique()\n",
    "\n",
    "# For each beer brand calculate the jaccard similarity between two randomly selected groups of reviews\n",
    "beers_scores = []\n",
    "for beer_brand in tqdm(beer_brands):\n",
    "    # Get the reviews for the current beer brand\n",
    "    beer_reviews = mostpop_style_reviews[mostpop_style_reviews.beer[\"name\"] == beer_brand]\n",
    "\n",
    "    # Only consider beer brands with more than X reviews\n",
    "    if len(beer_reviews) < 160:\n",
    "        continue\n",
    "\n",
    "    # Split these reviews into two disjucnt groups randomly\n",
    "    group1 = beer_reviews.sample(frac=0.5)\n",
    "    group2 = beer_reviews.drop(group1.index)\n",
    "\n",
    "    # Get the word frequency for each group\n",
    "    group1_freq = get_word_frequency(group1.adjectives.tolist())\n",
    "    group2_freq = get_word_frequency(group2.adjectives.tolist())\n",
    "\n",
    "    # Calculate the jaccard similarity between the two groups\n",
    "    jaccard_similarity = get_jaccard_similarity(group1_freq, group2_freq, weighted=False)\n",
    "\n",
    "    # Append the jaccard similarity to the list of scores\n",
    "    beers_scores.append(jaccard_similarity)\n",
    "\n",
    "# Print the 95 % confidence interval for the jaccard similarity scores\n",
    "print(f\"Beer scores: {np.mean(beers_scores):.3f} +/- {1.96*np.std(beers_scores)/np.sqrt(len(beers_scores)):.3f}\")"
   ]
  },
  {
   "cell_type": "code",
   "execution_count": 181,
   "metadata": {},
   "outputs": [
    {
     "name": "stderr",
     "output_type": "stream",
     "text": [
      "100%|██████████| 19/19 [00:00<00:00, 47.52it/s]\n"
     ]
    },
    {
     "data": {
      "text/html": [
       "<pre style=\"white-space:pre;overflow-x:auto;line-height:normal;font-family:Menlo,'DejaVu Sans Mono',consolas,'Courier New',monospace\">Beer scores: <span style=\"color: #008080; text-decoration-color: #008080; font-weight: bold\">0.391</span> +<span style=\"color: #800080; text-decoration-color: #800080\">/</span><span style=\"color: #ff00ff; text-decoration-color: #ff00ff\">-</span> <span style=\"color: #008080; text-decoration-color: #008080; font-weight: bold\">0.016</span>\n",
       "</pre>\n"
      ],
      "text/plain": [
       "Beer scores: \u001b[1;36m0.391\u001b[0m +\u001b[35m/\u001b[0m\u001b[95m-\u001b[0m \u001b[1;36m0.016\u001b[0m\n"
      ]
     },
     "metadata": {},
     "output_type": "display_data"
    }
   ],
   "source": [
    "# Now, for each pair of beer brand calculate the jaccard similarity\n",
    "scores = []\n",
    "for i in tqdm(range(len(beer_brands))):\n",
    "    for j in range(i+1, len(beer_brands)):\n",
    "        # Get the reviews for the current beer brand\n",
    "        beer_reviews1 = mostpop_style_reviews[mostpop_style_reviews.beer[\"name\"] == beer_brands[i]]\n",
    "        beer_reviews2 = mostpop_style_reviews[mostpop_style_reviews.beer[\"name\"] == beer_brands[j]]\n",
    "\n",
    "        # Only consider beer brands with more than X reviews\n",
    "        if len(beer_reviews1) < 80 or len(beer_reviews2) < 80:\n",
    "            continue\n",
    "\n",
    "        # Get the word frequency for each group\n",
    "        group1_freq = get_word_frequency(beer_reviews1.adjectives.tolist())\n",
    "        group2_freq = get_word_frequency(beer_reviews2.adjectives.tolist())\n",
    "\n",
    "        # Calculate the jaccard similarity between the two groups\n",
    "        jaccard_similarity = get_jaccard_similarity(group1_freq, group2_freq, weighted=False)\n",
    "\n",
    "        # Append the jaccard similarity to the list of scores\n",
    "        scores.append(jaccard_similarity)\n",
    "\n",
    "# Print the 95 % confidence interval for the jaccard similarity scores\n",
    "print(f\"Beer scores: {np.mean(scores):.3f} +/- {1.96*np.std(scores)/np.sqrt(len(scores)):.3f}\")"
   ]
  },
  {
   "cell_type": "code",
   "execution_count": 182,
   "metadata": {},
   "outputs": [
    {
     "data": {
      "text/plain": [
       "[0.38118466898954706, 0.38085539714867617, 0.41184298070525616]"
      ]
     },
     "execution_count": 182,
     "metadata": {},
     "output_type": "execute_result"
    }
   ],
   "source": [
    "scores"
   ]
  },
  {
   "cell_type": "code",
   "execution_count": null,
   "metadata": {},
   "outputs": [],
   "source": []
  }
 ],
 "metadata": {
  "kernelspec": {
   "display_name": "ada-project",
   "language": "python",
   "name": "python3"
  },
  "language_info": {
   "codemirror_mode": {
    "name": "ipython",
    "version": 3
   },
   "file_extension": ".py",
   "mimetype": "text/x-python",
   "name": "python",
   "nbconvert_exporter": "python",
   "pygments_lexer": "ipython3",
   "version": "3.10.11"
  }
 },
 "nbformat": 4,
 "nbformat_minor": 2
}
