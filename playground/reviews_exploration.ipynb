{
 "cells": [
  {
   "cell_type": "code",
   "execution_count": 25,
   "outputs": [],
   "source": [
    "import pandas as pd\n",
    "import numpy as np\n",
    "import matplotlib.pyplot as plt\n",
    "import powerlaw\n",
    "import seaborn as sns\n",
    "from src.utils import load_data\n",
    "sns.set_style('darkgrid')\n",
    "sns.set(font_scale=.8)"
   ],
   "metadata": {
    "collapsed": false,
    "pycharm": {
     "name": "#%%\n"
    }
   }
  },
  {
   "cell_type": "code",
   "execution_count": 26,
   "outputs": [
    {
     "name": "stdout",
     "output_type": "stream",
     "text": [
      "Data loaded from ../raw/reviews.feather\n"
     ]
    }
   ],
   "source": [
    "# Load reviews as dataframe\n",
    "reviews = load_data('../raw/reviews.feather', 100000)"
   ],
   "metadata": {
    "collapsed": false,
    "pycharm": {
     "name": "#%%\n"
    }
   }
  },
  {
   "cell_type": "markdown",
   "source": [
    "## BeerAdvocate Reviews\n",
    "- Data Cleaning\n",
    "- #samples\n",
    "- #features\n",
    "- univariate analysis\n",
    "- further analysis"
   ],
   "metadata": {
    "collapsed": false,
    "pycharm": {
     "name": "#%% md\n"
    }
   }
  },
  {
   "cell_type": "markdown",
   "source": [
    "## Exploratory Data Analysis"
   ],
   "metadata": {
    "collapsed": false,
    "pycharm": {
     "name": "#%% md\n"
    }
   }
  },
  {
   "cell_type": "code",
   "execution_count": 27,
   "outputs": [],
   "source": [
    "# Util Function\n",
    "def display_chart(df, title='', xlabel='', ylabel=''):\n",
    "    plt.rc('axes', axisbelow=True)\n",
    "    plt.figure(figsize=(10, 6))\n",
    "    plt.hist(df, bins=20, edgecolor='black')\n",
    "    plt.title(title)\n",
    "    plt.xlabel(xlabel)\n",
    "    plt.ylabel(ylabel)\n",
    "    plt.show()\n"
   ],
   "metadata": {
    "collapsed": false,
    "pycharm": {
     "name": "#%%\n"
    }
   }
  },
  {
   "cell_type": "markdown",
   "source": [
    "## Data Cleaning\n",
    "\n",
    "First, identify all columns that have missing values, i.e., nan values within number ratings.\n",
    "For that, convert the properties of those data entries into numeric value and fill their value\n",
    "up with the overall rating value."
   ],
   "metadata": {
    "collapsed": false,
    "pycharm": {
     "name": "#%% md\n"
    }
   }
  },
  {
   "cell_type": "code",
   "execution_count": 28,
   "outputs": [
    {
     "name": "stdout",
     "output_type": "stream",
     "text": [
      "['beer_name', 'beer_id', 'brewery_name', 'brewery_id', 'style', 'abv', 'date', 'user_name', 'user_id', 'appearance', 'aroma', 'palate', 'taste', 'overall', 'rating', 'text']\n",
      "Columns with missing values:\n",
      "Series([], dtype: int64)\n"
     ]
    }
   ],
   "source": [
    "# Data Cleaning\n",
    "\n",
    "# All columns\n",
    "print(list(reviews.columns))\n",
    "\n",
    "\n",
    "# Identify missing data in columns\n",
    "missing_reviews = reviews.isna().sum()\n",
    "\n",
    "# ratings in float\n",
    "reviews['appearance'] = pd.to_numeric(reviews['appearance'], errors='coerce', downcast='float')\n",
    "reviews['aroma'] = pd.to_numeric(reviews['aroma'], errors='coerce', downcast='float')\n",
    "reviews['palate'] = pd.to_numeric(reviews['palate'], errors='coerce', downcast='float')\n",
    "reviews['taste'] = pd.to_numeric(reviews['taste'], errors='coerce', downcast='float')\n",
    "reviews['overall'] = pd.to_numeric(reviews['overall'], errors='coerce', downcast='float')\n",
    "\n",
    "# for missing ratings in categories, use the overall rating to not loose the data entry\n",
    "reviews['appearance'] = reviews['appearance'].fillna(reviews['rating'])\n",
    "reviews['aroma'] = reviews['aroma'].fillna(reviews['rating'])\n",
    "reviews['palate'] = reviews['palate'].fillna(reviews['rating'])\n",
    "reviews['taste'] = reviews['taste'].fillna(reviews['rating'])\n",
    "reviews['overall'] = reviews['overall'].fillna(reviews['rating'])\n",
    "\n",
    "\n",
    "print(\"Columns with missing values:\")\n",
    "print(missing_reviews[missing_reviews > 0])"
   ],
   "metadata": {
    "collapsed": false,
    "pycharm": {
     "name": "#%%\n"
    }
   }
  },
  {
   "cell_type": "markdown",
   "source": [
    "We want to avoid short reviews that have no interesting content judging by the length of the rating."
   ],
   "metadata": {
    "collapsed": false,
    "pycharm": {
     "name": "#%% md\n"
    }
   }
  },
  {
   "cell_type": "code",
   "execution_count": 29,
   "outputs": [],
   "source": [
    "# Discard reviews under 100 characters\n",
    "reviews = reviews[reviews['text'].str.len() > 100]"
   ],
   "metadata": {
    "collapsed": false,
    "pycharm": {
     "name": "#%%\n"
    }
   }
  },
  {
   "cell_type": "markdown",
   "source": [
    "## General Beer-Review Stats"
   ],
   "metadata": {
    "collapsed": false,
    "pycharm": {
     "name": "#%% md\n"
    }
   }
  },
  {
   "cell_type": "markdown",
   "source": [
    "Display data dimensionality, feature names and feature types."
   ],
   "metadata": {
    "collapsed": false,
    "pycharm": {
     "name": "#%% md\n"
    }
   }
  },
  {
   "cell_type": "code",
   "source": [
    "reviews['appearance'] = reviews['appearance'].astype('float32')\n",
    "reviews['aroma'] = reviews['aroma'].astype('float32')\n",
    "reviews['palate'] = reviews['palate'].astype('float32')\n",
    "reviews['taste'] = reviews['taste'].astype('float32')\n",
    "reviews['overall'] = reviews['overall'].astype('float32')\n",
    "reviews['rating'] = reviews['rating'].astype('float32')\n",
    "\n",
    "\n",
    "print(reviews.shape)\n",
    "print()\n",
    "print(reviews.columns)\n",
    "print()\n",
    "print(reviews.info())\n",
    "print()\n",
    "print(reviews['rating'].describe())"
   ],
   "metadata": {
    "collapsed": false,
    "pycharm": {
     "name": "#%%\n"
    }
   },
   "execution_count": 30,
   "outputs": [
    {
     "name": "stdout",
     "output_type": "stream",
     "text": [
      "(99999, 16)\n",
      "Index(['beer_name', 'beer_id', 'brewery_name', 'brewery_id', 'style', 'abv',\n",
      "       'date', 'user_name', 'user_id', 'appearance', 'aroma', 'palate',\n",
      "       'taste', 'overall', 'rating', 'text'],\n",
      "      dtype='object')\n",
      "<class 'pandas.core.frame.DataFrame'>\n",
      "Int64Index: 99999 entries, 0 to 99999\n",
      "Data columns (total 16 columns):\n",
      " #   Column        Non-Null Count  Dtype         \n",
      "---  ------        --------------  -----         \n",
      " 0   beer_name     99999 non-null  object        \n",
      " 1   beer_id       99999 non-null  object        \n",
      " 2   brewery_name  99999 non-null  object        \n",
      " 3   brewery_id    99999 non-null  object        \n",
      " 4   style         99999 non-null  object        \n",
      " 5   abv           99999 non-null  object        \n",
      " 6   date          99999 non-null  datetime64[ns]\n",
      " 7   user_name     99999 non-null  object        \n",
      " 8   user_id       99999 non-null  object        \n",
      " 9   appearance    99999 non-null  float32       \n",
      " 10  aroma         99999 non-null  float32       \n",
      " 11  palate        99999 non-null  float32       \n",
      " 12  taste         99999 non-null  float32       \n",
      " 13  overall       99999 non-null  float32       \n",
      " 14  rating        99999 non-null  float32       \n",
      " 15  text          99999 non-null  object        \n",
      "dtypes: datetime64[ns](1), float32(6), object(9)\n",
      "memory usage: 10.7+ MB\n",
      "None\n",
      "count    99999.000000\n",
      "mean         3.734369\n",
      "std          0.598119\n",
      "min          1.000000\n",
      "25%          3.430000\n",
      "50%          3.830000\n",
      "75%          4.130000\n",
      "max          5.000000\n",
      "Name: rating, dtype: float64\n"
     ]
    }
   ]
  },
  {
   "cell_type": "markdown",
   "source": [
    "Display descriptive data for each beer."
   ],
   "metadata": {
    "collapsed": false
   }
  },
  {
   "cell_type": "code",
   "execution_count": 31,
   "outputs": [
    {
     "data": {
      "text/plain": "                                   appearance                            \\\n                                        count      mean       std   min   \nbeer_name                                                                 \n\"Check-Mate\" Cask Pilsner                 1.0  3.500000       NaN  3.50   \n\"Little John's Myth\" Robust Porter        1.0  4.000000       NaN  4.00   \n\"Stout Stoat\" Stout                       4.0  4.375000  0.478714  4.00   \n#MashTag 2013                             9.0  3.722222  0.317324  3.00   \n#MashTag 2014                             4.0  3.937500  0.314576  3.50   \n...                                       ...       ...       ...   ...   \nZăganu Brună                              2.0  3.375000  0.883883  2.75   \nZăganu India Pale Ale                     1.0  3.500000       NaN  3.50   \nZăganu Roșie                              1.0  3.500000       NaN  3.50   \nÆther Blæc                                1.0  3.500000       NaN  3.50   \nÒrach Slie                               11.0  3.590909  0.301511  3.00   \n\n                                                aroma                      \\\n                                      50%   max count      mean       std   \nbeer_name                                                                   \n\"Check-Mate\" Cask Pilsner           3.500  3.50   1.0  3.500000       NaN   \n\"Little John's Myth\" Robust Porter  4.000  4.00   1.0  4.000000       NaN   \n\"Stout Stoat\" Stout                 4.250  5.00   4.0  3.750000  0.288675   \n#MashTag 2013                       3.750  4.00   9.0  3.694444  0.300463   \n#MashTag 2014                       4.000  4.25   4.0  4.000000  0.000000   \n...                                   ...   ...   ...       ...       ...   \nZăganu Brună                        3.375  4.00   2.0  3.250000  0.353553   \nZăganu India Pale Ale               3.500  3.50   1.0  3.500000       NaN   \nZăganu Roșie                        3.500  3.50   1.0  3.500000       NaN   \nÆther Blæc                          3.500  3.50   1.0  4.000000       NaN   \nÒrach Slie                          3.500  4.00  11.0  3.750000  0.335410   \n\n                                          ...   overall                    \\\n                                     min  ...       std   min   50%   max   \nbeer_name                                 ...                               \n\"Check-Mate\" Cask Pilsner           3.50  ...       NaN  3.50  3.50  3.50   \n\"Little John's Myth\" Robust Porter  4.00  ...       NaN  4.50  4.50  4.50   \n\"Stout Stoat\" Stout                 3.50  ...  0.250000  4.00  4.00  4.50   \n#MashTag 2013                       3.00  ...  0.195434  3.50  3.75  4.00   \n#MashTag 2014                       4.00  ...  0.250000  4.00  4.00  4.50   \n...                                  ...  ...       ...   ...   ...   ...   \nZăganu Brună                        3.00  ...  0.353553  3.25  3.50  3.75   \nZăganu India Pale Ale               3.50  ...       NaN  3.50  3.50  3.50   \nZăganu Roșie                        3.50  ...       NaN  3.50  3.50  3.50   \nÆther Blæc                          4.00  ...       NaN  3.00  3.00  3.00   \nÒrach Slie                          3.25  ...  0.269680  3.50  3.75  4.25   \n\n                                   rating                                   \\\n                                    count      mean       std   min    50%   \nbeer_name                                                                    \n\"Check-Mate\" Cask Pilsner             1.0  3.500000       NaN  3.50  3.500   \n\"Little John's Myth\" Robust Porter    1.0  4.300000       NaN  4.30  4.300   \n\"Stout Stoat\" Stout                   4.0  4.112500  0.292275  3.88  4.015   \n#MashTag 2013                         9.0  3.676667  0.178746  3.49  3.570   \n#MashTag 2014                         4.0  4.060000  0.140712  3.97  4.000   \n...                                   ...       ...       ...   ...    ...   \nZăganu Brună                          2.0  3.500000  0.296985  3.29  3.500   \nZăganu India Pale Ale                 1.0  3.500000       NaN  3.50  3.500   \nZăganu Roșie                          1.0  3.400000       NaN  3.40  3.400   \nÆther Blæc                            1.0  3.520000       NaN  3.52  3.520   \nÒrach Slie                           11.0  3.729091  0.205108  3.37  3.720   \n\n                                          \n                                     max  \nbeer_name                                 \n\"Check-Mate\" Cask Pilsner           3.50  \n\"Little John's Myth\" Robust Porter  4.30  \n\"Stout Stoat\" Stout                 4.54  \n#MashTag 2013                       3.93  \n#MashTag 2014                       4.27  \n...                                  ...  \nZăganu Brună                        3.71  \nZăganu India Pale Ale               3.50  \nZăganu Roșie                        3.40  \nÆther Blæc                          3.52  \nÒrach Slie                          4.03  \n\n[8058 rows x 36 columns]",
      "text/html": "<div>\n<style scoped>\n    .dataframe tbody tr th:only-of-type {\n        vertical-align: middle;\n    }\n\n    .dataframe tbody tr th {\n        vertical-align: top;\n    }\n\n    .dataframe thead tr th {\n        text-align: left;\n    }\n\n    .dataframe thead tr:last-of-type th {\n        text-align: right;\n    }\n</style>\n<table border=\"1\" class=\"dataframe\">\n  <thead>\n    <tr>\n      <th></th>\n      <th colspan=\"6\" halign=\"left\">appearance</th>\n      <th colspan=\"4\" halign=\"left\">aroma</th>\n      <th>...</th>\n      <th colspan=\"4\" halign=\"left\">overall</th>\n      <th colspan=\"6\" halign=\"left\">rating</th>\n    </tr>\n    <tr>\n      <th></th>\n      <th>count</th>\n      <th>mean</th>\n      <th>std</th>\n      <th>min</th>\n      <th>50%</th>\n      <th>max</th>\n      <th>count</th>\n      <th>mean</th>\n      <th>std</th>\n      <th>min</th>\n      <th>...</th>\n      <th>std</th>\n      <th>min</th>\n      <th>50%</th>\n      <th>max</th>\n      <th>count</th>\n      <th>mean</th>\n      <th>std</th>\n      <th>min</th>\n      <th>50%</th>\n      <th>max</th>\n    </tr>\n    <tr>\n      <th>beer_name</th>\n      <th></th>\n      <th></th>\n      <th></th>\n      <th></th>\n      <th></th>\n      <th></th>\n      <th></th>\n      <th></th>\n      <th></th>\n      <th></th>\n      <th></th>\n      <th></th>\n      <th></th>\n      <th></th>\n      <th></th>\n      <th></th>\n      <th></th>\n      <th></th>\n      <th></th>\n      <th></th>\n      <th></th>\n    </tr>\n  </thead>\n  <tbody>\n    <tr>\n      <th>\"Check-Mate\" Cask Pilsner</th>\n      <td>1.0</td>\n      <td>3.500000</td>\n      <td>NaN</td>\n      <td>3.50</td>\n      <td>3.500</td>\n      <td>3.50</td>\n      <td>1.0</td>\n      <td>3.500000</td>\n      <td>NaN</td>\n      <td>3.50</td>\n      <td>...</td>\n      <td>NaN</td>\n      <td>3.50</td>\n      <td>3.50</td>\n      <td>3.50</td>\n      <td>1.0</td>\n      <td>3.500000</td>\n      <td>NaN</td>\n      <td>3.50</td>\n      <td>3.500</td>\n      <td>3.50</td>\n    </tr>\n    <tr>\n      <th>\"Little John's Myth\" Robust Porter</th>\n      <td>1.0</td>\n      <td>4.000000</td>\n      <td>NaN</td>\n      <td>4.00</td>\n      <td>4.000</td>\n      <td>4.00</td>\n      <td>1.0</td>\n      <td>4.000000</td>\n      <td>NaN</td>\n      <td>4.00</td>\n      <td>...</td>\n      <td>NaN</td>\n      <td>4.50</td>\n      <td>4.50</td>\n      <td>4.50</td>\n      <td>1.0</td>\n      <td>4.300000</td>\n      <td>NaN</td>\n      <td>4.30</td>\n      <td>4.300</td>\n      <td>4.30</td>\n    </tr>\n    <tr>\n      <th>\"Stout Stoat\" Stout</th>\n      <td>4.0</td>\n      <td>4.375000</td>\n      <td>0.478714</td>\n      <td>4.00</td>\n      <td>4.250</td>\n      <td>5.00</td>\n      <td>4.0</td>\n      <td>3.750000</td>\n      <td>0.288675</td>\n      <td>3.50</td>\n      <td>...</td>\n      <td>0.250000</td>\n      <td>4.00</td>\n      <td>4.00</td>\n      <td>4.50</td>\n      <td>4.0</td>\n      <td>4.112500</td>\n      <td>0.292275</td>\n      <td>3.88</td>\n      <td>4.015</td>\n      <td>4.54</td>\n    </tr>\n    <tr>\n      <th>#MashTag 2013</th>\n      <td>9.0</td>\n      <td>3.722222</td>\n      <td>0.317324</td>\n      <td>3.00</td>\n      <td>3.750</td>\n      <td>4.00</td>\n      <td>9.0</td>\n      <td>3.694444</td>\n      <td>0.300463</td>\n      <td>3.00</td>\n      <td>...</td>\n      <td>0.195434</td>\n      <td>3.50</td>\n      <td>3.75</td>\n      <td>4.00</td>\n      <td>9.0</td>\n      <td>3.676667</td>\n      <td>0.178746</td>\n      <td>3.49</td>\n      <td>3.570</td>\n      <td>3.93</td>\n    </tr>\n    <tr>\n      <th>#MashTag 2014</th>\n      <td>4.0</td>\n      <td>3.937500</td>\n      <td>0.314576</td>\n      <td>3.50</td>\n      <td>4.000</td>\n      <td>4.25</td>\n      <td>4.0</td>\n      <td>4.000000</td>\n      <td>0.000000</td>\n      <td>4.00</td>\n      <td>...</td>\n      <td>0.250000</td>\n      <td>4.00</td>\n      <td>4.00</td>\n      <td>4.50</td>\n      <td>4.0</td>\n      <td>4.060000</td>\n      <td>0.140712</td>\n      <td>3.97</td>\n      <td>4.000</td>\n      <td>4.27</td>\n    </tr>\n    <tr>\n      <th>...</th>\n      <td>...</td>\n      <td>...</td>\n      <td>...</td>\n      <td>...</td>\n      <td>...</td>\n      <td>...</td>\n      <td>...</td>\n      <td>...</td>\n      <td>...</td>\n      <td>...</td>\n      <td>...</td>\n      <td>...</td>\n      <td>...</td>\n      <td>...</td>\n      <td>...</td>\n      <td>...</td>\n      <td>...</td>\n      <td>...</td>\n      <td>...</td>\n      <td>...</td>\n      <td>...</td>\n    </tr>\n    <tr>\n      <th>Zăganu Brună</th>\n      <td>2.0</td>\n      <td>3.375000</td>\n      <td>0.883883</td>\n      <td>2.75</td>\n      <td>3.375</td>\n      <td>4.00</td>\n      <td>2.0</td>\n      <td>3.250000</td>\n      <td>0.353553</td>\n      <td>3.00</td>\n      <td>...</td>\n      <td>0.353553</td>\n      <td>3.25</td>\n      <td>3.50</td>\n      <td>3.75</td>\n      <td>2.0</td>\n      <td>3.500000</td>\n      <td>0.296985</td>\n      <td>3.29</td>\n      <td>3.500</td>\n      <td>3.71</td>\n    </tr>\n    <tr>\n      <th>Zăganu India Pale Ale</th>\n      <td>1.0</td>\n      <td>3.500000</td>\n      <td>NaN</td>\n      <td>3.50</td>\n      <td>3.500</td>\n      <td>3.50</td>\n      <td>1.0</td>\n      <td>3.500000</td>\n      <td>NaN</td>\n      <td>3.50</td>\n      <td>...</td>\n      <td>NaN</td>\n      <td>3.50</td>\n      <td>3.50</td>\n      <td>3.50</td>\n      <td>1.0</td>\n      <td>3.500000</td>\n      <td>NaN</td>\n      <td>3.50</td>\n      <td>3.500</td>\n      <td>3.50</td>\n    </tr>\n    <tr>\n      <th>Zăganu Roșie</th>\n      <td>1.0</td>\n      <td>3.500000</td>\n      <td>NaN</td>\n      <td>3.50</td>\n      <td>3.500</td>\n      <td>3.50</td>\n      <td>1.0</td>\n      <td>3.500000</td>\n      <td>NaN</td>\n      <td>3.50</td>\n      <td>...</td>\n      <td>NaN</td>\n      <td>3.50</td>\n      <td>3.50</td>\n      <td>3.50</td>\n      <td>1.0</td>\n      <td>3.400000</td>\n      <td>NaN</td>\n      <td>3.40</td>\n      <td>3.400</td>\n      <td>3.40</td>\n    </tr>\n    <tr>\n      <th>Æther Blæc</th>\n      <td>1.0</td>\n      <td>3.500000</td>\n      <td>NaN</td>\n      <td>3.50</td>\n      <td>3.500</td>\n      <td>3.50</td>\n      <td>1.0</td>\n      <td>4.000000</td>\n      <td>NaN</td>\n      <td>4.00</td>\n      <td>...</td>\n      <td>NaN</td>\n      <td>3.00</td>\n      <td>3.00</td>\n      <td>3.00</td>\n      <td>1.0</td>\n      <td>3.520000</td>\n      <td>NaN</td>\n      <td>3.52</td>\n      <td>3.520</td>\n      <td>3.52</td>\n    </tr>\n    <tr>\n      <th>Òrach Slie</th>\n      <td>11.0</td>\n      <td>3.590909</td>\n      <td>0.301511</td>\n      <td>3.00</td>\n      <td>3.500</td>\n      <td>4.00</td>\n      <td>11.0</td>\n      <td>3.750000</td>\n      <td>0.335410</td>\n      <td>3.25</td>\n      <td>...</td>\n      <td>0.269680</td>\n      <td>3.50</td>\n      <td>3.75</td>\n      <td>4.25</td>\n      <td>11.0</td>\n      <td>3.729091</td>\n      <td>0.205108</td>\n      <td>3.37</td>\n      <td>3.720</td>\n      <td>4.03</td>\n    </tr>\n  </tbody>\n</table>\n<p>8058 rows × 36 columns</p>\n</div>"
     },
     "execution_count": 31,
     "metadata": {},
     "output_type": "execute_result"
    }
   ],
   "source": [
    "rating_columns = ['appearance', 'aroma', 'palate', 'taste', 'overall', 'rating']\n",
    "\n",
    "reviews.groupby('beer_name')[rating_columns].describe(percentiles=[])"
   ],
   "metadata": {
    "collapsed": false,
    "pycharm": {
     "name": "#%%\n"
    }
   }
  },
  {
   "cell_type": "markdown",
   "source": [
    "Display histogram and boxplot for rating column."
   ],
   "metadata": {
    "collapsed": false
   }
  },
  {
   "cell_type": "code",
   "execution_count": 32,
   "outputs": [
    {
     "data": {
      "text/plain": "<Figure size 720x432 with 1 Axes>",
      "image/png": "[encoded data removed]"
     },
     "metadata": {},
     "output_type": "display_data"
    },
    {
     "data": {
      "text/plain": "<Figure size 576x432 with 1 Axes>",
      "image/png": "[encoded data removed]"
     },
     "metadata": {},
     "output_type": "display_data"
    }
   ],
   "source": [
    "# Histogram\n",
    "plt.figure(figsize=(10, 6))\n",
    "plt.hist(reviews['rating'], bins=20, edgecolor='black')\n",
    "plt.title('Distribution of Beer Ratings')\n",
    "plt.xlabel('Beer Rating')\n",
    "plt.ylabel('Frequency')\n",
    "plt.show()\n",
    "\n",
    "# Box plot\n",
    "plt.figure(figsize=(8, 6))\n",
    "sns.boxplot(x=reviews['rating'])\n",
    "plt.title('Box Plot of Beer Ratings')\n",
    "plt.xlabel('Beer Rating')\n",
    "plt.show()\n"
   ],
   "metadata": {
    "collapsed": false,
    "pycharm": {
     "name": "#%%\n"
    }
   }
  },
  {
   "cell_type": "markdown",
   "source": [
    "In order to be able to properly analyse the textual reviews for each beer, we\n",
    "set a threshold of at least 50 reviews that need to be submitted for one beer."
   ],
   "metadata": {
    "collapsed": false,
    "pycharm": {
     "name": "#%% md\n"
    }
   }
  },
  {
   "cell_type": "code",
   "execution_count": 33,
   "outputs": [
    {
     "name": "stdout",
     "output_type": "stream",
     "text": [
      "73        2360\n",
      "571       2290\n",
      "782       1766\n",
      "576       1475\n",
      "219       1362\n",
      "          ... \n",
      "193070       1\n",
      "39752        1\n",
      "84828        1\n",
      "252773       1\n",
      "139363       1\n",
      "Name: beer_id, Length: 8459, dtype: int64\n"
     ]
    },
    {
     "data": {
      "text/plain": "\"\\n# Show histogram\\nplt.figure(figsize=(12, 6))\\nbeer_type_counts.plot(kind='bar', edgecolor='blue')\\nplt.title('Frequency of Each Beer Type')\\nplt.xlabel('Beer Type')\\nplt.ylabel('Frequency')\\nplt.xticks(rotation=45, ha='right')  # Rotate x-axis labels for better visibility\\nplt.tight_layout()\\nplt.show()\\n\""
     },
     "execution_count": 33,
     "metadata": {},
     "output_type": "execute_result"
    }
   ],
   "source": [
    "# Number of involved beer with review\n",
    "\n",
    "# Get number of reviews for each beer\n",
    "beer_type_counts = reviews['beer_id'].value_counts()\n",
    "print(beer_type_counts)\n",
    "\n",
    "# Filter beers with more than 50 ratings\n",
    "beer_reviews_over_50 = reviews[reviews.groupby('beer_id').count() > 50]\n",
    "\n",
    "'''\n",
    "# Show histogram\n",
    "plt.figure(figsize=(12, 6))\n",
    "beer_type_counts.plot(kind='bar', edgecolor='blue')\n",
    "plt.title('Frequency of Each Beer Type')\n",
    "plt.xlabel('Beer Type')\n",
    "plt.ylabel('Frequency')\n",
    "plt.xticks(rotation=45, ha='right')  # Rotate x-axis labels for better visibility\n",
    "plt.tight_layout()\n",
    "plt.show()\n",
    "'''"
   ],
   "metadata": {
    "collapsed": false,
    "pycharm": {
     "name": "#%%\n"
    }
   }
  },
  {
   "cell_type": "markdown",
   "source": [
    "## Univariate Analysis\n",
    "\n",
    "We look at the distribution of all quantitive rating features as well as the overall rating\n",
    "feature of all reviews."
   ],
   "metadata": {
    "collapsed": false,
    "pycharm": {
     "name": "#%% md\n"
    }
   }
  },
  {
   "cell_type": "code",
   "execution_count": 45,
   "outputs": [
    {
     "data": {
      "text/plain": "<AxesSubplot:xlabel='appearance', ylabel='Density'>"
     },
     "execution_count": 45,
     "metadata": {},
     "output_type": "execute_result"
    },
    {
     "data": {
      "text/plain": "<Figure size 432x288 with 1 Axes>",
      "image/png": "[encoded data removed]"
     },
     "metadata": {},
     "output_type": "display_data"
    }
   ],
   "source": [
    "sns.histplot(x='appearance', data=reviews)"
   ],
   "metadata": {
    "collapsed": false,
    "pycharm": {
     "name": "#%%\n"
    }
   }
  },
  {
   "cell_type": "code",
   "execution_count": 35,
   "outputs": [
    {
     "data": {
      "text/plain": "<AxesSubplot:xlabel='aroma', ylabel='Count'>"
     },
     "execution_count": 35,
     "metadata": {},
     "output_type": "execute_result"
    },
    {
     "data": {
      "text/plain": "<Figure size 432x288 with 1 Axes>",
      "image/png": "[encoded data removed]"
     },
     "metadata": {},
     "output_type": "display_data"
    }
   ],
   "source": [
    "sns.histplot(x='aroma', data=reviews)"
   ],
   "metadata": {
    "collapsed": false,
    "pycharm": {
     "name": "#%%\n"
    }
   }
  },
  {
   "cell_type": "code",
   "execution_count": 36,
   "outputs": [
    {
     "data": {
      "text/plain": "<AxesSubplot:xlabel='palate', ylabel='Count'>"
     },
     "execution_count": 36,
     "metadata": {},
     "output_type": "execute_result"
    },
    {
     "data": {
      "text/plain": "<Figure size 432x288 with 1 Axes>",
      "image/png": "[encoded data removed]"
     },
     "metadata": {},
     "output_type": "display_data"
    }
   ],
   "source": [
    "sns.histplot(x='palate', data=reviews)"
   ],
   "metadata": {
    "collapsed": false,
    "pycharm": {
     "name": "#%%\n"
    }
   }
  },
  {
   "cell_type": "code",
   "execution_count": 37,
   "outputs": [
    {
     "data": {
      "text/plain": "<AxesSubplot:xlabel='taste', ylabel='Count'>"
     },
     "execution_count": 37,
     "metadata": {},
     "output_type": "execute_result"
    },
    {
     "data": {
      "text/plain": "<Figure size 432x288 with 1 Axes>",
      "image/png": "[encoded data removed]"
     },
     "metadata": {},
     "output_type": "display_data"
    }
   ],
   "source": [
    "sns.histplot(x='taste', data=reviews)"
   ],
   "metadata": {
    "collapsed": false,
    "pycharm": {
     "name": "#%%\n"
    }
   }
  },
  {
   "cell_type": "code",
   "execution_count": 38,
   "outputs": [
    {
     "data": {
      "text/plain": "<AxesSubplot:xlabel='overall', ylabel='Count'>"
     },
     "execution_count": 38,
     "metadata": {},
     "output_type": "execute_result"
    },
    {
     "data": {
      "text/plain": "<Figure size 432x288 with 1 Axes>",
      "image/png": "[encoded data removed]"
     },
     "metadata": {},
     "output_type": "display_data"
    }
   ],
   "source": [
    "sns.histplot(x='overall', data=reviews)"
   ],
   "metadata": {
    "collapsed": false,
    "pycharm": {
     "name": "#%%\n"
    }
   }
  },
  {
   "cell_type": "code",
   "execution_count": 49,
   "outputs": [
    {
     "data": {
      "text/plain": "<AxesSubplot:xlabel='rating', ylabel='Count'>"
     },
     "execution_count": 49,
     "metadata": {},
     "output_type": "execute_result"
    },
    {
     "data": {
      "text/plain": "<Figure size 432x288 with 1 Axes>",
      "image/png": "[encoded data removed]"
     },
     "metadata": {},
     "output_type": "display_data"
    }
   ],
   "source": [
    "# Histogram\n",
    "sns.histplot(x='rating', data=reviews, kde=True)\n"
   ],
   "metadata": {
    "collapsed": false,
    "pycharm": {
     "name": "#%%\n"
    }
   }
  },
  {
   "cell_type": "markdown",
   "source": [
    "## Further Analysis\n",
    "\n",
    "We look at the distribution of the average rating per beer considering only the final overall\n",
    "rating."
   ],
   "metadata": {
    "collapsed": false
   }
  },
  {
   "cell_type": "code",
   "execution_count": 44,
   "outputs": [
    {
     "data": {
      "text/plain": "<Figure size 720x432 with 1 Axes>",
      "image/png": "[encoded data removed]"
     },
     "metadata": {},
     "output_type": "display_data"
    }
   ],
   "source": [
    "# Distribution of average rating per beer (final rating)\n",
    "average_rating_beer = reviews.groupby('beer_id')['rating'].mean()\n",
    "\n",
    "# Display it in a histogram\n",
    "display_chart(average_rating_beer, 'Distribution of Average Ratings for Each Beer',\n",
    "              'Average Beer Rating', 'Frequency')"
   ],
   "metadata": {
    "collapsed": false,
    "pycharm": {
     "name": "#%%\n"
    }
   }
  },
  {
   "cell_type": "markdown",
   "source": [
    "We calculate the number of reviews that each user submitted within the dataset and filter after\n",
    "those that have explictely have more than 10 reviews. If within those ten reviews the average\n",
    "final rating is lower than 2, we would eventually discard those users."
   ],
   "metadata": {
    "collapsed": false
   }
  },
  {
   "cell_type": "code",
   "execution_count": 41,
   "outputs": [
    {
     "name": "stdout",
     "output_type": "stream",
     "text": [
      "                     count\n",
      "user_id                   \n",
      "blackhaddock.90923    1569\n",
      "wl0307.16869          1528\n",
      "emperorbevis.621888   1336\n",
      "jazzyjeff13.522501    1041\n",
      "stjamesgate.163714     734\n",
      "flyingpig.524986       637\n",
      "vinicole.65585         628\n",
      "cwrwambyth.557249      441\n",
      "mdagnew.19527          434\n",
      "bark.4217              366\n",
      "ciocanelu.691982       346\n",
      "charlatan.14050        327\n",
      "biboergosum.168458     315\n",
      "chinchill.199175       297\n",
      "rastaman.264           275\n",
      "metter98.95017         267\n",
      "sammy.3853             266\n",
      "crazydavros.212765     261\n",
      "dj-hophead.992772      261\n",
      "cypressbob.3708        261\n"
     ]
    },
    {
     "data": {
      "text/plain": "<Figure size 720x432 with 1 Axes>",
      "image/png": "[encoded data removed]"
     },
     "metadata": {},
     "output_type": "display_data"
    }
   ],
   "source": [
    "# Distribution of average rating per user for any review\n",
    "\n",
    "# number of reviews per user\n",
    "user_ratings_count = (\n",
    "    reviews.groupby('user_id')[['rating']]\n",
    "    .count()\n",
    "    .rename(columns={'rating': 'count'})\n",
    "    .sort_values('count', ascending=False)\n",
    "    )\n",
    "print(user_ratings_count.iloc[:20])\n",
    "user_ratings_count['count'] = pd.to_numeric(user_ratings_count['count'])\n",
    "user_ratings_count_over_10 = user_ratings_count[user_ratings_count['count'] > 10]\n",
    "\n",
    "# average rating per user\n",
    "average_rating_user = (reviews\n",
    "                       .groupby('user_id')['rating']\n",
    "                       .mean()\n",
    "                       .reset_index()\n",
    "                       )\n",
    "display_chart(average_rating_user.set_index('user_id'), xlabel='Average User Rating Score', ylabel='Frequency')\n",
    "# Filter after users that have a user rating under 2 and more than 10 reviews\n",
    "user_rating_below_2 = average_rating_user[average_rating_user['rating'] < 2]['user_id']\n",
    "# Drop those users that have an average rating score under 2 and more than 10 reviews\n",
    "reviews = reviews[~reviews['user_id'].isin(user_rating_below_2) &\n",
    "                  ~reviews['user_id'].isin(user_ratings_count_over_10)]"
   ],
   "metadata": {
    "collapsed": false,
    "pycharm": {
     "name": "#%%\n"
    }
   }
  },
  {
   "cell_type": "markdown",
   "source": [
    "We want to measure the offset between each user rating for a specific and the corresponding rating\n",
    "of the given beer. Then we want to identify those specific reviews that have an offset larger\n",
    "than three where the corresponding text_review would be interesting to know."
   ],
   "metadata": {
    "collapsed": false,
    "pycharm": {
     "name": "#%% md\n"
    }
   }
  },
  {
   "cell_type": "code",
   "execution_count": 42,
   "outputs": [
    {
     "data": {
      "text/plain": "Series([], Name: rating_diff, dtype: float32)"
     },
     "execution_count": 42,
     "metadata": {},
     "output_type": "execute_result"
    }
   ],
   "source": [
    "# How far is each user_review rating from the average rating of the given beer\n",
    "reviews_average_beer_rating = reviews.merge(average_rating_beer, how='left', on=['beer_id'])\n",
    "reviews_average_beer_rating['rating_diff'] = abs(reviews_average_beer_rating['rating_x'] - reviews_average_beer_rating['rating_y'])\n",
    "\n",
    "# Filter after those that have a difference of more than 3\n",
    "reviews_average_beer_rating = reviews_average_beer_rating[reviews_average_beer_rating.rating_diff > 3.5]\n",
    "reviews_average_beer_rating['rating_diff']\n"
   ],
   "metadata": {
    "collapsed": false,
    "pycharm": {
     "name": "#%%\n"
    }
   }
  }
 ],
 "metadata": {
  "kernelspec": {
   "display_name": "Python 3",
   "language": "python",
   "name": "python3"
  },
  "language_info": {
   "codemirror_mode": {
    "name": "ipython",
    "version": 2
   },
   "file_extension": ".py",
   "mimetype": "text/x-python",
   "name": "python",
   "nbconvert_exporter": "python",
   "pygments_lexer": "ipython2",
   "version": "2.7.6"
  }
 },
 "nbformat": 4,
 "nbformat_minor": 0
}